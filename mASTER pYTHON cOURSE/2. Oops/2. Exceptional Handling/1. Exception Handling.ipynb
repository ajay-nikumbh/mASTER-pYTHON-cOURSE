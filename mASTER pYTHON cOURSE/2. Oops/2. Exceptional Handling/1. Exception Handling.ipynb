{
 "cells": [
  {
   "cell_type": "markdown",
   "metadata": {},
   "source": [
    "#### Exception Handling"
   ]
  },
  {
   "cell_type": "markdown",
   "metadata": {},
   "source": [
    "#### 1. Syntax Errors"
   ]
  },
  {
   "cell_type": "code",
   "execution_count": 1,
   "metadata": {},
   "outputs": [
    {
     "ename": "SyntaxError",
     "evalue": "invalid syntax (<ipython-input-1-e9dff5f3d661>, line 2)",
     "output_type": "error",
     "traceback": [
      "\u001b[1;36m  File \u001b[1;32m\"<ipython-input-1-e9dff5f3d661>\"\u001b[1;36m, line \u001b[1;32m2\u001b[0m\n\u001b[1;33m    if x==10\u001b[0m\n\u001b[1;37m            ^\u001b[0m\n\u001b[1;31mSyntaxError\u001b[0m\u001b[1;31m:\u001b[0m invalid syntax\n"
     ]
    }
   ],
   "source": [
    "x=10\n",
    "if x==10\n",
    " print(\"Hello\")"
   ]
  },
  {
   "cell_type": "markdown",
   "metadata": {},
   "source": [
    "#### Note:Programmer is responsible to correct these syntax errors. Once all syntax errors are corrected then only program execution will be started."
   ]
  },
  {
   "cell_type": "markdown",
   "metadata": {},
   "source": [
    "#### 2. Runtime Errors"
   ]
  },
  {
   "cell_type": "markdown",
   "metadata": {},
   "source": [
    "#### Note: Exception Handling concept applicable for Runtime Errors but not for syntax errors\n",
    "#### What is Exception:An unwanted and unexpected event that disturbs normal flow of program is called exception"
   ]
  },
  {
   "cell_type": "code",
   "execution_count": 3,
   "metadata": {},
   "outputs": [
    {
     "ename": "ZeroDivisionError",
     "evalue": "division by zero",
     "output_type": "error",
     "traceback": [
      "\u001b[1;31m---------------------------------------------------------------------------\u001b[0m",
      "\u001b[1;31mZeroDivisionError\u001b[0m                         Traceback (most recent call last)",
      "\u001b[1;32m<ipython-input-3-fe01563e1bc6>\u001b[0m in \u001b[0;36m<module>\u001b[1;34m\u001b[0m\n\u001b[1;32m----> 1\u001b[1;33m \u001b[0mprint\u001b[0m\u001b[1;33m(\u001b[0m\u001b[1;36m10\u001b[0m\u001b[1;33m/\u001b[0m\u001b[1;36m0\u001b[0m\u001b[1;33m)\u001b[0m\u001b[1;33m\u001b[0m\u001b[1;33m\u001b[0m\u001b[0m\n\u001b[0m",
      "\u001b[1;31mZeroDivisionError\u001b[0m: division by zero"
     ]
    }
   ],
   "source": [
    " print(10/0)"
   ]
  },
  {
   "cell_type": "markdown",
   "metadata": {},
   "source": [
    "#### 3.Default Exception Handing in Python\n",
    "#### Every exception in Python is an object. For every exception type the corresponding classes are available.\n",
    "#### Whevever an exception occurs PVM will create the corresponding exception object and will check for handling code.\n",
    "#### If handling code is not available then Python interpreter terminates the program abnormally and prints corresponding exception information to the console.\n",
    "#### The rest of the program won't be executed"
   ]
  },
  {
   "cell_type": "code",
   "execution_count": 4,
   "metadata": {},
   "outputs": [
    {
     "name": "stdout",
     "output_type": "stream",
     "text": [
      "Hello\n"
     ]
    },
    {
     "ename": "ZeroDivisionError",
     "evalue": "division by zero",
     "output_type": "error",
     "traceback": [
      "\u001b[1;31m---------------------------------------------------------------------------\u001b[0m",
      "\u001b[1;31mZeroDivisionError\u001b[0m                         Traceback (most recent call last)",
      "\u001b[1;32m<ipython-input-4-fb2b17847822>\u001b[0m in \u001b[0;36m<module>\u001b[1;34m\u001b[0m\n\u001b[0;32m      1\u001b[0m \u001b[0mprint\u001b[0m\u001b[1;33m(\u001b[0m\u001b[1;34m\"Hello\"\u001b[0m\u001b[1;33m)\u001b[0m\u001b[1;33m\u001b[0m\u001b[1;33m\u001b[0m\u001b[0m\n\u001b[1;32m----> 2\u001b[1;33m \u001b[0mprint\u001b[0m\u001b[1;33m(\u001b[0m\u001b[1;36m10\u001b[0m\u001b[1;33m/\u001b[0m\u001b[1;36m0\u001b[0m\u001b[1;33m)\u001b[0m\u001b[1;33m\u001b[0m\u001b[1;33m\u001b[0m\u001b[0m\n\u001b[0m\u001b[0;32m      3\u001b[0m \u001b[0mprint\u001b[0m\u001b[1;33m(\u001b[0m\u001b[1;34m\"Hi\"\u001b[0m\u001b[1;33m)\u001b[0m\u001b[1;33m\u001b[0m\u001b[1;33m\u001b[0m\u001b[0m\n",
      "\u001b[1;31mZeroDivisionError\u001b[0m: division by zero"
     ]
    }
   ],
   "source": [
    "print(\"Hello\") \n",
    "print(10/0) \n",
    "print(\"Hi\")"
   ]
  },
  {
   "cell_type": "markdown",
   "metadata": {},
   "source": [
    "#### Every Exception in Python is a class. \n",
    "#### 1.All exception classes are child classes of BaseException.i.e every exception class extends BaseException either directly or indirectly. \n",
    "#### Hence BaseException acts as root for PythonException Hierarchy.\n",
    "#### Note: Most of the times being a programmer we have to concentrate Exception and its child classes."
   ]
  },
  {
   "cell_type": "markdown",
   "metadata": {},
   "source": [
    "#### Eg:without try-except"
   ]
  },
  {
   "cell_type": "code",
   "execution_count": 5,
   "metadata": {},
   "outputs": [
    {
     "name": "stdout",
     "output_type": "stream",
     "text": [
      "stmt-1\n"
     ]
    },
    {
     "ename": "ZeroDivisionError",
     "evalue": "division by zero",
     "output_type": "error",
     "traceback": [
      "\u001b[1;31m---------------------------------------------------------------------------\u001b[0m",
      "\u001b[1;31mZeroDivisionError\u001b[0m                         Traceback (most recent call last)",
      "\u001b[1;32m<ipython-input-5-8eae6351d737>\u001b[0m in \u001b[0;36m<module>\u001b[1;34m\u001b[0m\n\u001b[0;32m      1\u001b[0m \u001b[0mprint\u001b[0m\u001b[1;33m(\u001b[0m\u001b[1;34m\"stmt-1\"\u001b[0m\u001b[1;33m)\u001b[0m\u001b[1;33m\u001b[0m\u001b[1;33m\u001b[0m\u001b[0m\n\u001b[1;32m----> 2\u001b[1;33m \u001b[0mprint\u001b[0m\u001b[1;33m(\u001b[0m\u001b[1;36m10\u001b[0m\u001b[1;33m/\u001b[0m\u001b[1;36m0\u001b[0m\u001b[1;33m)\u001b[0m\u001b[1;33m\u001b[0m\u001b[1;33m\u001b[0m\u001b[0m\n\u001b[0m\u001b[0;32m      3\u001b[0m \u001b[0mprint\u001b[0m\u001b[1;33m(\u001b[0m\u001b[1;34m\"stmt-3\"\u001b[0m\u001b[1;33m)\u001b[0m\u001b[1;33m\u001b[0m\u001b[1;33m\u001b[0m\u001b[0m\n",
      "\u001b[1;31mZeroDivisionError\u001b[0m: division by zero"
     ]
    }
   ],
   "source": [
    "print(\"stmt-1\") \n",
    "print(10/0) \n",
    "print(\"stmt-3\") "
   ]
  },
  {
   "cell_type": "markdown",
   "metadata": {},
   "source": [
    "#### 4.Customized Exception Handling by using try-except"
   ]
  },
  {
   "cell_type": "markdown",
   "metadata": {},
   "source": [
    "#### with try-except"
   ]
  },
  {
   "cell_type": "code",
   "execution_count": 10,
   "metadata": {},
   "outputs": [
    {
     "name": "stdout",
     "output_type": "stream",
     "text": [
      "stmt-1\n",
      "5.0\n",
      "stmt-3\n"
     ]
    }
   ],
   "source": [
    "print(\"stmt-1\") \n",
    "try: \n",
    "    print(10/0) \n",
    "\n",
    "except ZeroDivisionError: \n",
    "    print(10/2) \n",
    "print(\"stmt-3\") "
   ]
  },
  {
   "cell_type": "markdown",
   "metadata": {},
   "source": [
    "#### 5.How to print exception information"
   ]
  },
  {
   "cell_type": "code",
   "execution_count": 9,
   "metadata": {},
   "outputs": [
    {
     "name": "stdout",
     "output_type": "stream",
     "text": [
      "exception raised and its description is: division by zero\n"
     ]
    }
   ],
   "source": [
    "try:\n",
    "    print(10/0) \n",
    "except ZeroDivisionError as msg: \n",
    "    print(\"exception raised and its description is:\",msg)"
   ]
  },
  {
   "cell_type": "markdown",
   "metadata": {},
   "source": [
    "#### 6. try with multiple except blocks"
   ]
  },
  {
   "cell_type": "code",
   "execution_count": 12,
   "metadata": {},
   "outputs": [
    {
     "name": "stdout",
     "output_type": "stream",
     "text": [
      "Enter First Number: 10\n",
      "Enter Second Number: ten\n",
      "please provide int value only\n"
     ]
    }
   ],
   "source": [
    "try: \n",
    "    x=int(input(\"Enter First Number: \")) \n",
    "    y=int(input(\"Enter Second Number: \")) \n",
    "    print(x/y) \n",
    "\n",
    "except ZeroDivisionError : \n",
    "    print(\"Can't Divide with Zero\") \n",
    "except ValueError: \n",
    "      print(\"please provide int value only\") \n"
   ]
  },
  {
   "cell_type": "code",
   "execution_count": 13,
   "metadata": {},
   "outputs": [
    {
     "name": "stdout",
     "output_type": "stream",
     "text": [
      "Enter First Number: 10\n",
      "Enter Second Number: 0\n",
      "Can't Divide with Zero\n"
     ]
    }
   ],
   "source": [
    "try: \n",
    "    x=int(input(\"Enter First Number: \")) \n",
    "    y=int(input(\"Enter Second Number: \")) \n",
    "    print(x/y) \n",
    "\n",
    "except ZeroDivisionError : \n",
    "    print(\"Can't Divide with Zero\") \n",
    "except ValueError: \n",
    "      print(\"please provide int value only\") \n"
   ]
  },
  {
   "cell_type": "markdown",
   "metadata": {},
   "source": [
    "#### Note.If try with multiple except blocks available then the order of these except blocks is important .\n",
    "#### Python interpreter will always consider from top to bottom until matched except block identified"
   ]
  },
  {
   "cell_type": "code",
   "execution_count": 14,
   "metadata": {},
   "outputs": [
    {
     "name": "stdout",
     "output_type": "stream",
     "text": [
      "Enter First Number: 10\n",
      "Enter Second Number: 0\n",
      "ArithmeticError\n"
     ]
    }
   ],
   "source": [
    "try: \n",
    "    x=int(input(\"Enter First Number: \")) \n",
    "    y=int(input(\"Enter Second Number: \")) \n",
    "    print(x/y) \n",
    "except ArithmeticError : \n",
    "     print(\"ArithmeticError\") \n",
    "except ZeroDivisionError: \n",
    "     print(\"ZeroDivisionError\")"
   ]
  },
  {
   "cell_type": "markdown",
   "metadata": {},
   "source": [
    "#### 7.Single except block that can handle multiple exceptions\n",
    "#### We can write a single except block that can handle multiple different types of exceptions.\n",
    "#### except (Exception1,Exception2,exception3,..): or\n",
    "#### except (Exception1,Exception2,exception3,..) as msg : \n",
    "#### Parenthesis are mandatory and this group of exceptions internally considered as tuple."
   ]
  },
  {
   "cell_type": "code",
   "execution_count": 15,
   "metadata": {},
   "outputs": [
    {
     "name": "stdout",
     "output_type": "stream",
     "text": [
      "Enter First Number: 10\n",
      "Enter Second Number: 0\n",
      "Plz Provide valid numbers only and problem is:  division by zero\n"
     ]
    }
   ],
   "source": [
    "try: \n",
    "    x=int(input(\"Enter First Number: \")) \n",
    "    y=int(input(\"Enter Second Number: \")) \n",
    "    print(x/y) \n",
    "\n",
    "except (ZeroDivisionError,ValueError) as msg: \n",
    "    print(\"Plz Provide valid numbers only and problem is: \",msg) \n"
   ]
  },
  {
   "cell_type": "markdown",
   "metadata": {},
   "source": [
    "#### 8.Default except block\n",
    "#### We can use default except block to handle any type of exceptions.In default except block generally we can print normal error messages."
   ]
  },
  {
   "cell_type": "code",
   "execution_count": 18,
   "metadata": {},
   "outputs": [
    {
     "name": "stdout",
     "output_type": "stream",
     "text": [
      "Enter First Number: 10\n",
      "Enter Second Number: 0\n",
      "ZeroDivisionError:Can't divide with zero\n"
     ]
    }
   ],
   "source": [
    "try: \n",
    "    x=int(input(\"Enter First Number: \")) \n",
    "    y=int(input(\"Enter Second Number: \")) \n",
    "    print(x/y)\n",
    "        \n",
    "except ZeroDivisionError: \n",
    "    print(\"ZeroDivisionError:Can't divide with zero\") \n",
    "except: \n",
    "    print(\"Default Except:Plz provide valid input only\") \n"
   ]
  },
  {
   "cell_type": "markdown",
   "metadata": {},
   "source": [
    "#### Note: If try with multiple except blocks available then default except block should be last,otherwise we will get SyntaxError"
   ]
  },
  {
   "cell_type": "code",
   "execution_count": 19,
   "metadata": {},
   "outputs": [
    {
     "ename": "SyntaxError",
     "evalue": "default 'except:' must be last (<ipython-input-19-1293f8bf67ac>, line 2)",
     "output_type": "error",
     "traceback": [
      "\u001b[1;36m  File \u001b[1;32m\"<ipython-input-19-1293f8bf67ac>\"\u001b[1;36m, line \u001b[1;32m2\u001b[0m\n\u001b[1;33m    print(10/0)\u001b[0m\n\u001b[1;37m    ^\u001b[0m\n\u001b[1;31mSyntaxError\u001b[0m\u001b[1;31m:\u001b[0m default 'except:' must be last\n"
     ]
    }
   ],
   "source": [
    "try: \n",
    "    print(10/0) \n",
    "\n",
    "except: \n",
    "     print(\"Default Except\") \n",
    "except ZeroDivisionError: \n",
    "     print(\"ZeroDivisionError\") \n",
    " "
   ]
  },
  {
   "cell_type": "markdown",
   "metadata": {},
   "source": [
    "#### Note:The following are various possible combinations of except blocks\n",
    "#### 1. except ZeroDivisionError:\n",
    "#### 1. except ZeroDivisionError as msg:\n",
    "#### 3. except (ZeroDivisionError,ValueError) :\n",
    "#### 4. except (ZeroDivisionError,ValueError) as msg:\n",
    "#### 5. except :"
   ]
  },
  {
   "cell_type": "markdown",
   "metadata": {},
   "source": [
    "#### 9.finally block\n",
    "#### we required some place to maintain clean up code which should be executed always irrespective of whether exception raised or not raised and whether exception handled or not handled. Such type of best place is nothing but finally block.\n",
    "#### Hence the main purpose of finally block is to maintain clean up code."
   ]
  },
  {
   "cell_type": "code",
   "execution_count": null,
   "metadata": {},
   "outputs": [],
   "source": [
    "try:\n",
    "     Risky Code\n",
    "except: \n",
    "     Handling Code\n",
    "finally:\n",
    "     Cleanup code\n"
   ]
  },
  {
   "cell_type": "markdown",
   "metadata": {},
   "source": [
    "#### Note:The speciality of finally block is it will be executed always whether exception raised or not raised and whether exception handled or not handled"
   ]
  },
  {
   "cell_type": "markdown",
   "metadata": {},
   "source": [
    "#### Case-1: If there is no exception"
   ]
  },
  {
   "cell_type": "code",
   "execution_count": 20,
   "metadata": {},
   "outputs": [
    {
     "name": "stdout",
     "output_type": "stream",
     "text": [
      "try\n",
      "finally\n"
     ]
    }
   ],
   "source": [
    "try: \n",
    "     print(\"try\") \n",
    "except: \n",
    "     print(\"except\") \n",
    "finally: \n",
    "     print(\"finally\") \n",
    " "
   ]
  },
  {
   "cell_type": "markdown",
   "metadata": {},
   "source": [
    "#### Case-2: If there is an exception raised but handled"
   ]
  },
  {
   "cell_type": "code",
   "execution_count": 21,
   "metadata": {},
   "outputs": [
    {
     "name": "stdout",
     "output_type": "stream",
     "text": [
      "try\n",
      "except\n",
      "finally\n"
     ]
    }
   ],
   "source": [
    "try: \n",
    "    print(\"try\") \n",
    "    print(10/0) \n",
    "\n",
    "except ZeroDivisionError: \n",
    "    print(\"except\") \n",
    "\n",
    "finally: \n",
    "  print(\"finally\") \n",
    " "
   ]
  },
  {
   "cell_type": "markdown",
   "metadata": {},
   "source": [
    "#### Case-3: If there is an exception raised but not handled"
   ]
  },
  {
   "cell_type": "code",
   "execution_count": 22,
   "metadata": {},
   "outputs": [
    {
     "name": "stdout",
     "output_type": "stream",
     "text": [
      "try\n",
      "finally\n"
     ]
    },
    {
     "ename": "ZeroDivisionError",
     "evalue": "division by zero",
     "output_type": "error",
     "traceback": [
      "\u001b[1;31m---------------------------------------------------------------------------\u001b[0m",
      "\u001b[1;31mZeroDivisionError\u001b[0m                         Traceback (most recent call last)",
      "\u001b[1;32m<ipython-input-22-04b6c273d026>\u001b[0m in \u001b[0;36m<module>\u001b[1;34m\u001b[0m\n\u001b[0;32m      1\u001b[0m \u001b[1;32mtry\u001b[0m\u001b[1;33m:\u001b[0m\u001b[1;33m\u001b[0m\u001b[1;33m\u001b[0m\u001b[0m\n\u001b[0;32m      2\u001b[0m     \u001b[0mprint\u001b[0m\u001b[1;33m(\u001b[0m\u001b[1;34m\"try\"\u001b[0m\u001b[1;33m)\u001b[0m\u001b[1;33m\u001b[0m\u001b[1;33m\u001b[0m\u001b[0m\n\u001b[1;32m----> 3\u001b[1;33m     \u001b[0mprint\u001b[0m\u001b[1;33m(\u001b[0m\u001b[1;36m10\u001b[0m\u001b[1;33m/\u001b[0m\u001b[1;36m0\u001b[0m\u001b[1;33m)\u001b[0m\u001b[1;33m\u001b[0m\u001b[1;33m\u001b[0m\u001b[0m\n\u001b[0m\u001b[0;32m      4\u001b[0m \u001b[1;33m\u001b[0m\u001b[0m\n\u001b[0;32m      5\u001b[0m \u001b[1;32mexcept\u001b[0m \u001b[0mNameError\u001b[0m\u001b[1;33m:\u001b[0m\u001b[1;33m\u001b[0m\u001b[1;33m\u001b[0m\u001b[0m\n",
      "\u001b[1;31mZeroDivisionError\u001b[0m: division by zero"
     ]
    }
   ],
   "source": [
    "try: \n",
    "    print(\"try\") \n",
    "    print(10/0) \n",
    "\n",
    "except NameError: \n",
    "     print(\"except\") \n",
    "\n",
    "finally: \n",
    "     print(\"finally\") \n",
    " \n"
   ]
  },
  {
   "cell_type": "markdown",
   "metadata": {},
   "source": [
    "#### Note: There is only one situation where finally block won't be executed ie whenever we are using os._exit(0) function.\n",
    "\n",
    "#### Whenever we are using os._exit(0) function then Python Virtual Machine itself will be shutdown.In this particular case finally won't be executed.\n"
   ]
  },
  {
   "cell_type": "code",
   "execution_count": null,
   "metadata": {},
   "outputs": [],
   "source": [
    "import os \n",
    "\n",
    "try: \n",
    "    print(\"try\") \n",
    "    os._exit(0) \n",
    "\n",
    "except NameError: \n",
    "     print(\"except\") \n",
    "\n",
    "finally: \n",
    "     print(\"finally\") \n",
    " "
   ]
  },
  {
   "cell_type": "markdown",
   "metadata": {},
   "source": [
    "#### 10.Nested try-except-finally blocks:"
   ]
  },
  {
   "cell_type": "code",
   "execution_count": 2,
   "metadata": {},
   "outputs": [
    {
     "name": "stdout",
     "output_type": "stream",
     "text": [
      "outer try block\n",
      "Inner try block\n",
      "Inner except block\n",
      "Inner finally block\n",
      "outer finally block\n"
     ]
    }
   ],
   "source": [
    "try: \n",
    "    print(\"outer try block\") \n",
    "    try:\n",
    "        print(\"Inner try block\") \n",
    "        print(10/0) \n",
    "    \n",
    "    except ZeroDivisionError: \n",
    "         print(\"Inner except block\") \n",
    "\n",
    "    finally: \n",
    "        print(\"Inner finally block\") \n",
    "\n",
    "except: \n",
    "    print(\"outer except block\") \n",
    "\n",
    "finally: \n",
    "    print(\"outer finally block\") \n",
    " "
   ]
  },
  {
   "cell_type": "markdown",
   "metadata": {},
   "source": [
    "#### 11.Types of Exceptions:In Python there are 2 types of exceptions are possible.\n",
    "#### 1. Predefined Exceptions\n",
    "#### 2. User Definded Exceptions"
   ]
  },
  {
   "cell_type": "markdown",
   "metadata": {},
   "source": [
    "#### 1. Predefined Exceptions:Also known as in-built exceptions\n",
    "\n",
    "#### The exceptions which are raised automatically by Python virtual machine whenver a particular event occurs, are called pre defined exceptions."
   ]
  },
  {
   "cell_type": "code",
   "execution_count": 3,
   "metadata": {},
   "outputs": [
    {
     "ename": "ZeroDivisionError",
     "evalue": "division by zero",
     "output_type": "error",
     "traceback": [
      "\u001b[1;31m---------------------------------------------------------------------------\u001b[0m",
      "\u001b[1;31mZeroDivisionError\u001b[0m                         Traceback (most recent call last)",
      "\u001b[1;32m<ipython-input-3-baaa919e0465>\u001b[0m in \u001b[0;36m<module>\u001b[1;34m\u001b[0m\n\u001b[0;32m      2\u001b[0m \u001b[1;31m#ZeroDivisionError.\u001b[0m\u001b[1;33m\u001b[0m\u001b[1;33m\u001b[0m\u001b[1;33m\u001b[0m\u001b[0m\n\u001b[0;32m      3\u001b[0m \u001b[1;33m\u001b[0m\u001b[0m\n\u001b[1;32m----> 4\u001b[1;33m \u001b[0mprint\u001b[0m\u001b[1;33m(\u001b[0m\u001b[1;36m10\u001b[0m\u001b[1;33m/\u001b[0m\u001b[1;36m0\u001b[0m\u001b[1;33m)\u001b[0m\u001b[1;33m\u001b[0m\u001b[1;33m\u001b[0m\u001b[0m\n\u001b[0m",
      "\u001b[1;31mZeroDivisionError\u001b[0m: division by zero"
     ]
    }
   ],
   "source": [
    "#Whenever we are trying to perform Division by zero, automatically Python will raise \n",
    "#ZeroDivisionError.\n",
    "\n",
    "print(10/0)"
   ]
  },
  {
   "cell_type": "markdown",
   "metadata": {},
   "source": [
    "#### 2. User Defined Exceptions\n",
    "#### Also known as Customized Exceptions or Programatic Exceptions \n",
    "#### Some time we have to define and raise exceptions explicitly to indicate that something goes wrong ,such type of exceptions are called User Defined Exceptions or Customized Exceptions"
   ]
  },
  {
   "cell_type": "code",
   "execution_count": 5,
   "metadata": {},
   "outputs": [
    {
     "name": "stdout",
     "output_type": "stream",
     "text": [
      "Enter Age:23\n",
      "You will get match details soon by email!!!\n"
     ]
    }
   ],
   "source": [
    "class TooYoungException(Exception): \n",
    "    def __init__(self,arg): \n",
    "        self.msg=arg \n",
    "\n",
    "class TooOldException(Exception): \n",
    "    def __init__(self,arg): \n",
    "        self.msg=arg \n",
    "\n",
    "age=int(input(\"Enter Age:\")) \n",
    "if age>60: \n",
    "    raise TooYoungException(\"Plz wait some more time you will get best match soon!!!\") \n",
    "\n",
    "elif age<18: \n",
    "    raise TooOldException(\"Your age already crossed marriage age...no chance of getting marriage\") \n",
    "\n",
    "else: \n",
    "    print(\"You will get match details soon by email!!!\") \n",
    " "
   ]
  },
  {
   "cell_type": "markdown",
   "metadata": {},
   "source": [
    "#### Note:raise keyword is best suitable for customized exceptions but not for pre defined exceptions"
   ]
  }
 ],
 "metadata": {
  "kernelspec": {
   "display_name": "Python 3",
   "language": "python",
   "name": "python3"
  },
  "language_info": {
   "codemirror_mode": {
    "name": "ipython",
    "version": 3
   },
   "file_extension": ".py",
   "mimetype": "text/x-python",
   "name": "python",
   "nbconvert_exporter": "python",
   "pygments_lexer": "ipython3",
   "version": "3.8.5"
  }
 },
 "nbformat": 4,
 "nbformat_minor": 4
}
