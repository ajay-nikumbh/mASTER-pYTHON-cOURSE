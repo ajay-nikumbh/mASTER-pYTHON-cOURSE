{
 "cells": [
  {
   "cell_type": "markdown",
   "metadata": {},
   "source": [
    "## Multi Threading."
   ]
  },
  {
   "cell_type": "code",
   "execution_count": 57,
   "metadata": {},
   "outputs": [],
   "source": [
    "import numpy"
   ]
  },
  {
   "cell_type": "code",
   "execution_count": 1,
   "metadata": {},
   "outputs": [],
   "source": [
    "import threading"
   ]
  },
  {
   "cell_type": "code",
   "execution_count": 2,
   "metadata": {},
   "outputs": [
    {
     "name": "stdout",
     "output_type": "stream",
     "text": [
      "Current executing thread:  MainThread\n"
     ]
    }
   ],
   "source": [
    "print(\"Current executing thread: \", threading.current_thread().getName())"
   ]
  },
  {
   "cell_type": "markdown",
   "metadata": {},
   "source": [
    "#### 1. Ways to create the thread in python."
   ]
  },
  {
   "cell_type": "markdown",
   "metadata": {},
   "source": [
    "#### A. Creating a thread w/o using any class."
   ]
  },
  {
   "cell_type": "code",
   "execution_count": 47,
   "metadata": {},
   "outputs": [
    {
     "name": "stdout",
     "output_type": "stream",
     "text": [
      "Thread-65\n",
      "Thread-65\n",
      "Thread-65\n",
      "Thread-65\n",
      "Thread-65\n",
      "Thread-65\n",
      "Thread-65\n",
      "Thread-65\n",
      "Thread-65\n",
      "Thread-65\n",
      "Thread-66\n",
      "Thread-66\n",
      "Thread-66\n",
      "Thread-66\n",
      "Thread-66\n",
      "Thread-66\n",
      "Thread-66\n",
      "Thread-66\n",
      "Main Thread\n",
      "Main Thread\n",
      "Main Thread\n",
      "Main Thread\n",
      "Main Thread\n",
      "Main Thread\n",
      "Main Thread\n",
      "Main Thread\n",
      "Main Thread\n",
      "Main Thread\n",
      "Thread-66\n",
      "\n",
      "Thread-66\n"
     ]
    }
   ],
   "source": [
    "from threading import *\n",
    "def display():\n",
    "    for i in range(1,11):\n",
    "        print(threading.current_thread().getName())\n",
    "\n",
    "def display_2():\n",
    "    for i in range(1,11):\n",
    "        print(threading.current_thread().getName())\n",
    "        \n",
    "t= Thread(target= display) # creating the thread object\n",
    "t2= Thread(target= display_2)\n",
    "t.start()\n",
    "t2.start()\n",
    "for i in range(1,11):\n",
    "    print(\"Main Thread\")\n",
    "print()"
   ]
  },
  {
   "cell_type": "markdown",
   "metadata": {},
   "source": [
    "#### B.Creating a thread by extending a thread class."
   ]
  },
  {
   "cell_type": "code",
   "execution_count": 56,
   "metadata": {},
   "outputs": [
    {
     "name": "stdout",
     "output_type": "stream",
     "text": [
      "Child -1: \n",
      "Child -1: \n",
      "Child -1: \n",
      "Child -1: \n",
      "Child -1: \n",
      "Child -1: \n",
      "Child -1: \n",
      "Child -1: \n",
      "Child -1: \n",
      "Child -1: \n",
      "Main Thread -1: \n",
      "Main Thread -1: \n",
      "Main Thread -1: \n",
      "Main Thread -1: \n",
      "Main Thread -1: \n",
      "Main Thread -1: \n",
      "Main Thread -1: \n",
      "Main Thread -1: \n",
      "Main Thread -1: \n",
      "Main Thread -1: \n"
     ]
    }
   ],
   "source": [
    "from threading import *\n",
    "class MyThread(Thread):\n",
    "    def run(self):   # overriding the run method\n",
    "        for i in range(10):\n",
    "            print(\"Child -1: \")\n",
    "            \n",
    "t= MyThread()\n",
    "t.start()\n",
    "for i in range(10):\n",
    "    print(\"Main Thread -1: \")"
   ]
  },
  {
   "cell_type": "markdown",
   "metadata": {},
   "source": [
    "#### C.Creating a thread w/o extending the thread class."
   ]
  },
  {
   "cell_type": "code",
   "execution_count": 77,
   "metadata": {},
   "outputs": [
    {
     "name": "stdout",
     "output_type": "stream",
     "text": [
      "Child -1: \n",
      "Child -1: \n",
      "Child -1: \n",
      "Child -1: \n",
      "Child -1: \n",
      "Child -1: \n",
      "Child -1: \n",
      "Child -1: \n",
      "Child -1: \n",
      "Child -1: \n",
      "Main Thread -1: \n",
      "Main Thread -1: \n",
      "Main Thread -1: \n",
      "Main Thread -1: \n",
      "Main Thread -1: \n",
      "Main Thread -1: \n",
      "Main Thread -1: \n",
      "Main Thread -1: \n",
      "Main Thread -1: \n",
      "Main Thread -1: \n"
     ]
    }
   ],
   "source": [
    "from threading import *\n",
    "class MyThread:\n",
    "    def display(self):   # overriding the run method\n",
    "        for i in range(10):\n",
    "            print(\"Child -1: \")\n",
    "            \n",
    "obj= MyThread()\n",
    "t= Thread(target= obj.display)\n",
    "t.start()\n",
    "for i in range(10):\n",
    "    print(\"Main Thread -1: \")"
   ]
  },
  {
   "cell_type": "code",
   "execution_count": 81,
   "metadata": {},
   "outputs": [
    {
     "name": "stdout",
     "output_type": "stream",
     "text": [
      "Child thread executed by:  Thread-110\n",
      "Child thread executed by:  Thread-110\n",
      "Child thread executed by:  Thread-110\n",
      "Child thread executed by:  Thread-110\n",
      "Child thread executed by:  Thread-110\n",
      "Child thread executed by:  Thread-110\n",
      "Child thread executed by:  Thread-110\n",
      "Child thread executed by:  Thread-110\n",
      "Child thread executed by:  Thread-110\n",
      "Child thread executed by:  Thread-110\n",
      "Child thread executed by:  Thread-111\n",
      "Child thread executed by:  Thread-111\n",
      "Child thread executed by:  Thread-111\n",
      "Child thread executed by:  Thread-111\n",
      "Child thread executed by:  Thread-111\n",
      "Child thread executed by:  Thread-111\n",
      "Child thread executed by:  Thread-111\n",
      "Child thread executed by:  Thread-111\n",
      "Child thread executed by:  Thread-111\n",
      "Child thread executed by:  Thread-111\n",
      "Child thread executed by:  Thread-112\n",
      "Child thread executed by:  Thread-112\n",
      "Child thread executed by:  Thread-112\n",
      "Child thread executed by:  Thread-112\n",
      "Child thread executed by:  Thread-112\n",
      "Child thread executed by:  Thread-112\n",
      "Child thread executed by:  Thread-112\n",
      "Child thread executed by:  Thread-112\n",
      "Child thread executed by:  Thread-112\n",
      "Child thread executed by:  Thread-112\n",
      "Child thread executed by:  Thread-113\n",
      "Child thread executed by:  Thread-113\n",
      "Child thread executed by:  Thread-113\n",
      "Child thread executed by:  Thread-113\n",
      "Child thread executed by:  Thread-113\n",
      "Child thread executed by:  Thread-113\n",
      "Child thread executed by:  Thread-113\n",
      "Child thread executed by:  Thread-113\n",
      "Child thread executed by:  Thread-113\n",
      "Child thread executed by:  Thread-113\n",
      "Child thread executed by:  Thread-114\n",
      "Child thread executed by:  Thread-114\n",
      "Child thread executed by:  Thread-114\n",
      "Child thread executed by:  Thread-114\n",
      "Child thread executed by:  Thread-114\n",
      "Child thread executed by:  Thread-114\n",
      "Child thread executed by:  Thread-114\n",
      "Child thread executed by:  Thread-114\n",
      "Child thread executed by:  Thread-114\n",
      "Child thread executed by:  Thread-114\n"
     ]
    }
   ],
   "source": [
    "from threading import *\n",
    "class MyThread:\n",
    "    def display(self):   # overriding the run method\n",
    "        for i in range(10):\n",
    "            print(\"Child thread executed by: \", threading.current_thread().getName())\n",
    "            \n",
    "obj= MyThread()\n",
    "t0= Thread(target= obj.display)\n",
    "t1= Thread(target= obj.display)\n",
    "t2= Thread(target= obj.display)\n",
    "t3= Thread(target= obj.display)\n",
    "t4= Thread(target= obj.display)\n",
    "\n",
    "t0.start()\n",
    "t1.start()\n",
    "t2.start()\n",
    "t3.start()\n",
    "t4.start()\n",
    "\n"
   ]
  },
  {
   "cell_type": "markdown",
   "metadata": {},
   "source": [
    "#### 2. Without multithreading concept."
   ]
  },
  {
   "cell_type": "code",
   "execution_count": 83,
   "metadata": {},
   "outputs": [
    {
     "name": "stdout",
     "output_type": "stream",
     "text": [
      "Doub1e: 2\n",
      "Doub1e: 4\n",
      "Doub1e: 6\n",
      "Doub1e: 8\n",
      "Doub1e: 10\n",
      "Doub1e: 12\n",
      "Square: 1\n",
      "Square: 4\n",
      "Square: 9\n",
      "Square: 16\n",
      "Square: 25\n",
      "Square: 36\n",
      "Total time taken:  12.107765674591064\n"
     ]
    }
   ],
   "source": [
    "import time\n",
    "def doubles(numbers):\n",
    "    for n in numbers:\n",
    "        time.sleep(1)\n",
    "        print('Doub1e:',2*n)\n",
    "\n",
    "def squares(numbers):\n",
    "    for n in numbers:\n",
    "        time.sleep(1)\n",
    "        print('Square:',n*n)\n",
    "\n",
    "numbers=[1,2,3,4,5,6]\n",
    "begintime=time.time()\n",
    "doubles(numbers)\n",
    "squares(numbers)\n",
    "\n",
    "endtime=time.time()\n",
    "print(\"Total time taken: \", endtime-begintime)\n",
    "\n"
   ]
  },
  {
   "cell_type": "markdown",
   "metadata": {},
   "source": [
    "#### 3.With Multithreading concept."
   ]
  },
  {
   "cell_type": "code",
   "execution_count": 85,
   "metadata": {},
   "outputs": [
    {
     "name": "stdout",
     "output_type": "stream",
     "text": [
      "Doub1e: 2\n",
      "Square: 1\n",
      "Doub1e: 4\n",
      "Square: 4\n",
      "Doub1e: 6\n",
      "Square: 9\n",
      "Doub1e: 8\n",
      "Square: 16\n",
      "Doub1e: 10\n",
      "Square: 25\n",
      "Doub1e: 12\n",
      "Square: 36\n",
      "Total time taken:  6.060286283493042\n"
     ]
    }
   ],
   "source": [
    "from threading import*\n",
    "import time\n",
    "def doubles(numbers):\n",
    "    for n in numbers:\n",
    "        time.sleep(1)\n",
    "        print('Doub1e:',2*n)\n",
    "\n",
    "def squares(numbers):\n",
    "    for n in numbers:\n",
    "        time.sleep(1)\n",
    "        print('Square:',n*n)\n",
    "\n",
    "numbers=[1,2,3,4,5,6]\n",
    "begintime=time.time()\n",
    "t1= Thread(target= doubles, args=(numbers,))\n",
    "t2= Thread(target= squares, args=(numbers,))\n",
    "t1.start()\n",
    "t2.start()\n",
    "t1.join() # main thread should wait till t1 completes its execution.\n",
    "t2.join() # main thread should wait till t2 completes its execution.\n",
    "endtime=time.time()\n",
    "print(\"Total time taken: \", endtime-begintime)\n",
    "\n"
   ]
  },
  {
   "cell_type": "code",
   "execution_count": 91,
   "metadata": {},
   "outputs": [
    {
     "name": "stdout",
     "output_type": "stream",
     "text": [
      "Given numbers= 12, 13\n",
      "Result = 25\n"
     ]
    }
   ],
   "source": [
    "import threading \n",
    "\n",
    "\n",
    "def MyFunction(num1, num2):\n",
    "\t\"\"\"This is user defined thread function\"\"\"\n",
    "\tprint (\"Given numbers= %s, %s\" %(num1, num2))\n",
    "\tprint (\"Result = %d\" %(int(num1)+int(num2)))\n",
    "\treturn\n",
    "\n",
    "\n",
    "def Main():\n",
    "    t = threading.Thread(target=MyFunction, args=(12,13))\n",
    "    t.start()\n",
    "\n",
    "\n",
    "if __name__ == '__main__':\n",
    "    Main()"
   ]
  },
  {
   "cell_type": "markdown",
   "metadata": {},
   "source": [
    "#### 4.Setting and getting thename of the thread."
   ]
  },
  {
   "cell_type": "code",
   "execution_count": 1,
   "metadata": {},
   "outputs": [
    {
     "name": "stdout",
     "output_type": "stream",
     "text": [
      "MainThread\n"
     ]
    }
   ],
   "source": [
    "from threading import *\n",
    "print(current_thread().getName())\n",
    "\n"
   ]
  },
  {
   "cell_type": "code",
   "execution_count": 5,
   "metadata": {},
   "outputs": [
    {
     "name": "stdout",
     "output_type": "stream",
     "text": [
      "MainThread\n",
      "Ajay\n",
      "Ajay\n"
     ]
    }
   ],
   "source": [
    "from threading import *\n",
    "print(current_thread().getName())\n",
    "current_thread().setName(\"Ajay\")\n",
    "print(current_thread().getName())\n",
    "print(current_thread().name)"
   ]
  },
  {
   "cell_type": "markdown",
   "metadata": {},
   "source": [
    "#### 5.Thread identification number."
   ]
  },
  {
   "cell_type": "code",
   "execution_count": 15,
   "metadata": {},
   "outputs": [
    {
     "name": "stdout",
     "output_type": "stream",
     "text": [
      "Child Thread:\n",
      "Main thread identification mumber: 2516\n",
      "Child thread identification mumber: 14340\n"
     ]
    }
   ],
   "source": [
    "from threading import *\n",
    "def test():\n",
    "    print(\"Child Thread:\")\n",
    "    \n",
    "t= Thread(target=test)\n",
    "t.start()\n",
    "print(\"Main thread identification mumber:\", current_thread().ident)\n",
    "print(\"Child thread identification mumber:\", t.ident)"
   ]
  },
  {
   "cell_type": "markdown",
   "metadata": {},
   "source": [
    "#### 6.Active Count."
   ]
  },
  {
   "cell_type": "code",
   "execution_count": 18,
   "metadata": {},
   "outputs": [
    {
     "name": "stdout",
     "output_type": "stream",
     "text": [
      "The number of active threads:  5\n",
      "Child Thread_1\n",
      " ... started \n",
      "Child Thread_2\n",
      " ... started \n",
      "Child Thread_3\n",
      " ... started \n",
      "The number of active threads:  8\n",
      "Child Thread_1\n",
      " ... ended \n",
      "Child Thread_3\n",
      "Child Thread_2\n",
      "  ... ended \n",
      "... ended \n",
      "The number of active threads:  5\n"
     ]
    }
   ],
   "source": [
    "from threading import *\n",
    "import time\n",
    "def display():\n",
    "    print(current_thread().getName(),\"... started \")\n",
    "    time.sleep(3)\n",
    "    print(current_thread().getName(),\"... ended \")\n",
    "\n",
    "print(\"The number of active threads: \", active_count())\n",
    "t1= Thread(target= display, name= \"Child Thread_1\\n\")\n",
    "t2= Thread(target= display,  name= \"Child Thread_2\\n\")\n",
    "t3= Thread(target= display,  name= \"Child Thread_3\\n\")\n",
    "\n",
    "t1.start()\n",
    "t2.start()\n",
    "t3.start()\n",
    "\n",
    "print(\"The number of active threads: \", active_count())\n",
    "time.sleep(6)\n",
    "print(\"The number of active threads: \", active_count())"
   ]
  },
  {
   "cell_type": "markdown",
   "metadata": {},
   "source": [
    "#### 7.Enumerate_function()."
   ]
  },
  {
   "cell_type": "code",
   "execution_count": 5,
   "metadata": {},
   "outputs": [
    {
     "name": "stdout",
     "output_type": "stream",
     "text": [
      "Child Thread_1Child Thread_2 ... started\n",
      " ... started\n",
      "Child Thread_3 ... started\n",
      "Thread Name:  MainThread\n",
      "Thread Name:  Thread-4\n",
      "Thread Name:  Thread-5\n",
      "Thread Name:  IPythonHistorySavingThread\n",
      "Thread Name:  Thread-3\n",
      "Thread Name:  Child Thread_1\n",
      "Thread Name:  Child Thread_2\n",
      "Thread Name:  Child Thread_3\n",
      "Child Thread_3Child Thread_1 ... ended\n",
      " ... ended\n",
      "Child Thread_2 ... ended\n",
      "Thread Name:  MainThread\n",
      "Thread Name:  Thread-4\n",
      "Thread Name:  Thread-5\n",
      "Thread Name:  IPythonHistorySavingThread\n",
      "Thread Name:  Thread-3\n"
     ]
    }
   ],
   "source": [
    "# ctl+m ans then press l to give line numbers..\n",
    "from threading import *\n",
    "import time\n",
    "def display():\n",
    "    print(current_thread().getName(),\"... started\")\n",
    "    time.sleep(3)\n",
    "    print(current_thread().getName(),\"... ended\")\n",
    "\n",
    "#print(\"The number of active threads: \", active_count())\n",
    "\n",
    "t1= Thread(target= display, name= \"Child Thread_1\")\n",
    "t2= Thread(target= display,  name= \"Child Thread_2\")\n",
    "t3= Thread(target= display,  name= \"Child Thread_3\")\n",
    "\n",
    "t1.start()\n",
    "t2.start()\n",
    "t3.start()\n",
    "\n",
    "itr= enumerate()\n",
    "for i in itr:\n",
    "    print(\"Thread Name: \",i.name)\n",
    "    \n",
    "time.sleep(5)\n",
    "\n",
    "itr= enumerate()\n",
    "for i in itr:\n",
    "    print(\"Thread Name: \",i.name)\n",
    "    "
   ]
  },
  {
   "cell_type": "markdown",
   "metadata": {},
   "source": [
    "#### 8.isAlive()."
   ]
  },
  {
   "cell_type": "code",
   "execution_count": 7,
   "metadata": {},
   "outputs": [
    {
     "name": "stdout",
     "output_type": "stream",
     "text": [
      "Child Thread_1 ... started\n",
      "Child Thread_2 ... started\n",
      "Child Thread_1 is Alive True\n",
      "Child Thread_2 is Alive True\n",
      "Child Thread_1Child Thread_2 ... ended\n",
      " ... ended\n",
      "Child Thread_1 is Alive False\n",
      "Child Thread_2 is Alive False\n"
     ]
    }
   ],
   "source": [
    "from threading import *\n",
    "import time\n",
    "def display():\n",
    "    print(current_thread().getName(),\"... started\")\n",
    "    time.sleep(3)\n",
    "    print(current_thread().getName(),\"... ended\")\n",
    "\n",
    "#print(\"The number of active threads: \", active_count())\n",
    "\n",
    "t1= Thread(target= display, name= \"Child Thread_1\")\n",
    "t2= Thread(target= display,  name= \"Child Thread_2\")\n",
    "\n",
    "\n",
    "t1.start()\n",
    "t2.start()\n",
    "\n",
    "\n",
    "print(t1.name ,\"is Alive\", t1.is_alive())\n",
    "print(t2.name ,\"is Alive\", t2.is_alive())\n",
    "time.sleep(5)\n",
    "print(t1.name ,\"is Alive\", t1.is_alive())\n",
    "print(t2.name ,\"is Alive\", t2.is_alive())\n"
   ]
  },
  {
   "cell_type": "markdown",
   "metadata": {},
   "source": [
    "#### 9. join()."
   ]
  },
  {
   "cell_type": "code",
   "execution_count": 8,
   "metadata": {},
   "outputs": [
    {
     "name": "stdout",
     "output_type": "stream",
     "text": [
      "Seetha Thread\n",
      "Seetha Thread\n",
      "Seetha Thread\n",
      "Seetha Thread\n",
      "Seetha Thread\n",
      "Seetha Thread\n",
      "Seetha Thread\n",
      "Seetha Thread\n",
      "Seetha Thread\n",
      "Seetha Thread\n",
      "Rama Thread\n",
      "Rama Thread\n",
      "Rama Thread\n",
      "Rama Thread\n",
      "Rama Thread\n",
      "Rama Thread\n",
      "Rama Thread\n",
      "Rama Thread\n",
      "Rama Thread\n",
      "Rama Thread\n"
     ]
    }
   ],
   "source": [
    "import time\n",
    "from threading import *\n",
    "def display():\n",
    "    for i in range(10):\n",
    "        print(\"Seetha Thread\")\n",
    "        time.sleep(3)\n",
    "        \n",
    "t= Thread(target= display)\n",
    "t.start()\n",
    "t.join() # this line will be exxecuted by the main thread\n",
    "for i in range(10):\n",
    "    print(\"Rama Thread\")"
   ]
  },
  {
   "cell_type": "code",
   "execution_count": 10,
   "metadata": {},
   "outputs": [
    {
     "name": "stdout",
     "output_type": "stream",
     "text": [
      "Seetha Thread\n",
      "Rama Thread\n",
      "Rama Thread\n",
      "Rama Thread\n",
      "Rama Thread\n",
      "Rama Thread\n",
      "Rama Thread\n",
      "Rama Thread\n",
      "Rama Thread\n",
      "Rama Thread\n",
      "Rama Thread\n",
      "Seetha Thread\n",
      "Seetha Thread\n",
      "Seetha Thread\n",
      "Seetha Thread\n",
      "Seetha Thread\n",
      "Seetha Thread\n",
      "Seetha Thread\n",
      "Seetha Thread\n",
      "Seetha Thread\n"
     ]
    }
   ],
   "source": [
    "import time\n",
    "from threading import *\n",
    "def display():\n",
    "    for i in range(10):\n",
    "        print(\"Seetha Thread\")\n",
    "        time.sleep(2)\n",
    "        \n",
    "t= Thread(target= display)\n",
    "t.start()\n",
    "t.join(1) # this line will be exxecuted by the main thread\n",
    "for i in range(10):\n",
    "    print(\"Rama Thread\")"
   ]
  },
  {
   "cell_type": "markdown",
   "metadata": {},
   "source": [
    "#### 10.Daemon Threads."
   ]
  },
  {
   "cell_type": "code",
   "execution_count": 12,
   "metadata": {},
   "outputs": [
    {
     "name": "stdout",
     "output_type": "stream",
     "text": [
      "False\n"
     ]
    }
   ],
   "source": [
    "from threading import *\n",
    "print(current_thread().isDaemon())"
   ]
  },
  {
   "cell_type": "markdown",
   "metadata": {},
   "source": [
    "#### 11.Synchronization."
   ]
  },
  {
   "cell_type": "markdown",
   "metadata": {},
   "source": [
    "#### A. Synch using lock concept."
   ]
  },
  {
   "cell_type": "code",
   "execution_count": 16,
   "metadata": {},
   "outputs": [],
   "source": [
    "from threading import *\n",
    "l= Lock()\n",
    "l.acquire()\n",
    "l.release()"
   ]
  },
  {
   "cell_type": "code",
   "execution_count": 17,
   "metadata": {},
   "outputs": [
    {
     "ename": "RuntimeError",
     "evalue": "release unlocked lock",
     "output_type": "error",
     "traceback": [
      "\u001b[1;31m---------------------------------------------------------------------------\u001b[0m",
      "\u001b[1;31mRuntimeError\u001b[0m                              Traceback (most recent call last)",
      "\u001b[1;32m<ipython-input-17-1e6f8791f9c6>\u001b[0m in \u001b[0;36m<module>\u001b[1;34m\u001b[0m\n\u001b[0;32m      2\u001b[0m \u001b[0ml\u001b[0m\u001b[1;33m=\u001b[0m \u001b[0mLock\u001b[0m\u001b[1;33m(\u001b[0m\u001b[1;33m)\u001b[0m\u001b[1;33m\u001b[0m\u001b[1;33m\u001b[0m\u001b[0m\n\u001b[0;32m      3\u001b[0m \u001b[1;31m#l.acquire()\u001b[0m\u001b[1;33m\u001b[0m\u001b[1;33m\u001b[0m\u001b[1;33m\u001b[0m\u001b[0m\n\u001b[1;32m----> 4\u001b[1;33m \u001b[0ml\u001b[0m\u001b[1;33m.\u001b[0m\u001b[0mrelease\u001b[0m\u001b[1;33m(\u001b[0m\u001b[1;33m)\u001b[0m\u001b[1;33m\u001b[0m\u001b[1;33m\u001b[0m\u001b[0m\n\u001b[0m",
      "\u001b[1;31mRuntimeError\u001b[0m: release unlocked lock"
     ]
    }
   ],
   "source": [
    "# Note: to release lock compulsory thread should be the owner of that lock\n",
    "# otherwise we will get a run time exception saying : release unlocked lock.\n",
    "from threading import *\n",
    "l= Lock()\n",
    "#l.acquire()\n",
    "l.release()"
   ]
  },
  {
   "cell_type": "code",
   "execution_count": 19,
   "metadata": {},
   "outputs": [
    {
     "name": "stdout",
     "output_type": "stream",
     "text": [
      "Good Evening: Dhoni\n",
      "Good Evening: Dhoni\n",
      "Good Evening: Dhoni\n",
      "Good Evening: Dhoni\n",
      "Good Evening: Dhoni\n",
      "Good Evening: Dhoni\n",
      "Good Evening: Dhoni\n",
      "Good Evening: Dhoni\n",
      "Good Evening: Dhoni\n",
      "Good Evening: Dhoni\n",
      "Good Evening: Yuraj\n",
      "Good Evening: Yuraj\n",
      "Good Evening: Yuraj\n",
      "Good Evening: Yuraj\n",
      "Good Evening: Yuraj\n",
      "Good Evening: Yuraj\n",
      "Good Evening: Yuraj\n",
      "Good Evening: Yuraj\n",
      "Good Evening: Yuraj\n",
      "Good Evening: Yuraj\n",
      "Good Evening: Kholi\n",
      "Good Evening: Kholi\n",
      "Good Evening: Kholi\n",
      "Good Evening: Kholi\n",
      "Good Evening: Kholi\n",
      "Good Evening: Kholi\n",
      "Good Evening: Kholi\n",
      "Good Evening: Kholi\n",
      "Good Evening: Kholi\n",
      "Good Evening: Kholi\n"
     ]
    }
   ],
   "source": [
    "from threading import *\n",
    "import time\n",
    "l= Lock()\n",
    "def wish(name):\n",
    "    l.acquire()\n",
    "    for i in range(10):\n",
    "        print(\"Good Evening: \" ,end=\"\")\n",
    "        time.sleep(2)\n",
    "        print(name)\n",
    "    l.release()\n",
    "    \n",
    "t1= Thread(target= wish, args= (\"Dhoni\",))\n",
    "t2= Thread(target= wish, args= (\"Yuraj\",))\n",
    "t3= Thread(target= wish, args= (\"Kholi\",))\n",
    "    \n",
    "t1.start()\n",
    "t2.start()\n",
    "t3.start()\n"
   ]
  },
  {
   "cell_type": "markdown",
   "metadata": {},
   "source": [
    "#### B. RLock."
   ]
  },
  {
   "cell_type": "code",
   "execution_count": 35,
   "metadata": {},
   "outputs": [
    {
     "name": "stdout",
     "output_type": "stream",
     "text": [
      "Main thread trying to acquire lock:\n",
      "Main thread trying to acquire lock Again:\n"
     ]
    }
   ],
   "source": [
    "from threading import *\n",
    "l= RLock()\n",
    "print(\"Main thread trying to acquire lock:\")\n",
    "l.acquire()\n",
    "print(\"Main thread trying to acquire lock Again:\")\n",
    "l.acquire()\n",
    "l.release()\n",
    "l.release()\n"
   ]
  },
  {
   "cell_type": "code",
   "execution_count": 47,
   "metadata": {},
   "outputs": [
    {
     "name": "stdout",
     "output_type": "stream",
     "text": [
      "Factorial of the number is: 3628800\n",
      "Factorial of the number is: 120\n"
     ]
    }
   ],
   "source": [
    "from threading import *\n",
    "import time\n",
    "l= RLock()\n",
    "def factorial(number):\n",
    "    l.acquire()\n",
    "    if number==0:\n",
    "        result= 1\n",
    "    else: \n",
    "        result= number*factorial(number-1)\n",
    "    l.release()\n",
    "    return result\n",
    "\n",
    "def results(number):\n",
    "    print(\"Factorial of the number is:\", factorial(number))\n",
    "    \n",
    "\n",
    "t1= Thread(target= results, args=(10,))\n",
    "t2= Thread(target= results, args=(5,))\n",
    "\n",
    "t1.start()\n",
    "t2.start()\n",
    "    "
   ]
  },
  {
   "cell_type": "markdown",
   "metadata": {},
   "source": [
    "#### C. Semaphore()."
   ]
  },
  {
   "cell_type": "code",
   "execution_count": 48,
   "metadata": {},
   "outputs": [
    {
     "name": "stdout",
     "output_type": "stream",
     "text": [
      "Good Evening: Good Evening: Dhoni\n",
      "Good Evening: Yuraj\n",
      "Good Evening: Dhoni\n",
      "Good Evening: Yuraj\n",
      "Good Evening: Dhoni\n",
      "Good Evening: Yuraj\n",
      "Good Evening: Dhoni\n",
      "Good Evening: Yuraj\n",
      "Good Evening: Dhoni\n",
      "Good Evening: Yuraj\n",
      "Good Evening: Kholi\n",
      "Good Evening: Rohit\n",
      "Good Evening: Kholi\n",
      "Good Evening: Rohit\n",
      "Good Evening: Kholi\n",
      "Good Evening: Rohit\n",
      "Good Evening: Kholi\n",
      "Good Evening: Rohit\n",
      "Good Evening: Kholi\n",
      "Good Evening: Rohit\n",
      "David\n",
      "Good Evening: David\n",
      "Good Evening: David\n",
      "Good Evening: David\n",
      "Good Evening: David\n"
     ]
    }
   ],
   "source": [
    "from threading import *\n",
    "import time\n",
    "s= Semaphore(2)\n",
    "def wish(name):\n",
    "    s.acquire()\n",
    "    for i in range(5):\n",
    "        print(\"Good Evening: \" ,end=\"\")\n",
    "        time.sleep(2)\n",
    "        print(name)\n",
    "    s.release()\n",
    "    \n",
    "t1= Thread(target= wish, args= (\"Dhoni\",))\n",
    "t2= Thread(target= wish, args= (\"Yuraj\",))\n",
    "t3= Thread(target= wish, args= (\"Kholi\",))\n",
    "t4= Thread(target= wish, args= (\"Rohit\",))\n",
    "t5= Thread(target= wish, args= (\"David\",))\n",
    "\n",
    "t1.start()\n",
    "t2.start()\n",
    "t3.start()\n",
    "t4.start()\n",
    "t5.start()"
   ]
  },
  {
   "cell_type": "markdown",
   "metadata": {},
   "source": [
    "#### 12.Inter Thread Communication."
   ]
  },
  {
   "cell_type": "markdown",
   "metadata": {},
   "source": [
    "#### A. By using event objects."
   ]
  },
  {
   "cell_type": "code",
   "execution_count": 53,
   "metadata": {},
   "outputs": [
    {
     "name": "stdout",
     "output_type": "stream",
     "text": [
      "Consumer thread is waiting for updation: \n",
      "Producer thread producing items: \n",
      "Producer thread giving notification by setting event:\n",
      "Consumer thread got notified and consuming items: \n"
     ]
    }
   ],
   "source": [
    "from threading import *\n",
    "import time\n",
    "\n",
    "def producer():\n",
    "    time.sleep(4)\n",
    "    print(\"Producer thread producing items: \")\n",
    "    print(\"Producer thread giving notification by setting event:\")\n",
    "    event.set()\n",
    "    \n",
    "def consumer():\n",
    "    print(\"Consumer thread is waiting for updation: \")\n",
    "    event.wait()\n",
    "    print(\"Consumer thread got notified and consuming items: \")\n",
    "    event.set()\n",
    "    \n",
    "event= Event()\n",
    "t1= Thread(target= producer)\n",
    "t2= Thread(target= consumer)\n",
    "t1.start()\n",
    "t2.start()\n",
    "    "
   ]
  },
  {
   "cell_type": "markdown",
   "metadata": {},
   "source": [
    "#### B.By using queue."
   ]
  },
  {
   "cell_type": "code",
   "execution_count": 5,
   "metadata": {},
   "outputs": [
    {
     "name": "stdout",
     "output_type": "stream",
     "text": [
      "Consumer waiting for the updationProducer producing the item: 7\n",
      "Producer giving the notification\n",
      "\n",
      "Consumer consumed the item:  7\n",
      "Consumer waiting for the updation\n",
      "Producer producing the item: 4\n",
      "Producer giving the notification\n",
      "Consumer consumed the item:  4\n",
      "Producer producing the item:Consumer waiting for the updation 5\n",
      "\n",
      "Producer giving the notificationConsumer consumed the item: \n",
      " 5\n",
      "Producer producing the item:Consumer waiting for the updation\n",
      " 94\n",
      "Producer giving the notification\n",
      "Consumer consumed the item:  94\n",
      "Consumer waiting for the updationProducer producing the item: 3\n",
      "\n",
      "Producer giving the notification\n",
      "Consumer consumed the item:  3\n",
      "Producer producing the item:Consumer waiting for the updation\n",
      " 1\n",
      "Producer giving the notification\n",
      "Consumer consumed the item:  1\n",
      "Consumer waiting for the updationProducer producing the item: 5\n",
      "Producer giving the notification\n",
      "\n",
      "Consumer consumed the item:  5\n",
      "Producer producing the item:Consumer waiting for the updation\n",
      " 45\n",
      "Producer giving the notification\n",
      "Consumer consumed the item:  45\n",
      "Producer producing the item:Consumer waiting for the updation\n",
      " 7\n",
      "Producer giving the notification\n",
      "Consumer consumed the item:  7\n",
      "Producer producing the item:Consumer waiting for the updation \n",
      "3\n",
      "Producer giving the notification\n",
      "Consumer consumed the item:  3\n",
      "Producer producing the item:Consumer waiting for the updation 5\n",
      "\n",
      "Producer giving the notification\n",
      "Consumer consumed the item:  5\n",
      "Producer producing the item:Consumer waiting for the updation\n",
      " 79\n",
      "Producer giving the notification\n",
      "Consumer consumed the item:  79\n",
      "Consumer waiting for the updationProducer producing the item: \n",
      "7\n",
      "Producer giving the notification\n",
      "Consumer consumed the item:  7\n",
      "Producer producing the item:Consumer waiting for the updation\n",
      " 4\n",
      "Producer giving the notification\n",
      "Consumer consumed the item:  4\n",
      "Consumer waiting for the updationProducer producing the item: \n",
      "4\n",
      "Producer giving the notification\n",
      "Consumer consumed the item:  4\n",
      "Consumer waiting for the updationProducer producing the item:\n",
      " 66\n",
      "Producer giving the notificationConsumer consumed the item:  66\n",
      "\n",
      "Consumer waiting for the updationProducer producing the item: 1\n",
      "Producer giving the notification\n",
      "\n",
      "Consumer consumed the item:  1\n",
      "Producer producing the item:Consumer waiting for the updation\n",
      " 2\n",
      "Producer giving the notification\n",
      "Consumer consumed the item:  2\n",
      "Producer producing the item:Consumer waiting for the updation 4\n",
      "Producer giving the notification\n",
      "\n",
      "Consumer consumed the item:  4\n",
      "Consumer waiting for the updationProducer producing the item:\n",
      " 76\n",
      "Producer giving the notification\n",
      "Consumer consumed the item:  76\n",
      "Producer producing the item:Consumer waiting for the updation \n",
      "6\n",
      "Producer giving the notification\n",
      "Consumer consumed the item:  6\n",
      "Producer producing the item:Consumer waiting for the updation 3\n",
      "Producer giving the notification\n",
      "\n",
      "Consumer consumed the item:  3\n",
      "Producer producing the item:Consumer waiting for the updation\n",
      " 1\n",
      "Producer giving the notification\n",
      "Consumer consumed the item:  1\n",
      "Consumer waiting for the updationProducer producing the item:\n",
      " 81\n",
      "Producer giving the notification\n",
      "Consumer consumed the item:  81\n",
      "Consumer waiting for the updationProducer producing the item: \n",
      "8\n",
      "Producer giving the notification\n",
      "Consumer consumed the item:  8\n",
      "Producer producing the item:Consumer waiting for the updation \n",
      "2\n",
      "Producer giving the notification\n",
      "Consumer consumed the item:  2\n",
      "Producer producing the item:Consumer waiting for the updation\n",
      " 4\n",
      "Producer giving the notification\n",
      "Consumer consumed the item:  4\n",
      "Producer producing the item:Consumer waiting for the updation\n",
      " 71\n",
      "Producer giving the notification\n",
      "Consumer consumed the item:  71\n",
      "Consumer waiting for the updationProducer producing the item: 10\n",
      "Producer giving the notification\n",
      "\n",
      "Consumer consumed the item:  10\n",
      "Consumer waiting for the updationProducer producing the item: \n",
      "3\n",
      "Producer giving the notification\n",
      "Consumer consumed the item:  3\n",
      "Producer producing the item:Consumer waiting for the updation\n",
      " 1\n",
      "Producer giving the notificationConsumer consumed the item:  1\n",
      "\n",
      "Consumer waiting for the updationProducer producing the item: 6\n",
      "Producer giving the notification\n",
      "\n",
      "Consumer consumed the item:  6\n",
      "Consumer waiting for the updationProducer producing the item:\n",
      " 5\n",
      "Producer giving the notification\n",
      "Consumer consumed the item:  5\n",
      "Consumer waiting for the updationProducer producing the item: \n",
      "1\n",
      "Producer giving the notification\n",
      "Consumer consumed the item:  1\n",
      "Consumer waiting for the updationProducer producing the item: \n",
      "5\n",
      "Producer giving the notificationConsumer consumed the item:  \n",
      "5\n",
      "Producer producing the item:Consumer waiting for the updation 87\n",
      "Producer giving the notification\n",
      "\n",
      "Consumer consumed the item:  87\n",
      "Consumer waiting for the updationProducer producing the item: 9\n",
      "Producer giving the notification\n",
      "\n",
      "Consumer consumed the item:  9\n",
      "Consumer waiting for the updationProducer producing the item: 5\n",
      "Producer giving the notification\n",
      "\n",
      "Consumer consumed the item:  5\n",
      "Producer producing the item:Consumer waiting for the updation 4\n",
      "Producer giving the notification\n",
      "\n",
      "Consumer consumed the item:  4\n",
      "Producer producing the item:Consumer waiting for the updation\n",
      " 51\n",
      "Producer giving the notification\n",
      "Consumer consumed the item:  51\n",
      "Consumer waiting for the updationProducer producing the item: 1\n",
      "Producer giving the notification\n",
      "\n",
      "Consumer consumed the item:  1\n",
      "Consumer waiting for the updationProducer producing the item: 4\n",
      "Producer giving the notification\n",
      "\n",
      "Consumer consumed the item:  4\n",
      "Producer producing the item:Consumer waiting for the updation\n",
      " 2\n",
      "Producer giving the notification\n",
      "Consumer consumed the item:  2\n",
      "Consumer waiting for the updationProducer producing the item:\n",
      " 94\n",
      "Producer giving the notification\n",
      "Consumer consumed the item:  94\n",
      "Consumer waiting for the updationProducer producing the item: 10\n",
      "Producer giving the notification\n",
      "\n",
      "Consumer consumed the item:  10\n",
      "Consumer waiting for the updationProducer producing the item: \n",
      "4\n",
      "Producer giving the notificationConsumer consumed the item: \n",
      " 4\n",
      "Consumer waiting for the updation\n",
      "Producer producing the item: 5\n",
      "Producer giving the notificationConsumer consumed the item: \n",
      " 5\n",
      "Consumer waiting for the updationProducer producing the item: 24\n",
      "Producer giving the notification\n",
      "\n",
      "Consumer consumed the item:  24\n",
      "Producer producing the item:Consumer waiting for the updation \n",
      "7\n",
      "Producer giving the notificationConsumer consumed the item:  \n",
      "7\n",
      "Consumer waiting for the updationProducer producing the item: \n",
      "4\n",
      "Producer giving the notificationConsumer consumed the item: \n",
      " 4\n",
      "Producer producing the item:Consumer waiting for the updation 5\n",
      "Producer giving the notification\n",
      "\n",
      "Consumer consumed the item:  5\n",
      "Producer producing the item:Consumer waiting for the updation\n",
      " 77\n",
      "Producer giving the notification\n",
      "Consumer consumed the item:  77\n",
      "Producer producing the item:Consumer waiting for the updation\n",
      " 3\n",
      "Producer giving the notification\n",
      "Consumer consumed the item:  3\n",
      "Consumer waiting for the updationProducer producing the item: \n",
      "3\n",
      "Producer giving the notification\n",
      "Consumer consumed the item:  3\n",
      "Consumer waiting for the updationProducer producing the item: 2\n",
      "Producer giving the notification\n",
      "\n",
      "Consumer consumed the item:  2\n"
     ]
    }
   ],
   "source": [
    "import queue\n",
    "from threading import *\n",
    "import time\n",
    "import random\n",
    "\n",
    "def produce(q):\n",
    "    while True:\n",
    "        item= random.randint(1,5)\n",
    "        print('Producer producing the item:' ,item)\n",
    "        q.put(item)\n",
    "        print('Producer giving the notification')\n",
    "        time.sleep(2)\n",
    "        \n",
    "        \n",
    "def consumer(q):\n",
    "    while True:\n",
    "        print('Consumer waiting for the updation')\n",
    "        print('Consumer consumed the item: ',q.get())\n",
    "        time.sleep(2)\n",
    "        \n",
    "q=queue.Queue()\n",
    "t1= Thread(target=consumer, args=(q,))\n",
    "t2= Thread(target= produce, args=(q,))\n",
    "t1.start()\n",
    "t2.start()\n"
   ]
  },
  {
   "cell_type": "markdown",
   "metadata": {},
   "source": [
    "#### C. Types of Queues"
   ]
  },
  {
   "cell_type": "markdown",
   "metadata": {},
   "source": [
    "#### 1.Fifo Queue"
   ]
  },
  {
   "cell_type": "code",
   "execution_count": 2,
   "metadata": {},
   "outputs": [
    {
     "name": "stdout",
     "output_type": "stream",
     "text": [
      "10 12 13 14 15 16 "
     ]
    }
   ],
   "source": [
    "import queue\n",
    "q= queue.Queue()\n",
    "q.put(10)\n",
    "q.put(12)\n",
    "q.put(13)\n",
    "q.put(14)\n",
    "q.put(15)\n",
    "q.put(16)\n",
    "\n",
    "while not q.empty():\n",
    "    print(q.get(), end=' ')"
   ]
  },
  {
   "cell_type": "markdown",
   "metadata": {},
   "source": [
    "#### 2. Lifo Queue"
   ]
  },
  {
   "cell_type": "code",
   "execution_count": 3,
   "metadata": {},
   "outputs": [
    {
     "name": "stdout",
     "output_type": "stream",
     "text": [
      "16 15 14 13 12 10 "
     ]
    }
   ],
   "source": [
    "import queue\n",
    "q= queue.LifoQueue()\n",
    "q.put(10)\n",
    "q.put(12)\n",
    "q.put(13)\n",
    "q.put(14)\n",
    "q.put(15)\n",
    "q.put(16)\n",
    "\n",
    "while not q.empty():\n",
    "    print(q.get(), end=' ')"
   ]
  },
  {
   "cell_type": "markdown",
   "metadata": {},
   "source": [
    "#### 3.Priority Queue"
   ]
  },
  {
   "cell_type": "code",
   "execution_count": 5,
   "metadata": {},
   "outputs": [
    {
     "name": "stdout",
     "output_type": "stream",
     "text": [
      "1 5 10 14 15 16 "
     ]
    }
   ],
   "source": [
    "import queue\n",
    "q= queue.PriorityQueue()\n",
    "q.put(10)\n",
    "q.put(5)\n",
    "q.put(1)\n",
    "q.put(14)\n",
    "q.put(15)\n",
    "q.put(16)\n",
    "\n",
    "while not q.empty():\n",
    "    print(q.get(), end=' ')"
   ]
  },
  {
   "cell_type": "code",
   "execution_count": 8,
   "metadata": {},
   "outputs": [
    {
     "name": "stdout",
     "output_type": "stream",
     "text": [
      "ABC CCC DDD FFF "
     ]
    }
   ],
   "source": [
    "# Priority Queue based on non numeric data\n",
    "\n",
    "import queue\n",
    "q= queue.PriorityQueue()\n",
    "q.put((1, 'ABC'))\n",
    "q.put((2, 'CCC'))\n",
    "q.put((3, 'DDD'))\n",
    "q.put((4, 'FFF'))\n",
    "\n",
    "while not q.empty():\n",
    "    print(q.get()[1], end=' ')\n"
   ]
  },
  {
   "cell_type": "markdown",
   "metadata": {},
   "source": [
    "#### 13.Good programming practices with usage of locks ."
   ]
  },
  {
   "cell_type": "markdown",
   "metadata": {},
   "source": [
    "#### 1.Case-1."
   ]
  },
  {
   "cell_type": "code",
   "execution_count": 11,
   "metadata": {},
   "outputs": [
    {
     "name": "stdout",
     "output_type": "stream",
     "text": [
      "\n",
      "\n",
      "Good Evening : Dhoni..\n",
      "Good Evening : Dhoni..\n",
      "Good Evening : Dhoni..\n",
      "Good Evening : kholi..\n",
      "Good Evening : kholi..\n",
      "Good Evening : kholi..\n",
      "Good Evening : Dham..\n",
      "Good Evening : Dham..\n",
      "Good Evening : Dham..\n"
     ]
    }
   ],
   "source": [
    "from threading import *\n",
    "import time\n",
    "l= Lock()\n",
    "def wish(name):\n",
    "    l.acquire()\n",
    "    try:\n",
    "        for i in range(3):\n",
    "            print('Good Evening :', end=\" \")\n",
    "            time.sleep(2)\n",
    "            print(name)\n",
    "            \n",
    "    finally:\n",
    "        l.release()\n",
    "        \n",
    "t1= Thread(target= wish,args=('Dhoni..',))\n",
    "print()\n",
    "t2= Thread(target= wish,args=('kholi..',))\n",
    "print()\n",
    "t3= Thread(target= wish,args=('Dham..',))\n",
    "\n",
    "t1.start()\n",
    "t2.start()\n",
    "t3.start()\n",
    "            "
   ]
  },
  {
   "cell_type": "markdown",
   "metadata": {},
   "source": [
    "#### 2.Case-2. "
   ]
  },
  {
   "cell_type": "code",
   "execution_count": 14,
   "metadata": {},
   "outputs": [
    {
     "name": "stdout",
     "output_type": "stream",
     "text": [
      "Good Evening : Dhoni..\n",
      "Good Evening : Dhoni..\n",
      "Good Evening : Dhoni..\n",
      "Good Evening : kholi..\n",
      "Good Evening : kholi..\n",
      "Good Evening : kholi..\n",
      "Good Evening : Dham..\n",
      "Good Evening : Dham..\n",
      "Good Evening : Dham..\n"
     ]
    }
   ],
   "source": [
    "# by using with statement\n",
    "\n",
    "from threading import *\n",
    "import time\n",
    "lock= Lock()\n",
    "def wish(name):\n",
    "    with lock:\n",
    "        for i in range(3):\n",
    "            print('Good Evening :', end=\" \")\n",
    "            time.sleep(2)\n",
    "            print(name)\n",
    "            \n",
    "   \n",
    "        \n",
    "t1= Thread(target= wish,args=('Dhoni..',))\n",
    "t2= Thread(target= wish,args=('kholi..',))\n",
    "t3= Thread(target= wish,args=('Dham..',))\n",
    "\n",
    "t1.start()\n",
    "t2.start()\n",
    "t3.start()\n",
    "         "
   ]
  },
  {
   "cell_type": "code",
   "execution_count": null,
   "metadata": {},
   "outputs": [],
   "source": []
  },
  {
   "cell_type": "code",
   "execution_count": null,
   "metadata": {},
   "outputs": [],
   "source": []
  },
  {
   "cell_type": "code",
   "execution_count": null,
   "metadata": {},
   "outputs": [],
   "source": []
  },
  {
   "cell_type": "code",
   "execution_count": null,
   "metadata": {},
   "outputs": [],
   "source": []
  },
  {
   "cell_type": "code",
   "execution_count": null,
   "metadata": {},
   "outputs": [],
   "source": []
  }
 ],
 "metadata": {
  "kernelspec": {
   "display_name": "Python 3",
   "language": "python",
   "name": "python3"
  },
  "language_info": {
   "codemirror_mode": {
    "name": "ipython",
    "version": 3
   },
   "file_extension": ".py",
   "mimetype": "text/x-python",
   "name": "python",
   "nbconvert_exporter": "python",
   "pygments_lexer": "ipython3",
   "version": "3.8.5"
  }
 },
 "nbformat": 4,
 "nbformat_minor": 4
}
