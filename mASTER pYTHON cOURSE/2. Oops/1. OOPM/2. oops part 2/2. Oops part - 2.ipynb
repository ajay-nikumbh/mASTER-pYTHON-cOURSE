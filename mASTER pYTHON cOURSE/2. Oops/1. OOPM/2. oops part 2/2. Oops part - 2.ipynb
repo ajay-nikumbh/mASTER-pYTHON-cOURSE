{
 "cells": [
  {
   "cell_type": "markdown",
   "metadata": {},
   "source": [
    "#### <center>1. Using members of one class inside another class</center>\n",
    "#### We can use members of one class inside another class by using the following ways\n",
    "#### 1. By Composition (Has-A Relationship)\n",
    "#### 2. By Inheritance (IS-A Relationship)"
   ]
  },
  {
   "cell_type": "markdown",
   "metadata": {},
   "source": [
    "#### <center>1. By Composition (Has-A Relationship)</center>\n",
    "#### By using Class Name or by creating object we can access members of one class inside another class is nothing but composition (Has-A Relationship).\n",
    "#### The main advantage of Has-A Relationship is Code Reusability"
   ]
  },
  {
   "cell_type": "code",
   "execution_count": 1,
   "metadata": {},
   "outputs": [
    {
     "name": "stdout",
     "output_type": "stream",
     "text": [
      "Car using Engine Class Functionality\n",
      "10\n",
      "20\n",
      "Engine Specific Functionality\n"
     ]
    }
   ],
   "source": [
    "class Engine:\n",
    "    a=10\n",
    "    \n",
    "    def __init__(self):\n",
    "        self.b=20\n",
    "\n",
    "    def m1(self):\n",
    "        print('Engine Specific Functionality')\n",
    "\n",
    "class Car:\n",
    "    def __init__(self):\n",
    "        self.engine=Engine()\n",
    "\n",
    "    def m2(self):\n",
    "        print('Car using Engine Class Functionality')\n",
    "        print(self.engine.a)\n",
    "        print(self.engine.b)\n",
    "        self.engine.m1()\n",
    "c=Car()\n",
    "c.m2() "
   ]
  },
  {
   "cell_type": "code",
   "execution_count": 2,
   "metadata": {},
   "outputs": [
    {
     "name": "stdout",
     "output_type": "stream",
     "text": [
      "Employee Name: Durga\n",
      "Employee Number: 10000\n",
      "Employee Car Info:\n",
      "Car Name:Innova , Model:2.5V and Color:Grey\n"
     ]
    }
   ],
   "source": [
    "class Car:\n",
    "    def __init__(self,name,model,color):\n",
    "        self.name=name\n",
    "        self.model=model\n",
    "        self.color=color\n",
    "\n",
    "    def getinfo(self): \n",
    "        print(\"Car Name:{} , Model:{} and Color:{}\".format(self.name,self.model,self.color)) \n",
    "    \n",
    "class Employee:\n",
    "    def __init__(self,ename,eno,car):\n",
    "        self.ename=ename\n",
    "        self.eno=eno\n",
    "        self.car=car\n",
    "\n",
    "    def empinfo(self):\n",
    "        print(\"Employee Name:\",self.ename)\n",
    "        print(\"Employee Number:\",self.eno)\n",
    "        print(\"Employee Car Info:\")\n",
    "        self.car.getinfo()\n",
    "\n",
    "c=Car(\"Innova\",\"2.5V\",\"Grey\")\n",
    "e=Employee('Durga',10000,c)\n",
    "e.empinfo()"
   ]
  },
  {
   "cell_type": "markdown",
   "metadata": {},
   "source": [
    "#### In the above program Employee class Has-A Car reference and hence Employee class can access all members of Car class."
   ]
  },
  {
   "cell_type": "code",
   "execution_count": 3,
   "metadata": {},
   "outputs": [
    {
     "name": "stdout",
     "output_type": "stream",
     "text": [
      "10\n",
      "20\n",
      "m1 method of X class\n",
      "30\n",
      "40\n",
      "m2 method of Y class\n",
      "m3 method of Y class\n"
     ]
    }
   ],
   "source": [
    "class X:\n",
    "    a=10\n",
    "    \n",
    "    def __init__(self):\n",
    "        self.b=20\n",
    "\n",
    "    def m1(self):\n",
    "        print(\"m1 method of X class\")\n",
    "\n",
    "class Y:\n",
    "    c=30\n",
    "    \n",
    "    def __init__(self):\n",
    "        self.d=40\n",
    "\n",
    "    def m2(self):\n",
    "        print(\"m2 method of Y class\")\n",
    "        \n",
    "    def m3(self):\n",
    "        x1=X()\n",
    "        print(x1.a)\n",
    "        print(x1.b)\n",
    "        x1.m1()\n",
    "        print(Y.c)\n",
    "        print(self.d)\n",
    "        self.m2()\n",
    "        print(\"m3 method of Y class\")\n",
    "y1=Y() \n",
    "y1.m3() "
   ]
  },
  {
   "cell_type": "markdown",
   "metadata": {},
   "source": [
    "#### <center>2. By Inheritance(IS-A Relationship)</center>\n",
    "#### What ever variables, methods and constructors available in the parent class by default available to the child classes and we are not required to rewrite. Hence the main advantage of inheritance is\n",
    "#### Code Reusability and we can extend existing functionality with some more extra functionality.\n",
    "#### Syntax : class childclass(parentclass)\n"
   ]
  },
  {
   "cell_type": "code",
   "execution_count": 4,
   "metadata": {},
   "outputs": [
    {
     "name": "stdout",
     "output_type": "stream",
     "text": [
      "10\n",
      "10\n",
      "Parent instance method\n",
      "Parent class method\n",
      "Parent static method\n"
     ]
    }
   ],
   "source": [
    "class P:\n",
    "    a=10\n",
    "    \n",
    "    def __init__(self):\n",
    "        self.b=10\n",
    "\n",
    "    def m1(self):\n",
    "        print('Parent instance method')\n",
    "\n",
    "    @classmethod\n",
    "    def m2(cls):\n",
    "        print('Parent class method')\n",
    "\n",
    "    @staticmethod\n",
    "    def m3():\n",
    "        print('Parent static method')\n",
    "\n",
    "class C(P):\n",
    "    pass\n",
    "\n",
    "c=C()\n",
    "print(c.a)\n",
    "print(c.b)\n",
    "c.m1()\n",
    "c.m2()\n",
    "c.m3() "
   ]
  },
  {
   "cell_type": "markdown",
   "metadata": {},
   "source": [
    "#### Eg:\n",
    "#### class P:\n",
    "#### 10 methods\n",
    "#### class C(P):\n",
    "#### 5 methods\n",
    "#### In the above example Parent class contains 10 methods and these methods automatically available to the child class and we are not required to rewrite those methods(Code Reusability)\n",
    "#### Hence child class contains 15 methods.\n",
    "#### Note: What ever members present in Parent class are by default available to the child class through inheritance.\n"
   ]
  },
  {
   "cell_type": "code",
   "execution_count": 5,
   "metadata": {},
   "outputs": [
    {
     "name": "stdout",
     "output_type": "stream",
     "text": [
      "Parent class method\n",
      "Child class method\n"
     ]
    }
   ],
   "source": [
    "class P:\n",
    "    def m1(self):\n",
    "        print(\"Parent class method\")\n",
    "\n",
    "class C(P):\n",
    "    def m2(self):\n",
    "        print(\"Child class method\")\n",
    "\n",
    "c=C();\n",
    "c.m1()\n",
    "c.m2() "
   ]
  },
  {
   "cell_type": "markdown",
   "metadata": {},
   "source": [
    "#### What ever methods present in Parent class are automatically available to the child class and hence on the child class reference we can call both parent class methods and child class methods."
   ]
  },
  {
   "cell_type": "markdown",
   "metadata": {},
   "source": [
    "#### Similarly variables also"
   ]
  },
  {
   "cell_type": "code",
   "execution_count": 9,
   "metadata": {},
   "outputs": [
    {
     "name": "stdout",
     "output_type": "stream",
     "text": [
      "10 20 30 30\n"
     ]
    }
   ],
   "source": [
    "class P:\n",
    "    a=10\n",
    "    \n",
    "    def __init__(self):\n",
    "        self.b=20\n",
    "\n",
    "class C(P):\n",
    "    c=30\n",
    "    \n",
    "    def __init__(self):\n",
    "        super().__init__()#===>Line-1 \n",
    "        self.d=30\n",
    "\n",
    "c1=C()\n",
    "print(c1.a,c1.b,c1.c,c1.d)"
   ]
  },
  {
   "cell_type": "markdown",
   "metadata": {},
   "source": [
    "#### If we comment Line-1 then variable b is not available to the child class."
   ]
  },
  {
   "cell_type": "markdown",
   "metadata": {},
   "source": [
    "#### Demo program for inheritance"
   ]
  },
  {
   "cell_type": "code",
   "execution_count": 10,
   "metadata": {},
   "outputs": [
    {
     "name": "stdout",
     "output_type": "stream",
     "text": [
      "Eat Biryani and Drink Beer\n",
      "Coding Python is very easy just like drinking Chilled Beer\n",
      "Employee Name: Durga\n",
      "Employee Age: 48\n",
      "Employee Number: 100\n",
      "Employee Salary: 10000\n"
     ]
    }
   ],
   "source": [
    "class Person:\n",
    "    def __init__(self,name,age):\n",
    "        self.name=name\n",
    "        self.age=age\n",
    " \n",
    "    def eatndrink(self):\n",
    "        print('Eat Biryani and Drink Beer')\n",
    "\n",
    "class Employee(Person):\n",
    "    def __init__(self,name,age,eno,esal):\n",
    "        super().__init__(name,age)\n",
    "        self.eno=eno\n",
    "        self.esal=esal\n",
    "\n",
    "    def work(self):\n",
    "        print(\"Coding Python is very easy just like drinking Chilled Beer\")\n",
    "\n",
    "    def empinfo(self):\n",
    "        print(\"Employee Name:\",self.name)\n",
    "        print(\"Employee Age:\",self.age)\n",
    "        print(\"Employee Number:\",self.eno)\n",
    "        print(\"Employee Salary:\",self.esal)\n",
    "\n",
    "e=Employee('Durga', 48, 100, 10000)\n",
    "e.eatndrink()\n",
    "e.work()\n",
    "e.empinfo()"
   ]
  },
  {
   "cell_type": "markdown",
   "metadata": {},
   "source": [
    "#### <center>2. IS-A vs HAS-A Relationship</center>\n",
    "#### If we want to extend existing functionality with some more extra functionality then we should go for IS-A Relationship\n",
    "#### If we dont want to extend and just we have to use existing functionality then we should go for HAS-A Relationship\n",
    "#### Eg: Employee class extends Person class Functionality But Employee class just uses Car functionality but not extending"
   ]
  },
  {
   "cell_type": "code",
   "execution_count": 12,
   "metadata": {},
   "outputs": [
    {
     "name": "stdout",
     "output_type": "stream",
     "text": [
      "Eat Biryani and Drink Beer\n",
      "Coding Python is very easy just like drinking Chilled Beer\n",
      "Employee Name: Durga\n",
      "Employee Age: 48\n",
      "Employee Number: 100\n",
      "Employee Salary: 10000\n",
      "Employee Car Info:\n",
      "\tCar Name:Innova \n",
      "\t Model:2.5V \n",
      "\t Color:Grey\n"
     ]
    }
   ],
   "source": [
    "class Car:\n",
    "    def __init__(self,name,model,color):\n",
    "        self.name=name\n",
    "        self.model=model\n",
    "        self.color=color\n",
    "\n",
    "    def getinfo(self):\n",
    "         print(\"\\tCar Name:{} \\n\\t Model:{} \\n\\t Color:{}\".format(self.name,self.model,self.color))\n",
    "\n",
    "class Person:\n",
    "    def __init__(self,name,age):\n",
    "        self.name=name\n",
    "        self.age=age\n",
    "\n",
    "    def eatndrink(self):\n",
    "        print('Eat Biryani and Drink Beer')\n",
    "\n",
    "class Employee(Person):\n",
    "    def __init__(self,name,age,eno,esal,car):\n",
    "        super().__init__(name,age)\n",
    "        self.eno=eno\n",
    "        self.esal=esal\n",
    "        self.car=car\n",
    "\n",
    "    def work(self):\n",
    "         print(\"Coding Python is very easy just like drinking Chilled Beer\")\n",
    "\n",
    "    def empinfo(self): \n",
    "        print(\"Employee Name:\",self.name)\n",
    "        print(\"Employee Age:\",self.age)\n",
    "        print(\"Employee Number:\",self.eno)\n",
    "        print(\"Employee Salary:\",self.esal)\n",
    "        print(\"Employee Car Info:\")\n",
    "        self.car.getinfo()\n",
    "\n",
    "c=Car(\"Innova\",\"2.5V\",\"Grey\")\n",
    "e=Employee('Durga',48,100,10000,c)\n",
    "e.eatndrink()\n",
    "e.work()\n",
    "e.empinfo() "
   ]
  },
  {
   "cell_type": "markdown",
   "metadata": {},
   "source": [
    "#### In the above example Employee class extends Person class functionality but just uses Car class functionality."
   ]
  },
  {
   "cell_type": "markdown",
   "metadata": {},
   "source": [
    "#### <center>3. Composition vs Aggregation</center>\n",
    "#### <center>Composition</center>\n",
    "#### Without existing container object if there is no chance of existing contained object then the container and contained objects are strongly associated and that strong association is nothing but composition\n",
    "#### Eg: University contains several Departments and without existing university object there is no chance of existing Department object. Hence University and Department objects are strongly associated and this strong association is nothing but Composition."
   ]
  },
  {
   "cell_type": "markdown",
   "metadata": {},
   "source": [
    "#### <center>Aggregation</center>\n",
    "#### Without existing container object if there is a chance of existing contained object then the container and contained objects are weakly associated and that weak association is nothing but Aggregation.\n",
    "#### Eg: Department contains several Professors. Without existing Department still there may be a chance of existing Professor. Hence Department and Professor objects are weakly associated, which is nothing but Aggregation."
   ]
  },
  {
   "cell_type": "markdown",
   "metadata": {},
   "source": [
    "#### Coding Example"
   ]
  },
  {
   "cell_type": "code",
   "execution_count": 13,
   "metadata": {},
   "outputs": [
    {
     "name": "stdout",
     "output_type": "stream",
     "text": [
      "DURGASOFT\n",
      "Durga\n"
     ]
    }
   ],
   "source": [
    "class Student:\n",
    "    collegeName='DURGASOFT'\n",
    "    \n",
    "    def __init__(self,name):\n",
    "        self.name=name\n",
    "        print(Student.collegeName)\n",
    "\n",
    "s=Student('Durga')\n",
    "print(s.name) "
   ]
  },
  {
   "cell_type": "markdown",
   "metadata": {},
   "source": [
    "#### In the above example without existing Student object there is no chance of existing his name.\n",
    "#### Hence Student Object and his name are strongly associated which is nothing but Composition.\n",
    "#### But without existing Student object there may be a chance of existing collegeName. \n",
    "#### Hence Student object and collegeName are weakly associated which is nothing but Aggregation.\n",
    "#### Conclusion: The relation between object and its instance variables is always Composition where as the relation between object and static variables is Aggregation."
   ]
  },
  {
   "cell_type": "markdown",
   "metadata": {},
   "source": [
    "#### Note: Whenever we are creating child class object then child class constructor will be executed. \n",
    "#### If the child class does not contain constructor then parent class constructor will be executed, but parent object won't be created."
   ]
  },
  {
   "cell_type": "code",
   "execution_count": 14,
   "metadata": {},
   "outputs": [
    {
     "name": "stdout",
     "output_type": "stream",
     "text": [
      "2044093701184\n",
      "2044093701184\n"
     ]
    }
   ],
   "source": [
    "class P:\n",
    "    def __init__(self):\n",
    "        print(id(self))\n",
    "\n",
    "class C(P):\n",
    "    pass\n",
    "c=C()\n",
    "print(id(c)) "
   ]
  },
  {
   "cell_type": "code",
   "execution_count": 15,
   "metadata": {},
   "outputs": [
    {
     "name": "stdout",
     "output_type": "stream",
     "text": [
      "Name=durga\n",
      "Age=48\n",
      "Rollno=101\n",
      "Marks=90\n"
     ]
    }
   ],
   "source": [
    "class Person:\n",
    "    def __init__(self,name,age):\n",
    "        self.name=name\n",
    "        self.age=age\n",
    "\n",
    "class Student(Person):\n",
    "    def __init__(self,name,age,rollno,marks):\n",
    "        super().__init__(name,age)\n",
    "        self.rollno=rollno\n",
    "        self.marks=marks\n",
    " \n",
    "    def __str__(self):\n",
    "        return 'Name={}\\nAge={}\\nRollno={}\\nMarks={}'.format(self.name,self.age,self.rollno,self.marks)\n",
    " \n",
    "s1=Student('durga',48,101,90)\n",
    "print(s1) "
   ]
  },
  {
   "cell_type": "markdown",
   "metadata": {},
   "source": [
    "#### Note: In the above example when ever we are creating child class object both parent and child class constructors got executed to perform initialization of child object"
   ]
  },
  {
   "cell_type": "markdown",
   "metadata": {},
   "source": [
    "#### <center>4. Types of Inheritance</center>"
   ]
  },
  {
   "cell_type": "markdown",
   "metadata": {},
   "source": [
    "#### <center>1. Single Inheritance</center>\n",
    "#### The concept of inheriting the properties from one class to another class is known as single inheritance."
   ]
  },
  {
   "cell_type": "code",
   "execution_count": 16,
   "metadata": {},
   "outputs": [
    {
     "name": "stdout",
     "output_type": "stream",
     "text": [
      "Parent Method\n",
      "Child Method\n"
     ]
    }
   ],
   "source": [
    "class P:\n",
    "    def m1(self):\n",
    "        print(\"Parent Method\")\n",
    "\n",
    "class C(P):\n",
    "    def m2(self):\n",
    "        print(\"Child Method\")\n",
    " \n",
    "c=C()\n",
    "c.m1()\n",
    "c.m2()"
   ]
  },
  {
   "cell_type": "markdown",
   "metadata": {},
   "source": [
    "#### <center>2. Multi Level Inheritance</center>\n",
    "#### The concept of inheriting the properties from multiple classes to single class with the concept of one after another is known as multilevel inheritance\n"
   ]
  },
  {
   "cell_type": "code",
   "execution_count": 17,
   "metadata": {},
   "outputs": [
    {
     "name": "stdout",
     "output_type": "stream",
     "text": [
      "Parent Method\n",
      "Child Method\n",
      "Sub Child Method\n"
     ]
    }
   ],
   "source": [
    "class P:\n",
    "    def m1(self):\n",
    "        print(\"Parent Method\")\n",
    "\n",
    "class C(P):\n",
    "    def m2(self):\n",
    "        print(\"Child Method\")\n",
    "        \n",
    "class CC(C):\n",
    "    def m3(self):\n",
    "        print(\"Sub Child Method\")\n",
    " \n",
    "c=CC()\n",
    "c.m1()\n",
    "c.m2()\n",
    "c.m3()"
   ]
  },
  {
   "cell_type": "markdown",
   "metadata": {},
   "source": [
    "#### <center>3. Hierarchical Inheritance</center>\n",
    "#### The concept of inheriting properties from one class into multiple classes which are present at same level is known as Hierarchical Inheritance"
   ]
  },
  {
   "cell_type": "code",
   "execution_count": 18,
   "metadata": {},
   "outputs": [
    {
     "name": "stdout",
     "output_type": "stream",
     "text": [
      "Parent Method\n",
      "Child1 Method\n",
      "Parent Method\n",
      "Child2 Method\n"
     ]
    }
   ],
   "source": [
    "class P:\n",
    "    def m1(self):\n",
    "        print(\"Parent Method\")\n",
    "\n",
    "class C1(P):\n",
    "    def m2(self):\n",
    "        print(\"Child1 Method\")\n",
    "\n",
    "class C2(P):\n",
    "    def m3(self):\n",
    "        print(\"Child2 Method\")\n",
    " \n",
    "c1=C1()\n",
    "c1.m1()\n",
    "c1.m2()\n",
    "c2=C2()\n",
    "c2.m1()\n",
    "c2.m3()"
   ]
  },
  {
   "cell_type": "markdown",
   "metadata": {},
   "source": [
    "#### <center>4. Multiple Inheritance</center>\n",
    "#### The concept of inheriting the properties from multiple classes into a single class at a time, is known as multiple inheritance.\n"
   ]
  },
  {
   "cell_type": "code",
   "execution_count": 19,
   "metadata": {},
   "outputs": [
    {
     "name": "stdout",
     "output_type": "stream",
     "text": [
      "Parent1 Method\n",
      "Parent2 Method\n",
      "Child2 Method\n"
     ]
    }
   ],
   "source": [
    "class P1:\n",
    "    def m1(self):\n",
    "        print(\"Parent1 Method\")\n",
    "\n",
    "class P2:\n",
    "    def m2(self):\n",
    "        print(\"Parent2 Method\")\n",
    "\n",
    "class C(P1,P2):\n",
    "    def m3(self):\n",
    "        print(\"Child2 Method\")\n",
    "c=C()\n",
    "c.m1()\n",
    "c.m2()\n",
    "c.m3()"
   ]
  },
  {
   "cell_type": "markdown",
   "metadata": {},
   "source": [
    "#### If the same method is inherited from both parent classes,then Python will always consider the order of Parent classes in the declaration of the child class.\n",
    "#### class C(P1,P2): ===>P1 method will be considered\n",
    "#### class C(P2,P1): ===>P2 method will be considered"
   ]
  },
  {
   "cell_type": "code",
   "execution_count": 20,
   "metadata": {},
   "outputs": [
    {
     "name": "stdout",
     "output_type": "stream",
     "text": [
      "Parent1 Method\n",
      "Child Method\n"
     ]
    }
   ],
   "source": [
    "class P1:\n",
    "        def m1(self):\n",
    "             print(\"Parent1 Method\")\n",
    "    \n",
    "class P2:\n",
    "    def m1(self):\n",
    "        print(\"Parent2 Method\")\n",
    "\n",
    "class C(P1,P2):\n",
    "    def m2(self):\n",
    "        print(\"Child Method\")\n",
    " \n",
    "c=C()\n",
    "c.m1()\n",
    "c.m2() "
   ]
  },
  {
   "cell_type": "markdown",
   "metadata": {},
   "source": [
    "#### <center>5. Hybrid Inheritance</center>\n",
    "#### Combination of Single, Multi level, multiple and Hierarchical inheritance is known as Hybrid Inheritance."
   ]
  },
  {
   "cell_type": "markdown",
   "metadata": {},
   "source": [
    "#### <center>6. Cyclic Inheritance</center>\n",
    "#### The concept of inheriting properties from one class to another class in cyclic way, is called Cyclic inheritance.Python won't support for Cyclic Inheritance of course it is really not required.\n",
    "\n",
    "#### Eg - 1: class A(A):pass\n",
    "#### NameError: name 'A' is not defined\n"
   ]
  },
  {
   "cell_type": "markdown",
   "metadata": {},
   "source": [
    "#### <center>5. super() Method </center>\n",
    "#### super() is a built-in method which is useful to call the super class constructors,variables and methods from the child class."
   ]
  },
  {
   "cell_type": "code",
   "execution_count": 21,
   "metadata": {},
   "outputs": [
    {
     "name": "stdout",
     "output_type": "stream",
     "text": [
      "Name: Durga\n",
      "Age: 22\n",
      "Roll No: 101\n",
      "Marks: 90\n"
     ]
    }
   ],
   "source": [
    "class Person:\n",
    "    def __init__(self,name,age):\n",
    "        self.name=name\n",
    "        self.age=age\n",
    "\n",
    "    def display(self):\n",
    "        print('Name:',self.name)\n",
    "        print('Age:',self.age)\n",
    "\n",
    "class Student(Person):\n",
    "    def __init__(self,name,age,rollno,marks):\n",
    "        super().__init__(name,age)\n",
    "        self.rollno=rollno\n",
    "        self.marks=marks\n",
    "\n",
    "    def display(self):\n",
    "        super().display()\n",
    "        print('Roll No:',self.rollno)\n",
    "        print('Marks:',self.marks)\n",
    "\n",
    "s1=Student('Durga',22,101,90)\n",
    "s1.display() "
   ]
  },
  {
   "cell_type": "markdown",
   "metadata": {},
   "source": [
    "#### In the above program we are using super() method to call parent class constructor and display() method "
   ]
  },
  {
   "cell_type": "code",
   "execution_count": 22,
   "metadata": {},
   "outputs": [
    {
     "name": "stdout",
     "output_type": "stream",
     "text": [
      "10\n",
      "Parent instance method\n",
      "Parent class method\n",
      "Parent static method\n"
     ]
    }
   ],
   "source": [
    "class P:\n",
    "    a=10\n",
    "    \n",
    "    def __init__(self):\n",
    "        self.b=10\n",
    "\n",
    "    def m1(self):\n",
    "        print('Parent instance method')\n",
    "\n",
    "    @classmethod\n",
    "    def m2(cls):\n",
    "        print('Parent class method')\n",
    "\n",
    "    @staticmethod\n",
    "    def m3():\n",
    "        print('Parent static method')\n",
    "\n",
    "class C(P):\n",
    "    a=888\n",
    "    def __init__(self):\n",
    "        self.b=999\n",
    "        super().__init__()\n",
    "        print(super().a)\n",
    "        super().m1()\n",
    "        super().m2()\n",
    "        super().m3()\n",
    "\n",
    "c=C()"
   ]
  },
  {
   "cell_type": "markdown",
   "metadata": {},
   "source": [
    "#### In the above example we are using super() to call various members of Parent class."
   ]
  },
  {
   "cell_type": "markdown",
   "metadata": {},
   "source": [
    "#### <center>1.How to call method of a particular Super class</center>\n",
    "#### We can use the following approaches\n",
    "#### 1. super(D,self).m1() It will call m1() method of super class of D.\n",
    "#### 2. A.m1(self) It will call A class m1() method"
   ]
  },
  {
   "cell_type": "code",
   "execution_count": 23,
   "metadata": {},
   "outputs": [
    {
     "name": "stdout",
     "output_type": "stream",
     "text": [
      "A class Method\n"
     ]
    }
   ],
   "source": [
    "class A:\n",
    "    def m1(self):\n",
    "        print('A class Method')\n",
    "\n",
    "class B(A):\n",
    "    def m1(self):\n",
    "        print('B class Method')\n",
    "        \n",
    "class C(B):\n",
    "    def m1(self):\n",
    "        print('C class Method')\n",
    "        \n",
    "class D(C):\n",
    "    def m1(self):\n",
    "        print('D class Method')\n",
    "\n",
    "class E(D):\n",
    "    def m1(self):\n",
    "        A.m1(self)\n",
    "\n",
    "e=E()\n",
    "e.m1() "
   ]
  },
  {
   "cell_type": "markdown",
   "metadata": {},
   "source": [
    "#### <center>2. Various Important Points about super()</center>\n"
   ]
  },
  {
   "cell_type": "markdown",
   "metadata": {},
   "source": [
    "#### Case-1: From child class we are not allowed to access parent class instance variables by using super(),Compulsory we should use self only.\n",
    "#### But we can access parent class static variables by using super()."
   ]
  },
  {
   "cell_type": "code",
   "execution_count": 24,
   "metadata": {},
   "outputs": [
    {
     "name": "stdout",
     "output_type": "stream",
     "text": [
      "10\n",
      "20\n"
     ]
    },
    {
     "ename": "AttributeError",
     "evalue": "'super' object has no attribute 'b'",
     "output_type": "error",
     "traceback": [
      "\u001b[1;31m---------------------------------------------------------------------------\u001b[0m",
      "\u001b[1;31mAttributeError\u001b[0m                            Traceback (most recent call last)",
      "\u001b[1;32m<ipython-input-24-5d18ac8a7c2e>\u001b[0m in \u001b[0;36m<module>\u001b[1;34m\u001b[0m\n\u001b[0;32m     11\u001b[0m         \u001b[0mprint\u001b[0m\u001b[1;33m(\u001b[0m\u001b[0msuper\u001b[0m\u001b[1;33m(\u001b[0m\u001b[1;33m)\u001b[0m\u001b[1;33m.\u001b[0m\u001b[0mb\u001b[0m\u001b[1;33m)\u001b[0m\u001b[1;31m#invalid\u001b[0m\u001b[1;33m\u001b[0m\u001b[1;33m\u001b[0m\u001b[0m\n\u001b[0;32m     12\u001b[0m \u001b[0mc\u001b[0m\u001b[1;33m=\u001b[0m\u001b[0mC\u001b[0m\u001b[1;33m(\u001b[0m\u001b[1;33m)\u001b[0m\u001b[1;33m\u001b[0m\u001b[1;33m\u001b[0m\u001b[0m\n\u001b[1;32m---> 13\u001b[1;33m \u001b[0mc\u001b[0m\u001b[1;33m.\u001b[0m\u001b[0mm1\u001b[0m\u001b[1;33m(\u001b[0m\u001b[1;33m)\u001b[0m\u001b[1;33m\u001b[0m\u001b[1;33m\u001b[0m\u001b[0m\n\u001b[0m",
      "\u001b[1;32m<ipython-input-24-5d18ac8a7c2e>\u001b[0m in \u001b[0;36mm1\u001b[1;34m(self)\u001b[0m\n\u001b[0;32m      9\u001b[0m         \u001b[0mprint\u001b[0m\u001b[1;33m(\u001b[0m\u001b[0msuper\u001b[0m\u001b[1;33m(\u001b[0m\u001b[1;33m)\u001b[0m\u001b[1;33m.\u001b[0m\u001b[0ma\u001b[0m\u001b[1;33m)\u001b[0m\u001b[1;31m#valid\u001b[0m\u001b[1;33m\u001b[0m\u001b[1;33m\u001b[0m\u001b[0m\n\u001b[0;32m     10\u001b[0m         \u001b[0mprint\u001b[0m\u001b[1;33m(\u001b[0m\u001b[0mself\u001b[0m\u001b[1;33m.\u001b[0m\u001b[0mb\u001b[0m\u001b[1;33m)\u001b[0m\u001b[1;31m#valid\u001b[0m\u001b[1;33m\u001b[0m\u001b[1;33m\u001b[0m\u001b[0m\n\u001b[1;32m---> 11\u001b[1;33m         \u001b[0mprint\u001b[0m\u001b[1;33m(\u001b[0m\u001b[0msuper\u001b[0m\u001b[1;33m(\u001b[0m\u001b[1;33m)\u001b[0m\u001b[1;33m.\u001b[0m\u001b[0mb\u001b[0m\u001b[1;33m)\u001b[0m\u001b[1;31m#invalid\u001b[0m\u001b[1;33m\u001b[0m\u001b[1;33m\u001b[0m\u001b[0m\n\u001b[0m\u001b[0;32m     12\u001b[0m \u001b[0mc\u001b[0m\u001b[1;33m=\u001b[0m\u001b[0mC\u001b[0m\u001b[1;33m(\u001b[0m\u001b[1;33m)\u001b[0m\u001b[1;33m\u001b[0m\u001b[1;33m\u001b[0m\u001b[0m\n\u001b[0;32m     13\u001b[0m \u001b[0mc\u001b[0m\u001b[1;33m.\u001b[0m\u001b[0mm1\u001b[0m\u001b[1;33m(\u001b[0m\u001b[1;33m)\u001b[0m\u001b[1;33m\u001b[0m\u001b[1;33m\u001b[0m\u001b[0m\n",
      "\u001b[1;31mAttributeError\u001b[0m: 'super' object has no attribute 'b'"
     ]
    }
   ],
   "source": [
    "class P:\n",
    "    a=10\n",
    "\n",
    "    def __init__(self):\n",
    "        self.b=20\n",
    "\n",
    "class C(P):\n",
    "    def m1(self): \n",
    "        print(super().a)#valid\n",
    "        print(self.b)#valid\n",
    "        print(super().b)#invalid\n",
    "c=C()\n",
    "c.m1() "
   ]
  },
  {
   "cell_type": "markdown",
   "metadata": {},
   "source": [
    "#### Case-2: From child class constructor and instance method, we can access parent class instance method,static method and class method by using super()"
   ]
  },
  {
   "cell_type": "code",
   "execution_count": 25,
   "metadata": {},
   "outputs": [
    {
     "name": "stdout",
     "output_type": "stream",
     "text": [
      "Parent Constructor\n",
      "Parent instance method\n",
      "Parent class method\n",
      "Parent static method\n",
      "Parent Constructor\n",
      "Parent instance method\n",
      "Parent class method\n",
      "Parent static method\n"
     ]
    }
   ],
   "source": [
    "class P:\n",
    "    def __init__(self):\n",
    "        print('Parent Constructor')\n",
    "\n",
    "    def m1(self):\n",
    "        print('Parent instance method')\n",
    "\n",
    "    @classmethod\n",
    "    def m2(cls):\n",
    "        print('Parent class method')\n",
    "\n",
    "    @staticmethod\n",
    "    def m3():\n",
    "        print('Parent static method')\n",
    "\n",
    "class C(P):\n",
    "    def __init__(self):\n",
    "        super().__init__()\n",
    "        super().m1()\n",
    "        super().m2()\n",
    "        super().m3()\n",
    "\n",
    "    def m1(self):\n",
    "        super().__init__()\n",
    "        super().m1()\n",
    "        super().m2()\n",
    "        super().m3()\n",
    "\n",
    "c=C()\n",
    "c.m1() "
   ]
  },
  {
   "cell_type": "markdown",
   "metadata": {},
   "source": [
    "#### Case-3: From child class, class method we cannot access parent class instance methods and constructors by using super() directly(but indirectly possible). But we can access parent class static and class methods."
   ]
  },
  {
   "cell_type": "code",
   "execution_count": 26,
   "metadata": {},
   "outputs": [
    {
     "name": "stdout",
     "output_type": "stream",
     "text": [
      "Parent class method\n",
      "Parent static method\n"
     ]
    }
   ],
   "source": [
    "class P:\n",
    "    def __init__(self):\n",
    "        print('Parent Constructor')\n",
    "\n",
    "    def m1(self):\n",
    "        print('Parent instance method')\n",
    "\n",
    "    @classmethod\n",
    "    def m2(cls):\n",
    "        print('Parent class method')\n",
    "\n",
    "    @staticmethod\n",
    "    def m3():\n",
    "        print('Parent static method')\n",
    "\n",
    "class C(P):\n",
    "    \n",
    "    @classmethod\n",
    "    def m1(cls):\n",
    "        #super().__init__()--->invalid\n",
    "        #super().m1()--->invalid\n",
    "        super().m2()\n",
    "        super().m3()\n",
    "\n",
    "C.m1()"
   ]
  },
  {
   "cell_type": "markdown",
   "metadata": {},
   "source": [
    "#### <center>3. From Class Method of Child class,how to call parent class instance methods and constructors</center>"
   ]
  },
  {
   "cell_type": "code",
   "execution_count": 27,
   "metadata": {},
   "outputs": [
    {
     "name": "stdout",
     "output_type": "stream",
     "text": [
      "Parent constructor\n",
      "Parent instance method\n"
     ]
    }
   ],
   "source": [
    "class A:\n",
    "    def __init__(self):\n",
    "        print('Parent constructor')\n",
    "\n",
    "    def m1(self):\n",
    "        print('Parent instance method')\n",
    "\n",
    "class B(A):\n",
    "    @classmethod\n",
    "    def m2(cls):\n",
    "        super(B,cls).__init__(cls)\n",
    "        super(B,cls).m1(cls) \n",
    "        \n",
    "B.m2()"
   ]
  },
  {
   "cell_type": "markdown",
   "metadata": {},
   "source": [
    "#### Case-4: In child class static method we are not allowed to use super() generally (But in special way we can use)"
   ]
  },
  {
   "cell_type": "code",
   "execution_count": 28,
   "metadata": {},
   "outputs": [
    {
     "ename": "RuntimeError",
     "evalue": "super(): no arguments",
     "output_type": "error",
     "traceback": [
      "\u001b[1;31m---------------------------------------------------------------------------\u001b[0m",
      "\u001b[1;31mRuntimeError\u001b[0m                              Traceback (most recent call last)",
      "\u001b[1;32m<ipython-input-28-9e3b2fbdb032>\u001b[0m in \u001b[0;36m<module>\u001b[1;34m\u001b[0m\n\u001b[0;32m     22\u001b[0m         \u001b[0msuper\u001b[0m\u001b[1;33m(\u001b[0m\u001b[1;33m)\u001b[0m\u001b[1;33m.\u001b[0m\u001b[0mm3\u001b[0m\u001b[1;33m(\u001b[0m\u001b[1;33m)\u001b[0m\u001b[1;31m#--->invalid\u001b[0m\u001b[1;33m\u001b[0m\u001b[1;33m\u001b[0m\u001b[0m\n\u001b[0;32m     23\u001b[0m \u001b[1;33m\u001b[0m\u001b[0m\n\u001b[1;32m---> 24\u001b[1;33m \u001b[0mC\u001b[0m\u001b[1;33m.\u001b[0m\u001b[0mm1\u001b[0m\u001b[1;33m(\u001b[0m\u001b[1;33m)\u001b[0m\u001b[1;33m\u001b[0m\u001b[1;33m\u001b[0m\u001b[0m\n\u001b[0m",
      "\u001b[1;32m<ipython-input-28-9e3b2fbdb032>\u001b[0m in \u001b[0;36mm1\u001b[1;34m()\u001b[0m\n\u001b[0;32m     18\u001b[0m     \u001b[1;33m@\u001b[0m\u001b[0mstaticmethod\u001b[0m\u001b[1;33m\u001b[0m\u001b[1;33m\u001b[0m\u001b[0m\n\u001b[0;32m     19\u001b[0m     \u001b[1;32mdef\u001b[0m \u001b[0mm1\u001b[0m\u001b[1;33m(\u001b[0m\u001b[1;33m)\u001b[0m\u001b[1;33m:\u001b[0m\u001b[1;33m\u001b[0m\u001b[1;33m\u001b[0m\u001b[0m\n\u001b[1;32m---> 20\u001b[1;33m         \u001b[0msuper\u001b[0m\u001b[1;33m(\u001b[0m\u001b[1;33m)\u001b[0m\u001b[1;33m.\u001b[0m\u001b[0mm1\u001b[0m\u001b[1;33m(\u001b[0m\u001b[1;33m)\u001b[0m\u001b[1;31m#-->invalid\u001b[0m\u001b[1;33m\u001b[0m\u001b[1;33m\u001b[0m\u001b[0m\n\u001b[0m\u001b[0;32m     21\u001b[0m         \u001b[0msuper\u001b[0m\u001b[1;33m(\u001b[0m\u001b[1;33m)\u001b[0m\u001b[1;33m.\u001b[0m\u001b[0mm2\u001b[0m\u001b[1;33m(\u001b[0m\u001b[1;33m)\u001b[0m\u001b[1;31m#--->invalid\u001b[0m\u001b[1;33m\u001b[0m\u001b[1;33m\u001b[0m\u001b[0m\n\u001b[0;32m     22\u001b[0m         \u001b[0msuper\u001b[0m\u001b[1;33m(\u001b[0m\u001b[1;33m)\u001b[0m\u001b[1;33m.\u001b[0m\u001b[0mm3\u001b[0m\u001b[1;33m(\u001b[0m\u001b[1;33m)\u001b[0m\u001b[1;31m#--->invalid\u001b[0m\u001b[1;33m\u001b[0m\u001b[1;33m\u001b[0m\u001b[0m\n",
      "\u001b[1;31mRuntimeError\u001b[0m: super(): no arguments"
     ]
    }
   ],
   "source": [
    "class P:\n",
    "    def __init__(self):\n",
    "        print('Parent Constructor')\n",
    "\n",
    "    def m1(self):\n",
    "        print('Parent instance method')\n",
    "        \n",
    "    @classmethod\n",
    "    def m2(cls):\n",
    "        print('Parent class method')\n",
    "\n",
    "    @staticmethod\n",
    "    def m3():\n",
    "        print('Parent static method')\n",
    "\n",
    "class C(P):\n",
    "\n",
    "    @staticmethod\n",
    "    def m1():\n",
    "        super().m1()#-->invalid\n",
    "        super().m2()#--->invalid\n",
    "        super().m3()#--->invalid\n",
    "\n",
    "C.m1()"
   ]
  },
  {
   "cell_type": "markdown",
   "metadata": {},
   "source": [
    "#### <center>4. How to call parent class static method from child class static method by using super()</center>"
   ]
  },
  {
   "cell_type": "code",
   "execution_count": 29,
   "metadata": {},
   "outputs": [
    {
     "name": "stdout",
     "output_type": "stream",
     "text": [
      "Parent static method\n"
     ]
    }
   ],
   "source": [
    "class A:\n",
    "    @staticmethod\n",
    "    def m1():\n",
    "        print('Parent static method')\n",
    "\n",
    "class B(A):\n",
    "    @staticmethod\n",
    "    def m2():\n",
    "        super(B,B).m1()\n",
    "\n",
    "B.m2() "
   ]
  },
  {
   "cell_type": "markdown",
   "metadata": {},
   "source": [
    "#### <center>6. Method Resolution Order (MRO)</center>\n",
    "#### 1.In Hybrid Inheritance the method resolution order is decided based on MRO algorithm.\n",
    "#### 2. This algorithm is also known as C3 algorithm.\n",
    "#### 3. Samuele Pedroni proposed this algorithm.\n",
    "#### 4. It follows DLR (Depth First Left to Right) i.e Child will get more priority than Parent.\n",
    "#### 5. Left Parent will get more priority than Right Parent\n",
    "#### 6. MRO(X)=X+Merge(MRO(P1),MRO(P2),...,ParentList)"
   ]
  },
  {
   "cell_type": "markdown",
   "metadata": {},
   "source": [
    "#### <center>Head Element vs Tail Terminology</center>\n",
    "#### 1. Assume C1,C2,C3,...are classes.\n",
    "#### 2. In the list : C1C2C3C4C5....\n",
    "#### 3. C1 is considered as Head Element and remaining is considered as Tail.\n"
   ]
  },
  {
   "cell_type": "markdown",
   "metadata": {},
   "source": [
    "#### <center>How to find Merge</center>\n",
    "#### Take the head of first list\n",
    "#### If the head is not in the tail part of any other list,then add this head to the result and remove it from the lists in the merge.\n",
    "#### If the head is present in the tail part of any other list,then consider the head element of the next list and continue the same process.\n",
    "#### Note: We can find MRO of any class by using mro() function. print(ClassName.mro())"
   ]
  },
  {
   "cell_type": "markdown",
   "metadata": {},
   "source": [
    "#### <center>1. Demo Program-1 for Method Resolution Order</center>\n",
    "#### mro(A)=A,object\n",
    "#### mro(B)=B,A,object\n",
    "#### mro(C)=C,A,object\n",
    "#### mro(D)=D,B,C,A,object"
   ]
  },
  {
   "cell_type": "code",
   "execution_count": 30,
   "metadata": {},
   "outputs": [
    {
     "name": "stdout",
     "output_type": "stream",
     "text": [
      "[<class '__main__.A'>, <class 'object'>]\n",
      "[<class '__main__.B'>, <class '__main__.A'>, <class 'object'>]\n",
      "[<class '__main__.C'>, <class '__main__.A'>, <class 'object'>]\n",
      "[<class '__main__.D'>, <class '__main__.B'>, <class '__main__.C'>, <class '__main__.A'>, <class 'object'>]\n"
     ]
    }
   ],
   "source": [
    "class A:pass\n",
    "class B(A):pass\n",
    "class C(A):pass\n",
    "class D(B,C):pass\n",
    "\n",
    "print(A.mro())\n",
    "print(B.mro())\n",
    "print(C.mro())\n",
    "print(D.mro()) "
   ]
  },
  {
   "cell_type": "markdown",
   "metadata": {},
   "source": [
    "#### <center>2. Demo Program-2 for Method Resolution Order</center>\n",
    "#### mro(A)=A,object\n",
    "#### mro(B)=B,object\n",
    "#### mro(C)=C,object\n",
    "#### mro(X)=X,A,B,object\n",
    "#### mro(Y)=Y,B,C,object\n",
    "#### mro(P)=P,X,A,Y,B,C,object"
   ]
  },
  {
   "cell_type": "markdown",
   "metadata": {},
   "source": [
    "#### <center>Finding mro(P) by using C3 algorithm</center>\n",
    "#### Formula: MRO(X)=X+Merge(MRO(P1),MRO(P2),...,ParentList)\n",
    "#### mro(p)= P+Merge(mro(X),mro(Y),mro(C),XYC)\n",
    "#### = P+Merge(XABO,YBCO,CO,XYC)\n",
    "#### = P+X+Merge(ABO,YBCO,CO,YC)\n",
    "#### = P+X+A+Merge(BO,YBCO,CO,YC)\n",
    "#### = P+X+A+Y+Merge(BO,BCO,CO,C)\n",
    "#### = P+X+A+Y+B+Merge(O,CO,CO,C)\n",
    "#### = P+X+A+Y+B+C+Merge(O,O,O)\n",
    "#### = P+X+A+Y+B+C+O"
   ]
  },
  {
   "cell_type": "code",
   "execution_count": 32,
   "metadata": {},
   "outputs": [
    {
     "name": "stdout",
     "output_type": "stream",
     "text": [
      "[<class '__main__.A'>, <class 'object'>]\n",
      "[<class '__main__.X'>, <class '__main__.A'>, <class '__main__.B'>, <class 'object'>]\n",
      "[<class '__main__.Y'>, <class '__main__.B'>, <class '__main__.C'>, <class 'object'>]\n",
      "[<class '__main__.P'>, <class '__main__.X'>, <class '__main__.A'>, <class '__main__.Y'>, <class '__main__.B'>, <class '__main__.C'>, <class 'object'>]\n"
     ]
    }
   ],
   "source": [
    "class A:pass\n",
    "class B:pass\n",
    "class C:pass\n",
    "class X(A,B):pass\n",
    "class Y(B,C):pass\n",
    "class P(X,Y,C):pass\n",
    "\n",
    "print(A.mro())#AO\n",
    "print(X.mro())#XABO\n",
    "print(Y.mro())#YBCO\n",
    "print(P.mro())#PXAYBCO "
   ]
  },
  {
   "cell_type": "code",
   "execution_count": 33,
   "metadata": {},
   "outputs": [
    {
     "name": "stdout",
     "output_type": "stream",
     "text": [
      "P class Method\n"
     ]
    }
   ],
   "source": [
    "class A:\n",
    "    def m1(self):\n",
    "        print('A class Method')\n",
    "        \n",
    "class B:\n",
    "    def m1(self):\n",
    "        print('B class Method')\n",
    "        \n",
    "class C:\n",
    "    def m1(self):\n",
    "        print('C class Method')\n",
    "\n",
    "class X(A,B):\n",
    "    def m1(self):\n",
    "        print('X class Method')\n",
    "        \n",
    "class Y(B,C):\n",
    "    def m1(self):\n",
    "        print('Y class Method')\n",
    "\n",
    "class P(X,Y,C):\n",
    "    def m1(self):\n",
    "        print('P class Method')\n",
    "\n",
    "p=P()\n",
    "p.m1() "
   ]
  },
  {
   "cell_type": "markdown",
   "metadata": {},
   "source": [
    "#### In the above example P class m1() method will be considered.If P class does not contain m1() method then as per MRO, X class method will be considered. \n",
    "#### If X class does not contain then A class method will be considered and this process will be continued.\n",
    "#### The method resolution in the following order:PXAYBCO"
   ]
  },
  {
   "cell_type": "markdown",
   "metadata": {},
   "source": [
    "#### <center>3. Demo Program-3 for Method Resolution Order</center>\n",
    "#### mro(o)=object\n",
    "#### mro(D)=D,object\n",
    "#### mro(E)=E,object\n",
    "#### mro(F)=F,object\n",
    "#### mro(B)=B,D,E,object\n",
    "#### mro(C)=C,D,F,object\n",
    "#### mro(A)=A+Merge(mro(B),mro(C),BC)\n",
    "#### =A+Merge(BDEO,CDFO,BC)\n",
    "#### =A+B+Merge(DEO,CDFO,C)\n",
    "#### =A+B+C+Merge(DEO,DFO)\n",
    "#### =A+B+C+D+Merge(EO,FO)\n",
    "#### =A+B+C+D+E+Merge(O,FO)\n",
    "#### =A+B+C+D+E+F+Merge(O,O)\n",
    "#### =A+B+C+D+E+F+O"
   ]
  },
  {
   "cell_type": "code",
   "execution_count": 34,
   "metadata": {},
   "outputs": [
    {
     "name": "stdout",
     "output_type": "stream",
     "text": [
      "[<class '__main__.D'>, <class 'object'>]\n",
      "[<class '__main__.B'>, <class '__main__.D'>, <class '__main__.E'>, <class 'object'>]\n",
      "[<class '__main__.C'>, <class '__main__.D'>, <class '__main__.F'>, <class 'object'>]\n",
      "[<class '__main__.A'>, <class '__main__.B'>, <class '__main__.C'>, <class '__main__.D'>, <class '__main__.E'>, <class '__main__.F'>, <class 'object'>]\n"
     ]
    }
   ],
   "source": [
    "class D:pass\n",
    "class E:pass\n",
    "class F:pass\n",
    "class B(D,E):pass\n",
    "class C(D,F):pass\n",
    "class A(B,C):pass\n",
    "\n",
    "print(D.mro())\n",
    "print(B.mro())\n",
    "print(C.mro())\n",
    "print(A.mro()) "
   ]
  }
 ],
 "metadata": {
  "kernelspec": {
   "display_name": "Python 3",
   "language": "python",
   "name": "python3"
  },
  "language_info": {
   "codemirror_mode": {
    "name": "ipython",
    "version": 3
   },
   "file_extension": ".py",
   "mimetype": "text/x-python",
   "name": "python",
   "nbconvert_exporter": "python",
   "pygments_lexer": "ipython3",
   "version": "3.8.5"
  }
 },
 "nbformat": 4,
 "nbformat_minor": 4
}
