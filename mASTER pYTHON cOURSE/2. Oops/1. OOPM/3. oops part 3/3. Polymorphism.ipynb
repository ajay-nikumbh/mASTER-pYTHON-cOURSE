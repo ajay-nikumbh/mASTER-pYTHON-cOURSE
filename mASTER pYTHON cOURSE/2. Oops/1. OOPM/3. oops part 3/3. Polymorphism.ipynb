{
 "cells": [
  {
   "cell_type": "markdown",
   "metadata": {},
   "source": [
    "### <center>Polymorphism</center>\n",
    "#### Poly means many. Morphs means forms.\n",
    "#### Polymorphism means 'Many Forms'.\n",
    "#### Eg1: Yourself is best example of polymorphism.In front of Your parents You will have one type of behaviour and with friends another type of behaviour.Same person but different behaviours at different places,which is nothing but polymorphism.\n",
    "#### Eg2: + operator acts as concatenation and arithmetic addition\n",
    "#### Eg3: * operator acts as multiplication and repetition operator\n",
    "#### Eg4: The Same method with different implementations in Parent class and child classes.(overriding)\n"
   ]
  },
  {
   "cell_type": "markdown",
   "metadata": {},
   "source": [
    "#### <center>1. Duck Typing Philosophy of Python</center>\n",
    "#### In Python we cannot specify the type explicitly. Based on provided value at runtime the type willbe considered automatically. Hence Python is considered as Dynamically Typed Programming Language.\n",
    "#### def f1(obj):\n",
    "####  obj.talk()\n",
    "#### What is the type of obj? We cannot decide at the beginning. At runtime we can pass any type.Then how we can decide the type?\n",
    "#### At runtime if 'it walks like a duck and talks like a duck,it must be duck'. Python follows this principle. This is called Duck Typing Philosophy of Python."
   ]
  },
  {
   "cell_type": "code",
   "execution_count": 1,
   "metadata": {},
   "outputs": [
    {
     "name": "stdout",
     "output_type": "stream",
     "text": [
      "Quack.. Quack..\n",
      "Moew Moew ..\n",
      "Bow Bow..\n",
      "Myaah Myaah ..\n"
     ]
    }
   ],
   "source": [
    "class Duck:\n",
    "    def talk(self):\n",
    "        print('Quack.. Quack..')\n",
    "\n",
    "class Dog:\n",
    "    def talk(self):\n",
    "        print('Bow Bow..')\n",
    "\n",
    "class Cat:\n",
    "    def talk(self):\n",
    "        print('Moew Moew ..')\n",
    "\n",
    "class Goat:\n",
    "    def talk(self):\n",
    "        print('Myaah Myaah ..')\n",
    "\n",
    "def f1(obj):\n",
    " obj.talk()\n",
    "\n",
    "l=[Duck(),Cat(),Dog(),Goat()]\n",
    "for obj in l:\n",
    "    f1(obj)"
   ]
  },
  {
   "cell_type": "markdown",
   "metadata": {},
   "source": [
    "#### Note: The problem in this approach is if obj does not contain talk() method then we will get AttributeError"
   ]
  },
  {
   "cell_type": "code",
   "execution_count": 4,
   "metadata": {},
   "outputs": [
    {
     "name": "stdout",
     "output_type": "stream",
     "text": [
      "Quack.. Quack..\n"
     ]
    },
    {
     "ename": "AttributeError",
     "evalue": "'Dog' object has no attribute 'talk'",
     "output_type": "error",
     "traceback": [
      "\u001b[1;31m---------------------------------------------------------------------------\u001b[0m",
      "\u001b[1;31mAttributeError\u001b[0m                            Traceback (most recent call last)",
      "\u001b[1;32m<ipython-input-4-20fc171371a6>\u001b[0m in \u001b[0;36m<module>\u001b[1;34m\u001b[0m\n\u001b[0;32m     14\u001b[0m \u001b[1;33m\u001b[0m\u001b[0m\n\u001b[0;32m     15\u001b[0m \u001b[0md\u001b[0m\u001b[1;33m=\u001b[0m\u001b[0mDog\u001b[0m\u001b[1;33m(\u001b[0m\u001b[1;33m)\u001b[0m\u001b[1;33m\u001b[0m\u001b[1;33m\u001b[0m\u001b[0m\n\u001b[1;32m---> 16\u001b[1;33m \u001b[0mf1\u001b[0m\u001b[1;33m(\u001b[0m\u001b[0md\u001b[0m\u001b[1;33m)\u001b[0m\u001b[1;33m\u001b[0m\u001b[1;33m\u001b[0m\u001b[0m\n\u001b[0m",
      "\u001b[1;32m<ipython-input-4-20fc171371a6>\u001b[0m in \u001b[0;36mf1\u001b[1;34m(obj)\u001b[0m\n\u001b[0;32m      8\u001b[0m \u001b[1;33m\u001b[0m\u001b[0m\n\u001b[0;32m      9\u001b[0m \u001b[1;32mdef\u001b[0m \u001b[0mf1\u001b[0m\u001b[1;33m(\u001b[0m\u001b[0mobj\u001b[0m\u001b[1;33m)\u001b[0m\u001b[1;33m:\u001b[0m\u001b[1;33m\u001b[0m\u001b[1;33m\u001b[0m\u001b[0m\n\u001b[1;32m---> 10\u001b[1;33m     \u001b[0mobj\u001b[0m\u001b[1;33m.\u001b[0m\u001b[0mtalk\u001b[0m\u001b[1;33m(\u001b[0m\u001b[1;33m)\u001b[0m\u001b[1;33m\u001b[0m\u001b[1;33m\u001b[0m\u001b[0m\n\u001b[0m\u001b[0;32m     11\u001b[0m \u001b[1;33m\u001b[0m\u001b[0m\n\u001b[0;32m     12\u001b[0m \u001b[0md\u001b[0m\u001b[1;33m=\u001b[0m\u001b[0mDuck\u001b[0m\u001b[1;33m(\u001b[0m\u001b[1;33m)\u001b[0m\u001b[1;33m\u001b[0m\u001b[1;33m\u001b[0m\u001b[0m\n",
      "\u001b[1;31mAttributeError\u001b[0m: 'Dog' object has no attribute 'talk'"
     ]
    }
   ],
   "source": [
    "class Duck:\n",
    "    def talk(self):\n",
    "        print('Quack.. Quack..')\n",
    "\n",
    "class Dog:\n",
    "    def bark(self):\n",
    "        print('Bow Bow..')\n",
    "\n",
    "def f1(obj):\n",
    "    obj.talk()\n",
    "\n",
    "d=Duck()\n",
    "f1(d)\n",
    "\n",
    "d=Dog()\n",
    "f1(d)"
   ]
  },
  {
   "cell_type": "markdown",
   "metadata": {},
   "source": [
    "#### But we can solve this problem by using hasattr() function hasattr(obj,'attributename') attributename can be method name or variable name"
   ]
  },
  {
   "cell_type": "code",
   "execution_count": 5,
   "metadata": {},
   "outputs": [
    {
     "name": "stdout",
     "output_type": "stream",
     "text": [
      "Quack.. Quack..\n",
      "Hello Hi...\n",
      "Bow Bow..\n"
     ]
    }
   ],
   "source": [
    "class Duck:\n",
    "    def talk(self):\n",
    "        print('Quack.. Quack..')\n",
    "\n",
    "class Human:\n",
    "    def talk(self):\n",
    "        print('Hello Hi...')\n",
    "\n",
    "class Dog:\n",
    "    def bark(self):\n",
    "        print('Bow Bow..')\n",
    "\n",
    "def f1(obj):\n",
    "    if hasattr(obj,'talk'):\n",
    "        obj.talk()\n",
    "    \n",
    "    elif hasattr(obj,'bark'):\n",
    "        obj.bark()\n",
    "\n",
    "d=Duck()\n",
    "f1(d)\n",
    "\n",
    "h=Human()\n",
    "f1(h)\n",
    "\n",
    "d=Dog()\n",
    "f1(d) "
   ]
  },
  {
   "cell_type": "markdown",
   "metadata": {},
   "source": [
    "#### <center>2. Overloading</center>\n",
    "#### We can use same operator or methods for different purposes.\n",
    "#### Eg1: + operator can be used for Arithmetic addition and String concatenation\n",
    "#### print(10+20)#30\n",
    "#### print('durga'+'soft')#durgasoft\n",
    "#### Eg2: * operator can be used for multiplication and string repetition purposes.\n",
    "#### print(10*20)#200\n",
    "#### print('durga'*3)#durgadurgadurga\n",
    "#### Eg3: We can use deposit() method to deposit cash or cheque or dd\n",
    "#### deposit(cash)\n",
    "#### deposit(cheque)\n",
    "#### deposit(dd)\n",
    "#### There are 3 types of overloading\n",
    "#### 1. Operator Overloading\n",
    "#### 2. Method Overloading\n",
    "#### 3. Constructor Overloading"
   ]
  },
  {
   "cell_type": "markdown",
   "metadata": {},
   "source": [
    "#### <center>1. Operator Overloading</center>\n",
    "#### We can use the same operator for multiple purposes, which is nothing but operator overloading.\n",
    "#### Python supports operator overloading.\n",
    "#### Eg1: + operator can be used for Arithmetic addition and String concatenation\n",
    "#### print(10+20)#30\n",
    "#### print('durga'+'soft')#durgasoft\n",
    "#### Eg2: * operator can be used for multiplication and string repetition purposes.\n",
    "#### print(10*20)#200\n",
    "#### print('durga'*3)#durgadurgadurga\n"
   ]
  },
  {
   "cell_type": "code",
   "execution_count": 6,
   "metadata": {},
   "outputs": [
    {
     "ename": "TypeError",
     "evalue": "unsupported operand type(s) for +: 'Book' and 'Book'",
     "output_type": "error",
     "traceback": [
      "\u001b[1;31m---------------------------------------------------------------------------\u001b[0m",
      "\u001b[1;31mTypeError\u001b[0m                                 Traceback (most recent call last)",
      "\u001b[1;32m<ipython-input-6-6dfda2f64040>\u001b[0m in \u001b[0;36m<module>\u001b[1;34m\u001b[0m\n\u001b[0;32m      5\u001b[0m \u001b[0mb1\u001b[0m\u001b[1;33m=\u001b[0m\u001b[0mBook\u001b[0m\u001b[1;33m(\u001b[0m\u001b[1;36m100\u001b[0m\u001b[1;33m)\u001b[0m\u001b[1;33m\u001b[0m\u001b[1;33m\u001b[0m\u001b[0m\n\u001b[0;32m      6\u001b[0m \u001b[0mb2\u001b[0m\u001b[1;33m=\u001b[0m\u001b[0mBook\u001b[0m\u001b[1;33m(\u001b[0m\u001b[1;36m200\u001b[0m\u001b[1;33m)\u001b[0m\u001b[1;33m\u001b[0m\u001b[1;33m\u001b[0m\u001b[0m\n\u001b[1;32m----> 7\u001b[1;33m \u001b[0mprint\u001b[0m\u001b[1;33m(\u001b[0m\u001b[0mb1\u001b[0m\u001b[1;33m+\u001b[0m\u001b[0mb2\u001b[0m\u001b[1;33m)\u001b[0m\u001b[1;33m\u001b[0m\u001b[1;33m\u001b[0m\u001b[0m\n\u001b[0m",
      "\u001b[1;31mTypeError\u001b[0m: unsupported operand type(s) for +: 'Book' and 'Book'"
     ]
    }
   ],
   "source": [
    "class Book:\n",
    "    def __init__(self,pages):\n",
    "        self.pages=pages\n",
    "\n",
    "b1=Book(100)\n",
    "b2=Book(200)\n",
    "print(b1+b2) "
   ]
  },
  {
   "cell_type": "markdown",
   "metadata": {},
   "source": [
    "#### We can overload + operator to work with Book objects also. i.e Python supports Operator Overloading.\n",
    "#### For every operator Magic Methods are available. To overload any operator we have to override that Method in our class.\n",
    "#### Internally + operator is implemented by using __add__() method.This method is called magic method for + operator. We have to override this method in our class. "
   ]
  },
  {
   "cell_type": "markdown",
   "metadata": {},
   "source": [
    "#### Demo program to overload + operator for our Book class objects"
   ]
  },
  {
   "cell_type": "code",
   "execution_count": 7,
   "metadata": {},
   "outputs": [
    {
     "name": "stdout",
     "output_type": "stream",
     "text": [
      "The Total Number of Pages: 300\n"
     ]
    }
   ],
   "source": [
    "class Book:\n",
    "    def __init__(self,pages):\n",
    "        self.pages=pages\n",
    "    \n",
    "    def __add__(self,other):\n",
    "        return self.pages+other.pages\n",
    "\n",
    "b1=Book(100)\n",
    "b2=Book(200)\n",
    "print('The Total Number of Pages:',b1+b2) "
   ]
  },
  {
   "cell_type": "markdown",
   "metadata": {},
   "source": [
    "#### <center>The following is the list of operators and corresponding magic methods</center>\n",
    "#### + ---> object.__add__(self,other)\n",
    "#### - ---> object.__sub__(self,other)\n",
    "#### * ---> object.__mul__(self,other)\n",
    "#### / ---> object.__div__(self,other)\n",
    "#### // ---> object.__floordiv__(self,other)\n",
    "#### % ---> object.__mod__(self,other)\n",
    "#### ** ---> object.__pow__(self,other)\n",
    "#### += ---> object.__iadd__(self,other)\n",
    "#### -= ---> object.__isub__(self,other)\n",
    "#### *= ---> object.__imul__(self,other)\n",
    "#### /= ---> object.__idiv__(self,other)\n",
    "#### //= ---> object.__ifloordiv__(self,other)\n",
    "#### %= ---> object.__imod__(self,other)\n",
    "#### **= ---> object.__ipow__(self,other)\n",
    "#### < ---> object.__lt__(self,other)\n",
    "#### <= ---> object.__le__(self,other)\n",
    "#### > ---> object.__gt__(self,other)\n",
    "#### >= ---> object.__ge__(self,other)\n",
    "#### == ---> object.__eq__(self,other)\n",
    "#### != ---> object.__ne__(self,other)\n"
   ]
  },
  {
   "cell_type": "markdown",
   "metadata": {},
   "source": [
    "#### Eg1: Overloading > and <= operators for Student class objects"
   ]
  },
  {
   "cell_type": "code",
   "execution_count": 9,
   "metadata": {},
   "outputs": [
    {
     "name": "stdout",
     "output_type": "stream",
     "text": [
      "10>20 = False\n",
      "s1>s2= False\n",
      "s1<s2= True\n",
      "s1<=s2= True\n",
      "s1>=s2= False\n"
     ]
    }
   ],
   "source": [
    "class Student:\n",
    "    def __init__(self,name,marks):\n",
    "        self.name=name\n",
    "        self.marks=marks\n",
    "\n",
    "    def __gt__(self,other):\n",
    "        return self.marks>other.marks\n",
    "\n",
    "    def __le__(self,other):\n",
    "        return self.marks<=other.marks\n",
    "\n",
    "\n",
    "print(\"10>20 =\",10>20)\n",
    "\n",
    "s1=Student(\"Durga\",100)\n",
    "s2=Student(\"Ravi\",200)\n",
    "\n",
    "print(\"s1>s2=\",s1>s2)\n",
    "print(\"s1<s2=\",s1<s2)\n",
    "print(\"s1<=s2=\",s1<=s2)\n",
    "print(\"s1>=s2=\",s1>=s2) "
   ]
  },
  {
   "cell_type": "markdown",
   "metadata": {},
   "source": [
    "#### Eg2: Program to overload multiplication operator to work on Employee objects"
   ]
  },
  {
   "cell_type": "code",
   "execution_count": 10,
   "metadata": {},
   "outputs": [
    {
     "name": "stdout",
     "output_type": "stream",
     "text": [
      "This Month Salary: 12500\n"
     ]
    }
   ],
   "source": [
    "class Employee:\n",
    "    def __init__(self,name,salary):\n",
    "        self.name=name\n",
    "        self.salary=salary\n",
    "\n",
    "    def __mul__(self,other):\n",
    "        return self.salary*other.days\n",
    "\n",
    "class TimeSheet:\n",
    "    def __init__(self,name,days):\n",
    "        self.name=name\n",
    "        self.days=days\n",
    "\n",
    "e=Employee('Durga',500)\n",
    "t=TimeSheet('Durga',25)\n",
    "print('This Month Salary:',e*t) "
   ]
  },
  {
   "cell_type": "markdown",
   "metadata": {},
   "source": [
    "#### <center>2. Method Overloading</center>\n",
    "#### If 2 methods having same name but different type of arguments then those methods are said to be overloaded methods.\n",
    "#### Eg: m1(int a), m1(double d)\n",
    "#### But in Python Method overloading is not possible.\n",
    "#### If we are trying to declare multiple methods with same name and different number of arguments then Python will always consider only last method."
   ]
  },
  {
   "cell_type": "markdown",
   "metadata": {},
   "source": [
    "#### Note: In the above program python will consider only last method.\n"
   ]
  },
  {
   "cell_type": "code",
   "execution_count": 11,
   "metadata": {},
   "outputs": [
    {
     "name": "stdout",
     "output_type": "stream",
     "text": [
      "two-arg method\n"
     ]
    }
   ],
   "source": [
    "class Test:\n",
    "    def m1(self):\n",
    "        print('no-arg method')\n",
    " \n",
    "    def m1(self,a):\n",
    "        print('one-arg method')\n",
    "\n",
    "    def m1(self,a,b):\n",
    "        print('two-arg method')\n",
    "\n",
    "\n",
    "t=Test()\n",
    "#t.m1()\n",
    "#t.m1(10)\n",
    "t.m1(10,20) "
   ]
  },
  {
   "cell_type": "markdown",
   "metadata": {},
   "source": [
    "#### <center>How we can handle overloaded method requirements in Python</center>\n",
    "#### Most of the times, if method with variable number of arguments required then we can handle with default arguments or with variable number of argument methods."
   ]
  },
  {
   "cell_type": "markdown",
   "metadata": {},
   "source": [
    "#### Demo Program with Default Arguments"
   ]
  },
  {
   "cell_type": "code",
   "execution_count": 12,
   "metadata": {},
   "outputs": [
    {
     "name": "stdout",
     "output_type": "stream",
     "text": [
      "The Sum of 2 Numbers: 30\n",
      "The Sum of 3 Numbers: 60\n",
      "Please provide 2 or 3 arguments\n"
     ]
    }
   ],
   "source": [
    "class Test:\n",
    "    def sum(self,a=None,b=None,c=None):\n",
    "        if a!=None and b!= None and c!= None:\n",
    "            print('The Sum of 3 Numbers:',a+b+c)\n",
    "        \n",
    "        elif a!=None and b!= None:\n",
    "            print('The Sum of 2 Numbers:',a+b)\n",
    "\n",
    "        else:\n",
    "            print('Please provide 2 or 3 arguments')\n",
    "\n",
    "t=Test() \n",
    "t.sum(10,20)\n",
    "t.sum(10,20,30)\n",
    "t.sum(10) "
   ]
  },
  {
   "cell_type": "markdown",
   "metadata": {},
   "source": [
    "#### Demo Program with Variable Number of Arguments"
   ]
  },
  {
   "cell_type": "code",
   "execution_count": 13,
   "metadata": {},
   "outputs": [
    {
     "name": "stdout",
     "output_type": "stream",
     "text": [
      "The Sum: 10\n",
      "The Sum: 30\n",
      "The Sum: 10\n",
      "The Sum: 30\n",
      "The Sum: 60\n",
      "The Sum: 10\n"
     ]
    }
   ],
   "source": [
    "class Test:\n",
    "    def sum(self,*a):\n",
    "        total=0\n",
    "        \n",
    "        for x in a:\n",
    "            total=total+x\n",
    "            print('The Sum:',total)\n",
    "\n",
    "\n",
    "t=Test()\n",
    "t.sum(10,20)\n",
    "t.sum(10,20,30)\n",
    "t.sum(10)\n",
    "t.sum() "
   ]
  },
  {
   "cell_type": "markdown",
   "metadata": {},
   "source": [
    "#### <center>3. Constructor Overloading</center>\n",
    "#### Constructor overloading is not possible in Python.\n",
    "#### If we define multiple constructors then the last constructor will be considered."
   ]
  },
  {
   "cell_type": "code",
   "execution_count": 14,
   "metadata": {},
   "outputs": [
    {
     "name": "stdout",
     "output_type": "stream",
     "text": [
      "Two-Arg constructor\n"
     ]
    }
   ],
   "source": [
    " class Test:\n",
    "        def __init__(self):\n",
    "            print('No-Arg Constructor')\n",
    "        \n",
    "        def __init__(self,a):\n",
    "            print('One-Arg constructor')\n",
    "\n",
    "        def __init__(self,a,b):\n",
    "            print('Two-Arg constructor')\n",
    "t1=Test(10,20) "
   ]
  },
  {
   "cell_type": "markdown",
   "metadata": {},
   "source": [
    "#### In the above program only Two-Arg Constructor is available.\n",
    "#### But based on our requirement we can declare constructor with default arguments and variable number of arguments.\n"
   ]
  },
  {
   "cell_type": "markdown",
   "metadata": {},
   "source": [
    "#### <center>1. Constructor with Default Arguments</center>"
   ]
  },
  {
   "cell_type": "code",
   "execution_count": 16,
   "metadata": {},
   "outputs": [
    {
     "name": "stdout",
     "output_type": "stream",
     "text": [
      "Constructor with 0|1|2|3 number of arguments\n",
      "Constructor with 0|1|2|3 number of arguments\n",
      "Constructor with 0|1|2|3 number of arguments\n",
      "Constructor with 0|1|2|3 number of arguments\n"
     ]
    }
   ],
   "source": [
    "class Test: \n",
    "    def __init__(self,a=None,b=None,c=None):\n",
    "        print('Constructor with 0|1|2|3 number of arguments')\n",
    "\n",
    "t1=Test()\n",
    "t2=Test(10)\n",
    "t3=Test(10,20)\n",
    "t4=Test(10,20,30) "
   ]
  },
  {
   "cell_type": "markdown",
   "metadata": {},
   "source": [
    "#### <center>2. Constructor with Variable Number of Arguments</center>"
   ]
  },
  {
   "cell_type": "code",
   "execution_count": 17,
   "metadata": {},
   "outputs": [
    {
     "name": "stdout",
     "output_type": "stream",
     "text": [
      "Constructor with variable number of arguments\n",
      "Constructor with variable number of arguments\n",
      "Constructor with variable number of arguments\n",
      "Constructor with variable number of arguments\n",
      "Constructor with variable number of arguments\n"
     ]
    }
   ],
   "source": [
    "class Test:\n",
    "    def __init__(self,*a):\n",
    "        print('Constructor with variable number of arguments')\n",
    "\n",
    " \n",
    "t1=Test()\n",
    "t2=Test(10)\n",
    "t3=Test(10,20)\n",
    "t4=Test(10,20,30)\n",
    "t5=Test(10,20,30,40,50,60) "
   ]
  },
  {
   "cell_type": "markdown",
   "metadata": {},
   "source": [
    "#### <center>4. Method overriding</center>\n",
    "#### What ever members available in the parent class are bydefault available to the child class through inheritance. \n",
    "#### If the child class not satisfied with parent class implementation then child class is allowed to redefine that method in the child class based on its requirement. This concept is called overriding.\n",
    "#### Overriding concept applicable for both methods and constructors."
   ]
  },
  {
   "cell_type": "markdown",
   "metadata": {},
   "source": [
    "#### <center>1. Demo Program for Method overriding</center>"
   ]
  },
  {
   "cell_type": "code",
   "execution_count": 18,
   "metadata": {},
   "outputs": [
    {
     "name": "stdout",
     "output_type": "stream",
     "text": [
      "Gold+Land+Cash+Power\n",
      "Katrina Kaif\n"
     ]
    }
   ],
   "source": [
    "class P:\n",
    "    def property(self):\n",
    "        print('Gold+Land+Cash+Power')\n",
    " \n",
    "    def marry(self):\n",
    "        print('Appalamma')\n",
    "\n",
    "class C(P):\n",
    "    def marry(self):\n",
    "        print('Katrina Kaif')\n",
    "\n",
    "c=C()\n",
    "c.property()\n",
    "c.marry()"
   ]
  },
  {
   "cell_type": "markdown",
   "metadata": {},
   "source": [
    "#### Note: From Overriding method of child class,we can call parent class method also by using super() method."
   ]
  },
  {
   "cell_type": "code",
   "execution_count": 19,
   "metadata": {},
   "outputs": [
    {
     "name": "stdout",
     "output_type": "stream",
     "text": [
      "Gold+Land+Cash+Power\n",
      "Appalamma\n",
      "Katrina Kaif\n"
     ]
    }
   ],
   "source": [
    "class P:\n",
    "    def property(self):\n",
    "        print('Gold+Land+Cash+Power')\n",
    "\n",
    "    def marry(self):\n",
    "        print('Appalamma')\n",
    "\n",
    "class C(P):\n",
    "    def marry(self):\n",
    "        super().marry()\n",
    "        print('Katrina Kaif')\n",
    "\n",
    "c=C()\n",
    "c.property()\n",
    "c.marry() "
   ]
  },
  {
   "cell_type": "markdown",
   "metadata": {},
   "source": [
    "#### <center>2. Demo Program for Constructor overriding</center>"
   ]
  },
  {
   "cell_type": "code",
   "execution_count": 20,
   "metadata": {},
   "outputs": [
    {
     "name": "stdout",
     "output_type": "stream",
     "text": [
      "Child Constructor\n"
     ]
    }
   ],
   "source": [
    "class P:\n",
    "    def __init__(self):\n",
    "        print('Parent Constructor')\n",
    "\n",
    "class C(P):\n",
    "    def __init__(self):\n",
    "        print('Child Constructor')\n",
    "\n",
    "c=C() "
   ]
  },
  {
   "cell_type": "markdown",
   "metadata": {},
   "source": [
    "#### In the above example,if child class does not contain constructor then parent class constructor will be executed .From child class constuctor we can call parent class constructor by using super() method."
   ]
  },
  {
   "cell_type": "markdown",
   "metadata": {},
   "source": [
    "#### <center>3. Demo Program to call Parent class constructor by using super()</center>"
   ]
  },
  {
   "cell_type": "code",
   "execution_count": 21,
   "metadata": {},
   "outputs": [
    {
     "name": "stdout",
     "output_type": "stream",
     "text": [
      "Employee Name: Durga\n",
      "Employee Age: 48\n",
      "Employee Number: 872425\n",
      "Employee Salary: 26000\n",
      "Employee Name: Sunny\n",
      "Employee Age: 39\n",
      "Employee Number: 872426\n",
      "Employee Salary: 36000\n"
     ]
    }
   ],
   "source": [
    "class Person:\n",
    "    def __init__(self,name,age):\n",
    "        self.name=name\n",
    "        self.age=age\n",
    "\n",
    "class Employee(Person):\n",
    "    def __init__(self,name,age,eno,esal):\n",
    "        super().__init__(name,age)\n",
    "        self.eno=eno\n",
    "        self.esal=esal\n",
    "\n",
    "\n",
    "    def display(self):\n",
    "        print('Employee Name:',self.name)\n",
    "        print('Employee Age:',self.age)\n",
    "        print('Employee Number:',self.eno)\n",
    "        print('Employee Salary:',self.esal)\n",
    "\n",
    "e1=Employee('Durga',48,872425,26000)\n",
    "e1.display()\n",
    "e2=Employee('Sunny',39,872426,36000)\n",
    "e2.display()"
   ]
  }
 ],
 "metadata": {
  "kernelspec": {
   "display_name": "Python 3",
   "language": "python",
   "name": "python3"
  },
  "language_info": {
   "codemirror_mode": {
    "name": "ipython",
    "version": 3
   },
   "file_extension": ".py",
   "mimetype": "text/x-python",
   "name": "python",
   "nbconvert_exporter": "python",
   "pygments_lexer": "ipython3",
   "version": "3.8.5"
  }
 },
 "nbformat": 4,
 "nbformat_minor": 4
}
