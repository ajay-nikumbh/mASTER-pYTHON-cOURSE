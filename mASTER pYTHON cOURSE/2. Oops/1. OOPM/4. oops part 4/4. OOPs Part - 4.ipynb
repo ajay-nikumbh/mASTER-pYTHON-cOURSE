{
 "cells": [
  {
   "cell_type": "markdown",
   "metadata": {},
   "source": [
    "#### <center>1. Abstract Method</center>\n",
    "#### Sometimes we don't know about implementation,still we can declare a method. Such type of methods are called abstract methods.i.e abstract method has only declaration but not implementation.\n",
    "#### In python we can declare abstract method by using @abstractmethod decorator as follows. @abstractmethod\n",
    "#### def m1(self): pass\n",
    "#### @abstractmethod decorator present in abc module. Hence compulsory we should import abc module,otherwise we will get error.\n",
    "#### abc==>abstract base class module\n"
   ]
  },
  {
   "cell_type": "code",
   "execution_count": 1,
   "metadata": {},
   "outputs": [
    {
     "ename": "NameError",
     "evalue": "name 'abstractmethod' is not defined",
     "output_type": "error",
     "traceback": [
      "\u001b[1;31m---------------------------------------------------------------------------\u001b[0m",
      "\u001b[1;31mNameError\u001b[0m                                 Traceback (most recent call last)",
      "\u001b[1;32m<ipython-input-1-024f420f9bcb>\u001b[0m in \u001b[0;36m<module>\u001b[1;34m\u001b[0m\n\u001b[1;32m----> 1\u001b[1;33m \u001b[1;32mclass\u001b[0m \u001b[0mTest\u001b[0m\u001b[1;33m:\u001b[0m\u001b[1;33m\u001b[0m\u001b[1;33m\u001b[0m\u001b[0m\n\u001b[0m\u001b[0;32m      2\u001b[0m \u001b[1;33m\u001b[0m\u001b[0m\n\u001b[0;32m      3\u001b[0m     \u001b[1;33m@\u001b[0m\u001b[0mabstractmethod\u001b[0m\u001b[1;33m\u001b[0m\u001b[1;33m\u001b[0m\u001b[0m\n\u001b[0;32m      4\u001b[0m     \u001b[1;32mdef\u001b[0m \u001b[0mm1\u001b[0m\u001b[1;33m(\u001b[0m\u001b[0mself\u001b[0m\u001b[1;33m)\u001b[0m\u001b[1;33m:\u001b[0m\u001b[1;33m\u001b[0m\u001b[1;33m\u001b[0m\u001b[0m\n\u001b[0;32m      5\u001b[0m         \u001b[1;32mpass\u001b[0m\u001b[1;33m\u001b[0m\u001b[1;33m\u001b[0m\u001b[0m\n",
      "\u001b[1;32m<ipython-input-1-024f420f9bcb>\u001b[0m in \u001b[0;36mTest\u001b[1;34m()\u001b[0m\n\u001b[0;32m      1\u001b[0m \u001b[1;32mclass\u001b[0m \u001b[0mTest\u001b[0m\u001b[1;33m:\u001b[0m\u001b[1;33m\u001b[0m\u001b[1;33m\u001b[0m\u001b[0m\n\u001b[0;32m      2\u001b[0m \u001b[1;33m\u001b[0m\u001b[0m\n\u001b[1;32m----> 3\u001b[1;33m     \u001b[1;33m@\u001b[0m\u001b[0mabstractmethod\u001b[0m\u001b[1;33m\u001b[0m\u001b[1;33m\u001b[0m\u001b[0m\n\u001b[0m\u001b[0;32m      4\u001b[0m     \u001b[1;32mdef\u001b[0m \u001b[0mm1\u001b[0m\u001b[1;33m(\u001b[0m\u001b[0mself\u001b[0m\u001b[1;33m)\u001b[0m\u001b[1;33m:\u001b[0m\u001b[1;33m\u001b[0m\u001b[1;33m\u001b[0m\u001b[0m\n\u001b[0;32m      5\u001b[0m         \u001b[1;32mpass\u001b[0m\u001b[1;33m\u001b[0m\u001b[1;33m\u001b[0m\u001b[0m\n",
      "\u001b[1;31mNameError\u001b[0m: name 'abstractmethod' is not defined"
     ]
    }
   ],
   "source": [
    "class Test:\n",
    "\n",
    "    @abstractmethod\n",
    "    def m1(self):\n",
    "        pass "
   ]
  },
  {
   "cell_type": "markdown",
   "metadata": {},
   "source": [
    "#### Note: Child classes are responsible to provide implemention for parent class abstract methods."
   ]
  },
  {
   "cell_type": "code",
   "execution_count": 3,
   "metadata": {},
   "outputs": [],
   "source": [
    "from abc import *\n",
    "\n",
    "class Test:\n",
    "    @abstractmethod\n",
    "    def m1(self):\n",
    "        pass "
   ]
  },
  {
   "cell_type": "code",
   "execution_count": 4,
   "metadata": {},
   "outputs": [],
   "source": [
    "from abc import *\n",
    "class Fruit:\n",
    "    @abstractmethod\n",
    "    def taste(self):\n",
    "        pass "
   ]
  },
  {
   "cell_type": "markdown",
   "metadata": {},
   "source": [
    "#### <center>2. Abstract class</center>\n",
    "#### Some times implementation of a class is not complete,such type of partially implementation classes are called abstract classes. \n",
    "#### Every abstract class in Python should be derived from ABC class which is present in abc module."
   ]
  },
  {
   "cell_type": "markdown",
   "metadata": {},
   "source": [
    "#### Case-1:"
   ]
  },
  {
   "cell_type": "code",
   "execution_count": 5,
   "metadata": {},
   "outputs": [],
   "source": [
    "from abc import *\n",
    " \n",
    "class Test:\n",
    "    pass\n",
    "\n",
    "t=Test() "
   ]
  },
  {
   "cell_type": "markdown",
   "metadata": {},
   "source": [
    "#### In the above code we can create object for Test class b'z it is concrete class and it does not conatin any abstract method."
   ]
  },
  {
   "cell_type": "markdown",
   "metadata": {},
   "source": [
    "#### Case-2:"
   ]
  },
  {
   "cell_type": "code",
   "execution_count": 6,
   "metadata": {},
   "outputs": [],
   "source": [
    "from abc import *\n",
    "\n",
    "class Test(ABC):\n",
    "    pass\n",
    "\n",
    "t=Test()\n"
   ]
  },
  {
   "cell_type": "markdown",
   "metadata": {},
   "source": [
    "#### In the above code we can create object,even it is derived from ABC class,b'z it does not contain any abstract method."
   ]
  },
  {
   "cell_type": "markdown",
   "metadata": {},
   "source": [
    "#### Case-3"
   ]
  },
  {
   "cell_type": "code",
   "execution_count": 1,
   "metadata": {},
   "outputs": [
    {
     "ename": "TypeError",
     "evalue": "Can't instantiate abstract class Test with abstract methods m1",
     "output_type": "error",
     "traceback": [
      "\u001b[1;31m---------------------------------------------------------------------------\u001b[0m",
      "\u001b[1;31mTypeError\u001b[0m                                 Traceback (most recent call last)",
      "\u001b[1;32m<ipython-input-1-f1b315529192>\u001b[0m in \u001b[0;36m<module>\u001b[1;34m\u001b[0m\n\u001b[0;32m      6\u001b[0m         \u001b[1;32mpass\u001b[0m\u001b[1;33m\u001b[0m\u001b[1;33m\u001b[0m\u001b[0m\n\u001b[0;32m      7\u001b[0m \u001b[1;33m\u001b[0m\u001b[0m\n\u001b[1;32m----> 8\u001b[1;33m \u001b[0mt\u001b[0m\u001b[1;33m=\u001b[0m\u001b[0mTest\u001b[0m\u001b[1;33m(\u001b[0m\u001b[1;33m)\u001b[0m\u001b[1;33m\u001b[0m\u001b[1;33m\u001b[0m\u001b[0m\n\u001b[0m",
      "\u001b[1;31mTypeError\u001b[0m: Can't instantiate abstract class Test with abstract methods m1"
     ]
    }
   ],
   "source": [
    "from abc import *\n",
    " \n",
    "class Test(ABC):\n",
    "    @abstractmethod\n",
    "    def m1(self):\n",
    "        pass\n",
    "\n",
    "t=Test() "
   ]
  },
  {
   "cell_type": "markdown",
   "metadata": {},
   "source": [
    "#### Case-4"
   ]
  },
  {
   "cell_type": "code",
   "execution_count": 2,
   "metadata": {},
   "outputs": [],
   "source": [
    "from abc import *\n",
    "\n",
    "class Test:\n",
    "    @abstractmethod\n",
    "    def m1(self):\n",
    "        pass\n",
    "t=Test() "
   ]
  },
  {
   "cell_type": "markdown",
   "metadata": {},
   "source": [
    "#### We can create object even class contains abstract method b'z we are not extending ABC class."
   ]
  },
  {
   "cell_type": "markdown",
   "metadata": {},
   "source": [
    "#### Case-5"
   ]
  },
  {
   "cell_type": "code",
   "execution_count": 3,
   "metadata": {},
   "outputs": [
    {
     "name": "stdout",
     "output_type": "stream",
     "text": [
      "Hello\n"
     ]
    }
   ],
   "source": [
    "from abc import *\n",
    "class Test:\n",
    "    @abstractmethod\n",
    "    def m1(self):\n",
    "        print('Hello')\n",
    "\n",
    "t=Test()\n",
    "t.m1() "
   ]
  },
  {
   "cell_type": "markdown",
   "metadata": {},
   "source": [
    "#### Conclusion: If a class contains atleast one abstract method and if we are extending ABC class then instantiation is not possible.\n",
    "#### \"abstract class with abstract method instantiation is not possible\"\n",
    "#### Parent class abstract methods should be implemented in the child classes. otherwise we cannot instantiate child class.If we are not creating child class object then we won't get any error.\n",
    "\n"
   ]
  },
  {
   "cell_type": "markdown",
   "metadata": {},
   "source": [
    "#### Case-1"
   ]
  },
  {
   "cell_type": "code",
   "execution_count": 4,
   "metadata": {},
   "outputs": [],
   "source": [
    "from abc import *\n",
    "\n",
    "class Vehicle(ABC):\n",
    "    @abstractmethod\n",
    "    def noofwheels(self):\n",
    "        pass\n",
    "\n",
    "class Bus(Vehicle):\n",
    "    pass "
   ]
  },
  {
   "cell_type": "markdown",
   "metadata": {},
   "source": [
    "#### Case-2"
   ]
  },
  {
   "cell_type": "code",
   "execution_count": 5,
   "metadata": {},
   "outputs": [
    {
     "ename": "TypeError",
     "evalue": "Can't instantiate abstract class Bus with abstract methods noofwheels",
     "output_type": "error",
     "traceback": [
      "\u001b[1;31m---------------------------------------------------------------------------\u001b[0m",
      "\u001b[1;31mTypeError\u001b[0m                                 Traceback (most recent call last)",
      "\u001b[1;32m<ipython-input-5-873f96c8e09e>\u001b[0m in \u001b[0;36m<module>\u001b[1;34m\u001b[0m\n\u001b[0;32m      9\u001b[0m     \u001b[1;32mpass\u001b[0m\u001b[1;33m\u001b[0m\u001b[1;33m\u001b[0m\u001b[0m\n\u001b[0;32m     10\u001b[0m \u001b[1;33m\u001b[0m\u001b[0m\n\u001b[1;32m---> 11\u001b[1;33m \u001b[0mb\u001b[0m\u001b[1;33m=\u001b[0m\u001b[0mBus\u001b[0m\u001b[1;33m(\u001b[0m\u001b[1;33m)\u001b[0m\u001b[1;33m\u001b[0m\u001b[1;33m\u001b[0m\u001b[0m\n\u001b[0m",
      "\u001b[1;31mTypeError\u001b[0m: Can't instantiate abstract class Bus with abstract methods noofwheels"
     ]
    }
   ],
   "source": [
    "from abc import *\n",
    "\n",
    "class Vehicle(ABC):\n",
    "    @abstractmethod\n",
    "    def noofwheels(self):\n",
    "        pass\n",
    "\n",
    "class Bus(Vehicle): \n",
    "    pass\n",
    "\n",
    "b=Bus() "
   ]
  },
  {
   "cell_type": "markdown",
   "metadata": {},
   "source": [
    "#### Note: If we are extending abstract class and does not override its abstract method then child class is also abstract and instantiation is not possible."
   ]
  },
  {
   "cell_type": "code",
   "execution_count": 6,
   "metadata": {},
   "outputs": [
    {
     "name": "stdout",
     "output_type": "stream",
     "text": [
      "7\n",
      "3\n"
     ]
    }
   ],
   "source": [
    "from abc import *\n",
    "\n",
    "class Vehicle(ABC):\n",
    "    @abstractmethod\n",
    "    def noofwheels(self):\n",
    "        pass\n",
    "\n",
    "class Bus(Vehicle):\n",
    "    def noofwheels(self):\n",
    "        return 7\n",
    "\n",
    "class Auto(Vehicle):\n",
    "    def noofwheels(self):\n",
    "        return 3\n",
    "\n",
    "b=Bus()\n",
    "print(b.noofwheels())#7\n",
    "\n",
    "a=Auto()\n",
    "print(a.noofwheels())#3"
   ]
  },
  {
   "cell_type": "markdown",
   "metadata": {},
   "source": [
    "#### Note: Abstract class can contain both abstract and non-abstract methods also."
   ]
  },
  {
   "cell_type": "markdown",
   "metadata": {},
   "source": [
    "#### <center>3. Interfaces In Python</center>\n",
    "#### In general if an abstract class contains only abstract methods such type of abstract class is considered as interface."
   ]
  },
  {
   "cell_type": "code",
   "execution_count": 7,
   "metadata": {},
   "outputs": [
    {
     "name": "stdout",
     "output_type": "stream",
     "text": [
      "Enter Database Name:Sybase\n",
      "Connecting to Sybase Database...\n",
      "Disconnecting to Sybase Database...\n"
     ]
    }
   ],
   "source": [
    "from abc import *\n",
    "\n",
    "class DBInterface(ABC):\n",
    "    @abstractmethod\n",
    "    def connect(self):\n",
    "        pass\n",
    "\n",
    "    @abstractmethod\n",
    "    def disconnect(self):\n",
    "        pass\n",
    "\n",
    "class Oracle(DBInterface):\n",
    "    def connect(self):\n",
    "        print('Connecting to Oracle Database...')\n",
    " \n",
    "    def disconnect(self):\n",
    "        print('Disconnecting to Oracle Database...')\n",
    "\n",
    "class Sybase(DBInterface):\n",
    "    def connect(self):\n",
    "        print('Connecting to Sybase Database...')\n",
    " \n",
    "    def disconnect(self):\n",
    "        print('Disconnecting to Sybase Database...')\n",
    "\n",
    "dbname=input('Enter Database Name:')\n",
    "classname=globals()[dbname]\n",
    "x=classname()\n",
    "x.connect()\n",
    "x.disconnect()"
   ]
  },
  {
   "cell_type": "markdown",
   "metadata": {},
   "source": [
    "#### Note: The inbuilt function globals()[str] converts the string 'str' into a class name and returns the classname."
   ]
  },
  {
   "cell_type": "markdown",
   "metadata": {},
   "source": [
    "#### <center>4. Concreate class vs Abstract Class vs Inteface</center>\n",
    "#### 1. If we dont know anything about implementation just we have requirement specification then we should go for interface.\n",
    "#### 2. If we are talking about implementation but not completely then we should go for abstract class.(partially implemented class)\n",
    "#### 3. If we are talking about implementation completely and ready to provide service then we should go for concrete class."
   ]
  },
  {
   "cell_type": "code",
   "execution_count": 8,
   "metadata": {},
   "outputs": [
    {
     "name": "stdout",
     "output_type": "stream",
     "text": [
      "m1 method implementation\n",
      "m2 method implementation\n",
      "m3 method implemnentation\n"
     ]
    }
   ],
   "source": [
    "from abc import *\n",
    "\n",
    "class CollegeAutomation(ABC):\n",
    "    @abstractmethod\n",
    "    def m1(self): \n",
    "        pass\n",
    "\n",
    "    @abstractmethod\n",
    "    def m2(self):\n",
    "        pass\n",
    " \n",
    "    @abstractmethod\n",
    "    def m3(self):\n",
    "        pass\n",
    "\n",
    "class AbsCls(CollegeAutomation):\n",
    "    def m1(self):\n",
    "        print('m1 method implementation')\n",
    "\n",
    "    def m2(self):\n",
    "        print('m2 method implementation')\n",
    "\n",
    "class ConcreteCls(AbsCls):\n",
    "    def m3(self):\n",
    "        print('m3 method implemnentation')\n",
    "\n",
    "c=ConcreteCls()\n",
    "c.m1()\n",
    "c.m2()\n",
    "c.m3()"
   ]
  },
  {
   "cell_type": "markdown",
   "metadata": {},
   "source": [
    "#### <center>5. Public, Protected and Private Attributes</center>\n",
    "#### By default every attribute is public. We can access from anywhere either within the class or from outside of the class.\n",
    "#### Eg: name='durga'\n",
    "#### Protected attributes can be accessed within the class anywhere but from outside of the class only in child classes. We can specify an attribute as protected by prefexing with _ symbol.\n",
    "#### syntax: _variablename=value\n",
    "#### Eg: _name='durga'\n",
    "#### But is is just convention and in reality does not exists protected attributes.\n",
    "#### private attributes can be accessed only within the class.i.e from outside of the class we cannot access. \n",
    "#### We can declare a variable as private explicitly by prefexing with 2 underscore symbols.\n",
    "#### syntax: __variablename=value\n",
    "#### Eg: __name='durga'\n"
   ]
  },
  {
   "cell_type": "code",
   "execution_count": 9,
   "metadata": {},
   "outputs": [
    {
     "name": "stdout",
     "output_type": "stream",
     "text": [
      "10\n",
      "20\n",
      "30\n",
      "10\n",
      "20\n"
     ]
    },
    {
     "ename": "AttributeError",
     "evalue": "type object 'Test' has no attribute '__z'",
     "output_type": "error",
     "traceback": [
      "\u001b[1;31m---------------------------------------------------------------------------\u001b[0m",
      "\u001b[1;31mAttributeError\u001b[0m                            Traceback (most recent call last)",
      "\u001b[1;32m<ipython-input-9-19851e0dc68d>\u001b[0m in \u001b[0;36m<module>\u001b[1;34m\u001b[0m\n\u001b[0;32m     14\u001b[0m \u001b[0mprint\u001b[0m\u001b[1;33m(\u001b[0m\u001b[0mTest\u001b[0m\u001b[1;33m.\u001b[0m\u001b[0mx\u001b[0m\u001b[1;33m)\u001b[0m\u001b[1;33m\u001b[0m\u001b[1;33m\u001b[0m\u001b[0m\n\u001b[0;32m     15\u001b[0m \u001b[0mprint\u001b[0m\u001b[1;33m(\u001b[0m\u001b[0mTest\u001b[0m\u001b[1;33m.\u001b[0m\u001b[0m_y\u001b[0m\u001b[1;33m)\u001b[0m\u001b[1;33m\u001b[0m\u001b[1;33m\u001b[0m\u001b[0m\n\u001b[1;32m---> 16\u001b[1;33m \u001b[0mprint\u001b[0m\u001b[1;33m(\u001b[0m\u001b[0mTest\u001b[0m\u001b[1;33m.\u001b[0m\u001b[0m__z\u001b[0m\u001b[1;33m)\u001b[0m\u001b[1;33m\u001b[0m\u001b[1;33m\u001b[0m\u001b[0m\n\u001b[0m",
      "\u001b[1;31mAttributeError\u001b[0m: type object 'Test' has no attribute '__z'"
     ]
    }
   ],
   "source": [
    "class Test:\n",
    "    x=10\n",
    "    _y=20\n",
    "    __z=30\n",
    "\n",
    "    def m1(self):\n",
    "        print(Test.x)\n",
    "        print(Test._y)\n",
    "        print(Test.__z)\n",
    "\n",
    "\n",
    "t=Test()\n",
    "t.m1()\n",
    "print(Test.x)\n",
    "print(Test._y)\n",
    "print(Test.__z) "
   ]
  },
  {
   "cell_type": "markdown",
   "metadata": {},
   "source": [
    "#### <center>6. How to access private variables from outside of the class</center>\n",
    "#### We cannot access private variables directly from outside of the class.\n",
    "#### But we can access indirectly as follows: objectreference._classname__variablename"
   ]
  },
  {
   "cell_type": "code",
   "execution_count": 10,
   "metadata": {},
   "outputs": [
    {
     "name": "stdout",
     "output_type": "stream",
     "text": [
      "10\n"
     ]
    }
   ],
   "source": [
    "class Test:\n",
    "    def __init__(self):\n",
    "        self.__x=10\n",
    "\n",
    "t=Test()\n",
    "print(t._Test__x)#10 "
   ]
  },
  {
   "cell_type": "markdown",
   "metadata": {},
   "source": [
    "#### <center>7. __str__() method</center>\n",
    "#### Whenever we are printing any object reference internally __str__() method will be called which is returns string in the following format\n",
    "#### <__main__.classname object at 0x022144B0>\n",
    "#### To return meaningful string representation we have to override __str__() method.\n"
   ]
  },
  {
   "cell_type": "code",
   "execution_count": 13,
   "metadata": {},
   "outputs": [
    {
     "name": "stdout",
     "output_type": "stream",
     "text": [
      "This is Student with Name:Durga  and Rollno:101\n",
      "This is Student with Name:Ravi  and Rollno:102\n"
     ]
    }
   ],
   "source": [
    "class Student:\n",
    "    def __init__(self,name,rollno):\n",
    "        self.name=name\n",
    "        self.rollno=rollno\n",
    "\n",
    "    def __str__(self):\n",
    "        return 'This is Student with Name:{} and Rollno:{}'.format(self.name ,self.rollno)\n",
    "\n",
    "s1=Student('Durga ',101)\n",
    "s2=Student('Ravi ',102)\n",
    "print(s1)\n",
    "print(s2)"
   ]
  },
  {
   "cell_type": "markdown",
   "metadata": {},
   "source": [
    "#### <center>8. Difference between str() and repr() OR Difference between __str__() and __repr__()</center>\n",
    "\n",
    "#### str() internally calls __str__() function and hence functionality of both is same\n",
    "#### Similarly,repr() internally calls __repr__() function and hence functionality of both is same.\n",
    "#### str() returns a string containing a nicely printable representation object.\n",
    "#### The main purpose of str() is for readability.It may not possible to convert result string to original object.\n"
   ]
  },
  {
   "cell_type": "code",
   "execution_count": 14,
   "metadata": {},
   "outputs": [
    {
     "name": "stdout",
     "output_type": "stream",
     "text": [
      "2021-06-15 17:12:22.841027\n"
     ]
    },
    {
     "ename": "SyntaxError",
     "evalue": "leading zeros in decimal integer literals are not permitted; use an 0o prefix for octal integers (<string>, line 1)",
     "output_type": "error",
     "traceback": [
      "Traceback \u001b[1;36m(most recent call last)\u001b[0m:\n",
      "  File \u001b[0;32m\"C:\\ProgramData\\Anaconda3\\lib\\site-packages\\IPython\\core\\interactiveshell.py\"\u001b[0m, line \u001b[0;32m3418\u001b[0m, in \u001b[0;35mrun_code\u001b[0m\n    exec(code_obj, self.user_global_ns, self.user_ns)\n",
      "\u001b[1;36m  File \u001b[1;32m\"<ipython-input-14-ce2890889298>\"\u001b[1;36m, line \u001b[1;32m6\u001b[1;36m, in \u001b[1;35m<module>\u001b[1;36m\u001b[0m\n\u001b[1;33m    d=eval(s)#converting str object to datetime\u001b[0m\n",
      "\u001b[1;36m  File \u001b[1;32m\"<string>\"\u001b[1;36m, line \u001b[1;32m1\u001b[0m\n\u001b[1;33m    2021-06-15 17:12:22.841027\u001b[0m\n\u001b[1;37m          ^\u001b[0m\n\u001b[1;31mSyntaxError\u001b[0m\u001b[1;31m:\u001b[0m leading zeros in decimal integer literals are not permitted; use an 0o prefix for octal integers\n"
     ]
    }
   ],
   "source": [
    "import datetime\n",
    "\n",
    "today=datetime.datetime.now()\n",
    "s=str(today)#converting datetime object to str\n",
    "print(s)\n",
    "d=eval(s)#converting str object to datetime "
   ]
  },
  {
   "cell_type": "markdown",
   "metadata": {},
   "source": [
    "#### But repr() returns a string containing a printable representation of object.\n",
    "#### The main goal of repr() is unambigouous. We can convert result string to original object by using eval() function,which may not possible in str() function."
   ]
  },
  {
   "cell_type": "code",
   "execution_count": 15,
   "metadata": {},
   "outputs": [
    {
     "name": "stdout",
     "output_type": "stream",
     "text": [
      "datetime.datetime(2021, 6, 15, 17, 13, 10, 826802)\n",
      "2021-06-15 17:13:10.826802\n"
     ]
    }
   ],
   "source": [
    "import datetime\n",
    "\n",
    "today=datetime.datetime.now()\n",
    "s=repr(today)#converting datetime object to str\n",
    "print(s)\n",
    "d=eval(s)#converting str object to datetime\n",
    "print(d) "
   ]
  },
  {
   "cell_type": "markdown",
   "metadata": {},
   "source": [
    "#### Note: It is recommended to use repr() instead of str()\n"
   ]
  },
  {
   "cell_type": "markdown",
   "metadata": {},
   "source": [
    "#### <center>9. Mini Project: Banking Application</center>"
   ]
  },
  {
   "cell_type": "code",
   "execution_count": 16,
   "metadata": {},
   "outputs": [
    {
     "name": "stdout",
     "output_type": "stream",
     "text": [
      "Durga's Savings Account with Balance :10000\n",
      "Account Balance: 15000\n",
      "Sorry, Insufficient Funds\n",
      "Durga's Savings Account with Balance :0\n",
      "Ravi's Current Account with Balance :26000\n",
      "Ravi's Current Account with Balance :-1000\n"
     ]
    }
   ],
   "source": [
    "class Account:\n",
    "    def __init__(self,name,balance,min_balance):\n",
    "        self.name=name\n",
    "        self.balance=balance\n",
    "        self.min_balance=min_balance\n",
    "\n",
    "    def deposit(self,amount):\n",
    "        self.balance +=amount\n",
    "\n",
    "    def withdraw(self,amount):\n",
    "        if self.balance-amount >= self.min_balance:\n",
    "            self.balance -=amount\n",
    "    \n",
    "        else:\n",
    "            print(\"Sorry, Insufficient Funds\")\n",
    "\n",
    "        \n",
    "    def printStatement(self):\n",
    "        print(\"Account Balance:\",self.balance)\n",
    "\n",
    "\n",
    "class Current(Account):\n",
    "    def __init__(self,name,balance):\n",
    "        super().__init__(name,balance,min_balance=-1000)\n",
    "\n",
    "    def __str__(self):\n",
    "        return \"{}'s Current Account with Balance :{}\".format(self.name,self.balance)\n",
    "\n",
    "    \n",
    "class Savings(Account):\n",
    "    def __init__(self,name,balance):\n",
    "        super().__init__(name,balance,min_balance=0)\n",
    "\n",
    "    def __str__(self):\n",
    "        return \"{}'s Savings Account with Balance :{}\".format(self.name,self.balance)\n",
    "\n",
    "\n",
    "c=Savings(\"Durga\",10000)\n",
    "print(c)\n",
    "c.deposit(5000)\n",
    "c.printStatement()\n",
    "c.withdraw(16000)\n",
    "c.withdraw(15000)\n",
    "print(c)\n",
    "\n",
    "c2=Current('Ravi',20000)\n",
    "c2.deposit(6000)\n",
    "print(c2)\n",
    "c2.withdraw(27000)\n",
    "print(c2)"
   ]
  }
 ],
 "metadata": {
  "kernelspec": {
   "display_name": "Python 3",
   "language": "python",
   "name": "python3"
  },
  "language_info": {
   "codemirror_mode": {
    "name": "ipython",
    "version": 3
   },
   "file_extension": ".py",
   "mimetype": "text/x-python",
   "name": "python",
   "nbconvert_exporter": "python",
   "pygments_lexer": "ipython3",
   "version": "3.8.5"
  }
 },
 "nbformat": 4,
 "nbformat_minor": 4
}
