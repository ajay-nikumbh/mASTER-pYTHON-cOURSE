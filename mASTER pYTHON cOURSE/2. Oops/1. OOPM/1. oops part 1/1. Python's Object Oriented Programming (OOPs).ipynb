{
 "cells": [
  {
   "cell_type": "markdown",
   "metadata": {},
   "source": [
    "### <center>Python Object Oreinted Programming</center>"
   ]
  },
  {
   "cell_type": "markdown",
   "metadata": {},
   "source": [
    "#### <center>1. What is Class</center>\n",
    "#### In Python every thing is an object. To create objects we required some Model or Plan or Blue print, which is nothing but class.\n",
    "####  We can write a class to represent properties (attributes) and actions (behaviour) of object.\n",
    "####  Properties can be represented by variables.\n",
    "####  Actions can be represented by Methods.\n",
    "####  Hence class contains both variables and methods."
   ]
  },
  {
   "cell_type": "markdown",
   "metadata": {},
   "source": [
    "#### <center>2. How to Define a class?</center>\n",
    "#### We can define a class by using class keyword\n",
    "#### Syntax: class className: ''' documenttation string '''\n",
    "#### variables:instance variables,static and local variables\n",
    "#### methods: instance methods,static methods,class methods\n",
    "##### Documentation string represents description of the class. Within the class doc string is always optional. We can get doc string by using the following 2 ways.\n",
    "#### 1. print(classname.__doc__)\n",
    "#### 2. help(classname)"
   ]
  },
  {
   "cell_type": "code",
   "execution_count": 11,
   "metadata": {},
   "outputs": [
    {
     "name": "stdout",
     "output_type": "stream",
     "text": [
      "Hello I am : durga\n",
      "My Age is: 40\n",
      "My Marks are: 80\n"
     ]
    }
   ],
   "source": [
    "class Student:\n",
    "    def __init__(self):\n",
    "        self.name='durga'\n",
    "        self.age=40\n",
    "        self.marks=80\n",
    "\n",
    "    def talk(self):\n",
    "        print(\"Hello I am :\",self.name)\n",
    "        print(\"My Age is:\",self.age)\n",
    "        print(\"My Marks are:\",self.marks) \n",
    "        \n",
    "s= Student()\n",
    "s.name\n",
    "s.talk()"
   ]
  },
  {
   "cell_type": "markdown",
   "metadata": {},
   "source": [
    "#### <center>3. What is Object</center>\n",
    "#### Pysical existence of a class is nothing but object. We can create any number of objects for a class.\n",
    "#### Syntax to create object: referencevariable = classname()\n",
    "#### Example: s = Student()"
   ]
  },
  {
   "cell_type": "code",
   "execution_count": 13,
   "metadata": {},
   "outputs": [
    {
     "name": "stdout",
     "output_type": "stream",
     "text": [
      "Hello I am : durga\n",
      "My Age is: 40\n",
      "My Marks are: 80\n"
     ]
    }
   ],
   "source": [
    "s=Student()\n",
    "s.talk()"
   ]
  },
  {
   "cell_type": "markdown",
   "metadata": {},
   "source": [
    "#### <center>4. What is Reference Variable</center>\n",
    "#### The variable which can be used to refer object is called reference variable. By using reference variable, we can access properties and methods of object."
   ]
  },
  {
   "cell_type": "code",
   "execution_count": 20,
   "metadata": {},
   "outputs": [
    {
     "name": "stdout",
     "output_type": "stream",
     "text": [
      "Hello I am   : Durga-Soft\n",
      "My Rollno is : 101\n",
      "My Marks are : 80\n"
     ]
    }
   ],
   "source": [
    "class Student:\n",
    "    def __init__(self,name,rollno,marks):\n",
    "        self.name= name\n",
    "        self.rollno=rollno \n",
    "        self.marks=marks \n",
    "\n",
    "    def talk(self):\n",
    "        print(\"Hello I am   :\",self.name)\n",
    "        print(\"My Rollno is :\",self.rollno) \n",
    "        print(\"My Marks are :\",self.marks) \n",
    "        \n",
    "s1=Student(\"Durga-Soft\",101,80) \n",
    "s1.talk()"
   ]
  },
  {
   "cell_type": "markdown",
   "metadata": {},
   "source": [
    "#### <center>5. Self variable</center>\n",
    "#### self is the default variable which is always pointing to current object (like this keyword in Java)\n",
    "#### By using self we can access instance variables and instance methods of object.\n",
    "#### Note:\n",
    "#### 1. self should be first parameter inside constructor\n",
    "#### 2. self should be first parameter inside instance methods\n",
    " "
   ]
  },
  {
   "cell_type": "code",
   "execution_count": null,
   "metadata": {},
   "outputs": [],
   "source": [
    "def __init__(self):"
   ]
  },
  {
   "cell_type": "code",
   "execution_count": null,
   "metadata": {},
   "outputs": [],
   "source": [
    "def talk(self)"
   ]
  },
  {
   "cell_type": "markdown",
   "metadata": {},
   "source": [
    "#### <center>6. Constructor Concept</center>\n",
    "#### 1. Constructor is a special method in python.\n",
    "#### 2. The name of the constructor should be __init__(self)\n",
    "#### 3. Constructor will be executed automatically at the time of object creation.\n",
    "#### 4. The main purpose of constructor is to declare and initialize instance variables.\n",
    "#### 5.  Per object constructor will be exeucted only once.\n",
    "#### 6. Constructor can take atleast one argument(atleast self).\n",
    "#### 7. Constructor is optional and if we are not providing any constructor then python will provide default constructor."
   ]
  },
  {
   "cell_type": "code",
   "execution_count": 1,
   "metadata": {},
   "outputs": [],
   "source": [
    "def __init__(self,name,rollno,marks):\n",
    "    self.name=name\n",
    "    self.rollno=rollno\n",
    "    self.marks=marks "
   ]
  },
  {
   "cell_type": "code",
   "execution_count": 23,
   "metadata": {},
   "outputs": [
    {
     "name": "stdout",
     "output_type": "stream",
     "text": [
      "Construction Execution...\n",
      "Construction Execution...\n",
      "Method Execution....\n"
     ]
    }
   ],
   "source": [
    "class Test: \n",
    "    def __init__(self):\n",
    "        print(\"Construction Execution...\")\n",
    "        \n",
    "    def m1(self):\n",
    "        print(\"Method Execution....\")\n",
    "        \n",
    "t1= Test()\n",
    "t2= Test()\n",
    "t1.m1()"
   ]
  },
  {
   "cell_type": "code",
   "execution_count": 32,
   "metadata": {},
   "outputs": [
    {
     "name": "stdout",
     "output_type": "stream",
     "text": [
      "Student name:Durga\n",
      " Roll no:34 \n",
      " Marks:90\n"
     ]
    }
   ],
   "source": [
    "class Student: \n",
    "    def __init__(self,x,y,z):\n",
    "        self.name = x\n",
    "        self.rollno = y\n",
    "        self.marks = z\n",
    "        \n",
    "    def display(self):\n",
    "        print(\"Student name:{}\\n Roll no:{} \\n Marks:{}\".format(self.name,\n",
    "                                                        self.rollno,self.marks))\n",
    "        \n",
    "s1 =Student(\"Durga\" ,34,90)\n",
    "s1.display()"
   ]
  },
  {
   "cell_type": "markdown",
   "metadata": {},
   "source": [
    "#### <center>7. Types of Variables</center>\n",
    "#### Inside Python class 3 types of variables are allowed.\n",
    "#### 1. Instance Variables (Object Level Variables)\n",
    "#### 2. Static Variables (Class Level Variables)\n",
    "#### 3. Local variables (Method Level Variables)"
   ]
  },
  {
   "cell_type": "markdown",
   "metadata": {},
   "source": [
    "#### <center>1. Instance Variables</center>"
   ]
  },
  {
   "cell_type": "markdown",
   "metadata": {},
   "source": [
    "\n",
    "#### If the value of a variable is varied from object to object, then such type of variables are called instance variables.\n",
    "#### For every object a separate copy of instance variables will be created.\n",
    "#### Where we can declare Instance variables:\n",
    "#### 1. Inside Constructor by using self variable\n",
    "#### 2. Inside Instance Method by using self variable\n",
    "#### 3. Outside of the class by using object reference variable\n"
   ]
  },
  {
   "cell_type": "markdown",
   "metadata": {},
   "source": [
    "#### <center>1. Inside Constructor by using self variable</center>\n",
    "#### We can declare instance variables inside a constructor by using self keyword. Once we creates object, automatically these variables will be added to the object."
   ]
  },
  {
   "cell_type": "code",
   "execution_count": 34,
   "metadata": {},
   "outputs": [
    {
     "name": "stdout",
     "output_type": "stream",
     "text": [
      "{'eno': 100, 'ename': 'Durga', 'esal': 10000}\n"
     ]
    }
   ],
   "source": [
    "class Employee:\n",
    "    def __init__(self):\n",
    "        self.eno=100\n",
    "        self.ename='Durga'\n",
    "        self.esal=10000\n",
    "e=Employee() \n",
    "print(e.__dict__) "
   ]
  },
  {
   "cell_type": "markdown",
   "metadata": {},
   "source": [
    "#### <center>2. Inside Instance Method by using self variable</center>\n",
    "#### We can also declare instance variables inside instance method by using self variable. \n",
    "#### If any instance variable declared inside instance method, that instance variable will be added once we call that method."
   ]
  },
  {
   "cell_type": "code",
   "execution_count": 35,
   "metadata": {},
   "outputs": [
    {
     "name": "stdout",
     "output_type": "stream",
     "text": [
      "{'a': 10, 'b': 20, 'c': 30}\n"
     ]
    }
   ],
   "source": [
    "class Test:\n",
    "    def __init__(self):\n",
    "        self.a=10\n",
    "        self.b=20\n",
    "\n",
    "    def m1(self):\n",
    "        self.c=30\n",
    "\n",
    "t=Test()\n",
    "t.m1()\n",
    "print(t.__dict__) "
   ]
  },
  {
   "cell_type": "markdown",
   "metadata": {},
   "source": [
    "#### <center>3. Outside of the class by using object reference variable</center>\n",
    "#### We can also add instance variables outside of a class to a particular object."
   ]
  },
  {
   "cell_type": "code",
   "execution_count": 36,
   "metadata": {},
   "outputs": [
    {
     "name": "stdout",
     "output_type": "stream",
     "text": [
      "{'a': 10, 'b': 20, 'c': 30, 'd': 40}\n"
     ]
    }
   ],
   "source": [
    "class Test:\n",
    "    def __init__(self):\n",
    "        self.a=10\n",
    "        self.b=20\n",
    "\n",
    "    def m1(self):\n",
    "        self.c=30\n",
    "t=Test()\n",
    "t.m1()\n",
    "t.d=40\n",
    "print(t.__dict__) "
   ]
  },
  {
   "cell_type": "markdown",
   "metadata": {},
   "source": [
    "#### <center>4. How to access Instance variables</center>\n",
    "#### We can access instance variables with in the class by using self variable and outside of the class by using object reference."
   ]
  },
  {
   "cell_type": "code",
   "execution_count": 37,
   "metadata": {},
   "outputs": [
    {
     "name": "stdout",
     "output_type": "stream",
     "text": [
      "10\n",
      "20\n",
      "10 20\n"
     ]
    }
   ],
   "source": [
    "class Test:\n",
    "    def __init__(self):\n",
    "        self.a=10\n",
    "        self.b=20\n",
    "\n",
    "    def display(self):\n",
    "        print(self.a)\n",
    "        print(self.b)\n",
    "\n",
    "t=Test()\n",
    "t.display()\n",
    "print(t.a,t.b) "
   ]
  },
  {
   "cell_type": "markdown",
   "metadata": {},
   "source": [
    "#### <center>5. How to delete instance variable from the object</center>\n",
    "#### 1. Within a class we can delete instance variable as follows - del self.variableName\n",
    "#### 2. From outside of class we can delete instance variables as follows - del objectreference.variableName"
   ]
  },
  {
   "cell_type": "code",
   "execution_count": 39,
   "metadata": {},
   "outputs": [
    {
     "name": "stdout",
     "output_type": "stream",
     "text": [
      "{'a': 10, 'b': 20, 'c': 30, 'd': 40}\n",
      "{'a': 10, 'b': 20, 'c': 30}\n",
      "{'a': 10, 'b': 20}\n"
     ]
    }
   ],
   "source": [
    "class Test:\n",
    "    def __init__(self):\n",
    "        self.a=10\n",
    "        self.b=20\n",
    "        self.c=30\n",
    "        self.d=40\n",
    "        \n",
    "    def m1(self):\n",
    "        del self.d\n",
    "\n",
    "t=Test()\n",
    "print(t.__dict__) \n",
    "t.m1()\n",
    "print(t.__dict__)\n",
    "del t.c\n",
    "print(t.__dict__) "
   ]
  },
  {
   "cell_type": "markdown",
   "metadata": {},
   "source": [
    "#### Note: The instance variables which are deleted from one object,will not be deleted from other objects.\n"
   ]
  },
  {
   "cell_type": "markdown",
   "metadata": {},
   "source": [
    "#### Example"
   ]
  },
  {
   "cell_type": "code",
   "execution_count": 40,
   "metadata": {},
   "outputs": [
    {
     "name": "stdout",
     "output_type": "stream",
     "text": [
      "{'b': 20, 'c': 30, 'd': 40}\n",
      "{'a': 10, 'b': 20, 'c': 30, 'd': 40}\n"
     ]
    }
   ],
   "source": [
    "class Test:\n",
    "    def __init__(self):\n",
    "        self.a=10\n",
    "        self.b=20\n",
    "        self.c=30\n",
    "        self.d=40\n",
    "\n",
    "\n",
    "t1=Test()\n",
    "t2=Test()\n",
    "del t1.a\n",
    "print(t1.__dict__)\n",
    "print(t2.__dict__) "
   ]
  },
  {
   "cell_type": "markdown",
   "metadata": {},
   "source": [
    "#### Note: If we change the values of instance variables of one object then those changes won't be reflected to the remaining objects, because for every object we are separate copy of instance variables are available."
   ]
  },
  {
   "cell_type": "code",
   "execution_count": 43,
   "metadata": {},
   "outputs": [
    {
     "name": "stdout",
     "output_type": "stream",
     "text": [
      "t1: 888 999\n",
      "t2: 10 20\n"
     ]
    }
   ],
   "source": [
    "class Test:\n",
    "    def __init__(self):\n",
    "        self.a=10\n",
    "        self.b=20\n",
    "\n",
    "t1=Test()\n",
    "t1.a=888\n",
    "t1.b=999\n",
    "\n",
    "t2=Test()\n",
    "\n",
    "print('t1:',t1.a,t1.b) \n",
    "print('t2:',t2.a,t2.b) "
   ]
  },
  {
   "cell_type": "markdown",
   "metadata": {},
   "source": [
    "#### <center>2. Static variables</center>\n",
    "#### If the value of a variable is not varied from object to object, such type of variables we have to declare with in the class directly but outside of methods. Such type of variables are called Static variables.\n",
    "#### For total class only one copy of static variable will be created and shared by all objects of that class.\n",
    "#### We can access static variables either by class name or by object reference. But recommended to use class name."
   ]
  },
  {
   "cell_type": "markdown",
   "metadata": {},
   "source": [
    "#### <center>1. Instance Variable vs Static Variable</center>\n",
    "#### Note: In the case of instance variables for every object a seperate copy will be created,but in the case of static variables for total class only one copy will be created and shared by every object of that class."
   ]
  },
  {
   "cell_type": "code",
   "execution_count": 46,
   "metadata": {},
   "outputs": [
    {
     "name": "stdout",
     "output_type": "stream",
     "text": [
      "t1: 10 20\n",
      "t2: 10 20\n",
      "t1: 888 999\n",
      "t2: 888 20\n"
     ]
    }
   ],
   "source": [
    "class Test:\n",
    "    x=10\n",
    "    def __init__(self):\n",
    "        self.y=20\n",
    "        \n",
    "t1=Test()\n",
    "t2=Test()\n",
    "\n",
    "print('t1:',t1.x,t1.y)\n",
    "print('t2:',t2.x,t2.y)\n",
    " \n",
    "Test.x=888\n",
    "t1.y=999\n",
    "\n",
    "print('t1:',t1.x,t1.y)\n",
    "print('t2:',t2.x,t2.y) "
   ]
  },
  {
   "cell_type": "markdown",
   "metadata": {},
   "source": [
    "#### <center>2. Various places to declare static variables</center>\n",
    "#### 1. In general we can declare within the class directly but from out side of any method\n",
    "#### 2. Inside constructor by using class name\n",
    "#### 3. Inside instance method by using class name\n",
    "#### 4. Inside classmethod by using either class name or cls variable\n",
    "#### 5. Inside static method by using class name\n"
   ]
  },
  {
   "cell_type": "code",
   "execution_count": 47,
   "metadata": {},
   "outputs": [
    {
     "name": "stdout",
     "output_type": "stream",
     "text": [
      "{'__module__': '__main__', 'a': 10, '__init__': <function Test.__init__ at 0x00000196A2F7E8B0>, 'm1': <function Test.m1 at 0x00000196A2F7ECA0>, 'm2': <classmethod object at 0x00000196A2F77CA0>, 'm3': <staticmethod object at 0x00000196A2F77A00>, '__dict__': <attribute '__dict__' of 'Test' objects>, '__weakref__': <attribute '__weakref__' of 'Test' objects>, '__doc__': None}\n",
      "{'__module__': '__main__', 'a': 10, '__init__': <function Test.__init__ at 0x00000196A2F7E8B0>, 'm1': <function Test.m1 at 0x00000196A2F7ECA0>, 'm2': <classmethod object at 0x00000196A2F77CA0>, 'm3': <staticmethod object at 0x00000196A2F77A00>, '__dict__': <attribute '__dict__' of 'Test' objects>, '__weakref__': <attribute '__weakref__' of 'Test' objects>, '__doc__': None, 'b': 20}\n",
      "{'__module__': '__main__', 'a': 10, '__init__': <function Test.__init__ at 0x00000196A2F7E8B0>, 'm1': <function Test.m1 at 0x00000196A2F7ECA0>, 'm2': <classmethod object at 0x00000196A2F77CA0>, 'm3': <staticmethod object at 0x00000196A2F77A00>, '__dict__': <attribute '__dict__' of 'Test' objects>, '__weakref__': <attribute '__weakref__' of 'Test' objects>, '__doc__': None, 'b': 20, 'c': 30}\n",
      "{'__module__': '__main__', 'a': 10, '__init__': <function Test.__init__ at 0x00000196A2F7E8B0>, 'm1': <function Test.m1 at 0x00000196A2F7ECA0>, 'm2': <classmethod object at 0x00000196A2F77CA0>, 'm3': <staticmethod object at 0x00000196A2F77A00>, '__dict__': <attribute '__dict__' of 'Test' objects>, '__weakref__': <attribute '__weakref__' of 'Test' objects>, '__doc__': None, 'b': 20, 'c': 30, 'd1': 40, 'd2': 400}\n",
      "{'__module__': '__main__', 'a': 10, '__init__': <function Test.__init__ at 0x00000196A2F7E8B0>, 'm1': <function Test.m1 at 0x00000196A2F7ECA0>, 'm2': <classmethod object at 0x00000196A2F77CA0>, 'm3': <staticmethod object at 0x00000196A2F77A00>, '__dict__': <attribute '__dict__' of 'Test' objects>, '__weakref__': <attribute '__weakref__' of 'Test' objects>, '__doc__': None, 'b': 20, 'c': 30, 'd1': 40, 'd2': 400, 'e': 50}\n",
      "{'__module__': '__main__', 'a': 10, '__init__': <function Test.__init__ at 0x00000196A2F7E8B0>, 'm1': <function Test.m1 at 0x00000196A2F7ECA0>, 'm2': <classmethod object at 0x00000196A2F77CA0>, 'm3': <staticmethod object at 0x00000196A2F77A00>, '__dict__': <attribute '__dict__' of 'Test' objects>, '__weakref__': <attribute '__weakref__' of 'Test' objects>, '__doc__': None, 'b': 20, 'c': 30, 'd1': 40, 'd2': 400, 'e': 50, 'f': 60}\n"
     ]
    }
   ],
   "source": [
    "class Test:\n",
    "    a=10\n",
    "    def __init__(self):\n",
    "        Test.b=20\n",
    "    \n",
    "    def m1(self):\n",
    "        Test.c=30\n",
    "        \n",
    "    @classmethod\n",
    "    def m2(cls):\n",
    "        cls.d1=40\n",
    "        Test.d2=400\n",
    "        \n",
    "    @staticmethod\n",
    "    def m3():\n",
    "        Test.e=50\n",
    " \n",
    "print(Test.__dict__)\n",
    "t=Test()\n",
    "print(Test.__dict__)\n",
    "t.m1()\n",
    "print(Test.__dict__)\n",
    "Test.m2()\n",
    "print(Test.__dict__)\n",
    "Test.m3()\n",
    "print(Test.__dict__)\n",
    "Test.f=60\n",
    "print(Test.__dict__) "
   ]
  },
  {
   "cell_type": "markdown",
   "metadata": {},
   "source": [
    "#### <center>3. How to access static variables</center>\n",
    "#### 1. inside constructor: by using either self or classname\n",
    "#### 2. inside instance method: by using either self or classname\n",
    "#### 3. inside class method: by using either cls variable or classname\n",
    "#### 4. inside static method: by using classname\n",
    "#### 5. From outside of class: by using either object reference or classnmae"
   ]
  },
  {
   "cell_type": "code",
   "execution_count": 48,
   "metadata": {},
   "outputs": [
    {
     "name": "stdout",
     "output_type": "stream",
     "text": [
      "10\n",
      "10\n",
      "10\n",
      "10\n",
      "10\n",
      "10\n",
      "10\n",
      "10\n",
      "10\n"
     ]
    }
   ],
   "source": [
    "class Test:\n",
    "    a=10\n",
    "    def __init__(self):\n",
    "        print(self.a)\n",
    "        print(Test.a)\n",
    "        \n",
    "    def m1(self):\n",
    "        print(self.a) \n",
    "        print(Test.a)\n",
    "\n",
    "    @classmethod\n",
    "    def m2(cls):\n",
    "        print(cls.a)\n",
    "        print(Test.a)\n",
    "    \n",
    "    @staticmethod\n",
    "    def m3():\n",
    "        print(Test.a)\n",
    "\n",
    "t=Test()\n",
    "print(Test.a)\n",
    "print(t.a)\n",
    "t.m1()\n",
    "t.m2()\n",
    "t.m3()"
   ]
  },
  {
   "cell_type": "markdown",
   "metadata": {},
   "source": [
    "#### <center>4. Where we can modify the value of static variable</center>\n",
    "#### Anywhere either with in the class or outside of class we can modify by using classname. But inside class method, by using cls variable."
   ]
  },
  {
   "cell_type": "code",
   "execution_count": 49,
   "metadata": {},
   "outputs": [
    {
     "name": "stdout",
     "output_type": "stream",
     "text": [
      "777\n",
      "888\n",
      "999\n"
     ]
    }
   ],
   "source": [
    "class Test:\n",
    "    a=777\n",
    "\n",
    "    @classmethod\n",
    "    def m1(cls):\n",
    "        cls.a=888\n",
    "\n",
    "    @staticmethod\n",
    "    def m2():\n",
    "        Test.a=999\n",
    "\n",
    "print(Test.a)\n",
    "Test.m1()\n",
    "\n",
    "print(Test.a)\n",
    "Test.m2()\n",
    "\n",
    "print(Test.a) "
   ]
  },
  {
   "cell_type": "markdown",
   "metadata": {},
   "source": [
    "#### <center>5. If we change the value of static variable by using either self or object reference variable</center>\n",
    "#### If we change the value of static variable by using either self or object reference variable, then the value of static variable won't be changed,just a new instance variable with that name will be added to that particular object."
   ]
  },
  {
   "cell_type": "code",
   "execution_count": 50,
   "metadata": {},
   "outputs": [
    {
     "name": "stdout",
     "output_type": "stream",
     "text": [
      "10\n",
      "888\n"
     ]
    }
   ],
   "source": [
    "class Test:\n",
    "    a=10\n",
    "    \n",
    "    def m1(self):\n",
    "        self.a=888\n",
    "t1=Test()\n",
    "t1.m1()\n",
    " \n",
    "print(Test.a)\n",
    "print(t1.a) "
   ]
  },
  {
   "cell_type": "code",
   "execution_count": 51,
   "metadata": {},
   "outputs": [
    {
     "name": "stdout",
     "output_type": "stream",
     "text": [
      "t1: 10 20\n",
      "t2: 10 20\n",
      "t1: 888 999\n",
      "t2: 10 20\n"
     ]
    }
   ],
   "source": [
    "class Test:\n",
    "    x=10\n",
    "    \n",
    "    def __init__(self):\n",
    "        self.y=20\n",
    " \n",
    "t1=Test()\n",
    "t2=Test()\n",
    "\n",
    "print('t1:',t1.x,t1.y)\n",
    "print('t2:',t2.x,t2.y)\n",
    "\n",
    "t1.x=888\n",
    "t1.y=999\n",
    "\n",
    "print('t1:',t1.x,t1.y)\n",
    "print('t2:',t2.x,t2.y) "
   ]
  },
  {
   "cell_type": "code",
   "execution_count": 52,
   "metadata": {},
   "outputs": [
    {
     "name": "stdout",
     "output_type": "stream",
     "text": [
      "888 999\n",
      "888 20\n"
     ]
    }
   ],
   "source": [
    "class Test:\n",
    "    a=10\n",
    "    \n",
    "    def __init__(self):\n",
    "        self.b=20\n",
    "\n",
    "t1=Test()\n",
    "t2=Test()\n",
    "\n",
    "Test.a=888\n",
    "t1.b=999\n",
    "\n",
    "print(t1.a,t1.b)\n",
    "print(t2.a,t2.b) "
   ]
  },
  {
   "cell_type": "code",
   "execution_count": 53,
   "metadata": {},
   "outputs": [
    {
     "name": "stdout",
     "output_type": "stream",
     "text": [
      "888 999\n",
      "10 20\n"
     ]
    }
   ],
   "source": [
    "class Test:\n",
    "    a=10\n",
    "    \n",
    "    def __init__(self):\n",
    "        self.b=20\n",
    "\n",
    "    def m1(self):\n",
    "        self.a=888\n",
    "        self.b=999\n",
    "\n",
    "t1=Test()\n",
    "t2=Test()\n",
    "\n",
    "t1.m1()\n",
    "\n",
    "print(t1.a,t1.b)\n",
    "print(t2.a,t2.b)"
   ]
  },
  {
   "cell_type": "code",
   "execution_count": 54,
   "metadata": {},
   "outputs": [
    {
     "name": "stdout",
     "output_type": "stream",
     "text": [
      "888 20\n",
      "888 20\n",
      "888 999\n"
     ]
    }
   ],
   "source": [
    "class Test:\n",
    "    a=10\n",
    "    \n",
    "    def __init__(self):\n",
    "        self.b=20\n",
    "\n",
    "    @classmethod\n",
    "    \n",
    "    def m1(cls):\n",
    "        cls.a=888\n",
    "        cls.b=999\n",
    "\n",
    " \n",
    "t1=Test()\n",
    "t2=Test() \n",
    "\n",
    "t1.m1()\n",
    "\n",
    "print(t1.a,t1.b)\n",
    "print(t2.a,t2.b)\n",
    "print(Test.a,Test.b)"
   ]
  },
  {
   "cell_type": "markdown",
   "metadata": {},
   "source": [
    "#### <center>3. Local variables</center>\n",
    "#### Sometimes to meet temporary requirements of programmer,we can declare variables inside a method directly,such type of variables are called local variable or temporary variables.\n",
    "#### Local variables will be created at the time of method execution and destroyed once method completes.\n",
    "#### Local variables of a method cannot be accessed from outside of method."
   ]
  },
  {
   "cell_type": "code",
   "execution_count": 55,
   "metadata": {},
   "outputs": [
    {
     "name": "stdout",
     "output_type": "stream",
     "text": [
      "1000\n",
      "2000\n"
     ]
    }
   ],
   "source": [
    "class Test:\n",
    "    def m1(self):\n",
    "        a=1000\n",
    "        print(a)\n",
    "    \n",
    "    def m2(self):\n",
    "        b=2000\n",
    "        print(b)\n",
    "\n",
    "t=Test()\n",
    "t.m1()\n",
    "t.m2() "
   ]
  },
  {
   "cell_type": "code",
   "execution_count": 56,
   "metadata": {},
   "outputs": [
    {
     "name": "stdout",
     "output_type": "stream",
     "text": [
      "1000\n"
     ]
    },
    {
     "ename": "NameError",
     "evalue": "name 'a' is not defined",
     "output_type": "error",
     "traceback": [
      "\u001b[1;31m---------------------------------------------------------------------------\u001b[0m",
      "\u001b[1;31mNameError\u001b[0m                                 Traceback (most recent call last)",
      "\u001b[1;32m<ipython-input-56-36b0197a9234>\u001b[0m in \u001b[0;36m<module>\u001b[1;34m\u001b[0m\n\u001b[0;32m     11\u001b[0m \u001b[0mt\u001b[0m\u001b[1;33m=\u001b[0m\u001b[0mTest\u001b[0m\u001b[1;33m(\u001b[0m\u001b[1;33m)\u001b[0m\u001b[1;33m\u001b[0m\u001b[1;33m\u001b[0m\u001b[0m\n\u001b[0;32m     12\u001b[0m \u001b[0mt\u001b[0m\u001b[1;33m.\u001b[0m\u001b[0mm1\u001b[0m\u001b[1;33m(\u001b[0m\u001b[1;33m)\u001b[0m\u001b[1;33m\u001b[0m\u001b[1;33m\u001b[0m\u001b[0m\n\u001b[1;32m---> 13\u001b[1;33m \u001b[0mt\u001b[0m\u001b[1;33m.\u001b[0m\u001b[0mm2\u001b[0m\u001b[1;33m(\u001b[0m\u001b[1;33m)\u001b[0m\u001b[1;33m\u001b[0m\u001b[1;33m\u001b[0m\u001b[0m\n\u001b[0m",
      "\u001b[1;32m<ipython-input-56-36b0197a9234>\u001b[0m in \u001b[0;36mm2\u001b[1;34m(self)\u001b[0m\n\u001b[0;32m      6\u001b[0m     \u001b[1;32mdef\u001b[0m \u001b[0mm2\u001b[0m\u001b[1;33m(\u001b[0m\u001b[0mself\u001b[0m\u001b[1;33m)\u001b[0m\u001b[1;33m:\u001b[0m\u001b[1;33m\u001b[0m\u001b[1;33m\u001b[0m\u001b[0m\n\u001b[0;32m      7\u001b[0m         \u001b[0mb\u001b[0m\u001b[1;33m=\u001b[0m\u001b[1;36m2000\u001b[0m\u001b[1;33m\u001b[0m\u001b[1;33m\u001b[0m\u001b[0m\n\u001b[1;32m----> 8\u001b[1;33m         \u001b[0mprint\u001b[0m\u001b[1;33m(\u001b[0m\u001b[0ma\u001b[0m\u001b[1;33m)\u001b[0m \u001b[1;31m#NameError: name 'a' is not defined\u001b[0m\u001b[1;33m\u001b[0m\u001b[1;33m\u001b[0m\u001b[0m\n\u001b[0m\u001b[0;32m      9\u001b[0m         \u001b[0mprint\u001b[0m\u001b[1;33m(\u001b[0m\u001b[0mb\u001b[0m\u001b[1;33m)\u001b[0m\u001b[1;33m\u001b[0m\u001b[1;33m\u001b[0m\u001b[0m\n\u001b[0;32m     10\u001b[0m \u001b[1;33m\u001b[0m\u001b[0m\n",
      "\u001b[1;31mNameError\u001b[0m: name 'a' is not defined"
     ]
    }
   ],
   "source": [
    "class Test:\n",
    "    def m1(self):\n",
    "        a=1000\n",
    "        print(a)\n",
    " \n",
    "    def m2(self):\n",
    "        b=2000\n",
    "        print(a) #NameError: name 'a' is not defined\n",
    "        print(b)\n",
    "\n",
    "t=Test()\n",
    "t.m1()\n",
    "t.m2() "
   ]
  },
  {
   "cell_type": "markdown",
   "metadata": {},
   "source": [
    "#### <center>8. Types of Methods</center>\n",
    "#### Inside Python class 3 types of methods are allowed\n",
    "#### 1. Instance Methods\n",
    "#### 2. Class Methods\n",
    "#### 3. Static Methods"
   ]
  },
  {
   "cell_type": "markdown",
   "metadata": {},
   "source": [
    "#### <center>1. Instance Methods</center>\n",
    "#### Inside method implementation if we are using instance variables then such type of methods are called instance methods.\n",
    "#### Inside instance method declaration,we have to pass self variable- def m1(self):\n",
    "#### By using self variable inside method we can able to access instance variables.\n",
    "#### Within the class we can call instance method by using self variable and from outside of the class we can call by using object reference.\n"
   ]
  },
  {
   "cell_type": "code",
   "execution_count": 57,
   "metadata": {},
   "outputs": [
    {
     "name": "stdout",
     "output_type": "stream",
     "text": [
      "Enter number of students:2\n",
      "Enter Name:Ajay\n",
      "Enter Marks:97\n",
      "Hi Ajay\n",
      "Your Marks are: 97\n",
      "You got First Grade\n",
      "\n",
      "Enter Name:Vijay\n",
      "Enter Marks:23\n",
      "Hi Vijay\n",
      "Your Marks are: 23\n",
      "You are Failed\n",
      "\n"
     ]
    }
   ],
   "source": [
    "class Student:\n",
    "    def __init__(self,name,marks):\n",
    "        self.name=name\n",
    "        self.marks=marks\n",
    " \n",
    "    def display(self):\n",
    "        print('Hi',self.name)\n",
    "        print('Your Marks are:',self.marks)\n",
    " \n",
    "    def grade(self):\n",
    "        if self.marks>=60:\n",
    "            print('You got First Grade')\n",
    " \n",
    "        elif self.marks>=50:\n",
    "            print('Yout got Second Grade')\n",
    " \n",
    "        elif self.marks>=35:\n",
    "            print('You got Third Grade')\n",
    " \n",
    "        else:\n",
    "            print('You are Failed')\n",
    "\n",
    "n=int(input('Enter number of students:'))\n",
    "\n",
    "for i in range(n):\n",
    "    name=input('Enter Name:')\n",
    "    marks=int(input('Enter Marks:'))\n",
    " \n",
    "    s= Student(name,marks)\n",
    "    s.display()\n",
    "    s.grade()\n",
    "    print() "
   ]
  },
  {
   "cell_type": "markdown",
   "metadata": {},
   "source": [
    "#### <center>2. Setter Methods</center>\n",
    "#### We can set and get the values of instance variables by using getter and setter methods.\n",
    "\n",
    "#### Setter Method: Setter methods can be used to set values to the instance variables. setter methods also known as mutator methods.\n",
    "\n"
   ]
  },
  {
   "cell_type": "code",
   "execution_count": null,
   "metadata": {},
   "outputs": [],
   "source": [
    "def setVariable(self,variable):\n",
    " self.variable=variable"
   ]
  },
  {
   "cell_type": "code",
   "execution_count": null,
   "metadata": {},
   "outputs": [],
   "source": [
    "def setName(self,name):\n",
    " self.name=name"
   ]
  },
  {
   "cell_type": "markdown",
   "metadata": {},
   "source": [
    "#### <center>3. Getter Method</center>\n",
    "#### Getter methods can be used to get values of the instance variables. Getter methods also known as accessor methods.\n"
   ]
  },
  {
   "cell_type": "code",
   "execution_count": null,
   "metadata": {},
   "outputs": [],
   "source": [
    "def getVariable(self):\n",
    " return self.variable\n"
   ]
  },
  {
   "cell_type": "code",
   "execution_count": null,
   "metadata": {},
   "outputs": [],
   "source": [
    "def getName(self):\n",
    " return self.name"
   ]
  },
  {
   "cell_type": "markdown",
   "metadata": {},
   "source": [
    "#### Demo Program"
   ]
  },
  {
   "cell_type": "code",
   "execution_count": 58,
   "metadata": {},
   "outputs": [
    {
     "name": "stdout",
     "output_type": "stream",
     "text": [
      "Enter number of students:2\n",
      "Enter Name:Ajay\n",
      "Enter Marks:90\n",
      "Hi Ajay\n",
      "Your Marks are: 90\n",
      "\n",
      "Enter Name:Vijay\n",
      "Enter Marks:98\n",
      "Hi Vijay\n",
      "Your Marks are: 98\n",
      "\n"
     ]
    }
   ],
   "source": [
    "class Student:\n",
    "    def setName(self,name):\n",
    "        self.name=name\n",
    "        \n",
    "    def getName(self):\n",
    "        return self.name\n",
    "\n",
    "    def setMarks(self,marks):\n",
    "        self.marks=marks\n",
    "\n",
    "    def getMarks(self):\n",
    "        return self.marks\n",
    "\n",
    "n=int(input('Enter number of students:'))\n",
    " \n",
    "for i in range(n):\n",
    "    s=Student()\n",
    "    \n",
    "    name=input('Enter Name:')\n",
    "    s.setName(name)\n",
    "    \n",
    "    marks=int(input('Enter Marks:'))\n",
    "    s.setMarks(marks)\n",
    "    \n",
    "    print('Hi',s.getName())\n",
    "    print('Your Marks are:',s.getMarks())\n",
    "    print() "
   ]
  },
  {
   "cell_type": "markdown",
   "metadata": {},
   "source": [
    "#### <center>2. Class Methods</center>\n",
    "#### Inside method implementation if we are using only class variables (static variables), then such type of methods we should declare as class method.\n",
    "#### We can declare class method explicitly by using @classmethod decorator.\n",
    "#### For class method we should provide cls variable at the time of declaration.\n",
    "#### We can call classmethod by using classname or object reference variable."
   ]
  },
  {
   "cell_type": "code",
   "execution_count": 59,
   "metadata": {},
   "outputs": [
    {
     "name": "stdout",
     "output_type": "stream",
     "text": [
      "Dog walks with 4 legs...\n",
      "Cat walks with 4 legs...\n"
     ]
    }
   ],
   "source": [
    "class Animal:\n",
    "    legs=4\n",
    "\n",
    "    @classmethod\n",
    "    def walk(cls,name):\n",
    "        print('{} walks with {} legs...'.format(name,cls.legs))\n",
    "\n",
    "Animal.walk('Dog')\n",
    "Animal.walk('Cat') "
   ]
  },
  {
   "cell_type": "markdown",
   "metadata": {},
   "source": [
    "#### Program to track the number of objects created for a class"
   ]
  },
  {
   "cell_type": "code",
   "execution_count": 64,
   "metadata": {},
   "outputs": [
    {
     "name": "stdout",
     "output_type": "stream",
     "text": [
      "The number of objects created for test class: 2\n",
      "The number of objects created for test class: 5\n"
     ]
    }
   ],
   "source": [
    " class Test:\n",
    "    count=0\n",
    "    def __init__(self):\n",
    "            Test.count =Test.count+1\n",
    " \n",
    "    @classmethod\n",
    "    def noOfObjects(cls):\n",
    "        print('The number of objects created for test class:',cls.count)\n",
    "\n",
    "t1=Test()\n",
    "t2=Test()\n",
    "Test.noOfObjects()\n",
    " \n",
    "t3=Test()\n",
    "t4=Test()\n",
    "t5=Test()\n",
    "Test.noOfObjects() "
   ]
  },
  {
   "cell_type": "markdown",
   "metadata": {},
   "source": [
    "#### <center>3. Static Methods</center>\n",
    "#### In general these methods are general utility methods.\n",
    "#### Inside these methods we won't use any instance or class variables.\n",
    "#### Here we won't provide self or cls arguments at the time of declaration.\n",
    "#### 1. We can declare static method explicitly by using @staticmethod decorator\n",
    "#### 2. We can access static methods by using classname or object reference"
   ]
  },
  {
   "cell_type": "code",
   "execution_count": 65,
   "metadata": {},
   "outputs": [
    {
     "name": "stdout",
     "output_type": "stream",
     "text": [
      "The Sum: 30\n",
      "The Product: 200\n",
      "The average: 15.0\n"
     ]
    }
   ],
   "source": [
    "class DurgaMath:\n",
    "    @staticmethod\n",
    "    def add(x,y): \n",
    "         print('The Sum:',x+y)\n",
    "\n",
    "    @staticmethod\n",
    "    def product(x,y):\n",
    "        print('The Product:',x*y)\n",
    "\n",
    "    @staticmethod\n",
    "    def average(x,y):\n",
    "        print('The average:',(x+y)/2)\n",
    "\n",
    "DurgaMath.add(10,20)\n",
    "DurgaMath.product(10,20)\n",
    "DurgaMath.average(10,20) "
   ]
  },
  {
   "cell_type": "markdown",
   "metadata": {},
   "source": [
    "#### Note: In general we can use only instance and static methods.Inside static method we can access class level variables by using class name.\n",
    "#### class methods are most rarely used methods in python."
   ]
  },
  {
   "cell_type": "markdown",
   "metadata": {},
   "source": [
    "#### <center>9. Passing members of one class to another class</center>"
   ]
  },
  {
   "cell_type": "code",
   "execution_count": 66,
   "metadata": {},
   "outputs": [
    {
     "name": "stdout",
     "output_type": "stream",
     "text": [
      "Employee Number: 100\n",
      "Employee Name: Durga\n",
      "Employee Salary: 20000\n"
     ]
    }
   ],
   "source": [
    "class Employee:\n",
    "    def __init__(self,eno,ename,esal):\n",
    "        self.eno=eno\n",
    "        self.ename=ename\n",
    "        self.esal=esal\n",
    " \n",
    "    def display(self):\n",
    "        print('Employee Number:',self.eno)\n",
    "        print('Employee Name:',self.ename)\n",
    "        print('Employee Salary:',self.esal)\n",
    "\n",
    "class Test:\n",
    "    def modify(emp):\n",
    "        emp.esal=emp.esal+10000\n",
    "        emp.display()\n",
    "\n",
    "e=Employee(100,'Durga',10000)\n",
    "Test.modify(e)"
   ]
  },
  {
   "cell_type": "markdown",
   "metadata": {},
   "source": [
    "#### <center>10. Inner classes</center>\n",
    "#### Sometimes we can declare a class inside another class,such type of classes are called inner classes.\n",
    "#### Without existing one type of object if there is no chance of existing another type of object,then we should go for inner classes.\n",
    "#### 1. Example: Without existing Car object there is no chance of existing Engine object. Hence Engine\n",
    "#### class should be part of Car class.\n",
    "#### class Car:\n",
    "#### .....\n",
    "#### class Engine:\n",
    "#### ......\n",
    "\n",
    "#### 2. Example: Without existing university object there is no chance of existing Department object\n",
    "#### class University:\n",
    "#### .....\n",
    "#### class Department:\n",
    "#### ......\n",
    "\n",
    "#### Note: Without existing outer class object there is no chance of existing inner class object. Hence inner class object is always associated with outer class object.\n"
   ]
  },
  {
   "cell_type": "code",
   "execution_count": 69,
   "metadata": {},
   "outputs": [
    {
     "name": "stdout",
     "output_type": "stream",
     "text": [
      "outer class object creation\n",
      "inner class object creation\n",
      "inner class method\n"
     ]
    }
   ],
   "source": [
    "class Outer:\n",
    "    def __init__(self):\n",
    "        print(\"outer class object creation\")\n",
    "\n",
    "    class Inner:\n",
    "        def __init__(self):\n",
    "            print(\"inner class object creation\")\n",
    "        \n",
    "        def m1(self):\n",
    "            print(\"inner class method\")\n",
    "\n",
    "o=Outer()\n",
    "i=o.Inner()\n",
    "i.m1() "
   ]
  },
  {
   "cell_type": "markdown",
   "metadata": {},
   "source": [
    "#### Note: The following are various possible syntaxes for calling inner class method\n",
    "#### 1. o=Outer(), i=o.Inner(), i.m1()\n",
    "#### 2. i=Outer().Inner(), i.m1()\n",
    "#### 3. Outer().Inner().m1()"
   ]
  },
  {
   "cell_type": "code",
   "execution_count": 72,
   "metadata": {},
   "outputs": [
    {
     "name": "stdout",
     "output_type": "stream",
     "text": [
      "Name: durga\n",
      "Dob=10/5/1947\n"
     ]
    }
   ],
   "source": [
    "class Person:\n",
    "    def __init__(self):\n",
    "        self.name='durga'\n",
    "        self.db=self.Dob()\n",
    "\n",
    "    def display(self):\n",
    "        print('Name:',self.name)\n",
    " \n",
    "    class Dob:\n",
    "         def __init__(self):\n",
    "            self.dd=10\n",
    "            self.mm=5\n",
    "            self.yy=1947\n",
    " \n",
    "         def display(self):\n",
    "             print('Dob={}/{}/{}'.format(self.dd,self.mm,self.yy))\n",
    "\n",
    "p=Person()\n",
    "p.display()\n",
    "x=p.db\n",
    "x.display() "
   ]
  },
  {
   "cell_type": "markdown",
   "metadata": {},
   "source": [
    "#### Note: Inside a class we can declare any number of inner classes."
   ]
  },
  {
   "cell_type": "code",
   "execution_count": 73,
   "metadata": {},
   "outputs": [
    {
     "name": "stdout",
     "output_type": "stream",
     "text": [
      "Hello.. Sunny\n",
      "Talking...\n",
      "Thinking...\n"
     ]
    }
   ],
   "source": [
    "class Human:\n",
    "    def __init__(self): \n",
    "        self.name = 'Sunny'\n",
    "        self.head = self.Head()\n",
    "        self.brain = self.Brain()\n",
    " \n",
    "    def display(self):\n",
    "         print(\"Hello..\",self.name)\n",
    "\n",
    "    class Head:\n",
    "         def talk(self):\n",
    "            print('Talking...')\n",
    "\n",
    "    class Brain:\n",
    "        def think(self):\n",
    "             print('Thinking...')\n",
    "\n",
    "h=Human()\n",
    "h.display()\n",
    "h.head.talk()\n",
    "h.brain.think() "
   ]
  },
  {
   "cell_type": "markdown",
   "metadata": {},
   "source": [
    "#### <center>11. Garbage Collection</center>\n",
    "#### In old languages like C++, programmer is responsible for both creation and destruction of objects.Usually programmer taking very much care while creating object, but neglecting destruction of useless objects. \n",
    "#### Because of his neglectance, total memory can be filled with useless objects which creates memory problems and total application will be down with Out of memory error.\n",
    "#### But in Python, We have some assistant which is always running in the background to destroy useless objects.Because this assistant the chance of failing Python program with memory problems is very less. \n",
    "#### This assistant is nothing but Garbage Collector.\n",
    "#### Hence the main objective of Garbage Collector is to destroy useless objects.\n",
    "#### If an object does not have any reference variable then that object eligible for Garbage Collection"
   ]
  },
  {
   "cell_type": "markdown",
   "metadata": {},
   "source": [
    "#### <center>How to enable and disable Garbage Collector in our program</center>\n",
    "#### By default Gargbage collector is enabled, but we can disable based on our requirement. In this context we can use the following functions of gc module.\n"
   ]
  },
  {
   "cell_type": "markdown",
   "metadata": {},
   "source": [
    "#### 1. gc.isenabled(): Returns True if GC enabled\n",
    "#### 2. gc.disable(): To disable GC explicitly\n",
    "#### 3. gc.enable(): To enable GC explicitly"
   ]
  },
  {
   "cell_type": "code",
   "execution_count": 74,
   "metadata": {},
   "outputs": [
    {
     "name": "stdout",
     "output_type": "stream",
     "text": [
      "True\n",
      "False\n",
      "True\n"
     ]
    }
   ],
   "source": [
    "import gc\n",
    "\n",
    "print(gc.isenabled())\n",
    "gc.disable()\n",
    "print(gc.isenabled())\n",
    "gc.enable()\n",
    "print(gc.isenabled()) "
   ]
  },
  {
   "cell_type": "markdown",
   "metadata": {},
   "source": [
    "#### <center>12. Destructors</center>\n",
    "#### Destructor is a special method and the name should be __del__\n",
    "#### Just before destroying an object Garbage Collector always calls destructor to perform clean up activities (Resource deallocation activities like close database connection etc).\n",
    "#### Once destructor execution completed then Garbage Collector automatically destroys that object.\n",
    "#### Note: The job of destructor is not to destroy object and it is just to perform clean up activities.\n"
   ]
  },
  {
   "cell_type": "code",
   "execution_count": 75,
   "metadata": {},
   "outputs": [
    {
     "name": "stdout",
     "output_type": "stream",
     "text": [
      "Object Initialization...\n",
      "Fulfilling Last Wish and performing clean up activities...\n",
      "End of application\n"
     ]
    }
   ],
   "source": [
    "import time\n",
    "\n",
    "class Test:\n",
    "    def __init__(self):\n",
    "        print(\"Object Initialization...\")\n",
    "\n",
    "    def __del__(self):\n",
    "        print(\"Fulfilling Last Wish and performing clean up activities...\")\n",
    "\n",
    "t1=Test()\n",
    "t1=None\n",
    "time.sleep(5)\n",
    "print(\"End of application\") "
   ]
  },
  {
   "cell_type": "markdown",
   "metadata": {},
   "source": [
    "#### Note: If the object does not contain any reference variable then only it is eligible fo GC. ie if the reference count is zero then only object eligible for GC"
   ]
  },
  {
   "cell_type": "code",
   "execution_count": 76,
   "metadata": {},
   "outputs": [
    {
     "name": "stdout",
     "output_type": "stream",
     "text": [
      "Constructor Execution...\n",
      "object not yet destroyed after deleting t1\n",
      "object not yet destroyed even after deleting t2\n",
      "I am trying to delete last reference variable...\n",
      "Destructor Execution...\n"
     ]
    }
   ],
   "source": [
    "import time\n",
    "class Test:\n",
    "    def __init__(self):\n",
    "        print(\"Constructor Execution...\")\n",
    "\n",
    "    def __del__(self):\n",
    "        print(\"Destructor Execution...\")\n",
    "\n",
    "t1=Test()\n",
    "t2=t1\n",
    "t3=t2\n",
    "del t1\n",
    "\n",
    "time.sleep(5)\n",
    "print(\"object not yet destroyed after deleting t1\")\n",
    "del t2\n",
    "time.sleep(5)\n",
    "print(\"object not yet destroyed even after deleting t2\")\n",
    "print(\"I am trying to delete last reference variable...\")\n",
    "del t3"
   ]
  },
  {
   "cell_type": "code",
   "execution_count": 77,
   "metadata": {},
   "outputs": [
    {
     "name": "stdout",
     "output_type": "stream",
     "text": [
      "Constructor Execution...\n",
      "Constructor Execution...\n",
      "Constructor Execution...\n",
      "Destructor Execution...\n",
      "Destructor Execution...\n",
      "Destructor Execution...\n",
      "End of application\n"
     ]
    }
   ],
   "source": [
    "import time\n",
    "\n",
    "class Test:\n",
    "    def __init__(self):\n",
    "        print(\"Constructor Execution...\")\n",
    "\n",
    "    def __del__(self):\n",
    "        print(\"Destructor Execution...\")\n",
    "\n",
    "list=[Test(),Test(),Test()]\n",
    "del list\n",
    "time.sleep(5)\n",
    "print(\"End of application\") "
   ]
  },
  {
   "cell_type": "markdown",
   "metadata": {},
   "source": [
    "#### <center>13. How to find the number of references of an object</center>\n",
    "#### sys module contains getrefcount() function for this purpose.\n",
    "#### sys.getrefcount(objectreference)"
   ]
  },
  {
   "cell_type": "code",
   "execution_count": 78,
   "metadata": {},
   "outputs": [
    {
     "name": "stdout",
     "output_type": "stream",
     "text": [
      "5\n"
     ]
    }
   ],
   "source": [
    "import sys\n",
    "class Test:\n",
    "    pass\n",
    "\n",
    "t1=Test()\n",
    "t2=t1\n",
    "t3=t1\n",
    "t4=t1\n",
    "\n",
    "print(sys.getrefcount(t1)) "
   ]
  },
  {
   "cell_type": "markdown",
   "metadata": {},
   "source": [
    "#### Note: For every object, Python internally maintains one default reference variable self."
   ]
  }
 ],
 "metadata": {
  "kernelspec": {
   "display_name": "Python 3",
   "language": "python",
   "name": "python3"
  },
  "language_info": {
   "codemirror_mode": {
    "name": "ipython",
    "version": 3
   },
   "file_extension": ".py",
   "mimetype": "text/x-python",
   "name": "python",
   "nbconvert_exporter": "python",
   "pygments_lexer": "ipython3",
   "version": "3.8.5"
  }
 },
 "nbformat": 4,
 "nbformat_minor": 4
}
