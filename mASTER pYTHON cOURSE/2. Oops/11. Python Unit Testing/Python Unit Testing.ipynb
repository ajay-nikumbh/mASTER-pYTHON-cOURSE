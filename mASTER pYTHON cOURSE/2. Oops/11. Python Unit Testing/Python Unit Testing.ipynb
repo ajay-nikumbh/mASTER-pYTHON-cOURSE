{
 "cells": [
  {
   "cell_type": "markdown",
   "metadata": {},
   "source": [
    "### <center>Python Unit Testing</center>"
   ]
  },
  {
   "cell_type": "markdown",
   "metadata": {},
   "source": [
    "#### There are mainly 2 types of testings.\n",
    "#### 1) UNIT Testing\n",
    "#### 2) Integration Testing\n",
    "\n",
    "\n",
    "#### <center>1)UNIT Testing</center>\n",
    "#### ✽ The process of testing whether a particular unit is working properly or not, is called UNIT Testing.\n",
    "#### ✽ Developer is responsible to perform unit testing.\n",
    "\n",
    "\n",
    "#### <center>2)Integration Testing</center>\n",
    "#### ✽ The process of testing total application (end-to-end testing) whether it is working properly or not, is called Integration Testing.\n",
    "#### ✽ Separate QA Team (Testing Team) is responsible to perform Integration Testing."
   ]
  },
  {
   "cell_type": "markdown",
   "metadata": {},
   "source": [
    "#### <center>2. Test Scenario vs TestCase vs Test Suite</center>"
   ]
  },
  {
   "cell_type": "markdown",
   "metadata": {},
   "source": [
    "#### <center>1. Test Scenario (What to test?)</center>\n",
    "#### Test scenario describes what we have to test.\n",
    "#### It describes test condition or requirment or functionality which need to validate.\n",
    "#### Test Scenario also known as Test Condition or Test possibility.\n",
    "#### Eg 1: Identify various Test scenarios in google home page\n",
    "#### TS01: Checking functionality of Google Search Button\n",
    "#### TS02: Checking functionality of Sign in Button\n",
    "#### TS03: Checking functionality of Gmail hyperlink\n",
    "#### TS04: Checking functionality of images hyperlink etc\n",
    "\n",
    "\n",
    "#### Eg 2: Test Scenarios for Banking application\n",
    "#### TS01: Check the login functionality\n",
    "#### TS02: Check Transfer funds functionality\n",
    "#### TS03: Check account statement functionality etc\n",
    "\n",
    "#### After identifying Test Scenarios, we have to prepare test cases.\n",
    "#### A Test case is a set of actions executed to verify a particular feature or functionality of our application.\n",
    "\n",
    "#### Eg: Identify all possible test cases for Test Scenario: Login validation\n",
    "#### TC01: Verify login functionity with valid data\n",
    "#### TC02: Verify login functionity with invalid data\n",
    "#### TC03: Verify login functionity without any data"
   ]
  },
  {
   "cell_type": "markdown",
   "metadata": {},
   "source": [
    "#### <center>2. Test Suite</center>\n",
    "#### It contains a group of test cases. \n",
    "#### The main advantage of Test Suite is once we execute test suite automatically all test cases will be executed and we are not required to execute test cases individually."
   ]
  },
  {
   "cell_type": "markdown",
   "metadata": {},
   "source": [
    "#### <center>3. How to perform UNIT Testing in Python</center>\n",
    "\n",
    "#### We have to use unittest module. It is Python's inbuilt module. This module contains TestCase class. \n",
    "\n",
    "#### We have to create child class for this TestCase class.\n",
    "#### In the child class we have to override the following methods.\n",
    "#### 1) setUp(): This method will be executed before every test\n",
    "\n",
    "#### 2) test(): In this method we have to define the logic for our required testing.\n",
    "#### The method name can be anything, but should be prefixed with test.\n",
    "#### Eg: test(), test1(), test2(), test_method1(), test_method2() etc\n",
    "\n",
    "\n",
    "#### 3) tearDown(): This method will be executed after every test.\n",
    "#### Usually we have to write cleanup activities like closing the browser in this method."
   ]
  },
  {
   "cell_type": "markdown",
   "metadata": {},
   "source": [
    "#### <center>4. unittest Class Level Methods</center>\n",
    "#### unittest framework contains the following 2 class level methods.\n",
    "\n",
    "\n"
   ]
  },
  {
   "cell_type": "markdown",
   "metadata": {},
   "source": [
    "#### 1) setUpClass(): This method will be executed only once before all test methods execution.\n",
    "#### We have to declare this method with @classmethod decorator as follows\n"
   ]
  },
  {
   "cell_type": "code",
   "execution_count": null,
   "metadata": {},
   "outputs": [],
   "source": [
    "@classmethod\n",
    "def setUpClass(cls):\n",
    "        body\n"
   ]
  },
  {
   "cell_type": "markdown",
   "metadata": {},
   "source": [
    "#### 2) tearDownClass(): This method will be executed only once after all test methods execution. \n",
    "#### We have to declare this method with @classmethod decorator as follows\n"
   ]
  },
  {
   "cell_type": "code",
   "execution_count": null,
   "metadata": {},
   "outputs": [],
   "source": [
    "@classmethod\n",
    "def tearDownClass(cls):\n",
    "    body"
   ]
  },
  {
   "cell_type": "markdown",
   "metadata": {},
   "source": [
    "#### Demo Application-1"
   ]
  },
  {
   "cell_type": "code",
   "execution_count": 2,
   "metadata": {},
   "outputs": [
    {
     "name": "stderr",
     "output_type": "stream",
     "text": [
      "E\n",
      "======================================================================\n",
      "ERROR: C:\\Users\\Ajay\\AppData\\Roaming\\jupyter\\runtime\\kernel-ad8436d9-45be-45c8-8602-fd909db54334 (unittest.loader._FailedTest)\n",
      "----------------------------------------------------------------------\n",
      "AttributeError: module '__main__' has no attribute 'C:\\Users\\Ajay\\AppData\\Roaming\\jupyter\\runtime\\kernel-ad8436d9-45be-45c8-8602-fd909db54334'\n",
      "\n",
      "----------------------------------------------------------------------\n",
      "Ran 1 test in 0.002s\n",
      "\n",
      "FAILED (errors=1)\n"
     ]
    },
    {
     "ename": "SystemExit",
     "evalue": "True",
     "output_type": "error",
     "traceback": [
      "An exception has occurred, use %tb to see the full traceback.\n",
      "\u001b[1;31mSystemExit\u001b[0m\u001b[1;31m:\u001b[0m True\n"
     ]
    },
    {
     "name": "stderr",
     "output_type": "stream",
     "text": [
      "C:\\ProgramData\\Anaconda3\\lib\\site-packages\\IPython\\core\\interactiveshell.py:3426: UserWarning: To exit: use 'exit', 'quit', or Ctrl-D.\n",
      "  warn(\"To exit: use 'exit', 'quit', or Ctrl-D.\", stacklevel=1)\n"
     ]
    }
   ],
   "source": [
    "import unittest\n",
    "class TestCaseDemo(unittest.TestCase):\n",
    "    def setUp(self):\n",
    "        print('setUp method execution')\n",
    "\n",
    "    def test(self):\n",
    "        print('test method execution')\n",
    "        \n",
    "    def tearDown(self):\n",
    "        print('tearDown method execution')\n",
    "        \n",
    "unittest.main() "
   ]
  },
  {
   "cell_type": "code",
   "execution_count": 3,
   "metadata": {},
   "outputs": [
    {
     "name": "stderr",
     "output_type": "stream",
     "text": [
      "E\n",
      "======================================================================\n",
      "ERROR: C:\\Users\\Ajay\\AppData\\Roaming\\jupyter\\runtime\\kernel-ad8436d9-45be-45c8-8602-fd909db54334 (unittest.loader._FailedTest)\n",
      "----------------------------------------------------------------------\n",
      "AttributeError: module '__main__' has no attribute 'C:\\Users\\Ajay\\AppData\\Roaming\\jupyter\\runtime\\kernel-ad8436d9-45be-45c8-8602-fd909db54334'\n",
      "\n",
      "----------------------------------------------------------------------\n",
      "Ran 1 test in 0.003s\n",
      "\n",
      "FAILED (errors=1)\n"
     ]
    },
    {
     "ename": "SystemExit",
     "evalue": "True",
     "output_type": "error",
     "traceback": [
      "An exception has occurred, use %tb to see the full traceback.\n",
      "\u001b[1;31mSystemExit\u001b[0m\u001b[1;31m:\u001b[0m True\n"
     ]
    },
    {
     "name": "stderr",
     "output_type": "stream",
     "text": [
      "C:\\ProgramData\\Anaconda3\\lib\\site-packages\\IPython\\core\\interactiveshell.py:3426: UserWarning: To exit: use 'exit', 'quit', or Ctrl-D.\n",
      "  warn(\"To exit: use 'exit', 'quit', or Ctrl-D.\", stacklevel=1)\n"
     ]
    }
   ],
   "source": [
    "import unittest\n",
    "class TestCaseDemo(unittest.TestCase):\n",
    "    def setUp(self):\n",
    "        print('setUp method execution')\n",
    "\n",
    "    def test(self):\n",
    "        print('test method execution')\n",
    "        print(10/0)\n",
    "\n",
    "    def tearDown(self):\n",
    "        print('tearDown method execution')\n",
    "unittest.main() "
   ]
  },
  {
   "cell_type": "code",
   "execution_count": 4,
   "metadata": {},
   "outputs": [
    {
     "name": "stderr",
     "output_type": "stream",
     "text": [
      "E\n",
      "======================================================================\n",
      "ERROR: C:\\Users\\Ajay\\AppData\\Roaming\\jupyter\\runtime\\kernel-ad8436d9-45be-45c8-8602-fd909db54334 (unittest.loader._FailedTest)\n",
      "----------------------------------------------------------------------\n",
      "AttributeError: module '__main__' has no attribute 'C:\\Users\\Ajay\\AppData\\Roaming\\jupyter\\runtime\\kernel-ad8436d9-45be-45c8-8602-fd909db54334'\n",
      "\n",
      "----------------------------------------------------------------------\n",
      "Ran 1 test in 0.003s\n",
      "\n",
      "FAILED (errors=1)\n"
     ]
    },
    {
     "ename": "SystemExit",
     "evalue": "True",
     "output_type": "error",
     "traceback": [
      "An exception has occurred, use %tb to see the full traceback.\n",
      "\u001b[1;31mSystemExit\u001b[0m\u001b[1;31m:\u001b[0m True\n"
     ]
    },
    {
     "name": "stderr",
     "output_type": "stream",
     "text": [
      "C:\\ProgramData\\Anaconda3\\lib\\site-packages\\IPython\\core\\interactiveshell.py:3426: UserWarning: To exit: use 'exit', 'quit', or Ctrl-D.\n",
      "  warn(\"To exit: use 'exit', 'quit', or Ctrl-D.\", stacklevel=1)\n"
     ]
    }
   ],
   "source": [
    "import unittest\n",
    "class TestCaseDemo(unittest.TestCase):\n",
    "    def setUp(self):\n",
    "        print('setUp method execution')\n",
    "\n",
    "    def test_method1(self):\n",
    "        print('test method1 execution')\n",
    "\n",
    "    def test_method2(self):\n",
    "        print('test method2 execution') \n",
    "        \n",
    "    def tearDown(self):\n",
    "        print('tearDown method execution')\n",
    "\n",
    "unittest.main() "
   ]
  },
  {
   "cell_type": "code",
   "execution_count": 5,
   "metadata": {},
   "outputs": [],
   "source": [
    "import unittest\n",
    "class TestCaseDemo(unittest.TestCase):\n",
    "    @classmethod\n",
    "    def setUpClass(cls):\n",
    "        print('*'*70)\n",
    "        print('setUpClass:This method will be executed only once before executing all test methods')\n",
    "        print('*'*70)\n",
    "    \n",
    "    def setUp(self):\n",
    "        print('setUp method execution')\n",
    "\n",
    "    def test_method1(self):\n",
    "        print('test method1 execution')\n",
    "\n",
    "    def test_method2(self):\n",
    "        print('test method2 execution')\n",
    "\n",
    "    def tearDown(self):\n",
    "        print('tearDown method execution')\n",
    "\n",
    "    @classmethod\n",
    "    def tearDownClass(cls):\n",
    "        print('*'*70) \n",
    "        print('tearDownClass:This method will be executed only once after executing all test methods')\n",
    "        print('*'*70)\n",
    "\n",
    "unittest.main() "
   ]
  },
  {
   "cell_type": "markdown",
   "metadata": {},
   "source": [
    "#### <center>5. Executing Test Suite</center>\n",
    "#### By using unittest framework we can execute a group of test cases,which is nothing but test suite."
   ]
  },
  {
   "cell_type": "markdown",
   "metadata": {},
   "source": [
    "#### testcase1.py"
   ]
  },
  {
   "cell_type": "code",
   "execution_count": 7,
   "metadata": {},
   "outputs": [],
   "source": [
    "import unittest\n",
    "class TestCase1(unittest.TestCase):\n",
    "    def setUp(self):\n",
    "        print('TestCase1:setUp')\n",
    "\n",
    "    def test1(self):\n",
    "        print('TestCase1:test1')\n",
    "\n",
    "    def test2(self):\n",
    "        print('TestCase1:test2')\n",
    "\n",
    "    def tearDown(self):\n",
    "        print('TestCase1:tearDown') "
   ]
  },
  {
   "cell_type": "markdown",
   "metadata": {},
   "source": [
    "#### testcase2.py"
   ]
  },
  {
   "cell_type": "code",
   "execution_count": 8,
   "metadata": {},
   "outputs": [],
   "source": [
    "import unittest\n",
    "class TestCase2(unittest.TestCase):\n",
    "    def setUp(self):\n",
    "        print('TestCase2:setUp')\n",
    "        \n",
    "    def test1(self):\n",
    "        print('TestCase2:test')\n",
    "\n",
    "    def tearDown(self):\n",
    "        print('TestCase2:tearDown') "
   ]
  },
  {
   "cell_type": "code",
   "execution_count": null,
   "metadata": {},
   "outputs": [],
   "source": [
    "testsuite.py:\n",
    "1) import unittest\n",
    "2) from testcase1 import *\n",
    "3) from testcase2 import *\n",
    "4)\n",
    "5) tc1=unittest.TestLoader().loadTestsFromTestCase(TestCase1)\n",
    "6) tc2=unittest.TestLoader().loadTestsFromTestCase(TestCase2)\n",
    "7)\n",
    "8) ts=unittest.TestSuite([tc1,tc2])\n",
    "9) unittest.TextTestRunner().run(ts) "
   ]
  },
  {
   "cell_type": "markdown",
   "metadata": {},
   "source": [
    "#### <center>6. UNIT TESTING By using Selenium Automation Tool</center>\n",
    "#### Selenium is functional testing automation tool. ie we test functionality of web application by using selenium tool.\n",
    "\n",
    "#### How to install Selenium? pip install selenium\n",
    "\n",
    "#### webdriver: selenium package contains webdriver module, which contains several functions which are helpful to test functinality of webapplication."
   ]
  },
  {
   "cell_type": "markdown",
   "metadata": {},
   "source": [
    "#### <center>7. How to Launch FireFox Browser</center>\n",
    "\n",
    "#### We have to download the following Browser driver from the link: https://www.seleniumhq.org/download/\n",
    "\n",
    "#### file: geckodriver.exe\n",
    "#### place this exe file inside D:\\library folder.\n",
    "#### The following is the code to launch Firefox browser\n"
   ]
  },
  {
   "cell_type": "code",
   "execution_count": null,
   "metadata": {},
   "outputs": [],
   "source": [
    "from selenium import webdriver\n",
    "driver=webdriver.Firefox(executable_path='D:\\library\\geckodriver.exe')"
   ]
  },
  {
   "cell_type": "markdown",
   "metadata": {},
   "source": [
    "#### <center>8. Browser Interaction and Navigation of Web Pages</center>\n",
    "#### We can perform browser interaction and navigation by using the following methods:\n",
    "#### 1) driver.get(url) : To open specified url\n",
    "\n",
    "#### 2) driver.maximize_window() : Maximizes current window that webdriver is using\n",
    "\n",
    "#### 3) driver.title : Returns the title of the current page\n",
    "\n",
    "#### 4) driver.current_url : url of the current loaded page\n",
    "\n",
    "#### 5) driver.refresh() : refresh current page\n",
    "\n",
    "#### 6) driver.get(driver.current_url) : refresh current page\n",
    "\n",
    "#### 7) driver.back() : Goes one step backward in the browser history\n",
    "\n",
    "#### 8) driver.forward() : Goes one step forward in the browser history\n",
    "\n",
    "#### 9) driver.close() : To close current window\n",
    "\n",
    "#### 10) driver.quit() : To close all associated windows"
   ]
  },
  {
   "cell_type": "markdown",
   "metadata": {},
   "source": [
    "#### Demo Program for Browser Navigation"
   ]
  },
  {
   "cell_type": "code",
   "execution_count": null,
   "metadata": {},
   "outputs": [],
   "source": [
    "from selenium import webdriver\n",
    "\n",
    "driver=webdriver.Firefox(executable_path='D:\\library\\geckodriver.exe')\n",
    "driver.get('https://www.facebook.com/')\n",
    "driver.maximize_window()\n",
    "\n",
    "print('Title:',driver.title)\n",
    "print('Current URL:',driver.current_url)\n",
    "\n",
    "driver.get('http://durgasoftvideos.com/')\n",
    "\n",
    "print('Title:',driver.title)\n",
    "print('Current URL:',driver.current_url)\n",
    " \n",
    "driver.back()\n",
    "\n",
    "print('After Back current url:',driver.current_url)\n",
    "driver.forward()\n",
    "print('After Forward current url:',driver.current_url)\n",
    "driver.close() "
   ]
  },
  {
   "cell_type": "markdown",
   "metadata": {},
   "source": [
    "#### <center>9. How to locate/find Web Elements</center>\n",
    "#### Once we opened web page, we have to locate web elements like text box, links, submit buttons etc.\n",
    "\n",
    "#### We can identify each web element by using the locators like name, id, link text, class, xpath etc\n",
    "\n",
    "#### We can find elements by using the following methods:\n",
    "#### 1. driver.find_element_by_id()\n",
    "#### 2. driver.find_element_by_name()\n",
    "#### 3. driver.find_element_by_xpath()\n",
    "#### 4. driver.find_element_by_css_selector()\n",
    "#### 5. driver.find_element_by_link_text() etc\n",
    "\n",
    "#### Alternatively we can use the following more convenient methods also.\n",
    "\n",
    "#### 1. driver.find_element(By.ID,'id')\n",
    "#### 2. driver.find_element(By.NAME,'name')\n",
    "#### 3. driver.find_element(By.LINK_TEXT,'text')\n",
    "#### 4. driver.find_element(By.CSS_SELECTOR,'css')\n",
    "#### 5. driver.find_element(By.XPATH,'xpath')"
   ]
  },
  {
   "cell_type": "markdown",
   "metadata": {},
   "source": [
    "#### Testing Google Search Functionality by using unittest Framework"
   ]
  },
  {
   "cell_type": "code",
   "execution_count": null,
   "metadata": {},
   "outputs": [],
   "source": [
    "import unittest\n",
    "from selenium import webdriver\n",
    "import time\n",
    "\n",
    "class GoogleSearch(unittest.TestCase):\n",
    "    def setUp(self):\n",
    "        global driver\n",
    "        driver=webdriver.Firefox(executable_path='D:\\\\library\\\\geckodriver.exe')\n",
    "        driver.get('http://google.co.in')\n",
    "        driver.maximize_window()\n",
    "        \n",
    "    def test(self):\n",
    "        driver.find_element_by_name('q').send_keys('Mahesh Babu')\n",
    "        time.sleep(5)\n",
    "        driver.find_element_by_name('btnK').click()\n",
    "        driver.find_element_by_class_name('LC20lb').click()\n",
    "\n",
    "    def tearDown(self):\n",
    "        time.sleep(10)\n",
    "        driver.close()\n",
    "unittest.main()"
   ]
  },
  {
   "cell_type": "markdown",
   "metadata": {},
   "source": [
    "#### Testing HMS Login and Logout Functionality by using unittest Framework"
   ]
  },
  {
   "cell_type": "code",
   "execution_count": null,
   "metadata": {},
   "outputs": [],
   "source": [
    "1) from selenium import webdriver\n",
    "2) from selenium.webdriver.common.by import By\n",
    "3) import time\n",
    "4) import unittest\n",
    "5) class HMSLoginLogout(unittest.TestCase):\n",
    "6) @classmethod\n",
    "7) def setUpClass(cls):\n",
    "8) print('setUpClass method execution...')\n",
    "9) global driver\n",
    "10) driver=webdriver.Firefox(executable_path='D:\\\\library\\\\geckodriver.exe')\n",
    "11) driver.get('http://seleniumbymahesh.com')\n",
    "12) driver.maximize_window()\n",
    "13)\n",
    "14) def test_login(self):\n",
    "15) print('test_login method execution...')\n",
    "16) driver.find_element(By.LINK_TEXT,'HMS').click()\n",
    "17) driver.find_element(By.NAME,'username').send_keys('admin')\n",
    "18) driver.find_element(By.NAME,'password').send_keys('admin')\n",
    "19) driver.find_element(By.NAME,'submit').click()\n",
    "20) time.sleep(10)\n",
    "21)\n",
    "22) def test_logout(self):\n",
    "23) print('test_logout method execution...')\n",
    "24) driver.find_element(By.LINK_TEXT,'Logout').click()\n",
    "25)\n",
    "26) @classmethod\n",
    "27) def tearDownClass(cls):\n",
    "28) print('tearDownClass method execution...')\n",
    "29) time.sleep(10)\n",
    "30) driver.quit()\n",
    "31)\n",
    "32) unittest.main() "
   ]
  },
  {
   "cell_type": "markdown",
   "metadata": {},
   "source": [
    "#### Demo Application to demonstrate Test Method Execution Order"
   ]
  },
  {
   "cell_type": "code",
   "execution_count": null,
   "metadata": {},
   "outputs": [],
   "source": [
    "1) import unittest\n",
    "2) class TestCaseDemo2(unittest.TestCase):\n",
    "3)\n",
    "4) def test_C(self):\n",
    "5) print('test_C method execution from TestCaseDemo2')\n",
    "6) def test_B(self):\n",
    "7) print('test_B method execution from TestCaseDemo2')\n",
    "8) def test_A(self):\n",
    "9) print('test_A method execution from TestCaseDemo2')\n",
    "10)\n",
    "11) unittest.main() "
   ]
  },
  {
   "cell_type": "markdown",
   "metadata": {},
   "source": [
    "#### Note: In unittesting all test methods will be executed in alphabetical order.\n"
   ]
  },
  {
   "cell_type": "markdown",
   "metadata": {},
   "source": [
    "#### <center>10. Limitations of unittesting</center>\n",
    "#### 1) Test Results will be displayed to the console only and it is not possible to generate reports.\n",
    "\n",
    "#### 2) unittest framework always executes test methods in alphabetical order only and it is not possible to customize execution order.\n",
    "\n",
    "#### 3) As the part of batch execution (TestSuite), all test methods from specified TestCase classes will be executed and it is not possible to specify only particular test methods.\n",
    "\n",
    "#### 4) In unittesting only limited setUp and tearDown methods available.\n",
    "\n",
    "#### setUpClass()  Before executing all test methods inside TestCase class\n",
    "#### tearDownClass()  After executing all test methods inside TestCase class\n",
    "#### setUp()  Before executing every test method\n",
    "#### tearDown()  After executing every test method\n",
    "\n",
    "\n",
    "#### If we want to perform certain activity before executing testsuite and after executing testsuite, unittest framework does not define any methods.\n",
    "\n",
    "#### To overcome these limitations we should go for PyTest."
   ]
  },
  {
   "cell_type": "markdown",
   "metadata": {},
   "source": [
    "#### <center>11. PyTest Framework</center>\n",
    "#### It is the advanced version of unittest framework.\n",
    "#### This framework built on top of unittest framework.\n",
    "#### It is not available by default with python. We have to install seperately by using pip command.\n"
   ]
  },
  {
   "cell_type": "code",
   "execution_count": null,
   "metadata": {},
   "outputs": [],
   "source": [
    "pip install pytest"
   ]
  },
  {
   "cell_type": "markdown",
   "metadata": {},
   "source": [
    "#### <center>PyTest Naming Rules</center>\n",
    "#### While developing testscripts by using PyTest, compulsory we should follow naming conventions.\n",
    "\n",
    "#### 1) File Name should Starts OR Ends with 'test' Eg: test_google_search.py google_search_test.py\n",
    "\n",
    "#### 2) Class Name should Starts with 'Test' Eg: TestGoogleSearch TestDemoClass\n",
    "\n",
    "#### 3) Method name should starts with 'test_' Eg: test_method1() test_method2()\n"
   ]
  },
  {
   "cell_type": "markdown",
   "metadata": {},
   "source": [
    "#### Demo Program: pytest_demo1_test.py"
   ]
  },
  {
   "cell_type": "code",
   "execution_count": null,
   "metadata": {},
   "outputs": [],
   "source": [
    "1) import pytest\n",
    "2) def test_methodA():\n",
    "3) print('test_methodA execution')\n",
    "4)\n",
    "5) def test_methodB():\n",
    "6) print('test_methodB execution') "
   ]
  },
  {
   "cell_type": "code",
   "execution_count": null,
   "metadata": {},
   "outputs": [],
   "source": []
  },
  {
   "cell_type": "code",
   "execution_count": null,
   "metadata": {},
   "outputs": [],
   "source": []
  }
 ],
 "metadata": {
  "kernelspec": {
   "display_name": "Python 3",
   "language": "python",
   "name": "python3"
  },
  "language_info": {
   "codemirror_mode": {
    "name": "ipython",
    "version": 3
   },
   "file_extension": ".py",
   "mimetype": "text/x-python",
   "name": "python",
   "nbconvert_exporter": "python",
   "pygments_lexer": "ipython3",
   "version": "3.8.5"
  }
 },
 "nbformat": 4,
 "nbformat_minor": 4
}
