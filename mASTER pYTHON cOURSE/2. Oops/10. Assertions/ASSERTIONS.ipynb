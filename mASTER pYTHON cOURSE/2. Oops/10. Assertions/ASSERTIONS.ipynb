{
 "cells": [
  {
   "cell_type": "markdown",
   "metadata": {},
   "source": [
    "#### <center>1. Debugging Python Program by using assert Keyword</center>\n"
   ]
  },
  {
   "cell_type": "markdown",
   "metadata": {},
   "source": [
    "#### ☕ The process of identifying and fixing the bug is called debugging.\n",
    "#### ☕ Very common way of debugging is to use print() statement. But the problem with the print() statement is after fixing the bug,compulsory we have to delete the extra added print() statments,otherwise these will be executed at runtime which creates performance problems and disturbs console output.\n",
    "#### ☕ To overcome this problem we should go for assert statement. The main advantage of assert statement over print() statement is after fixing bug we are not required to delete assert statements. Based on our requirement we can enable or disable assert statements.\n",
    "#### ☕ Hence the main purpose of assertions is to perform debugging. Usully we can perform debugging either in development or in test environments but not in production environment. Hence assertions concept is applicable only for dev and test environments but not for production environment."
   ]
  },
  {
   "cell_type": "markdown",
   "metadata": {},
   "source": [
    "#### <center>2. Types of assert Statements</center>\n",
    "#### There are 2 types of assert statements\n",
    "#### 1) Simple Version\n",
    "#### 2) Augmented Version\n",
    "\n"
   ]
  },
  {
   "cell_type": "markdown",
   "metadata": {},
   "source": [
    "#### <center>1) Simple Version: assert conditional_expression</center>"
   ]
  },
  {
   "cell_type": "markdown",
   "metadata": {},
   "source": [
    "#### <center>2) Augmented Version</center>\n",
    "#### 1. assert conditional_expression, message\n",
    "#### 2. conditional_expression will be evaluated and if it is true then the program will be continued.\n",
    "#### 3. If it is false then the program will be terminated by raising AssertionError.\n",
    "#### 4. By seeing AssertionError, programmer can analyze the code and can fix the problem."
   ]
  },
  {
   "cell_type": "code",
   "execution_count": 2,
   "metadata": {},
   "outputs": [
    {
     "name": "stdout",
     "output_type": "stream",
     "text": [
      "4\n",
      "27\n",
      "256\n"
     ]
    }
   ],
   "source": [
    "def squareIt(x):\n",
    "    return x**x\n",
    "    assert squareIt(2)==4,\"The square of 2 should be 4\"\n",
    "    assert squareIt(3)==9,\"The square of 3 should be 9\"\n",
    "    assert squareIt(4)==16,\"The square of 4 should be 16\"\n",
    "\n",
    "print(squareIt(2))\n",
    "print(squareIt(3))\n",
    "print(squareIt(4)) "
   ]
  },
  {
   "cell_type": "code",
   "execution_count": 3,
   "metadata": {},
   "outputs": [
    {
     "name": "stdout",
     "output_type": "stream",
     "text": [
      "4\n",
      "9\n",
      "16\n"
     ]
    }
   ],
   "source": [
    "def squareIt(x):\n",
    "    return x*x\n",
    "    assert squareIt(2)==4,\"The square of 2 should be 4\"\n",
    "    assert squareIt(3)==9,\"The square of 3 should be 9\"\n",
    "    assert squareIt(4)==16,\"The square of 4 should be 16\"\n",
    "print(squareIt(2))\n",
    "print(squareIt(3))\n",
    "print(squareIt(4)) "
   ]
  },
  {
   "cell_type": "markdown",
   "metadata": {},
   "source": [
    "#### Exception Handling vs Assertions: Assertions concept can be used to alert programmer to resolve development time errors. \n",
    "#### Exception Handling can be used to handle runtime errors."
   ]
  }
 ],
 "metadata": {
  "kernelspec": {
   "display_name": "Python 3",
   "language": "python",
   "name": "python3"
  },
  "language_info": {
   "codemirror_mode": {
    "name": "ipython",
    "version": 3
   },
   "file_extension": ".py",
   "mimetype": "text/x-python",
   "name": "python",
   "nbconvert_exporter": "python",
   "pygments_lexer": "ipython3",
   "version": "3.8.5"
  }
 },
 "nbformat": 4,
 "nbformat_minor": 4
}
