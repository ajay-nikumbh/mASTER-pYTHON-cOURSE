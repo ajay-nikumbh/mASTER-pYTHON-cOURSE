{
 "cells": [
  {
   "cell_type": "markdown",
   "metadata": {},
   "source": [
    "#### <center>Python Logging</center>\n",
    "#### It is highly recommended to store complete application flow and exceptions information to a file. This process is called logging.\n",
    "#### The main advanatages of logging are:\n",
    "#### 1. We can use log files while performing debugging\n",
    "#### 2. We can provide statistics like number of requests per day etc\n",
    "#### To implement logging, Python provides inbuilt module logging. "
   ]
  },
  {
   "cell_type": "markdown",
   "metadata": {},
   "source": [
    "#### <center>1. Logging Levels</center>\n",
    "#### Depending on type of information, logging data is divided according to the following 6 levels in python\n",
    "#### 1. CRITICAL===>50 Represents a very serious problem that needs high attention\n",
    "#### 2. ERROR ===>40 Represents a serious error\n",
    "#### 3. WARNING ==>30 Represents a warning message, some caution needed. It is alert to the programmer.\n",
    "#### 4. INFO==>20 Represents a message with some important information\n",
    "#### 5. DEBUG ===>10 Represents a message with debugging information\n",
    "#### 6. NOTSET==>0 Represents that level is not set\n",
    "#### By default while executing Python program only WARNING and higher level messages will be displayed."
   ]
  },
  {
   "cell_type": "markdown",
   "metadata": {},
   "source": [
    "#### <center>2. How to implement Logging</center>\n",
    "#### To perform logging, first we required to create a file to store messages and we have to specify which level messages required to store.\n",
    "#### We can do this by using basicConfig() function of logging module.\n",
    "#### logging.basicConfig(filename='log.txt',level=logging.WARNING)\n",
    "#### The above line will create a file log.txt and we can store either WARNING level or higher level messages to that file.\n",
    "#### After creating log file, we can write messages to that file by using the following methods\n",
    "#### 1. logging.debug(message)\n",
    "#### 2. logging.info(message)\n",
    "#### 3. logging.warning(message)\n",
    "#### 4. logging.error(message)\n",
    "#### 5. logging.critical(message)"
   ]
  },
  {
   "cell_type": "markdown",
   "metadata": {},
   "source": [
    "#### <center>3. Q. Write a Python Program to create a log file and write WARNING and Higher level messages?</center>"
   ]
  },
  {
   "cell_type": "code",
   "execution_count": 1,
   "metadata": {},
   "outputs": [
    {
     "name": "stdout",
     "output_type": "stream",
     "text": [
      "Logging Demo\n"
     ]
    }
   ],
   "source": [
    "import logging\n",
    "logging.basicConfig(filename='log.txt',level=logging.WARNING)\n",
    "print('Logging Demo')\n",
    "\n",
    "logging.debug('Debug Information')\n",
    "logging.info('info Information')\n",
    "logging.warning('warning Information')\n",
    "logging.error('error Information')\n",
    "logging.critical('critical Information') "
   ]
  },
  {
   "cell_type": "markdown",
   "metadata": {},
   "source": [
    "#### Note:\n",
    "#### 1. In the above program only WARNING and higher level messages will be written to the log file. If\n",
    "#### 2. we set level as DEBUG then all messages will be written to the log file."
   ]
  },
  {
   "cell_type": "code",
   "execution_count": 2,
   "metadata": {},
   "outputs": [
    {
     "name": "stdout",
     "output_type": "stream",
     "text": [
      "Logging Demo\n"
     ]
    }
   ],
   "source": [
    "import logging\n",
    "logging.basicConfig(filename='log.txt',level=logging.DEBUG)\n",
    "print('Logging Demo')\n",
    "logging.debug('Debug Information')\n",
    "logging.info('info Information')\n",
    "logging.warning('warning Information')\n",
    "logging.error('error Information')\n",
    "logging.critical('critical Information') "
   ]
  },
  {
   "cell_type": "markdown",
   "metadata": {},
   "source": [
    "#### <center>4. How to configure log file in over writing mode</center>\n",
    "#### In the above program by default data will be appended to the log file.i.e append is the default mode. Instead of appending if we want to over write data then we have to use filemode property.\n",
    "#### logging.basicConfig(filename='log786.txt',level=logging.WARNING) meant for appending\n",
    "#### logging.basicConfig(filename='log786.txt',level=logging.WARNING,filemode='a') explicitly we are specifying appending.\n",
    "#### logging.basicConfig(filename='log786.txt',level=logging.WARNING,filemode='w') meant for over writing of previous data.\n",
    "#### Note: logging.basicConfig(filename='log.txt',level=logging.DEBUG)\n",
    "#### 1. If we are not specifying level then the default level is WARNING(30)\n",
    "#### 2. If we are not specifying file name then the messages will be printed to the console."
   ]
  },
  {
   "cell_type": "code",
   "execution_count": 3,
   "metadata": {},
   "outputs": [
    {
     "name": "stdout",
     "output_type": "stream",
     "text": [
      "Logging Demo\n"
     ]
    }
   ],
   "source": [
    "import logging\n",
    "logging.basicConfig()\n",
    "print('Logging Demo')\n",
    "\n",
    "logging.debug('Debug Information')\n",
    "logging.info('info Information')\n",
    "logging.warning('warning Information')\n",
    "logging.error('error Information')\n",
    "logging.critical('critical Information') "
   ]
  },
  {
   "cell_type": "markdown",
   "metadata": {},
   "source": [
    "#### <center>5. How to Format log messages</center>\n",
    "#### By using format keyword argument, we can format messages."
   ]
  },
  {
   "cell_type": "markdown",
   "metadata": {},
   "source": [
    "#### <center>1. To display only level name</center>\n",
    "#### logging.basicConfig(format='%(levelname)s')\n",
    "#### Output: WARNING, ERROR ,CRITICAL\n",
    "#### <center>2. To display levelname and message</center>\n",
    "#### logging.basicConfig(format='%(levelname)s:%(message)s')\n",
    "#### Output:WARNING:warning Information, ERROR:error Information, CRITICAL:critical Information"
   ]
  },
  {
   "cell_type": "markdown",
   "metadata": {},
   "source": [
    "#### <center>3. How to add timestamp in the log messages</center>\n",
    "#### logging.basicConfig(format='%(asctime)s:%(levelname)s:%(message)s')"
   ]
  },
  {
   "cell_type": "markdown",
   "metadata": {},
   "source": [
    "#### <center>4. How to change date and time format</center>\n",
    "#### We have to use special keyword argument: datefmt\n",
    "#### logging.basicConfig(format='%(asctime)s:%(levelname)s:%(message)s', datefmt='%d/%m/%Y %I:%M:%S %p')\n",
    "#### datefmt='%d/%m/%Y %I:%M:%S %p' ===>case is important\n",
    "#### Note: %I--->means 12 Hours time scale, %H--->means 24 Hours time scale\n",
    "#### Eg:logging.basicConfig(format='%(asctime)s:%(levelname)s:%(message)s', datefmt='%d/%m/%Y %H:%M:%S')\n",
    "\n"
   ]
  },
  {
   "cell_type": "markdown",
   "metadata": {},
   "source": [
    "#### <center>5. How to write Python program exceptions to the log file</center>\n",
    "#### By using the following function we can write exception information to the log file. logging.exception(msg)"
   ]
  },
  {
   "cell_type": "markdown",
   "metadata": {},
   "source": [
    "#### Q. Python Program to write exception information to the log file"
   ]
  },
  {
   "cell_type": "code",
   "execution_count": 2,
   "metadata": {},
   "outputs": [
    {
     "name": "stdout",
     "output_type": "stream",
     "text": [
      "Enter First Number:10\n",
      "Enter Second Number:20\n",
      "The Result: 0.5\n"
     ]
    }
   ],
   "source": [
    "import logging\n",
    "\n",
    "logging.basicConfig(filename='mylog.txt',level=logging.INFO,format='%(asctime)s:%(levelname)s:%(message)s',datefmt='%d/%m/%Y %I:%M:%S %p')\n",
    "\n",
    "logging.info('A new Request Came')\n",
    "try:\n",
    "    x=int(input('Enter First Number:'))\n",
    "    y=int(input('Enter Second Number:'))\n",
    "    print('The Result:',x/y)\n",
    "\n",
    "except ZeroDivisionError as msg:\n",
    "    print('cannot divide with zero')\n",
    "    logging.exception(msg)\n",
    "\n",
    "except ValueError as msg:\n",
    "    print('Please provide int values only')\n",
    "    logging.exception(msg)\n",
    "\n",
    "logging.info('Request Processing Completed') "
   ]
  },
  {
   "cell_type": "code",
   "execution_count": 3,
   "metadata": {},
   "outputs": [
    {
     "name": "stdout",
     "output_type": "stream",
     "text": [
      "Enter First Number:10\n",
      "Enter Second Number:0\n",
      "cannot divide with zero\n"
     ]
    }
   ],
   "source": [
    "import logging\n",
    "\n",
    "logging.basicConfig(filename='mylog.txt',level=logging.INFO,format='%(asctime)s:%(levelname)s:%(message)s',datefmt='%d/%m/%Y %I:%M:%S %p')\n",
    "\n",
    "logging.info('A new Request Came')\n",
    "try:\n",
    "    x=int(input('Enter First Number:'))\n",
    "    y=int(input('Enter Second Number:'))\n",
    "    print('The Result:',x/y)\n",
    "\n",
    "except ZeroDivisionError as msg:\n",
    "    print('cannot divide with zero')\n",
    "    logging.exception(msg)\n",
    "\n",
    "except ValueError as msg:\n",
    "    print('Please provide int values only')\n",
    "    logging.exception(msg)\n",
    "\n",
    "logging.info('Request Processing Completed') "
   ]
  },
  {
   "cell_type": "markdown",
   "metadata": {},
   "source": [
    "#### <center>6. Problems with root logger</center>\n",
    "#### If we are not defining our own logger,then bydefault root logger will be considered.\n",
    "#### Once we perform basic configuration to root logger then the configurations are fixed and we cannot change."
   ]
  },
  {
   "cell_type": "markdown",
   "metadata": {},
   "source": [
    "#### 1. Demo Application\n",
    "#### student.py"
   ]
  },
  {
   "cell_type": "code",
   "execution_count": 6,
   "metadata": {},
   "outputs": [],
   "source": [
    "import logging\n",
    "logging.basicConfig(filename='student.log',level=logging.INFO)\n",
    "logging.info('info message from student module') "
   ]
  },
  {
   "cell_type": "markdown",
   "metadata": {},
   "source": [
    "#### test.py"
   ]
  },
  {
   "cell_type": "code",
   "execution_count": 7,
   "metadata": {},
   "outputs": [
    {
     "ename": "ModuleNotFoundError",
     "evalue": "No module named 'student'",
     "output_type": "error",
     "traceback": [
      "\u001b[1;31m---------------------------------------------------------------------------\u001b[0m",
      "\u001b[1;31mModuleNotFoundError\u001b[0m                       Traceback (most recent call last)",
      "\u001b[1;32m<ipython-input-7-148203ddd86f>\u001b[0m in \u001b[0;36m<module>\u001b[1;34m\u001b[0m\n\u001b[0;32m      1\u001b[0m \u001b[1;32mimport\u001b[0m \u001b[0mlogging\u001b[0m\u001b[1;33m\u001b[0m\u001b[1;33m\u001b[0m\u001b[0m\n\u001b[1;32m----> 2\u001b[1;33m \u001b[1;32mimport\u001b[0m \u001b[0mstudent\u001b[0m\u001b[1;33m\u001b[0m\u001b[1;33m\u001b[0m\u001b[0m\n\u001b[0m\u001b[0;32m      3\u001b[0m \u001b[1;33m\u001b[0m\u001b[0m\n\u001b[0;32m      4\u001b[0m \u001b[0mlogging\u001b[0m\u001b[1;33m.\u001b[0m\u001b[0mbasicConfig\u001b[0m\u001b[1;33m(\u001b[0m\u001b[0mfilename\u001b[0m\u001b[1;33m=\u001b[0m\u001b[1;34m'test.log'\u001b[0m\u001b[1;33m,\u001b[0m\u001b[0mlevel\u001b[0m\u001b[1;33m=\u001b[0m\u001b[0mlogging\u001b[0m\u001b[1;33m.\u001b[0m\u001b[0mDEBUG\u001b[0m\u001b[1;33m)\u001b[0m\u001b[1;33m\u001b[0m\u001b[1;33m\u001b[0m\u001b[0m\n\u001b[0;32m      5\u001b[0m \u001b[0mlogging\u001b[0m\u001b[1;33m.\u001b[0m\u001b[0mdebug\u001b[0m\u001b[1;33m(\u001b[0m\u001b[1;34m'debug message from test module'\u001b[0m\u001b[1;33m)\u001b[0m\u001b[1;33m\u001b[0m\u001b[1;33m\u001b[0m\u001b[0m\n",
      "\u001b[1;31mModuleNotFoundError\u001b[0m: No module named 'student'"
     ]
    }
   ],
   "source": [
    "import logging\n",
    "import student\n",
    "\n",
    "logging.basicConfig(filename='test.log',level=logging.DEBUG)\n",
    "logging.debug('debug message from test module') "
   ]
  },
  {
   "cell_type": "markdown",
   "metadata": {},
   "source": [
    "#### In the above application the configurations performed in test module won't be reflected,b'z root logger is already configured in student module.\n"
   ]
  },
  {
   "cell_type": "markdown",
   "metadata": {},
   "source": [
    "#### <center>7. Need of Our own customized logger</center>\n",
    "#### The problems with root logger are:\n",
    "#### 1. Once we set basic configuration then that configuration is final and we cannot change\n",
    "#### 2. It will always work for only one handler at a time, either console or file, but not both simultaneously\n",
    "#### 3. It is not possible to configure logger with different configurations at different levels\n",
    "#### 4. We cannot specify multiple log files for multiple modules/classes/methods.\n",
    "#### To overcome these problems we should go for our own customized loggers"
   ]
  },
  {
   "cell_type": "markdown",
   "metadata": {},
   "source": [
    "#### <center>1. Advanced logging Module Features: Logger</center>\n",
    "#### Logger is more advanced than basic logging.\n",
    "#### It is highly recommended to use and it provides several extra features.\n"
   ]
  },
  {
   "cell_type": "markdown",
   "metadata": {},
   "source": [
    "#### <center>2. Steps for Advanced Logging</center>\n",
    "\n",
    "\n",
    "#### <center>1. Creation of Logger object and set log level</center>\n",
    "#### logger = logging.getLogger('demologger')\n",
    "#### logger.setLevel(logging.INFO)\n",
    "\n",
    "#### <center>2. Creation of Handler object and set log level</center>\n",
    "#### There are several types of Handlers like StreamHandler, FileHandler etc\n",
    "#### consoleHandler = logging.StreamHandler()\n",
    "#### consoleHandler.setLevel(logging.INFO)\n",
    "#### Note: If we use StreamHandler then log messages will be printed to console"
   ]
  },
  {
   "cell_type": "markdown",
   "metadata": {},
   "source": [
    "#### <center>3. Creation of Formatter object</center>\n",
    "#### formatter = logging.Formatter('%(asctime)s - %(name)s - %(levelname)s: %(message)s', datefmt='%d/%m/%Y %I:%M:%S %p')\n",
    "\n",
    "#### <center>4. Add Formatter to Handler</center>\n",
    "#### consoleHandler.setFormatter(formatter)\n",
    "\n",
    "#### <center>5. Add Handler to Logger</center>\n",
    "#### logger.addHandler(consoleHandler)\n",
    "\n",
    "#### <center>6. Write messages by using logger object and the following methods</center>\n",
    "#### logger.debug('debug message')\n",
    "#### logger.info('info message')\n",
    "#### logger.warn('warn message')\n",
    "#### logger.error('error message')\n",
    "#### logger.critical('critical message')\n",
    "#### Note: Bydefault logger will set to WARNING level. But we can set our own level based on our requirement.\n",
    "#### logger = logging.getLogger('demologger')\n",
    "#### logger.setLevel(logging.INFO)\n",
    "#### logger log level by default available to console and file handlers. If we are not satisfied with logger\n",
    "#### level, then we can set log level explicitly at console level and file levels.\n",
    "#### consoleHandler = logging.StreamHandler()\n",
    "#### consoleHandler.setLevel(logging.WARNING)\n",
    "#### fileHandler=logging.FileHandler('abc.log',mode='a')\n",
    "#### fileHandler.setLevel(logging.ERROR)\n",
    "#### Note: console and file log levels should be supported by logger. i.e logger log level should be lower than console and file levels. Otherwise only logger log level will be considered.\n",
    "#### Eg:\n",
    "#### logger==>DEBUG console===>INFO ------->Valid and INFO will be considered\n",
    "#### logger==>INFO console===>DEBUG ------->Invalid and only INFO will be considered to the console."
   ]
  },
  {
   "cell_type": "markdown",
   "metadata": {},
   "source": [
    "#### <center>Demo Program for Console Handler</center>"
   ]
  },
  {
   "cell_type": "code",
   "execution_count": 8,
   "metadata": {},
   "outputs": [
    {
     "name": "stderr",
     "output_type": "stream",
     "text": [
      "06/17/2021 05:54:00 PM - demologger -INFO: info message\n",
      "<ipython-input-8-6dd7c64d8119>:19: DeprecationWarning: The 'warn' method is deprecated, use 'warning' instead\n",
      "  logger.warn('warn message')\n",
      "06/17/2021 05:54:00 PM - demologger -WARNING: warn message\n",
      "06/17/2021 05:54:00 PM - demologger -ERROR: error message\n",
      "06/17/2021 05:54:00 PM - demologger -CRITICAL: critical message\n"
     ]
    }
   ],
   "source": [
    "import logging\n",
    "\n",
    "class LoggerDemoConsole:\n",
    "    def testLog(self):\n",
    "        logger = logging.getLogger('demologger')\n",
    "        logger.setLevel(logging.INFO)\n",
    "\n",
    "        consoleHandler = logging.StreamHandler()\n",
    "        consoleHandler.setLevel(logging.INFO)\n",
    " \n",
    "        formatter = logging.Formatter('%(asctime)s - %(name)s -%(levelname)s: %(message)s',\n",
    "                                      datefmt='%m/%d/%Y %I:%M:%S %p')\n",
    " \n",
    "        consoleHandler.setFormatter(formatter)\n",
    "        logger.addHandler(consoleHandler)\n",
    "\n",
    "        logger.debug('debug message')\n",
    "        logger.info('info message')\n",
    "        logger.warn('warn message')\n",
    "        logger.error('error message')\n",
    "        logger.critical('critical message')\n",
    "\n",
    "demo = LoggerDemoConsole()\n",
    "demo.testLog() "
   ]
  },
  {
   "cell_type": "markdown",
   "metadata": {},
   "source": [
    "#### Note: If we want to use class name as logger name then we have to create logger object as follows\n",
    "#### logger = logging.getLogger(LoggerDemoConsole.__name__)"
   ]
  },
  {
   "cell_type": "markdown",
   "metadata": {},
   "source": [
    "#### <center>Demo Program for File Handler</center>"
   ]
  },
  {
   "cell_type": "code",
   "execution_count": 1,
   "metadata": {},
   "outputs": [
    {
     "name": "stderr",
     "output_type": "stream",
     "text": [
      "<ipython-input-1-2c0ae266d892>:14: DeprecationWarning: The 'warn' method is deprecated, use 'warning' instead\n",
      "  logger.warn('warn message')\n"
     ]
    }
   ],
   "source": [
    "import logging\n",
    "class LoggerDemoConsole:\n",
    "    def testLog(self):\n",
    "        logger = logging.getLogger('demologger')\n",
    "        logger.setLevel(logging.INFO)\n",
    "        fileHandler = logging.FileHandler('abc.log',mode='a')\n",
    "        fileHandler.setLevel(logging.INFO)\n",
    "        formatter = logging.Formatter('%(asctime)s - %(name)s -%(levelname)s: %(message)s',\n",
    "                                       datefmt='%m/%d/%Y %I:%M:%S %p')\n",
    "        fileHandler.setFormatter(formatter)\n",
    "        logger.addHandler(fileHandler)\n",
    "        logger.debug('debug message')\n",
    "        logger.info('info message')\n",
    "        logger.warn('warn message')\n",
    "        logger.error('error message')\n",
    "        logger.critical('critical message')\n",
    "\n",
    "demo = LoggerDemoConsole()\n",
    "demo.testLog()"
   ]
  },
  {
   "cell_type": "markdown",
   "metadata": {},
   "source": [
    "#### Note: Logger with Configuration File:\n",
    "#### In the above program, everything we hard coded in the python script. It is not a good programming practice. \n",
    "\n",
    "#### We will configure all the required things inside a configuration file and we can use this file directly in our program.\n",
    "\n",
    "#### logging.config.fileConfig('logging.conf')\n",
    "#### logger = logging.getLogger(LoggerDemoConf.__name__)\n",
    "#### Note: The extension of the file need not be conf. We can use any extension like txt or durga etc"
   ]
  },
  {
   "cell_type": "markdown",
   "metadata": {},
   "source": [
    "#### <center>logging.conf</center>\n",
    "#### [loggers] keys=root,LoggerDemoConf\n",
    "\n",
    "#### [handlers] keys=fileHandler\n",
    "\n",
    "#### [formatters] keys=simpleFormatter\n",
    "\n",
    "#### [logger_root] level=DEBUG, handlers=fileHandler\n",
    "\n",
    "#### [logger_LoggerDemoConf] level=DEBUG , handlers=fileHandler, qualname=demoLogger\n",
    "\n",
    "#### [handler_fileHandler] class=FileHandler, level=DEBUG, formatter=simpleFormatter ,args=('test.log', 'w')\n",
    "\n",
    "#### [formatter_simpleFormatter] format=%(asctime)s - %(name)s - %(levelname)s - %(message)s datefmt=%m/%d/%Y %I:%M:%S %p"
   ]
  },
  {
   "cell_type": "code",
   "execution_count": 2,
   "metadata": {},
   "outputs": [
    {
     "ename": "KeyError",
     "evalue": "'formatters'",
     "output_type": "error",
     "traceback": [
      "\u001b[1;31m---------------------------------------------------------------------------\u001b[0m",
      "\u001b[1;31mKeyError\u001b[0m                                  Traceback (most recent call last)",
      "\u001b[1;32m<ipython-input-2-e9a94f4f2faf>\u001b[0m in \u001b[0;36m<module>\u001b[1;34m\u001b[0m\n\u001b[0;32m     12\u001b[0m \u001b[1;33m\u001b[0m\u001b[0m\n\u001b[0;32m     13\u001b[0m \u001b[0mdemo\u001b[0m \u001b[1;33m=\u001b[0m \u001b[0mLoggerDemoConf\u001b[0m\u001b[1;33m(\u001b[0m\u001b[1;33m)\u001b[0m\u001b[1;33m\u001b[0m\u001b[1;33m\u001b[0m\u001b[0m\n\u001b[1;32m---> 14\u001b[1;33m \u001b[0mdemo\u001b[0m\u001b[1;33m.\u001b[0m\u001b[0mtestLog\u001b[0m\u001b[1;33m(\u001b[0m\u001b[1;33m)\u001b[0m\u001b[1;33m\u001b[0m\u001b[1;33m\u001b[0m\u001b[0m\n\u001b[0m",
      "\u001b[1;32m<ipython-input-2-e9a94f4f2faf>\u001b[0m in \u001b[0;36mtestLog\u001b[1;34m(self)\u001b[0m\n\u001b[0;32m      3\u001b[0m \u001b[1;32mclass\u001b[0m \u001b[0mLoggerDemoConf\u001b[0m\u001b[1;33m(\u001b[0m\u001b[1;33m)\u001b[0m\u001b[1;33m:\u001b[0m\u001b[1;33m\u001b[0m\u001b[1;33m\u001b[0m\u001b[0m\n\u001b[0;32m      4\u001b[0m     \u001b[1;32mdef\u001b[0m \u001b[0mtestLog\u001b[0m\u001b[1;33m(\u001b[0m\u001b[0mself\u001b[0m\u001b[1;33m)\u001b[0m\u001b[1;33m:\u001b[0m\u001b[1;33m\u001b[0m\u001b[1;33m\u001b[0m\u001b[0m\n\u001b[1;32m----> 5\u001b[1;33m         \u001b[0mlogging\u001b[0m\u001b[1;33m.\u001b[0m\u001b[0mconfig\u001b[0m\u001b[1;33m.\u001b[0m\u001b[0mfileConfig\u001b[0m\u001b[1;33m(\u001b[0m\u001b[1;34m'logging.conf'\u001b[0m\u001b[1;33m)\u001b[0m\u001b[1;33m\u001b[0m\u001b[1;33m\u001b[0m\u001b[0m\n\u001b[0m\u001b[0;32m      6\u001b[0m         \u001b[0mlogger\u001b[0m \u001b[1;33m=\u001b[0m \u001b[0mlogging\u001b[0m\u001b[1;33m.\u001b[0m\u001b[0mgetLogger\u001b[0m\u001b[1;33m(\u001b[0m\u001b[0mLoggerDemoConf\u001b[0m\u001b[1;33m.\u001b[0m\u001b[0m__name__\u001b[0m\u001b[1;33m)\u001b[0m\u001b[1;33m\u001b[0m\u001b[1;33m\u001b[0m\u001b[0m\n\u001b[0;32m      7\u001b[0m         \u001b[0mlogger\u001b[0m\u001b[1;33m.\u001b[0m\u001b[0mdebug\u001b[0m\u001b[1;33m(\u001b[0m\u001b[1;34m'debug message'\u001b[0m\u001b[1;33m)\u001b[0m\u001b[1;33m\u001b[0m\u001b[1;33m\u001b[0m\u001b[0m\n",
      "\u001b[1;32mC:\\ProgramData\\Anaconda3\\lib\\logging\\config.py\u001b[0m in \u001b[0;36mfileConfig\u001b[1;34m(fname, defaults, disable_existing_loggers)\u001b[0m\n\u001b[0;32m     69\u001b[0m             \u001b[0mcp\u001b[0m\u001b[1;33m.\u001b[0m\u001b[0mread\u001b[0m\u001b[1;33m(\u001b[0m\u001b[0mfname\u001b[0m\u001b[1;33m)\u001b[0m\u001b[1;33m\u001b[0m\u001b[1;33m\u001b[0m\u001b[0m\n\u001b[0;32m     70\u001b[0m \u001b[1;33m\u001b[0m\u001b[0m\n\u001b[1;32m---> 71\u001b[1;33m     \u001b[0mformatters\u001b[0m \u001b[1;33m=\u001b[0m \u001b[0m_create_formatters\u001b[0m\u001b[1;33m(\u001b[0m\u001b[0mcp\u001b[0m\u001b[1;33m)\u001b[0m\u001b[1;33m\u001b[0m\u001b[1;33m\u001b[0m\u001b[0m\n\u001b[0m\u001b[0;32m     72\u001b[0m \u001b[1;33m\u001b[0m\u001b[0m\n\u001b[0;32m     73\u001b[0m     \u001b[1;31m# critical section\u001b[0m\u001b[1;33m\u001b[0m\u001b[1;33m\u001b[0m\u001b[1;33m\u001b[0m\u001b[0m\n",
      "\u001b[1;32mC:\\ProgramData\\Anaconda3\\lib\\logging\\config.py\u001b[0m in \u001b[0;36m_create_formatters\u001b[1;34m(cp)\u001b[0m\n\u001b[0;32m    102\u001b[0m \u001b[1;32mdef\u001b[0m \u001b[0m_create_formatters\u001b[0m\u001b[1;33m(\u001b[0m\u001b[0mcp\u001b[0m\u001b[1;33m)\u001b[0m\u001b[1;33m:\u001b[0m\u001b[1;33m\u001b[0m\u001b[1;33m\u001b[0m\u001b[0m\n\u001b[0;32m    103\u001b[0m     \u001b[1;34m\"\"\"Create and return formatters\"\"\"\u001b[0m\u001b[1;33m\u001b[0m\u001b[1;33m\u001b[0m\u001b[0m\n\u001b[1;32m--> 104\u001b[1;33m     \u001b[0mflist\u001b[0m \u001b[1;33m=\u001b[0m \u001b[0mcp\u001b[0m\u001b[1;33m[\u001b[0m\u001b[1;34m\"formatters\"\u001b[0m\u001b[1;33m]\u001b[0m\u001b[1;33m[\u001b[0m\u001b[1;34m\"keys\"\u001b[0m\u001b[1;33m]\u001b[0m\u001b[1;33m\u001b[0m\u001b[1;33m\u001b[0m\u001b[0m\n\u001b[0m\u001b[0;32m    105\u001b[0m     \u001b[1;32mif\u001b[0m \u001b[1;32mnot\u001b[0m \u001b[0mlen\u001b[0m\u001b[1;33m(\u001b[0m\u001b[0mflist\u001b[0m\u001b[1;33m)\u001b[0m\u001b[1;33m:\u001b[0m\u001b[1;33m\u001b[0m\u001b[1;33m\u001b[0m\u001b[0m\n\u001b[0;32m    106\u001b[0m         \u001b[1;32mreturn\u001b[0m \u001b[1;33m{\u001b[0m\u001b[1;33m}\u001b[0m\u001b[1;33m\u001b[0m\u001b[1;33m\u001b[0m\u001b[0m\n",
      "\u001b[1;32mC:\\ProgramData\\Anaconda3\\lib\\configparser.py\u001b[0m in \u001b[0;36m__getitem__\u001b[1;34m(self, key)\u001b[0m\n\u001b[0;32m    958\u001b[0m     \u001b[1;32mdef\u001b[0m \u001b[0m__getitem__\u001b[0m\u001b[1;33m(\u001b[0m\u001b[0mself\u001b[0m\u001b[1;33m,\u001b[0m \u001b[0mkey\u001b[0m\u001b[1;33m)\u001b[0m\u001b[1;33m:\u001b[0m\u001b[1;33m\u001b[0m\u001b[1;33m\u001b[0m\u001b[0m\n\u001b[0;32m    959\u001b[0m         \u001b[1;32mif\u001b[0m \u001b[0mkey\u001b[0m \u001b[1;33m!=\u001b[0m \u001b[0mself\u001b[0m\u001b[1;33m.\u001b[0m\u001b[0mdefault_section\u001b[0m \u001b[1;32mand\u001b[0m \u001b[1;32mnot\u001b[0m \u001b[0mself\u001b[0m\u001b[1;33m.\u001b[0m\u001b[0mhas_section\u001b[0m\u001b[1;33m(\u001b[0m\u001b[0mkey\u001b[0m\u001b[1;33m)\u001b[0m\u001b[1;33m:\u001b[0m\u001b[1;33m\u001b[0m\u001b[1;33m\u001b[0m\u001b[0m\n\u001b[1;32m--> 960\u001b[1;33m             \u001b[1;32mraise\u001b[0m \u001b[0mKeyError\u001b[0m\u001b[1;33m(\u001b[0m\u001b[0mkey\u001b[0m\u001b[1;33m)\u001b[0m\u001b[1;33m\u001b[0m\u001b[1;33m\u001b[0m\u001b[0m\n\u001b[0m\u001b[0;32m    961\u001b[0m         \u001b[1;32mreturn\u001b[0m \u001b[0mself\u001b[0m\u001b[1;33m.\u001b[0m\u001b[0m_proxies\u001b[0m\u001b[1;33m[\u001b[0m\u001b[0mkey\u001b[0m\u001b[1;33m]\u001b[0m\u001b[1;33m\u001b[0m\u001b[1;33m\u001b[0m\u001b[0m\n\u001b[0;32m    962\u001b[0m \u001b[1;33m\u001b[0m\u001b[0m\n",
      "\u001b[1;31mKeyError\u001b[0m: 'formatters'"
     ]
    }
   ],
   "source": [
    "import logging\n",
    "import logging.config\n",
    "class LoggerDemoConf():\n",
    "    def testLog(self):\n",
    "        logging.config.fileConfig('logging.conf')\n",
    "        logger = logging.getLogger(LoggerDemoConf.__name__)\n",
    "        logger.debug('debug message')\n",
    "        logger.info('info message')\n",
    "        logger.warn('warn message')\n",
    "        logger.error('error message')\n",
    "        logger.critical('critical message')\n",
    "\n",
    "demo = LoggerDemoConf()\n",
    "demo.testLog()"
   ]
  },
  {
   "cell_type": "markdown",
   "metadata": {},
   "source": [
    "#### <center>Case-1: To set log level as INFO</center>\n",
    "#### [handler_fileHandler]\n",
    "#### class=FileHandler\n",
    "#### level=INFO\n",
    "#### formatter=simpleFormatter\n",
    "#### args=('test.log', 'w')\n",
    "\n",
    "#### <center>Case-2: To set Append Mode</center>\n",
    "#### [handler_fileHandler]\n",
    "#### class=FileHandler\n",
    "#### level=INFO\n",
    "#### formatter=simpleFormatter\n",
    "#### args=('test.log', 'a')"
   ]
  },
  {
   "cell_type": "markdown",
   "metadata": {},
   "source": [
    "#### Creation of Custom Logger:\n",
    "#### customlogger.py:"
   ]
  },
  {
   "cell_type": "code",
   "execution_count": null,
   "metadata": {},
   "outputs": [],
   "source": [
    "1) import logging\n",
    "2) import inspect\n",
    "3) def getCustomLogger(level):\n",
    "4) # Get Name of class/method from where this method called\n",
    "5) loggername=inspect.stack()[1][3]\n",
    "6) logger=logging.getLogger(loggername)\n",
    "7) logger.setLevel(level)\n",
    "8)\n",
    "9) fileHandler=logging.FileHandler('abc.log',mode='a')\n",
    "10) fileHandler.setLevel(level)\n",
    "11)\n",
    "12) formatter = logging.Formatter('%(asctime)s - %(name)s -\n",
    "%(levelname)s: %(message)s',datefmt='%m/%d/%Y %I:%M:%S %p')\n",
    "13) fileHandler.setFormatter(formatter)\n",
    "14) logger.addHandler(fileHandler)\n",
    "15)\n",
    "16) return logger "
   ]
  },
  {
   "cell_type": "markdown",
   "metadata": {},
   "source": [
    "#### test.py:"
   ]
  },
  {
   "cell_type": "code",
   "execution_count": null,
   "metadata": {},
   "outputs": [],
   "source": [
    "1) import logging\n",
    "2) from customlogger import getCustomLogger\n",
    "3) class LoggingDemo:\n",
    "4) def m1(self):\n",
    "5) logger=getCustomLogger(logging.DEBUG)\n",
    "6) logger.debug('m1:debug message')\n",
    "7) logger.info('m1:info message')\n",
    "8) logger.warn('m1:warn message')\n",
    "9) logger.error('m1:error message')\n",
    "10) logger.critical('m1:critical message')\n",
    "11) def m2(self):\n",
    "12) logger=getCustomLogger(logging.WARNING)\n",
    "13) logger.debug('m2:debug message')\n",
    "14) logger.info('m2:info message')\n",
    "15) logger.warn('m2:warn message')\n",
    "16) logger.error('m2:error message')\n",
    "17) logger.critical('m2:critical message')\n",
    "18) def m3(self):\n",
    "19) logger=getCustomLogger(logging.ERROR)\n",
    "20) logger.debug('m3:debug message')\n",
    "21) logger.info('m3:info message')\n",
    "22) logger.warn('m3:warn message')\n",
    "23) logger.error('m3:error message')\n",
    "24) logger.critical('m3:critical message')\n",
    "25)\n",
    "26) l=LoggingDemo()\n",
    "27) print('Custom Logger Demo')\n",
    "28) l.m1()\n",
    "29) l.m2()\n",
    "30) l.m3() "
   ]
  },
  {
   "cell_type": "markdown",
   "metadata": {},
   "source": [
    "#### <center>How to create seperate log file Based on Caller</center>"
   ]
  },
  {
   "cell_type": "code",
   "execution_count": null,
   "metadata": {},
   "outputs": [],
   "source": [
    "1) import logging\n",
    "2) import inspect\n",
    "3) def getCustomLogger(level):\n",
    "4) loggername=inspect.stack()[1][3]\n",
    "5) logger=logging.getLogger(loggername)\n",
    "6) logger.setLevel(level)\n",
    "7)\n",
    "8) fileHandler=logging.FileHandler('{}.log'.format(loggername),mode='a')\n",
    "9) fileHandler.setLevel(level)\n",
    "10)\n",
    "11) formatter = logging.Formatter('%(asctime)s - %(name)s -\n",
    "%(levelname)s: %(message)s',datefmt='%m/%d/%Y %I:%M:%S %p')\n",
    "12) fileHandler.setFormatter(formatter)\n",
    "13) logger.addHandler(fileHandler)\n",
    "14)\n",
    "15) return logger "
   ]
  },
  {
   "cell_type": "markdown",
   "metadata": {},
   "source": [
    "#### test.py:\n",
    "#### Same as previous"
   ]
  },
  {
   "cell_type": "code",
   "execution_count": null,
   "metadata": {},
   "outputs": [],
   "source": [
    "1) import logging\n",
    "2) from customlogger import getCustomLogger\n",
    "3) class LoggingDemo:\n",
    "4) def m1(self):\n",
    "5) logger=getCustomLogger(logging.DEBUG)\n",
    "6) logger.debug('m1:debug message')\n",
    "7) logger.info('m1:info message')\n",
    "8) logger.warn('m1:warn message')\n",
    "9) logger.error('m1:error message')\n",
    "10) logger.critical('m1:critical message')\n",
    "11) def m2(self):\n",
    "12) logger=getCustomLogger(logging.WARNING)\n",
    "13) logger.debug('m2:debug message')\n",
    "14) logger.info('m2:info message')\n",
    "15) logger.warn('m2:warn message')\n",
    "16) logger.error('m2:error message')\n",
    "17) logger.critical('m2:critical message')\n",
    "18) def m3(self):\n",
    "19) logger=getCustomLogger(logging.ERROR)\n",
    "20) logger.debug('m3:debug message')\n",
    "21) logger.info('m3:info message')\n",
    "22) logger.warn('m3:warn message')\n",
    "23) logger.error('m3:error message')\n",
    "24) logger.critical('m3:critical message') \n",
    "26) l=LoggingDemo()\n",
    "27) print('Logging Demo with Seperate Log File')\n",
    "28) l.m1()\n",
    "29) l.m2()\n",
    "30) l.m3() "
   ]
  },
  {
   "cell_type": "markdown",
   "metadata": {},
   "source": [
    "#### <center>Advantages of customized logger</center>\n",
    "#### 1. We can reuse same customlogger code where ever logger required.\n",
    "#### 2. For every caller we can able to create a seperate log file\n",
    "#### 3. For different handlers we can set different log levels."
   ]
  },
  {
   "cell_type": "markdown",
   "metadata": {},
   "source": [
    "#### Another Example for Custom Handler: customlogger.py"
   ]
  },
  {
   "cell_type": "code",
   "execution_count": null,
   "metadata": {},
   "outputs": [],
   "source": [
    "1) import logging\n",
    "2) import inspect\n",
    "3) def getCustomLogger(level):\n",
    "4) loggername=inspect.stack()[1][3]\n",
    "5)\n",
    "6) logger=logging.getLogger(loggername)\n",
    "7) logger.setLevel(level)\n",
    "8) fileHandler=logging.FileHandler('test.log',mode='a')\n",
    "9) fileHandler.setLevel(level)\n",
    "10) formatter=logging.Formatter('%(asctime)s - %(name)s -\n",
    "%(levelname)s: %(message)s',datefmt='%m/%d/%Y %I:%M:%S %p')\n",
    "11) fileHandler.setFormatter(formatter)\n",
    "12) logger.addHandler(fileHandler)\n",
    "13) return logger "
   ]
  },
  {
   "cell_type": "code",
   "execution_count": null,
   "metadata": {},
   "outputs": [],
   "source": [
    "test.py:\n",
    "1) import logging\n",
    "2) from customlogger import getCustomLogger\n",
    "3) class Test:\n",
    "4) def logtest(self):\n",
    "5) logger=getCustomLogger(logging.DEBUG)\n",
    "6) logger.debug('debug message')\n",
    "7) logger.info('info message')\n",
    "8) logger.warning('warning message')\n",
    "9) logger.error('error message')\n",
    "10) logger.critical('critical message')\n",
    "11) t=Test()\n",
    "12) t.logtest() "
   ]
  },
  {
   "cell_type": "code",
   "execution_count": null,
   "metadata": {},
   "outputs": [],
   "source": [
    "student.py:\n",
    "1) import logging\n",
    "2) from customlogger import getCustomLogger\n",
    "3) def studentfunction():\n",
    "4) logger=getCustomLogger(logging.ERROR)\n",
    "5) logger.debug('debug message')\n",
    "6) logger.info('info message')\n",
    "7) logger.warning('warning message')\n",
    "8) logger.error('error message')\n",
    "9) logger.critical('critical message')\n",
    "10) studentfunction()"
   ]
  },
  {
   "cell_type": "markdown",
   "metadata": {},
   "source": [
    "#### Note: we can disable a partcular level of logging as follows: logging.disable(logging.CRITICAL)"
   ]
  }
 ],
 "metadata": {
  "kernelspec": {
   "display_name": "Python 3",
   "language": "python",
   "name": "python3"
  },
  "language_info": {
   "codemirror_mode": {
    "name": "ipython",
    "version": 3
   },
   "file_extension": ".py",
   "mimetype": "text/x-python",
   "name": "python",
   "nbconvert_exporter": "python",
   "pygments_lexer": "ipython3",
   "version": "3.8.5"
  }
 },
 "nbformat": 4,
 "nbformat_minor": 4
}
