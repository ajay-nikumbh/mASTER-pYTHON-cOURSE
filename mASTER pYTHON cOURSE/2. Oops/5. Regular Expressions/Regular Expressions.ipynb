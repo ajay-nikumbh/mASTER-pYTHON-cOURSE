{
 "cells": [
  {
   "cell_type": "markdown",
   "metadata": {},
   "source": [
    "### <center>Regular Expressions</center>"
   ]
  },
  {
   "cell_type": "markdown",
   "metadata": {},
   "source": [
    "#### If we want to represent a group of Strings according to a particular format/pattern then we should go for Regular Expressions. i.e Regualr Expressions is a declarative mechanism to represent a group of Strings accroding to particular format/pattern.\n",
    "#### Eg 1: We can write a regular expression to represent all mobile numbers\n",
    "#### Eg 2: We can write a regular expression to represent all mail ids.\n",
    "#### The main important application areas of Regular Expressions are\n",
    "#### 1. To develop validation frameworks/validation logic\n",
    "#### 2. To develop Pattern matching applications (ctrl-f in windows, grep in UNIX etc)\n",
    "#### 3. To develop Translators like compilers, interpreters etc\n",
    "#### 4. To develop digital circuits\n",
    "#### 5. To develop communication protocols like TCP/IP, UDP etc.\n",
    "#### We can develop Regular Expression Based applications by using python module: re\n",
    "#### This module contains several inbuilt functions to use Regular Expressions very easily in our applications."
   ]
  },
  {
   "cell_type": "markdown",
   "metadata": {},
   "source": [
    "#### <center>1. compile()</center>\n",
    "#### re module contains compile() function to compile a pattern into RegexObject."
   ]
  },
  {
   "cell_type": "code",
   "execution_count": null,
   "metadata": {},
   "outputs": [],
   "source": [
    "pattern = re.compile(\"ab\")"
   ]
  },
  {
   "cell_type": "markdown",
   "metadata": {},
   "source": [
    "#### <center>2. finditer()</center>\n",
    "#### Returns an Iterator object which yields Match object for every Match\n",
    "#### matcher = pattern.finditer(\"abaababa\")\n",
    "#### On Match object we can call the following methods.\n",
    "#### 1. start() Returns start index of the match\n",
    "#### 2. end()  Returns end+1 index of the match\n",
    "#### 3. group() Returns the matched string"
   ]
  },
  {
   "cell_type": "code",
   "execution_count": 3,
   "metadata": {},
   "outputs": [
    {
     "name": "stdout",
     "output_type": "stream",
     "text": [
      "0 ... 2 ... ab\n",
      "3 ... 5 ... ab\n",
      "5 ... 7 ... ab\n",
      "The number of occurrences:  3\n"
     ]
    }
   ],
   "source": [
    "import re \n",
    "count=0\n",
    "\n",
    "pattern=re.compile(\"ab\")\n",
    "matcher=pattern.finditer(\"abaababa\")\n",
    "\n",
    "for match in matcher:\n",
    "    count+=1\n",
    "    print(match.start(),\"...\",match.end(),\"...\",match.group())\n",
    "print(\"The number of occurrences: \",count)"
   ]
  },
  {
   "cell_type": "markdown",
   "metadata": {},
   "source": [
    "#### Note: We can pass pattern directly as argument to finditer() function."
   ]
  },
  {
   "cell_type": "code",
   "execution_count": 4,
   "metadata": {},
   "outputs": [
    {
     "name": "stdout",
     "output_type": "stream",
     "text": [
      "0 ... 2 ... ab\n",
      "3 ... 5 ... ab\n",
      "5 ... 7 ... ab\n",
      "The number of occurrences:  3\n"
     ]
    }
   ],
   "source": [
    "import re\n",
    " \n",
    "count=0\n",
    "matcher=re.finditer(\"ab\",\"abaababa\")\n",
    "\n",
    "for match in matcher:\n",
    "    count+=1\n",
    "    print(match.start(),\"...\",match.end(),\"...\",match.group())\n",
    "print(\"The number of occurrences: \",count) "
   ]
  },
  {
   "cell_type": "markdown",
   "metadata": {},
   "source": [
    "#### <center>3. Character classes</center>\n",
    "#### We can use character classes to search a group of characters\n",
    "#### 1. [abc]===>Either a or b or c\n",
    "#### 2. [^abc] ===>Except a and b and c\n",
    "#### 3. [a-z]==>Any Lower case alphabet symbol\n",
    "#### 4. [A-Z]===>Any upper case alphabet symbol\n",
    "#### 5. [a-zA-Z]==>Any alphabet symbol\n",
    "#### 6. [0-9] Any digit from 0 to 9\n",
    "#### 7. [a-zA-Z0-9]==>Any alphanumeric character\n",
    "#### 8. [^a-zA-Z0-9]==>Except alphanumeric characters(Special Characters)"
   ]
  },
  {
   "cell_type": "code",
   "execution_count": 7,
   "metadata": {},
   "outputs": [],
   "source": [
    "import re\n",
    "matcher=re.finditer(\"x\",\"a7b@k9z\")\n",
    "for match in matcher:\n",
    "    print(match.start(),\"......\",match.group()) "
   ]
  },
  {
   "cell_type": "markdown",
   "metadata": {},
   "source": [
    "#### <center>4. Pre defined Character classes</center>\n",
    "#### \\s  Space character\n",
    "#### \\S  Any character except space character\n",
    "#### \\d  Any digit from 0 to 9\n",
    "#### \\D  Any character except digit\n",
    "#### \\w  Any word character [a-zA-Z0-9]\n",
    "#### \\W  Any character except word character (Special Characters)\n",
    "#### .  Any character including special characters"
   ]
  },
  {
   "cell_type": "code",
   "execution_count": 8,
   "metadata": {},
   "outputs": [],
   "source": [
    "import re\n",
    "\n",
    "matcher=re.finditer(\"x\",\"a7b k@9z\")\n",
    "for match in matcher:\n",
    "    print(match.start(),\"......\",match.group()) "
   ]
  },
  {
   "cell_type": "markdown",
   "metadata": {},
   "source": [
    "#### <center>5. Qunatifiers</center>\n",
    "#### We can use quantifiers to specify the number of occurrences to match.\n",
    "#### a Exactly one 'a'\n",
    "#### a+ Atleast one 'a'\n",
    "#### a* Any number of a's including zero number\n",
    "#### a?  Atmost one 'a' ie either zero number or one number\n",
    "#### a{m} Exactly m number of a's\n",
    "#### a{m,n}  Minimum m number of a's and Maximum n number of a's"
   ]
  },
  {
   "cell_type": "code",
   "execution_count": 12,
   "metadata": {},
   "outputs": [],
   "source": [
    "import re\n",
    "matcher=re.finditer(\"x\",\"abaabaaab\")\n",
    "for match in matcher:\n",
    "    print(match.start(),\"......\",match.group()) "
   ]
  },
  {
   "cell_type": "markdown",
   "metadata": {},
   "source": [
    "#### Note:\n",
    "#### 1. ^x It will check whether target string starts with x or not\n",
    "#### 2. x$  It will check whether target string ends with x or not"
   ]
  },
  {
   "cell_type": "markdown",
   "metadata": {},
   "source": [
    "#### <center>6. Important functions of re module</center>\n",
    "#### 1. match()\n",
    "#### 2. fullmatch()\n",
    "#### 3. search()\n",
    "#### 4.findall()\n",
    "#### 5.finditer()\n",
    "#### 6. sub()\n",
    "#### 7.subn()\n",
    "#### 8. split()\n",
    "#### 9. compile()"
   ]
  },
  {
   "cell_type": "markdown",
   "metadata": {},
   "source": [
    "#### <center>1. match()</center>\n",
    "#### We can use match function to chck the given pattern at beginning of target string.\n",
    "#### If the match is available then we will get Match object, otherwise we will get None.\n"
   ]
  },
  {
   "cell_type": "code",
   "execution_count": 15,
   "metadata": {},
   "outputs": [
    {
     "name": "stdout",
     "output_type": "stream",
     "text": [
      "Enter pattern to check: abc\n",
      "Match is available at the beginning of the String\n",
      "Start Index: 0 and End Index: 3\n"
     ]
    }
   ],
   "source": [
    "import re\n",
    "\n",
    "s=input(\"Enter pattern to check: \")\n",
    "m=re.match(s,\"abcabdefg\")\n",
    "\n",
    "if m!= None:\n",
    "    print(\"Match is available at the beginning of the String\")\n",
    "    print(\"Start Index:\",m.start(), \"and End Index:\",m.end())\n",
    "\n",
    "else:\n",
    "    print(\"Match is not available at the beginning of the String\") "
   ]
  },
  {
   "cell_type": "markdown",
   "metadata": {},
   "source": [
    "#### <center>2. fullmatch()</center>\n",
    "#### We can use fullmatch() function to match a pattern to all of target string. i.e complete string should be matched according to given pattern.\n",
    "#### If complete string matched then this function returns Match object otherwise it returns None."
   ]
  },
  {
   "cell_type": "code",
   "execution_count": 17,
   "metadata": {},
   "outputs": [
    {
     "name": "stdout",
     "output_type": "stream",
     "text": [
      "Enter pattern to check: ababab\n",
      "Full String Matched\n"
     ]
    }
   ],
   "source": [
    "import re\n",
    "s=input(\"Enter pattern to check: \")\n",
    "m=re.fullmatch(s,\"ababab\")\n",
    "\n",
    "if m!= None:\n",
    "    print(\"Full String Matched\")\n",
    "else:\n",
    "    print(\"Full String not Matched\") "
   ]
  },
  {
   "cell_type": "markdown",
   "metadata": {},
   "source": [
    "#### <center>3. search()</center>\n",
    "#### We can use search() function to search the given pattern in the target string.\n",
    "#### If the match is available then it returns the Match object which represents first occurrence of the match.\n",
    "#### If the match is not available then it returns None"
   ]
  },
  {
   "cell_type": "code",
   "execution_count": 18,
   "metadata": {},
   "outputs": [
    {
     "name": "stdout",
     "output_type": "stream",
     "text": [
      "Enter pattern to check: aaa\n",
      "Match is available\n",
      "First Occurrence of match with start index: 2 and end index: 5\n"
     ]
    }
   ],
   "source": [
    "import re\n",
    "s=input(\"Enter pattern to check: \")\n",
    "m=re.search(s,\"abaaaba\")\n",
    "if m!= None:\n",
    "    print(\"Match is available\")\n",
    "    print(\"First Occurrence of match with start index:\",m.start(),\"and end index:\",m.end())\n",
    "\n",
    "else:\n",
    "    print(\"Match is not available\") "
   ]
  },
  {
   "cell_type": "code",
   "execution_count": 19,
   "metadata": {},
   "outputs": [
    {
     "name": "stdout",
     "output_type": "stream",
     "text": [
      "Enter pattern to check: bbb\n",
      "Match is not available\n"
     ]
    }
   ],
   "source": [
    "import re\n",
    "s=input(\"Enter pattern to check: \")\n",
    "m=re.search(s,\"abaaaba\")\n",
    "if m!= None:\n",
    "    print(\"Match is available\")\n",
    "    print(\"First Occurrence of match with start index:\",m.start(),\"and end index:\",m.end())\n",
    "\n",
    "else:\n",
    "    print(\"Match is not available\") "
   ]
  },
  {
   "cell_type": "markdown",
   "metadata": {},
   "source": [
    "#### <center>4. findall()</center>\n",
    "#### To find all occurrences of the match.\n",
    "#### This function returns a list object which contains all occurrences."
   ]
  },
  {
   "cell_type": "code",
   "execution_count": 20,
   "metadata": {},
   "outputs": [
    {
     "name": "stdout",
     "output_type": "stream",
     "text": [
      "['7', '9', '5']\n"
     ]
    }
   ],
   "source": [
    "import re\n",
    "l=re.findall(\"[0-9]\",\"a7b9c5kz\")\n",
    "print(l)"
   ]
  },
  {
   "cell_type": "markdown",
   "metadata": {},
   "source": [
    "#### <center>5. finditer()</center>\n",
    "#### Returns the iterator yielding a match object for each match.\n",
    "#### On each match object we can call start(), end() and group() functions."
   ]
  },
  {
   "cell_type": "code",
   "execution_count": 21,
   "metadata": {},
   "outputs": [
    {
     "name": "stdout",
     "output_type": "stream",
     "text": [
      "0 ... 1 ... a\n",
      "2 ... 3 ... b\n",
      "4 ... 5 ... c\n",
      "6 ... 7 ... k\n",
      "8 ... 9 ... z\n"
     ]
    }
   ],
   "source": [
    "import re\n",
    "\n",
    "itr=re.finditer(\"[a-z]\",\"a7b9c5k8z\")\n",
    "\n",
    "for m in itr:\n",
    "    print(m.start(),\"...\",m.end(),\"...\",m.group()) "
   ]
  },
  {
   "cell_type": "markdown",
   "metadata": {},
   "source": [
    "#### <center>6. sub()</center>\n",
    "#### sub means substitution or replacement\n",
    "#### re.sub(regex,replacement,targetstring)\n",
    "#### In the target string every matched pattern will be replaced with provided replacement."
   ]
  },
  {
   "cell_type": "code",
   "execution_count": 22,
   "metadata": {},
   "outputs": [
    {
     "name": "stdout",
     "output_type": "stream",
     "text": [
      "#7#9#5#8#\n"
     ]
    }
   ],
   "source": [
    "import re\n",
    "s=re.sub(\"[a-z]\",\"#\",\"a7b9c5k8z\")\n",
    "print(s) "
   ]
  },
  {
   "cell_type": "markdown",
   "metadata": {},
   "source": [
    "#### <center>7. subn()</center>\n",
    "#### It is exactly same as sub except it can also returns the number of replacements.\n",
    "#### This function returns a tuple where first element is result string and second element is number of replacements.\n",
    "#### (resultstring, number of replacements)"
   ]
  },
  {
   "cell_type": "code",
   "execution_count": 24,
   "metadata": {},
   "outputs": [
    {
     "name": "stdout",
     "output_type": "stream",
     "text": [
      "('#7#9#5#8#', 5)\n",
      "The Result String: #7#9#5#8#\n",
      "The number of replacements: 5\n"
     ]
    }
   ],
   "source": [
    "import re\n",
    "t=re.subn(\"[a-z]\",\"#\",\"a7b9c5k8z\")\n",
    "print(t)\n",
    "print(\"The Result String:\",t[0])\n",
    "print(\"The number of replacements:\",t[1]) "
   ]
  },
  {
   "cell_type": "markdown",
   "metadata": {},
   "source": [
    "#### <center>8. split()</center>\n",
    "#### If we want to split the given target string according to a particular pattern then we should go for split() function.\n",
    "#### This function returns list of all tokens."
   ]
  },
  {
   "cell_type": "code",
   "execution_count": 25,
   "metadata": {},
   "outputs": [
    {
     "name": "stdout",
     "output_type": "stream",
     "text": [
      "['sunny', 'bunny', 'chinny', 'vinny', 'pinny']\n",
      "sunny\n",
      "bunny\n",
      "chinny\n",
      "vinny\n",
      "pinny\n"
     ]
    }
   ],
   "source": [
    "import re\n",
    "l=re.split(\",\",\"sunny,bunny,chinny,vinny,pinny\")\n",
    "print(l)\n",
    "for t in l:\n",
    "    print(t) "
   ]
  },
  {
   "cell_type": "code",
   "execution_count": 26,
   "metadata": {},
   "outputs": [
    {
     "name": "stdout",
     "output_type": "stream",
     "text": [
      "www\n",
      "durgasoft\n",
      "com\n"
     ]
    }
   ],
   "source": [
    "import re\n",
    "l=re.split(\"\\.\",\"www.durgasoft.com\")\n",
    "for t in l:\n",
    "    print(t) "
   ]
  },
  {
   "cell_type": "markdown",
   "metadata": {},
   "source": [
    "#### <center>9. ^ symbol</center>\n",
    "#### We can use ^ symbol to check whether the given target string starts with our provided pattern or not.\n",
    "#### Eg: res=re.search(\"^Learn\",s)\n",
    "#### if the target string starts with Learn then it will return Match object,otherwise returns None."
   ]
  },
  {
   "cell_type": "code",
   "execution_count": 27,
   "metadata": {},
   "outputs": [
    {
     "name": "stdout",
     "output_type": "stream",
     "text": [
      "Target String starts with Learn\n"
     ]
    }
   ],
   "source": [
    "import re\n",
    "\n",
    "s=\"Learning Python is Very Easy\"\n",
    "res=re.search(\"^Learn\",s)\n",
    "\n",
    "if res != None:\n",
    "    print(\"Target String starts with Learn\")\n",
    "else:\n",
    "    print(\"Target String Not starts with Learn\")"
   ]
  },
  {
   "cell_type": "markdown",
   "metadata": {},
   "source": [
    "#### <center> 10. Dollar symbol</center>\n",
    "#### We can use dollar symbol to check whether the given target string ends with our provided pattern or not\n",
    "#### Eg: res=re.search(\"Easy dollar\",s) \n",
    "#### If the target string ends with Easy then it will return Match object,otherwise returns None."
   ]
  },
  {
   "cell_type": "code",
   "execution_count": 28,
   "metadata": {},
   "outputs": [
    {
     "name": "stdout",
     "output_type": "stream",
     "text": [
      "Target String ends with Easy\n"
     ]
    }
   ],
   "source": [
    "import re\n",
    "\n",
    "s=\"Learning Python is Very Easy\"\n",
    "res=re.search(\"Easy$\",s)\n",
    "\n",
    "if res != None:\n",
    "    print(\"Target String ends with Easy\")\n",
    "\n",
    "else:\n",
    "    print(\"Target String Not ends with Easy\") "
   ]
  },
  {
   "cell_type": "markdown",
   "metadata": {},
   "source": [
    "#### Note: If we want to ignore case then we have to pass 3rd argument re.IGNORECASE for search() function.\n",
    "#### Eg: res = re.search(\"easy$\",s,re.IGNORECASE)"
   ]
  },
  {
   "cell_type": "code",
   "execution_count": 31,
   "metadata": {},
   "outputs": [
    {
     "name": "stdout",
     "output_type": "stream",
     "text": [
      "Target String ends with Easy by ignoring case\n"
     ]
    }
   ],
   "source": [
    "import re\n",
    "\n",
    "s=\"Learning Python is Very Easy\"\n",
    "res=re.search(\"easy$\",s,re.IGNORECASE)\n",
    "\n",
    "if res != None:\n",
    "    print(\"Target String ends with Easy by ignoring case\")\n",
    "\n",
    "else:\n",
    "        print(\"Target String Not ends with Easy by ignoring case\") "
   ]
  },
  {
   "cell_type": "markdown",
   "metadata": {},
   "source": [
    "#### <center>App1: Write a Regular Expression to represent all Yava language identifiers</center>\n",
    "#### Rules:\n",
    "#### 1. The allowed characters are a-z,A-Z,0-9,#\n",
    "#### 2. The first character should be a lower case alphabet symbol from a to k\n",
    "#### 3. The second character should be a digit divisible by 3\n",
    "#### 4. The length of identifier should be atleast 2.\n",
    "#### [a-k][0369][a-zA-Z0-9#]*\n"
   ]
  },
  {
   "cell_type": "markdown",
   "metadata": {},
   "source": [
    "#### <center>App2: Write a python program to check whether the given string is Yava language identifier or not?</center>"
   ]
  },
  {
   "cell_type": "code",
   "execution_count": 32,
   "metadata": {},
   "outputs": [
    {
     "name": "stdout",
     "output_type": "stream",
     "text": [
      "Enter Identifier:a6kk9z##\n",
      "a6kk9z## is valid Yava Identifier\n"
     ]
    }
   ],
   "source": [
    "import re\n",
    "\n",
    "s=input(\"Enter Identifier:\")\n",
    "m=re.fullmatch(\"[a-k][0369][a-zA-Z0-9#]*\",s)\n",
    "\n",
    "if m!= None:\n",
    "    print(s,\"is valid Yava Identifier\")\n",
    " \n",
    "else:\n",
    "    print(s,\"is invalid Yava Identifier\") "
   ]
  },
  {
   "cell_type": "markdown",
   "metadata": {},
   "source": [
    "#### <center>App3: Write a Regular Expression to represent all 10 digit mobile numbers</center>\n",
    "#### Rules:\n",
    "#### 1. Every number should contains exactly 10 digits\n",
    "#### 2. The first digit should be 7 or 8 or 9\n",
    "#### [7-9][0-9][0-9][0-9][0-9][0-9][0-9][0-9][0-9][0-9]\n",
    "#### or\n",
    "#### [7-9][0-9]{9}\n",
    "#### or\n",
    "#### [7-9]\\d{9}"
   ]
  },
  {
   "cell_type": "markdown",
   "metadata": {},
   "source": [
    "#### <center>App4: Write a Python Program to check whether the given number is valid mobile number or not?</center>\n"
   ]
  },
  {
   "cell_type": "code",
   "execution_count": 33,
   "metadata": {},
   "outputs": [
    {
     "name": "stdout",
     "output_type": "stream",
     "text": [
      "Enter number:9898989898\n",
      "Valid Mobile Number\n"
     ]
    }
   ],
   "source": [
    "import re\n",
    "\n",
    "n=input(\"Enter number:\")\n",
    "m=re.fullmatch(\"[7-9]\\d{9}\",n)\n",
    "\n",
    "if m!= None:\n",
    "    print(\"Valid Mobile Number\")\n",
    "else:\n",
    "    print(\"Invalid Mobile Number\") "
   ]
  },
  {
   "cell_type": "markdown",
   "metadata": {},
   "source": [
    "#### <center>App5: Write a python program to extract all mobile numbers present in input.txt where numbers are mixed with normal text data</center>"
   ]
  },
  {
   "cell_type": "code",
   "execution_count": null,
   "metadata": {},
   "outputs": [],
   "source": [
    "import re\n",
    "f1=open(\"input.txt\",\"r\")\n",
    "f2=open(\"output.txt\",\"w\")\n",
    "\n",
    "for line in f1:\n",
    "    list=re.findall(\"[7-9]\\d{9}\",line)\n",
    "\n",
    "for n in list:\n",
    "    f2.write(n+\"\\n\")\n",
    "print(\"Extracted all Mobile Numbers into output.txt\")\n",
    "\n",
    "f1.close()\n",
    "f2.close()"
   ]
  },
  {
   "cell_type": "markdown",
   "metadata": {},
   "source": [
    "#### <center>7. Web Scraping by using Regular Expressions</center>\n",
    "#### The process of collecting information from web pages is called web scraping. In web scraping to match our required patterns like mail ids, mobile numbers we can use regular expressions.\n"
   ]
  },
  {
   "cell_type": "code",
   "execution_count": null,
   "metadata": {},
   "outputs": [],
   "source": [
    "import re,urllib\n",
    "import urllib.request\n",
    "\n",
    "sites=\"google rediff\".split()\n",
    "print(sites)\n",
    "\n",
    "for s in sites:\n",
    "    print(\"Searching...\",s)\n",
    "    u=urllib.request.urlopen(\"http://\"+s+\".com\")\n",
    "    text=u.read()\n",
    "    title=re.findall(\"<title>.*</title>\",str(text),re.I)\n",
    "    print(title[0])"
   ]
  },
  {
   "cell_type": "markdown",
   "metadata": {},
   "source": [
    "#### <center>Eg: Program to get all phone numbers of redbus.in by using web scraping and regular expressions</center>"
   ]
  },
  {
   "cell_type": "code",
   "execution_count": null,
   "metadata": {},
   "outputs": [],
   "source": [
    "import re,urllib\n",
    "import urllib.request\n",
    "\n",
    "u=urllib.request.urlopen(\"https://www.redbus.in/info/contactus\")\n",
    "text=u.read()\n",
    "numbers=re.findall(\"[0-9-]{7}[0-9-]+\",str(text),re.I)\n",
    "\n",
    "for n in numbers:\n",
    "    print(n) "
   ]
  },
  {
   "cell_type": "markdown",
   "metadata": {},
   "source": [
    "#### <center>Q. Write a Python Program to check whether the given mail id is valid gmail id or not?</center>"
   ]
  },
  {
   "cell_type": "code",
   "execution_count": null,
   "metadata": {},
   "outputs": [],
   "source": [
    "import re\n",
    "\n",
    "s=input(\"Enter Mail id:\")\n",
    "m=re.fullmatch(\"\\w[a-zA-Z0-9_.]*@gmail[.]com\",s)\n",
    "\n",
    "if m!=None:\n",
    "    print(\"Valid Mail Id\");\n",
    "\n",
    "else:\n",
    "    print(\"Invalid Mail id\") "
   ]
  },
  {
   "cell_type": "markdown",
   "metadata": {},
   "source": [
    "#### <center>Q. Write a python program to check whether given car registration number is valid Telangana State Registration number or not?</center>"
   ]
  },
  {
   "cell_type": "code",
   "execution_count": null,
   "metadata": {},
   "outputs": [],
   "source": [
    "import re\n",
    "\n",
    "s=input(\"Enter Vehicle Registration Number:\")\n",
    "m=re.fullmatch(\"TS[012][0-9][A-Z]{2}\\d{4}\",s)\n",
    "\n",
    "if m!=None:\n",
    "    print(\"Valid Vehicle Registration Number\");\n",
    "else:\n",
    "    print(\"Invalid Vehicle Registration Number\") "
   ]
  },
  {
   "cell_type": "markdown",
   "metadata": {},
   "source": [
    "#### <center>Q. Python Program to check whether the given mobile number is valid OR not (10 digit OR 11 digit OR 12 digit)</center>"
   ]
  },
  {
   "cell_type": "code",
   "execution_count": null,
   "metadata": {},
   "outputs": [],
   "source": [
    "import re\n",
    "\n",
    "s=input(\"Enter Mobile Number:\")\n",
    "m=re.fullmatch(\"(0|91)?[7-9][0-9]{9}\",s)\n",
    "\n",
    "if m!=None:\n",
    "    print(\"Valid Mobile Number\");\n",
    "else:\n",
    "    print(\"Invalid Mobile Number\") "
   ]
  }
 ],
 "metadata": {
  "kernelspec": {
   "display_name": "Python 3",
   "language": "python",
   "name": "python3"
  },
  "language_info": {
   "codemirror_mode": {
    "name": "ipython",
    "version": 3
   },
   "file_extension": ".py",
   "mimetype": "text/x-python",
   "name": "python",
   "nbconvert_exporter": "python",
   "pygments_lexer": "ipython3",
   "version": "3.8.5"
  }
 },
 "nbformat": 4,
 "nbformat_minor": 4
}
