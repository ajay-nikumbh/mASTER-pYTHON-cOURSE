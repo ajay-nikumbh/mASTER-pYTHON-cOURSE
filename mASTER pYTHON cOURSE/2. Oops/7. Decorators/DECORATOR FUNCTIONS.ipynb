{
 "cells": [
  {
   "cell_type": "markdown",
   "metadata": {},
   "source": [
    "### <center>Decorator</center>\n",
    "#### Decorator is a function which can take a function as argument and extend its functionality and returns modified function with extended functionality."
   ]
  },
  {
   "cell_type": "markdown",
   "metadata": {},
   "source": [
    "#### The main objective of decorator functions is we can extend the functionality of existing functions without modifies that function."
   ]
  },
  {
   "cell_type": "code",
   "execution_count": 3,
   "metadata": {},
   "outputs": [
    {
     "name": "stdout",
     "output_type": "stream",
     "text": [
      "Hello ajay Good Morning\n"
     ]
    }
   ],
   "source": [
    "def wish(name):\n",
    "    print(\"Hello\",name,\"Good Morning\") \n",
    "    \n",
    "wish(\"ajay\")"
   ]
  },
  {
   "cell_type": "markdown",
   "metadata": {},
   "source": [
    "#### This function can always print same output for any name\n",
    "#### 1. Hello Durga Good Morning\n",
    "#### 2. Hello Ravi Good Morning\n",
    "#### 3. Hello Sunny Good Morning\n",
    "#### But we want to modify this function to provide different message if name is Sunny.\n",
    "#### We can do this without touching wish() function by using decorator."
   ]
  },
  {
   "cell_type": "code",
   "execution_count": 6,
   "metadata": {},
   "outputs": [
    {
     "name": "stdout",
     "output_type": "stream",
     "text": [
      "Hello Durga Good Morning\n",
      "Hello Ravi Good Morning\n",
      "Hello Sunny Bad Morning\n"
     ]
    }
   ],
   "source": [
    "def decor(func):\n",
    "    def inner(name):\n",
    "        if name==\"Sunny\":\n",
    "            print(\"Hello Sunny Bad Morning\")\n",
    "        else:\n",
    "            func(name)\n",
    "            \n",
    "    return inner\n",
    "\n",
    "@decor\n",
    "def wish(name):\n",
    "    print(\"Hello\",name,\"Good Morning\")\n",
    "\n",
    "wish(\"Durga\")\n",
    "wish(\"Ravi\")\n",
    "wish(\"Sunny\") "
   ]
  },
  {
   "cell_type": "markdown",
   "metadata": {},
   "source": [
    "#### Note: In the above program whenever we call wish() function automatically decor function will be executed."
   ]
  },
  {
   "cell_type": "markdown",
   "metadata": {},
   "source": [
    "#### How to call Same Function with Decorator and without Decorator"
   ]
  },
  {
   "cell_type": "code",
   "execution_count": 7,
   "metadata": {},
   "outputs": [
    {
     "name": "stdout",
     "output_type": "stream",
     "text": [
      "Hello Durga Good Morning\n",
      "Hello Sunny Good Morning\n",
      "Hello Durga Good Morning\n",
      "Hello Sunny Bad Morning\n"
     ]
    }
   ],
   "source": [
    "def decor(func):\n",
    "    def inner(name):\n",
    "        if name==\"Sunny\":\n",
    "            print(\"Hello Sunny Bad Morning\")\n",
    "\n",
    "        else:\n",
    "            func(name)\n",
    "    return inner\n",
    " \n",
    "def wish(name):\n",
    "    print(\"Hello\",name,\"Good Morning\")\n",
    "\n",
    "decorfunction=decor(wish)\n",
    "\n",
    "wish(\"Durga\") #decorator wont be executed\n",
    "wish(\"Sunny\") #decorator wont be executed\n",
    "\n",
    "decorfunction(\"Durga\")#decorator will be executed\n",
    "decorfunction(\"Sunny\")#decorator will be executed "
   ]
  },
  {
   "cell_type": "code",
   "execution_count": 13,
   "metadata": {},
   "outputs": [
    {
     "ename": "TypeError",
     "evalue": "'NoneType' object is not callable",
     "output_type": "error",
     "traceback": [
      "\u001b[1;31m---------------------------------------------------------------------------\u001b[0m",
      "\u001b[1;31mTypeError\u001b[0m                                 Traceback (most recent call last)",
      "\u001b[1;32m<ipython-input-13-d3efc64c43f5>\u001b[0m in \u001b[0;36m<module>\u001b[1;34m\u001b[0m\n\u001b[0;32m     15\u001b[0m     \u001b[1;32mreturn\u001b[0m \u001b[0ma\u001b[0m\u001b[1;33m/\u001b[0m\u001b[0mb\u001b[0m\u001b[1;33m\u001b[0m\u001b[1;33m\u001b[0m\u001b[0m\n\u001b[0;32m     16\u001b[0m \u001b[1;33m\u001b[0m\u001b[0m\n\u001b[1;32m---> 17\u001b[1;33m \u001b[0mprint\u001b[0m\u001b[1;33m(\u001b[0m\u001b[0mdivision\u001b[0m\u001b[1;33m(\u001b[0m\u001b[1;36m20\u001b[0m\u001b[1;33m,\u001b[0m\u001b[1;36m2\u001b[0m\u001b[1;33m)\u001b[0m\u001b[1;33m)\u001b[0m\u001b[1;33m\u001b[0m\u001b[1;33m\u001b[0m\u001b[0m\n\u001b[0m\u001b[0;32m     18\u001b[0m \u001b[0mprint\u001b[0m\u001b[1;33m(\u001b[0m\u001b[0mdivision\u001b[0m\u001b[1;33m(\u001b[0m\u001b[1;36m20\u001b[0m\u001b[1;33m,\u001b[0m\u001b[1;36m0\u001b[0m\u001b[1;33m)\u001b[0m\u001b[1;33m)\u001b[0m\u001b[1;33m\u001b[0m\u001b[1;33m\u001b[0m\u001b[0m\n",
      "\u001b[1;31mTypeError\u001b[0m: 'NoneType' object is not callable"
     ]
    }
   ],
   "source": [
    "def smart_division(func):\n",
    "    def inner(a,b):\n",
    "        print(\"We are dividing\",a,\"with\",b)\n",
    "        \n",
    "        if b==0:\n",
    "            print(\"OOPS...cannot divide\")\n",
    "            return\n",
    "    \n",
    "        else:\n",
    "            return func(a,b)\n",
    "            return inner\n",
    "\n",
    "@smart_division\n",
    "def division(a,b):\n",
    "    return a/b\n",
    "\n",
    "print(division(20,2))\n",
    "print(division(20,0)) "
   ]
  },
  {
   "cell_type": "markdown",
   "metadata": {},
   "source": [
    "#### <center>Without Decorator we will get Error. In this Case Output is: 10.0</center>\n",
    "#### Traceback (most recent call last):\n",
    "#### File \"test.py\", line 16, in <module>\n",
    "#### print(division(20,0))\n",
    "#### File \"test.py\", line 13, in division\n",
    "#### return a/b\n",
    "#### ZeroDivisionError: division by zero"
   ]
  },
  {
   "cell_type": "markdown",
   "metadata": {},
   "source": [
    "#### <center>With Decorator we won't get any Error. In this Case Output is</center>\n",
    "#### We are dividing 20 with 2 10.0\n",
    "#### We are dividing 20 with 0 OOPS...cannot divide None"
   ]
  },
  {
   "cell_type": "code",
   "execution_count": 16,
   "metadata": {},
   "outputs": [
    {
     "name": "stdout",
     "output_type": "stream",
     "text": [
      "Hair decoration...\n",
      "Face decoration with Platinum package\n",
      "Fair and Lovely etc..\n",
      "Ready for the marriage\n"
     ]
    }
   ],
   "source": [
    "def marriagedecor(func):\n",
    "    def inner():\n",
    "        print('Hair decoration...')\n",
    "        print('Face decoration with Platinum package')\n",
    "        print('Fair and Lovely etc..')\n",
    "        func()\n",
    "    return inner\n",
    "\n",
    "def getready():\n",
    "    print('Ready for the marriage')\n",
    "    \n",
    "decorated_getready=marriagedecor(getready)\n",
    "\n",
    "decorated_getready()"
   ]
  },
  {
   "cell_type": "markdown",
   "metadata": {},
   "source": [
    "#### <center>Decorator Chaining</center>\n",
    "#### We can define multiple decorators for the same function and all these decorators will form Decorator Chaining.\n",
    "#### Eg: @decor1, @decor ,def num():\n",
    "#### For num() function we are applying 2 decorator functions. First inner decorator will work and then outer decorator."
   ]
  },
  {
   "cell_type": "code",
   "execution_count": 17,
   "metadata": {},
   "outputs": [
    {
     "name": "stdout",
     "output_type": "stream",
     "text": [
      "400\n"
     ]
    }
   ],
   "source": [
    "def decor1(func):\n",
    "    def inner():\n",
    "        x=func()\n",
    "        return x*x\n",
    "    return inner\n",
    "\n",
    "def decor(func):\n",
    "    def inner():\n",
    "        x=func()\n",
    "        return 2*x\n",
    "    return inner\n",
    "\n",
    "@decor1\n",
    "@decor\n",
    "def num():\n",
    "    return 10\n",
    "\n",
    "print(num())"
   ]
  }
 ],
 "metadata": {
  "kernelspec": {
   "display_name": "Python 3",
   "language": "python",
   "name": "python3"
  },
  "language_info": {
   "codemirror_mode": {
    "name": "ipython",
    "version": 3
   },
   "file_extension": ".py",
   "mimetype": "text/x-python",
   "name": "python",
   "nbconvert_exporter": "python",
   "pygments_lexer": "ipython3",
   "version": "3.8.5"
  }
 },
 "nbformat": 4,
 "nbformat_minor": 4
}
