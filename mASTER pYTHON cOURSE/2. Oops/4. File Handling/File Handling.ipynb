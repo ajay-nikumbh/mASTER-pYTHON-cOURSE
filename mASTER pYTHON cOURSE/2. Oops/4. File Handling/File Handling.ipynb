{
 "cells": [
  {
   "cell_type": "markdown",
   "metadata": {},
   "source": [
    "### <center>File Handling</center>"
   ]
  },
  {
   "cell_type": "markdown",
   "metadata": {},
   "source": [
    "#### As the part of programming requirement, we have to store our data permanently for future purpose. For this requirement we should go for files.\n",
    "#### Files are very common permanent storage areas to store our data.\n"
   ]
  },
  {
   "cell_type": "markdown",
   "metadata": {},
   "source": [
    "#### <center>1. Types of Files</center>\n",
    "#### There are 2 types of files\n",
    "#### 1. Text Files:\n",
    "#### Usually we can use text files to store character data\n",
    "#### eg: abc.txt\n",
    "#### 2. Binary Files:\n",
    "#### Usually we can use binary files to store binary data like images,video files, audio files etc..."
   ]
  },
  {
   "cell_type": "markdown",
   "metadata": {},
   "source": [
    "#### <center>2. Opening a File</center>\n",
    "#### Before performing any operation (like read or write) on the file,first we have to open that file.\n",
    "#### For this we should use Python's inbuilt function open()\n",
    "#### But at the time of open, we have to specify mode,which represents the purpose of opening file.\n",
    "#### Synatx: f = open(filename, mode)\n",
    "#### The allowed modes in Python are\n",
    "\n",
    "\n",
    "\n"
   ]
  },
  {
   "cell_type": "markdown",
   "metadata": {},
   "source": [
    "#### <center>1. r = open an existing file for read operation</center>\n",
    "\n",
    "#### The file pointer is positioned at thebeginning of the file.\n",
    "#### If the specified file does not exist then we will get FileNotFoundError.This is default mode."
   ]
  },
  {
   "cell_type": "markdown",
   "metadata": {},
   "source": [
    "#### <center>2. w = open an existing file for write operation</center> \n",
    "\n",
    "#### If the file already contains some data then it will be overridden. \n",
    "#### If the specified file is not already avaialble then this mode will create that file."
   ]
  },
  {
   "cell_type": "markdown",
   "metadata": {},
   "source": [
    "#### <center>3. a = open an existing file for append operation</center>\n",
    "#### It won't override existing data.\n",
    "#### If the specified file is not already avaialble then this mode will create a new file.\n",
    "\n",
    "#### <center>4. r+ = To read and write data into the file</center>\n",
    "#### The previous data in the file will not be deleted.\n",
    "#### The file pointer is placed at the beginning of the file.\n",
    "\n",
    "#### <center>5. w+ = To write and read data</center>\n",
    "#### It will override existing data.\n",
    "\n",
    "#### <center>6. a+ = To append and read data from the file</center>\n",
    "#### It wont override existing data.\n",
    "\n",
    "\n",
    "#### <center>7. x = To open a file in exclusive creation mode for write operation</center>\n",
    "#### If the file already exists then we will get FileExistsError."
   ]
  },
  {
   "cell_type": "markdown",
   "metadata": {},
   "source": [
    "#### Note: All the above modes are applicable for text files. \n",
    "#### If the above modes suffixed with'b' then these represents for binary files.\n",
    "#### Eg: rb,wb,ab,r+b,w+b,a+b,xb\n",
    "#### f = open(\"abc.txt\",\"w\")\n",
    "#### We are opening abc.txt file for writing data."
   ]
  },
  {
   "cell_type": "markdown",
   "metadata": {},
   "source": [
    "#### <center>3. Closing a File</center>\n",
    "#### After completing our operations on the file,it is highly recommended to close the file.\n",
    "#### For this we have to use close() function.\n",
    "#### f.close()"
   ]
  },
  {
   "cell_type": "markdown",
   "metadata": {},
   "source": [
    "#### <center>4. Various properties of File Object</center>\n",
    "#### Once we opend a file and we got file object,we can get various details related to that file by using its properties.\n",
    "#### name = Name of opened file\n",
    "#### mode = Mode in which the file is opened\n",
    "#### closed = Returns boolean value indicates that file is closed or not\n",
    "#### readable()= Retruns boolean value indicates that whether file is readable or not\n",
    "#### writable() =  Returns boolean value indicates that whether file is writable or not."
   ]
  },
  {
   "cell_type": "code",
   "execution_count": null,
   "metadata": {},
   "outputs": [],
   "source": [
    "f=open(\"abc.txt\",'w')\n",
    "\n",
    "print(\"File Name: \",f.name)\n",
    "print(\"File Mode: \",f.mode)\n",
    "print(\"Is File Readable: \",f.readable())\n",
    "print(\"Is File Writable: \",f.writable())\n",
    "print(\"Is File Closed : \",f.closed)\n",
    "\n",
    "f.close()\n",
    "\n",
    "print(\"Is File Closed : \",f.closed) "
   ]
  },
  {
   "cell_type": "markdown",
   "metadata": {},
   "source": [
    "#### <center>5. Writing data to text files</center>\n",
    "#### We can write character data to the text files by using the following 2 methods.\n",
    "#### write(str), writelines(list of lines)\n"
   ]
  },
  {
   "cell_type": "code",
   "execution_count": null,
   "metadata": {},
   "outputs": [],
   "source": [
    "f=open(\"abcd.txt\",'w')\n",
    "f.write(\"Durga\\n\")\n",
    "f.write(\"Software\\n\")\n",
    "f.write(\"Solutions\\n\")\n",
    "print(\"Data written to the file successfully\")\n",
    "f.close()"
   ]
  },
  {
   "cell_type": "markdown",
   "metadata": {},
   "source": [
    "#### Note: In the above program, data present in the file will be overridden everytime if we run the program.\n",
    "\n",
    "#### Instead of overriding if we want append operation then we should open the file as follows.\n",
    "#### f = open(\"abcd.txt\",\"a\")"
   ]
  },
  {
   "cell_type": "code",
   "execution_count": null,
   "metadata": {},
   "outputs": [],
   "source": [
    "f=open(\"abcd.txt\",'w')\n",
    "list=[\"sunny\\n\",\"bunny\\n\",\"vinny\\n\",\"chinny\"]\n",
    "f.writelines(list)\n",
    "print(\"List of lines written to the file successfully\")\n",
    "f.close()"
   ]
  },
  {
   "cell_type": "markdown",
   "metadata": {},
   "source": [
    "#### Note: while writing data by using write() methods, compulsory we have to provide line seperator(\\n)\n",
    "#### otherwise total data should be written to a single line."
   ]
  },
  {
   "cell_type": "markdown",
   "metadata": {},
   "source": [
    "#### <center>6. Reading Character Data from text files</center>\n",
    "#### We can read character data from text file by using the following read methods.\n",
    "#### read()=To read total data from the file\n",
    "#### read(n) = To read 'n' characters from the file\n",
    "#### readline()= To read only one line\n",
    "#### readlines()= To read all lines into a list"
   ]
  },
  {
   "cell_type": "markdown",
   "metadata": {},
   "source": [
    "#### Eg 1: To read total data from the file"
   ]
  },
  {
   "cell_type": "code",
   "execution_count": null,
   "metadata": {},
   "outputs": [],
   "source": [
    "f=open(\"abc.txt\",'r')\n",
    "data=f.read()\n",
    "print(data)\n",
    "f.close() "
   ]
  },
  {
   "cell_type": "markdown",
   "metadata": {},
   "source": [
    "#### Eg 2: To read only first 10 characters:"
   ]
  },
  {
   "cell_type": "code",
   "execution_count": null,
   "metadata": {},
   "outputs": [],
   "source": [
    "f=open(\"abc.txt\",'r')\n",
    "data=f.read(10)\n",
    "print(data)\n",
    "f.close() "
   ]
  },
  {
   "cell_type": "markdown",
   "metadata": {},
   "source": [
    "#### Eg 3: To read data line by line:\n"
   ]
  },
  {
   "cell_type": "code",
   "execution_count": null,
   "metadata": {},
   "outputs": [],
   "source": [
    "f=open(\"abc.txt\",'r')\n",
    "line1=f.readline()\n",
    "print(line1,end='')\n",
    "line2=f.readline()\n",
    "print(line2,end='')\n",
    "line3=f.readline()\n",
    "print(line3,end='')\n",
    "f.close() "
   ]
  },
  {
   "cell_type": "markdown",
   "metadata": {},
   "source": [
    "#### Eg 4: To read all lines into list:"
   ]
  },
  {
   "cell_type": "code",
   "execution_count": null,
   "metadata": {},
   "outputs": [],
   "source": [
    "f=open(\"abc.txt\",'r')\n",
    "lines=f.readlines()\n",
    "for line in lines:\n",
    "    print(line,end='')\n",
    "f.close() "
   ]
  },
  {
   "cell_type": "code",
   "execution_count": null,
   "metadata": {},
   "outputs": [],
   "source": [
    "f=open(\"abc.txt\",\"r\")\n",
    "print(f.read(3))\n",
    "print(f.readline())\n",
    "print(f.read(4))\n",
    "print(\"Remaining data\")\n",
    "print(f.read()) "
   ]
  },
  {
   "cell_type": "markdown",
   "metadata": {},
   "source": [
    "#### <center>7. The with statement</center>\n",
    "#### The with statement can be used while opening a file.We can use this to group file operation statements within a block.\n",
    "\n",
    "#### The advantage of with statement is it will take care closing of file,after completing all operations automatically even in the case of exceptions also\n",
    "#### And we are not required to close explicitly.\n"
   ]
  },
  {
   "cell_type": "code",
   "execution_count": null,
   "metadata": {},
   "outputs": [],
   "source": [
    "with open(\"abc.txt\",\"w\") as f:\n",
    "    f.write(\"Durga\\n\")\n",
    "    f.write(\"Software\\n\")\n",
    "    f.write(\"Solutions\\n\")\n",
    "    print(\"Is File Closed: \",f.closed)\n",
    "print(\"Is File Closed: \",f.closed)\n",
    " "
   ]
  },
  {
   "cell_type": "markdown",
   "metadata": {},
   "source": [
    "#### <center>8. The seek() and tell() methods</center>\n",
    "#### <center>1. tell()</center>\n",
    "#### ==>We can use tell() method to return current position of the cursor(file pointer) from beginning of the file. [ can you plese telll current cursor position]\n",
    "#### The position(index) of first character in files is zero just like string index.\n"
   ]
  },
  {
   "cell_type": "code",
   "execution_count": null,
   "metadata": {},
   "outputs": [],
   "source": [
    "f=open(\"abc.txt\",\"r\")\n",
    "print(f.tell())\n",
    "print(f.read(2))\n",
    "print(f.tell())\n",
    "print(f.read(3))\n",
    "print(f.tell()) "
   ]
  },
  {
   "cell_type": "markdown",
   "metadata": {},
   "source": [
    "#### <center>2. seek()</center>\n",
    "#### We can use seek() method to move cursor(file pointer) to specified location. [Can you please seek the cursor to a particular location] f.seek(offset, fromwhere)\n",
    "#### offset represents the number of positions\n",
    "#### The allowed values for second attribute(from where) are\n",
    "#### 0---->From beginning of file(default value)\n",
    "#### 1---->From current position\n",
    "#### 2--->From end of the file\n",
    "\n",
    "#### Note: Python 2 supports all 3 values but Python 3 supports only zero.\n"
   ]
  },
  {
   "cell_type": "code",
   "execution_count": null,
   "metadata": {},
   "outputs": [],
   "source": [
    "data=\"All Students are STUPIDS\"\n",
    "f=open(\"abc.txt\",\"w\")\n",
    "f.write(data)\n",
    "with open(\"abc.txt\",\"r+\") as f:\n",
    "    text=f.read()\n",
    "    print(text)\n",
    "    print(\"The Current Cursor Position: \",f.tell())\n",
    "    f.seek(17)\n",
    "    print(\"The Current Cursor Position: \",f.tell())\n",
    "    f.write(\"GEMS!!!\")\n",
    "    f.seek(0)\n",
    "    text=f.read()\n",
    "    print(\"Data After Modification:\")\n",
    "    print(text) "
   ]
  },
  {
   "cell_type": "markdown",
   "metadata": {},
   "source": [
    "#### <center>How to check a particular file exists or not?</center>\n",
    "#### We can use os library to get information about files in our computer.\n",
    "#### os module has path sub module,which contains isFile() function to check whether a particular file exists or not?\n",
    "#### os.path.isfile(fname)\n"
   ]
  },
  {
   "cell_type": "markdown",
   "metadata": {},
   "source": [
    "#### <center>Q. Write a program to check whether the given file exists or not. If it is available then print its content?</center>"
   ]
  },
  {
   "cell_type": "code",
   "execution_count": null,
   "metadata": {},
   "outputs": [],
   "source": [
    "import os,sys\n",
    "fname=input(\"Enter File Name: \")\n",
    "if os.path.isfile(fname):\n",
    "    print(\"File exists:\",fname)\n",
    "    f=open(fname,\"r\")\n",
    "else:\n",
    "    print(\"File does not exist:\",fname)\n",
    "    sys.exit(0)\n",
    "\n",
    "print(\"The content of file is:\")\n",
    "data=f.read()\n",
    "print(data) "
   ]
  },
  {
   "cell_type": "markdown",
   "metadata": {},
   "source": [
    "#### Note: sys.exit(0) ===>To exit system without executing rest of the program. argument represents status code . \n",
    "\n",
    "#### 0 means normal termination and it is the default value."
   ]
  },
  {
   "cell_type": "markdown",
   "metadata": {},
   "source": [
    "#### <center>Q. Program to print the number of lines,words and characters present in the given file?</center>"
   ]
  },
  {
   "cell_type": "code",
   "execution_count": null,
   "metadata": {},
   "outputs": [],
   "source": [
    "import os,sys\n",
    "fname=input(\"Enter File Name: \")\n",
    "if os.path.isfile(fname):\n",
    "    print(\"File exists:\",fname)\n",
    "    f=open(fname,\"r\")\n",
    "\n",
    "else:\n",
    "    print(\"File does not exist:\",fname)\n",
    "    sys.exit(0)\n",
    "    lcount=wcount=ccount=0\n",
    "\n",
    "for line in f:\n",
    "    lcount=lcount+1\n",
    "    ccount=ccount+len(line)\n",
    "    words=line.split()\n",
    "    wcount=wcount+len(words)\n",
    "\n",
    "print(\"The number of Lines:\",lcount)\n",
    "print(\"The number of Words:\",wcount)\n",
    "print(\"The number of Characters:\",ccount) "
   ]
  },
  {
   "cell_type": "markdown",
   "metadata": {},
   "source": [
    "#### <center>9. Handling Binary Data</center>\n",
    "#### It is very common requirement to read or write binary data like images,video files,audio files etc."
   ]
  },
  {
   "cell_type": "markdown",
   "metadata": {},
   "source": [
    "#### <center>Q. Program to read image file and write to a new image file?</center>"
   ]
  },
  {
   "cell_type": "code",
   "execution_count": null,
   "metadata": {},
   "outputs": [],
   "source": [
    "f1=open(\"rossum.jpg\",\"rb\")\n",
    "f2=open(\"newpic.jpg\",\"wb\")\n",
    "bytes=f1.read()\n",
    "f2.write(bytes)\n",
    "print(\"New Image is available with the name: newpic.jpg\") "
   ]
  },
  {
   "cell_type": "markdown",
   "metadata": {},
   "source": [
    "#### <center>10. Handling csv files</center>\n",
    "#### CSV==>Comma seperated values\n",
    "#### As the part of programming,it is very common requirement to write and read data wrt csvfiles.\n",
    "#### Python provides csv module to handle csv files."
   ]
  },
  {
   "cell_type": "markdown",
   "metadata": {},
   "source": [
    "#### Writing data to csv file"
   ]
  },
  {
   "cell_type": "code",
   "execution_count": null,
   "metadata": {},
   "outputs": [],
   "source": [
    "import csv\n",
    "with open(\"emp.csv\",\"w\",newline='') as f:\n",
    "    w=csv.writer(f) # returns csv writer object\n",
    "    w.writerow([\"ENO\",\"ENAME\",\"ESAL\",\"EADDR\"])\n",
    "    n=int(input(\"Enter Number of Employees:\"))\n",
    "\n",
    "    for i in range(n):\n",
    "        eno=input(\"Enter Employee No:\")\n",
    "        ename=input(\"Enter Employee Name:\")\n",
    "        esal=input(\"Enter Employee Salary:\")\n",
    "        eaddr=input(\"Enter Employee Address:\")\n",
    "        w.writerow([eno,ename,esal,eaddr])\n",
    "\n",
    "print(\"Total Employees data written to csv file successfully\") "
   ]
  },
  {
   "cell_type": "markdown",
   "metadata": {},
   "source": [
    "#### Note: Observe the difference with newline attribute and without\n",
    "\n"
   ]
  },
  {
   "cell_type": "code",
   "execution_count": null,
   "metadata": {},
   "outputs": [],
   "source": [
    "with open(\"emp.csv\",\"w\",newline='') as f:\n",
    "with open(\"emp.csv\",\"w\") as f:"
   ]
  },
  {
   "cell_type": "markdown",
   "metadata": {},
   "source": [
    "#### Note: If we are not using newline attribute then in the csv file blank lines will be included between data. \n",
    "\n",
    "#### To prevent these blank lines, newline attribute is required in Python-3,but in Python-2 just we can specify mode as 'wb' and we are not required to use newline attribute."
   ]
  },
  {
   "cell_type": "code",
   "execution_count": null,
   "metadata": {},
   "outputs": [],
   "source": [
    "# Reading Data from csv file:\n",
    "import csv\n",
    "f=open(\"emp.csv\",'r')\n",
    "r=csv.reader(f) #returns csv reader object\n",
    "data=list(r)\n",
    "for line in data:\n",
    "    for word in line:\n",
    "        print(word,\"\\t\",end='')\n",
    "    print()"
   ]
  },
  {
   "cell_type": "markdown",
   "metadata": {},
   "source": [
    "#### <center>11. Zipping and Unzipping Files</center>\n",
    "#### It is very common requirement to zip and unzip files.\n",
    "#### The main advantages are:\n",
    "#### 1. To improve memory utilization\n",
    "#### 2. We can reduce transport time\n",
    "#### 3. We can improve performance.\n",
    "#### To perform zip and unzip operations, Python contains one in-bulit module zip file.\n",
    "#### This module contains a class : ZipFile"
   ]
  },
  {
   "cell_type": "markdown",
   "metadata": {},
   "source": [
    "#### <center>To create Zip file</center>\n",
    "#### We have to create ZipFile class object with name of the zip file,mode and constant ZIP_DEFLATED. \n",
    "\n",
    "#### This constant represents we are creating zip file.\n",
    "#### f = ZipFile(\"files.zip\",\"w\",\"ZIP_DEFLATED\")\n",
    "\n",
    "#### Once we create ZipFile object,we can add files by using write() method.\n",
    "#### f.write(filename)"
   ]
  },
  {
   "cell_type": "code",
   "execution_count": null,
   "metadata": {},
   "outputs": [],
   "source": [
    "from zipfile import *\n",
    "\n",
    "f=ZipFile(\"files.zip\",'w',ZIP_DEFLATED)\n",
    "f.write(\"file1.txt\")\n",
    "f.write(\"file2.txt\")\n",
    "f.write(\"file3.txt\")\n",
    "f.close()\n",
    "\n",
    "print(\"files.zip file created successfully\") "
   ]
  },
  {
   "cell_type": "markdown",
   "metadata": {},
   "source": [
    "#### <center>To perform unzip operation</center>\n",
    "#### We have to create ZipFile object as follows\n",
    "#### f = ZipFile(\"files.zip\",\"r\",ZIP_STORED)\n",
    "#### ZIP_STORED represents unzip operation. This is default value and hence we are not required to specify.\n",
    "#### Once we created ZipFile object for unzip operation,we can get all file names present in that zip file by using namelist() method.\n",
    "#### names = f.namelist()"
   ]
  },
  {
   "cell_type": "code",
   "execution_count": null,
   "metadata": {},
   "outputs": [],
   "source": [
    "from zipfile import *\n",
    "f=ZipFile(\"files.zip\",'r',ZIP_STORED)\n",
    "names=f.namelist()\n",
    "\n",
    "for name in names:\n",
    "    print( \"File Name: \",name)\n",
    "    print(\"The Content of this file is:\")\n",
    "    f1=open(name,'r')\n",
    "    print(f1.read())\n",
    "    print()"
   ]
  },
  {
   "cell_type": "markdown",
   "metadata": {},
   "source": [
    "#### <center>12. Working with Directories</center>\n",
    "#### It is very common requirement to perform operations for directories like\n",
    "#### 1. To know current working directory\n",
    "#### 2. To create a new directory\n",
    "#### 3. To remove an existing directory\n",
    "#### 4. To rename a directory\n",
    "#### 5. To list contents of the directory etc..."
   ]
  },
  {
   "cell_type": "markdown",
   "metadata": {},
   "source": [
    "#### To perform these operations,Python provides inbuilt module os,which contains several functions to perform directory related operations.\n",
    "\n",
    "#### <center>Q1. To Know Current Working Directory</center>\n"
   ]
  },
  {
   "cell_type": "code",
   "execution_count": null,
   "metadata": {},
   "outputs": [],
   "source": [
    "import os\n",
    "cwd=os.getcwd()\n",
    "print(\"Current Working Directory:\",cwd)\n"
   ]
  },
  {
   "cell_type": "markdown",
   "metadata": {},
   "source": [
    "#### <center>Q2. To create a sub directory in the current working directory</center>"
   ]
  },
  {
   "cell_type": "code",
   "execution_count": null,
   "metadata": {},
   "outputs": [],
   "source": [
    "import os\n",
    "os.mkdir(\"mysub\")\n",
    "print(\"mysub directory created in cwd\")\n"
   ]
  },
  {
   "cell_type": "markdown",
   "metadata": {},
   "source": [
    "#### <center>Q3. To create a sub directory in mysub directory</center>"
   ]
  },
  {
   "cell_type": "code",
   "execution_count": null,
   "metadata": {},
   "outputs": [],
   "source": [
    "cwd\n",
    " |-mysub\n",
    " |-mysub2\n",
    "\n",
    "import os\n",
    "os.mkdir(\"mysub/mysub2\")\n",
    "print(\"mysub2 created inside mysub\")\n",
    "\n",
    "\n",
    "# Note: Assume mysub already present in cwd."
   ]
  },
  {
   "cell_type": "markdown",
   "metadata": {},
   "source": [
    "#### <center>Q4. To create multiple directories like sub1 in that sub2 in that sub3</center>"
   ]
  },
  {
   "cell_type": "code",
   "execution_count": null,
   "metadata": {},
   "outputs": [],
   "source": [
    "\n",
    "import os\n",
    "os.makedirs(\"sub1/sub2/sub3\")\n",
    "print(\"sub1 and in that sub2 and in that sub3 directories created\")"
   ]
  },
  {
   "cell_type": "markdown",
   "metadata": {},
   "source": [
    "#### <center>Q5. To remove a directory</center>"
   ]
  },
  {
   "cell_type": "code",
   "execution_count": null,
   "metadata": {},
   "outputs": [],
   "source": [
    "\n",
    "import os\n",
    "os.rmdir(\"mysub/mysub2\")\n",
    "print(\"mysub2 directory deleted\")"
   ]
  },
  {
   "cell_type": "markdown",
   "metadata": {},
   "source": [
    "#### <center>Q6. To remove multiple directories in the path</center>"
   ]
  },
  {
   "cell_type": "code",
   "execution_count": null,
   "metadata": {},
   "outputs": [],
   "source": [
    "import os\n",
    "os.removedirs(\"sub1/sub2/sub3\")\n",
    "print(\"All 3 directories sub1,sub2 and sub3 removed\")"
   ]
  },
  {
   "cell_type": "markdown",
   "metadata": {},
   "source": [
    "#### <center>Q7. To rename a directory</center>"
   ]
  },
  {
   "cell_type": "code",
   "execution_count": null,
   "metadata": {},
   "outputs": [],
   "source": [
    "import os\n",
    "os.rename(\"mysub\",\"newdir\")\n",
    "print(\"mysub directory renamed to newdir\")"
   ]
  },
  {
   "cell_type": "markdown",
   "metadata": {},
   "source": [
    "#### <center>Q8. To know contents of directory</center>\n",
    "#### os module provides listdir() to list out the contents of the specified directory. It won't display the contents of sub directory."
   ]
  },
  {
   "cell_type": "code",
   "execution_count": 2,
   "metadata": {},
   "outputs": [
    {
     "name": "stdout",
     "output_type": "stream",
     "text": [
      "['.ipynb_checkpoints', '1. Exception Handling.ipynb', '1. Multithreading - Durgasoft .ipynb', \"1. Python's Object Oriented Programming (OOPs).ipynb\", '2. Oops part - 2.ipynb', '3. Polymorphism.ipynb', '4. OOPs Part - 4.ipynb', 'ASSERTIONS.ipynb', 'DECORATOR FUNCTIONS.ipynb', 'File Handling.ipynb', 'GENERATOR FUNCTIONS.ipynb', 'log.txt', 'mylog.txt', 'Python Logging.ipynb', 'Regular Expressions.ipynb']\n"
     ]
    }
   ],
   "source": [
    "import os\n",
    "print(os.listdir(\".\")) "
   ]
  },
  {
   "cell_type": "markdown",
   "metadata": {},
   "source": [
    "#### The above program display contents of current working directory but not contents of sub directories.\n",
    "#### If we want the contents of a directory including sub directories then we should go for walk() function."
   ]
  },
  {
   "cell_type": "markdown",
   "metadata": {},
   "source": [
    "#### <center>Q9. To know contents of directory including sub directories</center>\n",
    "#### We have to use walk() function\n",
    "#### [Can you please walk in the directory so that we can aware all contents of that directory]\n",
    "#### os.walk(path,topdown=True,onerror=None,followlinks=False)\n",
    "\n",
    "#### It returns an Iterator object whose contents can be displayed by using for loop path-->Directory path. cwd means .\n",
    "\n",
    "#### topdown=True --->Travel from top to bottom\n",
    "#### onerror=None --->on error detected which function has to execute.\n",
    "#### followlinks=True -->To visit directories pointed by symbolic links"
   ]
  },
  {
   "cell_type": "markdown",
   "metadata": {},
   "source": [
    "#### Eg: To display all contents of Current working directory including sub directories"
   ]
  },
  {
   "cell_type": "code",
   "execution_count": 3,
   "metadata": {},
   "outputs": [
    {
     "name": "stdout",
     "output_type": "stream",
     "text": [
      "Current Directory Path: .\n",
      "Directories: ['.ipynb_checkpoints']\n",
      "Files: ['1. Exception Handling.ipynb', '1. Multithreading - Durgasoft .ipynb', \"1. Python's Object Oriented Programming (OOPs).ipynb\", '2. Oops part - 2.ipynb', '3. Polymorphism.ipynb', '4. OOPs Part - 4.ipynb', 'ASSERTIONS.ipynb', 'DECORATOR FUNCTIONS.ipynb', 'File Handling.ipynb', 'GENERATOR FUNCTIONS.ipynb', 'log.txt', 'mylog.txt', 'Python Logging.ipynb', 'Regular Expressions.ipynb']\n",
      "\n",
      "Current Directory Path: .\\.ipynb_checkpoints\n",
      "Directories: []\n",
      "Files: ['1. Exception Handling-checkpoint.ipynb', '1. Multithreading - Durgasoft -checkpoint.ipynb', \"1. Python's Object Oriented Programming (OOPs)-checkpoint.ipynb\", '15.Durgasoft- Multithreading-checkpoint.ipynb', '2. Oops part - 2-checkpoint.ipynb', '3. Polymorphism-checkpoint.ipynb', '4. OOPs Part - 4-checkpoint.ipynb', 'ASSERTIONS-checkpoint.ipynb', 'DECORATOR FUNCTIONS-checkpoint.ipynb', 'Exception Handling-checkpoint.ipynb', 'File Handling-checkpoint.ipynb', 'GENERATOR FUNCTIONS-checkpoint.ipynb', 'Python Logging-checkpoint.ipynb', 'Regular Expressions-checkpoint.ipynb']\n",
      "\n"
     ]
    }
   ],
   "source": [
    "import os\n",
    "for dirpath,dirnames,filenames in os.walk('.'):\n",
    "    print(\"Current Directory Path:\",dirpath)\n",
    "    print(\"Directories:\",dirnames)\n",
    "    print(\"Files:\",filenames)\n",
    "    print() "
   ]
  },
  {
   "cell_type": "markdown",
   "metadata": {},
   "source": [
    "#### Note: To display contents of particular directory,we have to provide that directory name as argument to walk() function.\n",
    "#### os.walk(\"directoryname\")"
   ]
  },
  {
   "cell_type": "markdown",
   "metadata": {},
   "source": [
    "#### <center>Q. What is the difference between listdir() and walk() functions?</center>\n",
    "#### In the case of listdir(), we will get contents of specified directory but not sub directory contents.\n",
    "\n",
    "#### But in the case of walk() function we will get contents of specified directory and its sub directories also."
   ]
  },
  {
   "cell_type": "markdown",
   "metadata": {},
   "source": [
    "#### <center>Running Other programs from Python program</center>\n",
    "#### os module contains system() function to run programs and commands.\n",
    "#### It is exactly same as system() function in C language.\n",
    "\n",
    "\n",
    "#### os.system(\"commad string\"): The argument is any command which is executing from DOS."
   ]
  },
  {
   "cell_type": "code",
   "execution_count": 4,
   "metadata": {},
   "outputs": [
    {
     "data": {
      "text/plain": [
       "2"
      ]
     },
     "execution_count": 4,
     "metadata": {},
     "output_type": "execute_result"
    }
   ],
   "source": [
    "import os\n",
    "os.system(\"dir *.py\")\n",
    "os.system(\"py abc.py\")"
   ]
  },
  {
   "cell_type": "markdown",
   "metadata": {},
   "source": [
    "#### <center>13. How to get information about a File</center>\n",
    "#### We can get statistics of a file like size, last accessed time,last modified time etc by usin stat() function of os module.\n",
    "#### stats = os.stat(\"abc.txt\")\n",
    "#### <center>The statistics of a file includes the following parameters</center>\n",
    "#### st_mode==>Protection Bits\n",
    "#### st_ino==>Inode number\n",
    "#### st_dev===>device\n",
    "#### st_nlink===>no of hard links\n",
    "#### st_uid===>userid of owner\n",
    "#### st_gid==>group id of owner\n",
    "#### st_size===>size of file in bytes\n",
    "#### st_atime==>Time of most recent access\n",
    "#### st_mtime==>Time of Most recent modification\n",
    "#### st_ctime==> Time of Most recent meta data change\n",
    "#### Note:\n",
    "#### st_atime, st_mtime and st_ctime returns the time as number of milli seconds since Jan 1st\n",
    "#### 1970 ,12:00AM. By using datetime module fromtimestamp() function,we can get exact date and time."
   ]
  },
  {
   "cell_type": "markdown",
   "metadata": {},
   "source": [
    "#### <center>Q. To print all statistics of file abc.txt</center>\n"
   ]
  },
  {
   "cell_type": "code",
   "execution_count": null,
   "metadata": {},
   "outputs": [],
   "source": [
    "import os\n",
    "stats=os.stat(\"abc.txt\")\n",
    "print(stats) "
   ]
  },
  {
   "cell_type": "markdown",
   "metadata": {},
   "source": [
    "#### <center>Q. To print specified properties</center>"
   ]
  },
  {
   "cell_type": "code",
   "execution_count": null,
   "metadata": {},
   "outputs": [],
   "source": [
    "import os\n",
    "from datetime import *\n",
    "\n",
    "stats=os.stat(\"abc.txt\")\n",
    "\n",
    "print(\"File Size in Bytes:\",stats.st_size)\n",
    "print(\"File Last Accessed Time:\",datetime.fromtimestamp(stats.st_atime))\n",
    "print(\"File Last Modified Time:\",datetime.fromtimestamp(stats.st_mtime)) "
   ]
  },
  {
   "cell_type": "markdown",
   "metadata": {},
   "source": [
    "#### <center>14. Pickling and Unpickling of Objects</center>\n",
    "\n",
    "#### Sometimes we have to write total state of object to the file and we have to read total object from the file.\n",
    "\n",
    "#### The process of writing state of object to the file is called pickling and the process of reading state of an object from the file is called unpickling.\n",
    "\n",
    "\n",
    "#### We can implement pickling and unpickling by using pickle module of Python. pickle module contains dump() function to perform pickling.\n",
    "\n",
    "#### pickle.dump(object,file)\n",
    "#### pickle module contains load() function to perform unpickling\n",
    "#### obj=pickle.load(file)"
   ]
  },
  {
   "cell_type": "markdown",
   "metadata": {},
   "source": [
    "#### <center>Writing and Reading State of object by using pickle Module</center>"
   ]
  },
  {
   "cell_type": "code",
   "execution_count": null,
   "metadata": {},
   "outputs": [],
   "source": [
    "import pickle\n",
    "class Employee:\n",
    "    def __init__(self,eno,ename,esal,eaddr):\n",
    "        self.eno=eno;\n",
    "        self.ename=ename;\n",
    "        self.esal=esal;\n",
    "        self.eaddr=eaddr;\n",
    "\n",
    "    def display(self):\n",
    "        print(self.eno,\"\\t\",self.ename,\"\\t\",self.esal,\"\\t\",self.eaddr)\n",
    "with open(\"emp.dat\",\"wb\") as f:\n",
    "    e=Employee(100,\"Durga\",1000,\"Hyd\")\n",
    "    pickle.dump(e,f)\n",
    "    print(\"Pickling of Employee Object completed...\")\n",
    "\n",
    "with open(\"emp.dat\",\"rb\") as f:\n",
    "    obj=pickle.load(f)\n",
    "    print(\"Printing Employee Information after unpickling\")\n",
    "    obj.display()"
   ]
  },
  {
   "cell_type": "markdown",
   "metadata": {},
   "source": [
    "#### Writing Multiple Employee Objects to the file:\n",
    "#### emp.py:"
   ]
  },
  {
   "cell_type": "code",
   "execution_count": null,
   "metadata": {},
   "outputs": [],
   "source": [
    "class Employee:\n",
    "    def __init__(self,eno,ename,esal,eaddr):\n",
    "        self.eno=eno;\n",
    "        self.ename=ename;\n",
    "        self.esal=esal;\n",
    "        self.eaddr=eaddr;\n",
    "    def display(self):\n",
    "        print(self.eno,\"\\t\",self.ename,\"\\t\",self.esal,\"\\t\",self.eaddr) "
   ]
  },
  {
   "cell_type": "markdown",
   "metadata": {},
   "source": [
    "#### pick.py:"
   ]
  },
  {
   "cell_type": "code",
   "execution_count": null,
   "metadata": {},
   "outputs": [],
   "source": [
    "import emp,pickle\n",
    "\n",
    "f=open(\"emp.dat\",\"wb\")\n",
    "n=int(input(\"Enter The number of Employees:\"))\n",
    "for i in range(n):\n",
    "    eno=int(input(\"Enter Employee Number:\"))\n",
    "    ename=input(\"Enter Employee Name:\")\n",
    "    esal=float(input(\"Enter Employee Salary:\"))\n",
    "    eaddr=input(\"Enter Employee Address:\")\n",
    "    e=emp.Employee(eno,ename,esal,eaddr)\n",
    "    pickle.dump(e,f)\n",
    "print(\"Employee Objects pickled successfully\") "
   ]
  },
  {
   "cell_type": "markdown",
   "metadata": {},
   "source": [
    "#### unpick.py:"
   ]
  },
  {
   "cell_type": "code",
   "execution_count": null,
   "metadata": {},
   "outputs": [],
   "source": [
    "import emp,pickle\n",
    "f=open(\"emp.dat\",\"rb\")\n",
    "print(\"Employee Details:\")\n",
    "\n",
    "while True:\n",
    "    try:\n",
    "        obj=pickle.load(f)\n",
    "        obj.display()\n",
    "\n",
    "    except EOFError:\n",
    "        print(\"All employees Completed\")\n",
    "        break\n",
    "f.close()"
   ]
  }
 ],
 "metadata": {
  "kernelspec": {
   "display_name": "Python 3",
   "language": "python",
   "name": "python3"
  },
  "language_info": {
   "codemirror_mode": {
    "name": "ipython",
    "version": 3
   },
   "file_extension": ".py",
   "mimetype": "text/x-python",
   "name": "python",
   "nbconvert_exporter": "python",
   "pygments_lexer": "ipython3",
   "version": "3.8.5"
  }
 },
 "nbformat": 4,
 "nbformat_minor": 4
}
