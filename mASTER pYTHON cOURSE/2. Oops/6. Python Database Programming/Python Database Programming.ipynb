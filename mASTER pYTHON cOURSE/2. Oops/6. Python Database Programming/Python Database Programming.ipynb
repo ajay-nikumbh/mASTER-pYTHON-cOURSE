{
 "cells": [
  {
   "cell_type": "markdown",
   "metadata": {},
   "source": [
    "### <center>Python Database Programming</center>\n"
   ]
  },
  {
   "cell_type": "markdown",
   "metadata": {},
   "source": [
    "#### <center>1. Storage Areas</center>\n",
    "#### As the Part of our Applications, we required to store our Data like Customers Information, Billing Information, Calls Information etc..\n",
    "\n",
    "#### To store this Data, we required Storage Areas. There are 2 types of Storage Areas.\n",
    "#### 1) Temporary Storage Areas\n",
    "#### 2) Permanent Storage Areas\n"
   ]
  },
  {
   "cell_type": "markdown",
   "metadata": {},
   "source": [
    "#### <center>1.Temporary Storage Areas</center>\n",
    "#### These are the Memory Areas where Data will be stored temporarily.\n",
    "#### Eg: Python objects like List, Tuple, Dictionary.\n",
    "#### Once Python program completes its execution then these objects will be destroyed automatically and data will be lost.\n"
   ]
  },
  {
   "cell_type": "markdown",
   "metadata": {},
   "source": [
    "#### <center>2. Permanent Storage Areas</center>\n",
    "#### Also known as Persistent Storage Areas. Here we can store Data permanently.\n",
    "#### Eg: File Systems, Databases, Data warehouses, Big Data Technologies etc "
   ]
  },
  {
   "cell_type": "markdown",
   "metadata": {},
   "source": [
    "#### <center>File Systems</center>\n",
    "#### File Systems can be provided by Local operating System. File Systems are best suitable to store very less Amount of Information.\n",
    "\n",
    "#### <center>Limitations</center>\n",
    "#### 1) We cannot store huge Amount of Information.\n",
    "#### 2) There is no Query Language support and hence operations will become very complex.\n",
    "#### 3) There is no Security for Data.\n",
    "#### 4) There is no Mechanism to prevent duplicate Data. Hence there may be a chance of Data\n",
    "#### Inconsistency Problems.\n",
    "#### To overcome the above Problems of File Systems, we should go for Databases. \n"
   ]
  },
  {
   "cell_type": "markdown",
   "metadata": {},
   "source": [
    "#### <center>2. Databases</center>\n",
    "#### 1) We can store Huge Amount of Information in the Databases. \n",
    "#### 2) Query Language Support is available for every Database and hence we can perform Database Operations very easily.\n",
    "\n",
    "#### 3) To access Data present in the Database, compulsory username and pwd must be required. Hence Data is secured.\n",
    "\n",
    "#### 4) Inside Database Data will be stored in the form of Tables. While developing Database Table Schemas, Database Admin follow various Normalization Techniques and can implement various Constraints like Unique Key Constrains, Primary Key Constraints etc which prevent Data Duplication. \n",
    "\n",
    "#### Hence there is no chance of Data Inconsistency Problems.\n",
    "\n",
    "#### <center>Limitations of Databases</center>\n",
    "#### 1) Database cannot hold very Huge Amount of Information like Terabytes of Data.\n",
    "#### 2) Database can provide support only for Structured Data (Tabular Data OR Relational Data) and cannot provide support for Semi Structured Data (like XML Files) and Unstructured Data (like Video Files, Audio Files, Images etc)\n",
    "\n",
    "#### To overcome these Problems we should go for more Advanced Storage Areas like Big Data Technologies, Data warehouses etc.\n"
   ]
  },
  {
   "cell_type": "markdown",
   "metadata": {},
   "source": [
    "#### <center>3. Python Database Programming</center>\n",
    "#### Sometimes as the part of Programming requirement we have to connect to the database and we have to perform several operations like creating tables, inserting data,updating data,deleting data,selecting data etc.\n",
    "\n",
    "\n",
    "#### We can use SQL Language to talk to the database and we can use Python to send those SQL commands to the database.\n",
    "\n",
    "#### Python provides inbuilt support for several databases like Oracle, MySql, SqlServer, GadFly, sqlite,etc. Python has seperate module for each database.\n",
    "\n",
    "\n",
    "#### Eg: cx_Oralce module for communicating with Oracle database pymssql module for communicating with Microsoft Sql Server"
   ]
  },
  {
   "cell_type": "markdown",
   "metadata": {},
   "source": [
    "#### <center>4. Standard Steps for Python database Programming</center>\n",
    "\n",
    "#### 1. Import database specific module Eg: import cx_Oracle\n",
    "\n",
    "#### 2. Establish Connection between Python Program and database.\n",
    "#### We can create this Connection object by using connect() function of the module.\n",
    "#### con = cx_Oracle.connect(datbase information)\n",
    "#### Eg: con=cx_Oracle.connect('scott/tiger@localhost')\n",
    "\n",
    "#### 3. To execute our sql queries and to hold results some special object is required, which is nothing but Cursor object. We can create Cursor object by using cursor() method. cursor=con.cursor()\n",
    "\n",
    "\n",
    "#### 4. Execute SQL Queries By using Cursor object. For this we can use the following methods\n",
    "#### i) execute(sqlquery)  To execute a single sql query\n",
    "#### ii) executescript(sqlqueries)  To execute a string of sql queries seperated by semi-colon ';'\n",
    "#### iii) executemany()  To execute a Parameterized query\n",
    "#### Eg: cursor.execute(\"select * from employees\")\n",
    "\n",
    "\n",
    "#### 5. commit or rollback changes based on our requirement in the case of DML Queries(insert|update|delete)\n",
    "#### commit()  Saves the changes to the database\n",
    "#### rollback()  rolls all temporary changes back\n",
    "\n",
    "\n",
    "#### 6. Fetch the result from the Cursor object in the case of select queries\n",
    "#### fetchone()  To fetch only one row\n",
    "#### fetchall()  To fetch all rows and it returns a list of rows\n",
    "#### fecthmany(n)  To fetch first n rows\n",
    "\n",
    "#### Eg 1: data =cursor.fetchone() print(data)\n",
    "\n",
    "#### Eg 2: data=cursor.fetchall() for row in data: print(row)\n",
    "\n",
    "#### 7. close the resources\n",
    "#### After completing our operations it is highly recommended to close the resources in the reverse order of their opening by using close() methods.cursor.close(), con.close()\n",
    "\n"
   ]
  },
  {
   "cell_type": "markdown",
   "metadata": {},
   "source": [
    "#### Note: The following is the list of all important methods which can be used for python database programming."
   ]
  },
  {
   "cell_type": "markdown",
   "metadata": {},
   "source": [
    "#### connect()\n",
    "#### cursor()\n",
    "#### execute()\n",
    "#### executescript()\n",
    "#### executemany()\n",
    "#### commit()\n",
    "#### rollback()\n",
    "#### fetchone()\n",
    "#### fetchall()\n",
    "#### fetchmany(n)\n",
    "#### fetch\n",
    "#### close()\n",
    "\n",
    "#### These methods won't be changed from database to database and same for all databases."
   ]
  },
  {
   "cell_type": "markdown",
   "metadata": {},
   "source": [
    "#### <center>5. Working with Oracle Database</center>\n",
    "#### From Python Program if we want to communicate with any database,some translator must be required to translate Python calls into Database specific calls and Database specific calls into Python calls.\n",
    "\n",
    "#### This translator is nothing but Driver/Connector.\n",
    "\n",
    "#### For Oracle database the name of driver needed is cx_Oracle.\n",
    "\n",
    "#### cx_Oracle is a Python extension module that enables access to Oracle Database.It can be used for both Python2 and Python3.\n",
    "\n",
    "#### It can work with any version of Oracle database like 9,10,11 and 12."
   ]
  },
  {
   "cell_type": "markdown",
   "metadata": {},
   "source": [
    "#### Installing cx_Oracle:\n",
    "#### From Normal Command Prompt (But not from Python console)execute the following command\n",
    "#### D:\\python_classes>pip install cx_Oracle"
   ]
  },
  {
   "cell_type": "markdown",
   "metadata": {},
   "source": [
    "#### <center>How to Test Installation</center>\n",
    "#### From python console execute the following command:\n",
    "#### >>> help(\"modules\")\n"
   ]
  },
  {
   "cell_type": "markdown",
   "metadata": {},
   "source": [
    "#### <center>App1: Program to connect with Oracle database and print its version</center>"
   ]
  },
  {
   "cell_type": "code",
   "execution_count": null,
   "metadata": {},
   "outputs": [],
   "source": [
    "import cx_Oracle\n",
    "con=cx_Oracle.connect('scott/tiger@localhost')\n",
    "print(con.version)\n",
    "con.close()"
   ]
  },
  {
   "cell_type": "markdown",
   "metadata": {},
   "source": [
    "#### <center>App2: Write a Program to create employees table in the oracle database </center>\n",
    "#### employees(eno,ename,esal,eaddr)"
   ]
  },
  {
   "cell_type": "code",
   "execution_count": null,
   "metadata": {},
   "outputs": [],
   "source": [
    "import cx_Oracle\n",
    "try:\n",
    "    con=cx_Oracle.connect('scott/tiger@localhost')\n",
    "    cursor=con.cursor()\n",
    "    cursor.execute(\"create table employees(eno number,ename varchar2(10),esal number(10,2),eaddr varchar2(10))\")\n",
    "    print(\"Table created successfully\")\n",
    "except cx_Oracle.DatabaseError as e:\n",
    "    if con:\n",
    "        con.rollback()\n",
    "        print(\"There is a problem with sql\",e)\n",
    "\n",
    "finally:\n",
    "    if cursor:\n",
    "        cursor.close()\n",
    "    if con:\n",
    "        con.close()"
   ]
  },
  {
   "cell_type": "markdown",
   "metadata": {},
   "source": [
    "#### <center>App3: Write a program to drop employees table from oracle database?</center>"
   ]
  },
  {
   "cell_type": "code",
   "execution_count": null,
   "metadata": {},
   "outputs": [],
   "source": [
    "import cx_Oracle\n",
    "try:\n",
    "    con=cx_Oracle.connect('scott/tiger@localhost')\n",
    "    cursor=con.cursor()\n",
    "    cursor.execute(\"drop table employees\")\n",
    "    print(\"Table dropped successfully\")\n",
    "\n",
    "except cx_Oracle.DatabaseError as e:\n",
    "    if con:\n",
    "        con.rollback()\n",
    "        print(\"There is a problem with sql\",e)\n",
    "        \n",
    "finally:\n",
    "    if cursor:\n",
    "        cursor.close()\n",
    "    if con:\n",
    "        con.close() "
   ]
  },
  {
   "cell_type": "markdown",
   "metadata": {},
   "source": [
    "#### <center>App4: Write a program to insert a single row in the employees table</center>"
   ]
  },
  {
   "cell_type": "code",
   "execution_count": null,
   "metadata": {},
   "outputs": [],
   "source": [
    "import cx_Oracle\n",
    "try:\n",
    "    con=cx_Oracle.connect('scott/tiger@localhost')\n",
    "    cursor=con.cursor()\n",
    "    cursor.execute(\"insert into employees values(100,'Durga',1000,'Hyd')\")\n",
    "    con.commit()\n",
    "    print(\"Record Inserted Successfully\")\n",
    "\n",
    "except cx_Oracle.DatabaseError as e:\n",
    "    if con:\n",
    "        con.rollback()\n",
    "        print(\"There is a problem with sql\",e)\n",
    "\n",
    "finally:\n",
    "    if cursor:\n",
    "        cursor.close()\n",
    "    if con:\n",
    "        con.close() "
   ]
  },
  {
   "cell_type": "markdown",
   "metadata": {},
   "source": [
    "#### Note: While performing DML Operations (insert|update|delte), compulsory we have to use commit() method,then only the results will be reflected in the database."
   ]
  },
  {
   "cell_type": "markdown",
   "metadata": {},
   "source": [
    "#### <center>App4: Write a program to insert multiple rows in the employees table by using executemany() method</center>"
   ]
  },
  {
   "cell_type": "code",
   "execution_count": null,
   "metadata": {},
   "outputs": [],
   "source": [
    "1) import cx_Oracle\n",
    "2) try:\n",
    "3) con=cx_Oracle.connect('scott/tiger@localhost')\n",
    "4) cursor=con.cursor()\n",
    "5) sql=\"insert into employees values(:eno,:ename,:esal,:eaddr)\"\n",
    "6) records=[(200,'Sunny',2000,'Mumbai'),\n",
    "7) (300,'Chinny',3000,'Hyd'),\n",
    "8) (400,'Bunny',4000,'Hyd')]\n",
    "9) cursor.executemany(sql,records)\n",
    "10) con.commit()\n",
    "11) print(\"Records Inserted Successfully\")\n",
    "12) except cx_Oracle.DatabaseError as e:\n",
    "13) if con:\n",
    "14) con.rollback()\n",
    "15) print(\"There is a problem with sql\",e)\n",
    "16) finally:\n",
    "17) if cursor:\n",
    "18) cursor.close()\n",
    "19) if con:\n",
    "20) con.close()"
   ]
  },
  {
   "cell_type": "markdown",
   "metadata": {},
   "source": [
    "#### <center>App5: Write a program to insert multiple rows in the employees table with dynamic input from the keyboard?</center>"
   ]
  },
  {
   "cell_type": "code",
   "execution_count": null,
   "metadata": {},
   "outputs": [],
   "source": [
    "1) import cx_Oracle\n",
    "2) try:\n",
    "3) con=cx_Oracle.connect('scott/tiger@localhost')\n",
    "4) cursor=con.cursor()\n",
    "5) while True:\n",
    "6) eno=int(input(\"Enter Employee Number:\"))\n",
    "7) ename=input(\"Enter Employee Name:\")\n",
    "8) esal=float(input(\"Enter Employee Salary:\"))\n",
    "9) eaddr=input(\"Enter Employee Address:\")\n",
    "10) sql=\"insert into employees values(%d,'%s',%f,'%s')\"\n",
    "11) cursor.execute(sql %(eno,ename,esal,eaddr))\n",
    "12) print(\"Record Inserted Successfully\")\n",
    "13) option=input(\"Do you want to insert one more record[Yes|No] :\")\n",
    "14) if option==\"No\":\n",
    "15) con.commit()\n",
    "16) break\n",
    "17) except cx_Oracle.DatabaseError as e:\n",
    "18) if con:\n",
    "19) con.rollback()\n",
    "20) print(\"There is a problem with sql :\",e)\n",
    "21) finally:\n",
    "22) if cursor:\n",
    "23) cursor.close()\n",
    "24) if con:\n",
    "25) con.close() "
   ]
  },
  {
   "cell_type": "markdown",
   "metadata": {},
   "source": [
    "#### <center>App6: Write a program to update employee salaries with increment for the certain range with dynamic input</center>\n",
    "#### Eg: Increment all employee salaries by 500 whose salary < 5000"
   ]
  },
  {
   "cell_type": "code",
   "execution_count": null,
   "metadata": {},
   "outputs": [],
   "source": [
    "1) import cx_Oracle\n",
    "2) try:\n",
    "3) con=cx_Oracle.connect('scott/tiger@localhost')\n",
    "4) cursor=con.cursor()\n",
    "5) increment=float(input(\"Enter Increment Salary:\"))\n",
    "6) salrange=float(input(\"Enter Salary Range:\"))\n",
    "7) sql=\"update employees set esal=esal+%f where esal<%f\"\n",
    "8) cursor.execute(sql %(increment,salrange))\n",
    "9) print(\"Records Updated Successfully\")\n",
    "10) con.commit()\n",
    "11) except cx_Oracle.DatabaseError as e:\n",
    "12) if con:\n",
    "13) con.rollback()\n",
    "14) print(\"There is a problem with sql :\",e)\n",
    "15) finally:\n",
    "16) if cursor:\n",
    "17) cursor.close()\n",
    "18) if con:\n",
    "19) con.close()"
   ]
  },
  {
   "cell_type": "markdown",
   "metadata": {},
   "source": [
    "#### <center>App7: Write a program to delete employees whose salary greater provided salary as dynamic input?</center>\n",
    "#### Eg: delete all employees whose salary > 5000"
   ]
  },
  {
   "cell_type": "code",
   "execution_count": null,
   "metadata": {},
   "outputs": [],
   "source": [
    "1) import cx_Oracle\n",
    "2) try:\n",
    "3) con=cx_Oracle.connect('scott/tiger@localhost')\n",
    "4) cursor=con.cursor()\n",
    "5) cutoffsalary=float(input(\"Enter CutOff Salary:\"))\n",
    "6) sql=\"delete from employees where esal>%f\"\n",
    "7) cursor.execute(sql %(cutoffsalary))\n",
    "8) print(\"Records Deleted Successfully\")\n",
    "9) con.commit()\n",
    "10) except cx_Oracle.DatabaseError as e:\n",
    "11) if con:\n",
    "12) con.rollback()\n",
    "13) print(\"There is a problem with sql :\",e)\n",
    "14) finally:\n",
    "15) if cursor:\n",
    "16) cursor.close()\n",
    "17) if con:\n",
    "18) con.close()"
   ]
  },
  {
   "cell_type": "markdown",
   "metadata": {},
   "source": [
    "#### <center>App8: Write a program to select all employees info by using fetchone() method?</center>\n"
   ]
  },
  {
   "cell_type": "code",
   "execution_count": null,
   "metadata": {},
   "outputs": [],
   "source": [
    "1) import cx_Oracle\n",
    "2) try:\n",
    "3) con=cx_Oracle.connect('scott/tiger@localhost')\n",
    "4) cursor=con.cursor()\n",
    "5) cursor.execute(\"select * from employees\")\n",
    "6) row=cursor.fetchone()\n",
    "7) while row is not None:\n",
    "8) print(row)\n",
    "9) row=cursor.fetchone()\n",
    "10) except cx_Oracle.DatabaseError as e:\n",
    "11) if con:\n",
    "12) con.rollback()\n",
    "13) print(\"There is a problem with sql :\",e)\n",
    "14) finally:\n",
    "15) if cursor:\n",
    "16) cursor.close()\n",
    "17) if con:\n",
    "18) con.close() "
   ]
  },
  {
   "cell_type": "markdown",
   "metadata": {},
   "source": [
    "#### <center>App9: Write a program to select all employees info by using fetchall() method?</center>"
   ]
  },
  {
   "cell_type": "code",
   "execution_count": null,
   "metadata": {},
   "outputs": [],
   "source": [
    "1) import cx_Oracle\n",
    "2) try:\n",
    "3) con=cx_Oracle.connect('scott/tiger@localhost')\n",
    "4) cursor=con.cursor()\n",
    "5) cursor.execute(\"select * from employees\")\n",
    "6) data=cursor.fetchall()\n",
    "7) for row in data:\n",
    "8) print(\"Employee Number:\",row[0])\n",
    "9) print(\"Employee Name:\",row[1])\n",
    "10) print(\"Employee Salary:\",row[2])\n",
    "11) print(\"Employee Address:\",row[3])\n",
    "12) print()\n",
    "13) print()\n",
    "14) except cx_Oracle.DatabaseError as e:\n",
    "15) if con:\n",
    "16) con.rollback()\n",
    "17) print(\"There is a problem with sql :\",e)\n",
    "18) finally:\n",
    "19) if cursor:\n",
    "20) cursor.close()\n",
    "21) if con:\n",
    "22) con.close()"
   ]
  },
  {
   "cell_type": "markdown",
   "metadata": {},
   "source": [
    "#### <center>App10: Write a program to select employees info by using fetchmany() method and the required number of rows will be provided as dynamic input?</center>"
   ]
  },
  {
   "cell_type": "code",
   "execution_count": null,
   "metadata": {},
   "outputs": [],
   "source": [
    "1) import cx_Oracle\n",
    "2) try:\n",
    "3) con=cx_Oracle.connect('scott/tiger@localhost')\n",
    "4) cursor=con.cursor()\n",
    "5) cursor.execute(\"select * from employees\")\n",
    "6) n=int(input(\"Enter the number of required rows:\"))\n",
    "7) data=cursor.fetchmany(n)\n",
    "8) for row in data:\n",
    "9) print(row)\n",
    "10) except cx_Oracle.DatabaseError as e:\n",
    "11) if con:\n",
    "12) con.rollback()\n",
    "13) print(\"There is a problem with sql :\",e)\n",
    "14) finally:\n",
    "15) if cursor:\n",
    "16) cursor.close()\n",
    "17) if con:\n",
    "18) con.close()"
   ]
  },
  {
   "cell_type": "markdown",
   "metadata": {},
   "source": [
    "#### <center>6. Working with Mysql database</center>\n"
   ]
  },
  {
   "cell_type": "markdown",
   "metadata": {},
   "source": [
    "#### Note: In MySQL, everything we have to work with our own databases, which are also known as\n",
    "#### Logical Databases.\n",
    "#### The following are 4 default databases available in mysql.\n",
    "#### 1. information_schema\n",
    "#### 2. mysql\n",
    "#### 3. performance_schema\n",
    "#### 4. test"
   ]
  },
  {
   "cell_type": "markdown",
   "metadata": {},
   "source": [
    "#### <center>Commonly used commands in MySql</center>\n",
    "#### 1. To know available databases: mysql> show databases;\n",
    "\n",
    "#### 2. To create our own logical database : mysql> create database durgadb;\n",
    "\n",
    "#### 3. To drop our own database: mysql> drop database durgadb;\n",
    "\n",
    "#### 4. To use a particular logical database: mysql> use durgadb; OR mysql> connect durgadb;\n",
    "\n",
    "#### 5. To create a table: create table employees(eno int(5) primary key,ename varchar(10),esal double(10,2),eaddr varchar(10));\n",
    "\n",
    "#### 6. To insert data: insert into employees values(100,'Durga',1000,'Hyd'); insert into employees values(200,'Ravi',2000,'Mumbai');\n",
    "\n",
    "#### In MySQL instead of single quotes we can use double quotes also."
   ]
  },
  {
   "cell_type": "markdown",
   "metadata": {},
   "source": [
    "#### <center>Driver/Connector Information</center>\n",
    "#### From Python program if we want to communicates with MySql database,compulsory some translator is required to convert python specific calls into mysql database specific calls and mysql database specific calls into python specific calls.\n",
    "\n",
    "#### This translator is nothing but Driver or Connector."
   ]
  },
  {
   "cell_type": "markdown",
   "metadata": {},
   "source": [
    "#### <center>Q. Write a Program to create table,insert data and display data by using mysql database.</center>"
   ]
  },
  {
   "cell_type": "code",
   "execution_count": null,
   "metadata": {},
   "outputs": [],
   "source": [
    "1) import mysql.connector\n",
    "2) try:\n",
    "3) con=mysql.connector.connect(host='localhost',database='durgadb',user='root',password='root')\n",
    "4) cursor=con.cursor()\n",
    "5) cursor.execute(\"create table employees(eno int(5) primary key,ename varchar(10),esal double(10,2),eaddr varchar(\n",
    "10))\")\n",
    "6) print(\"Table Created...\")\n",
    "7)\n",
    "8) sql = \"insert into employees(eno, ename, esal, eaddr) VALUES(%s, %s, %s, %s)\"\n",
    "9) records=[(100,'Sachin',1000,'Mumbai'),\n",
    "10) (200,'Dhoni',2000,'Ranchi'),\n",
    "11) (300,'Kohli',3000,'Delhi')]\n",
    "12) cursor.executemany(sql,records)\n",
    "13) con.commit()\n",
    "14) print(\"Records Inserted Successfully...\")\n",
    "15)\n",
    "16) cursor.execute(\"select * from employees\")\n",
    "17) data=cursor.fetchall()\n",
    "18) for row in data:\n",
    "19) print(\"Employee Number:\",row[0])\n",
    "20) print(\"Employee Name:\",row[1])\n",
    "21) print(\"Employee Salary:\",row[2])\n",
    "22) print(\"Employee Address:\",row[3])\n",
    "23) print()\n",
    "24) print()\n",
    "25) except mysql.connector.DatabaseError as e:\n",
    "26) if con:\n",
    "27) con.rollback()\n",
    "28) print(\"There is a problem with sql :\",e)\n",
    "29) finally:\n",
    "30) if cursor:\n",
    "31) cursor.close()\n",
    "32) if con:\n",
    "33) con.close() "
   ]
  },
  {
   "cell_type": "markdown",
   "metadata": {},
   "source": [
    "#### <center>Q. Write a Program to copy data present in employees table of mysql database into Oracledatabase. </center>"
   ]
  },
  {
   "cell_type": "code",
   "execution_count": null,
   "metadata": {},
   "outputs": [],
   "source": [
    "1) import mysql.connector\n",
    "2) import cx_Oracle\n",
    "3) try:\n",
    "4) con=mysql.connector.connect(host='localhost',database='durgadb',user='root',password='root')\n",
    "5) cursor=con.cursor()\n",
    "6) cursor.execute(\"select * from employees\")\n",
    "7) data=cursor.fetchall()\n",
    "8) list=[]\n",
    "9) for row in data:\n",
    "10) t=(row[0],row[1],row[2],row[3])\n",
    "11) list.append(t)\n",
    "12) except mysql.connector.DatabaseError as e:\n",
    "13) if con:\n",
    "14) con.rollback()\n",
    "15) print(\"There is a problem with MySql :\",e)\n",
    "16) finally:\n",
    "17) if cursor:\n",
    "18) cursor.close()\n",
    "19) if con:\n",
    "20) con.close()\n",
    "21)\n",
    "22) try:\n",
    "23) con=cx_Oracle.connect('scott/tiger@localhost')\n",
    "24) cursor=con.cursor()\n",
    "25) sql=\"insert into employees values(:eno,:ename,:esal,:eaddr)\"\n",
    "26) cursor.executemany(sql,list)\n",
    "27) con.commit()\n",
    "28) print(\"Records Copied from MySQL Database to Oracle Database Successfully\")\n",
    "29) except cx_Oracle.DatabaseError as e:\n",
    "30) if con:\n",
    "31) con.rollback()\n",
    "32) print(\"There is a problem with sql\",e)\n",
    "33) finally:\n",
    "34) if cursor:\n",
    "35) cursor.close()\n",
    "36) if con:\n",
    "37) con.close()"
   ]
  }
 ],
 "metadata": {
  "kernelspec": {
   "display_name": "Python 3",
   "language": "python",
   "name": "python3"
  },
  "language_info": {
   "codemirror_mode": {
    "name": "ipython",
    "version": 3
   },
   "file_extension": ".py",
   "mimetype": "text/x-python",
   "name": "python",
   "nbconvert_exporter": "python",
   "pygments_lexer": "ipython3",
   "version": "3.8.5"
  }
 },
 "nbformat": 4,
 "nbformat_minor": 4
}
