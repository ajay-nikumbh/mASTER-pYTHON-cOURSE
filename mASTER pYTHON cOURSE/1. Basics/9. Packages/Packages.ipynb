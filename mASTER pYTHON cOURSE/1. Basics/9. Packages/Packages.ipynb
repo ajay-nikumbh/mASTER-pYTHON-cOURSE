{
 "cells": [
  {
   "cell_type": "markdown",
   "metadata": {},
   "source": [
    "### <center>Packages</center>"
   ]
  },
  {
   "cell_type": "markdown",
   "metadata": {},
   "source": [
    "#### It is an encapsulation mechanism to group related modules into a single unit.\n",
    "#### package is nothing but folder or directory which represents collection of Python modules.\n",
    "#### Any folder or directory contains __init__.py file,is considered as a Python package.\n",
    "#### This file can be empty.\n",
    "#### A package can contains sub packages also."
   ]
  },
  {
   "cell_type": "markdown",
   "metadata": {},
   "source": [
    "#### <center>2. The main advantages of package statement are</center>\n",
    "#### 1. We can resolve naming conflicts\n",
    "#### 2. We can identify our components uniquely\n",
    "#### 3. It improves modularity of the application\n"
   ]
  },
  {
   "cell_type": "markdown",
   "metadata": {},
   "source": [
    "#### Eg 1:\n",
    "#### D:\\Python_classes>\n",
    "#### |-test.py\n",
    "#### |-pack1\n",
    "####   |-module1.py\n",
    "####   |-__init__.py\n",
    "#### __init__.py\n",
    "#### empty file\n"
   ]
  }
 ],
 "metadata": {
  "kernelspec": {
   "display_name": "Python 3",
   "language": "python",
   "name": "python3"
  },
  "language_info": {
   "codemirror_mode": {
    "name": "ipython",
    "version": 3
   },
   "file_extension": ".py",
   "mimetype": "text/x-python",
   "name": "python",
   "nbconvert_exporter": "python",
   "pygments_lexer": "ipython3",
   "version": "3.8.5"
  }
 },
 "nbformat": 4,
 "nbformat_minor": 4
}
