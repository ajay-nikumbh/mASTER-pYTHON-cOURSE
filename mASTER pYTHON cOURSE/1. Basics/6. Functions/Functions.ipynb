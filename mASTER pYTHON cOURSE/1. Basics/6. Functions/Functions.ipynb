{
 "cells": [
  {
   "cell_type": "markdown",
   "metadata": {},
   "source": [
    "### <center>Functions</center>"
   ]
  },
  {
   "cell_type": "markdown",
   "metadata": {},
   "source": [
    "#### If a group of statements is repeatedly required then it is not recommended to write these statements everytime seperately.We have to define these statements as a single unit and\n",
    "#### we can call that unit any number of times based on our requirement without rewriting.\n",
    "#### This unit is nothing but function.\n",
    "#### The main advantage of functions is code Reusability.\n",
    "#### Note: In other languages functions are known as methods,procedures,subroutines etc\n",
    "#### <center>Python supports 2 types of functions</center>\n",
    "#### 1. Built in Functions\n",
    "#### 2. User Defined Functions"
   ]
  },
  {
   "cell_type": "markdown",
   "metadata": {},
   "source": [
    "#### <center>1. Built in Functions</center>\n",
    "#### The functions which are coming along with Python software automatically,are called built in functions or pre defined functions\n",
    "#### Eg: id(), type(), input(), eval(), etc..\n",
    "\n",
    "#### <center>2. User Defined Functions</center>\n",
    "#### The functions which are developed by programmer explicitly according to business requirements ,are called user defined functions."
   ]
  },
  {
   "cell_type": "markdown",
   "metadata": {},
   "source": [
    "#### Note: While creating functions we can use 2 keywords\n",
    "#### 1. def (mandatory)\n",
    "#### 2. return (optional)"
   ]
  },
  {
   "cell_type": "code",
   "execution_count": 1,
   "metadata": {},
   "outputs": [
    {
     "name": "stdout",
     "output_type": "stream",
     "text": [
      "Hello Good Morning\n",
      "Hello Good Morning\n",
      "Hello Good Morning\n"
     ]
    }
   ],
   "source": [
    "def wish():\n",
    "    print(\"Hello Good Morning\")\n",
    "\n",
    "wish()\n",
    "wish()\n",
    "wish() "
   ]
  },
  {
   "cell_type": "markdown",
   "metadata": {},
   "source": [
    "#### <center>3. Parameters</center>\n",
    "#### Parameters are inputs to the function. If a function contains parameters,then at the time of calling,compulsory we should provide values otherwise,otherwise we will get error.\n",
    "#### Eg: Write a function to take name of the student as input and print wish message by name."
   ]
  },
  {
   "cell_type": "code",
   "execution_count": 3,
   "metadata": {},
   "outputs": [
    {
     "name": "stdout",
     "output_type": "stream",
     "text": [
      "Hello Durga  Good Morning\n",
      "Hello Ravi  Good Morning\n"
     ]
    }
   ],
   "source": [
    "def wish(name):\n",
    "    print(\"Hello\",name,\" Good Morning\")\n",
    "wish(\"Durga\")\n",
    "wish(\"Ravi\") "
   ]
  },
  {
   "cell_type": "code",
   "execution_count": 4,
   "metadata": {},
   "outputs": [
    {
     "name": "stdout",
     "output_type": "stream",
     "text": [
      "The Square of 4 is 16\n",
      "The Square of 5 is 25\n"
     ]
    }
   ],
   "source": [
    "def squareIt(number):\n",
    "    print(\"The Square of\",number,\"is\", number*number)\n",
    "squareIt(4)\n",
    "squareIt(5) "
   ]
  },
  {
   "cell_type": "markdown",
   "metadata": {},
   "source": [
    "#### <center>4. Return Statement</center>\n",
    "#### Function can take input values as parameters and executes business logic, and returns output to the caller with return statement.\n"
   ]
  },
  {
   "cell_type": "code",
   "execution_count": 5,
   "metadata": {},
   "outputs": [
    {
     "name": "stdout",
     "output_type": "stream",
     "text": [
      "The sum is 30\n",
      "The sum is 300\n"
     ]
    }
   ],
   "source": [
    "def add(x,y):\n",
    "    return x+y\n",
    "\n",
    "result=add(10,20)\n",
    "print(\"The sum is\",result)\n",
    "print(\"The sum is\",add(100,200))\n",
    " "
   ]
  },
  {
   "cell_type": "markdown",
   "metadata": {},
   "source": [
    "#### If we are not writing return statement then default return value is None"
   ]
  },
  {
   "cell_type": "code",
   "execution_count": 6,
   "metadata": {},
   "outputs": [
    {
     "name": "stdout",
     "output_type": "stream",
     "text": [
      "Hello\n",
      "Hello\n",
      "None\n"
     ]
    }
   ],
   "source": [
    "def f1():\n",
    "    print(\"Hello\")\n",
    "f1()\n",
    "print(f1()) "
   ]
  },
  {
   "cell_type": "code",
   "execution_count": 7,
   "metadata": {},
   "outputs": [
    {
     "name": "stdout",
     "output_type": "stream",
     "text": [
      "10 is Even Number\n",
      "15 is Odd Number\n"
     ]
    }
   ],
   "source": [
    "def even_odd(num):\n",
    "    if num%2==0:\n",
    "        print(num,\"is Even Number\")\n",
    "    else:\n",
    "        print(num,\"is Odd Number\")\n",
    "\n",
    "even_odd(10)\n",
    "even_odd(15) "
   ]
  },
  {
   "cell_type": "code",
   "execution_count": 8,
   "metadata": {},
   "outputs": [
    {
     "name": "stdout",
     "output_type": "stream",
     "text": [
      "The Factorial of 1 is : 1\n",
      "The Factorial of 2 is : 2\n",
      "The Factorial of 3 is : 6\n",
      "The Factorial of 4 is : 24\n"
     ]
    }
   ],
   "source": [
    "def fact(num):\n",
    "    result=1\n",
    "    \n",
    "    while num>=1:\n",
    "        result=result*num\n",
    "        num=num-1\n",
    "    return result\n",
    "for i in range(1,5):\n",
    "    print(\"The Factorial of\",i,\"is :\",fact(i)) "
   ]
  },
  {
   "cell_type": "markdown",
   "metadata": {},
   "source": [
    "#### <center>5. Returning multiple values from a function</center>\n",
    "#### In other languages like C,C++ and Java, function can return atmost one value. But in\n",
    "#### Python, a function can return any number of values."
   ]
  },
  {
   "cell_type": "code",
   "execution_count": 9,
   "metadata": {},
   "outputs": [
    {
     "name": "stdout",
     "output_type": "stream",
     "text": [
      "The Sum is : 150\n",
      "The Subtraction is : 50\n"
     ]
    }
   ],
   "source": [
    "def sum_sub(a,b):\n",
    "    sum=a+b\n",
    "    sub=a-b\n",
    "    return sum,sub\n",
    "\n",
    "x,y=sum_sub(100,50)\n",
    "print(\"The Sum is :\",x)\n",
    "print(\"The Subtraction is :\",y) "
   ]
  },
  {
   "cell_type": "code",
   "execution_count": 10,
   "metadata": {},
   "outputs": [
    {
     "name": "stdout",
     "output_type": "stream",
     "text": [
      "The Results are\n",
      "150\n",
      "50\n",
      "5000\n",
      "2.0\n"
     ]
    }
   ],
   "source": [
    "def calc(a,b):\n",
    "    sum=a+b\n",
    "    sub=a-b\n",
    "    mul=a*b\n",
    "    div=a/b\n",
    "    return sum,sub,mul,div\n",
    "\n",
    "t=calc(100,50)\n",
    "print(\"The Results are\") \n",
    "\n",
    "for i in t:\n",
    "    print(i) "
   ]
  },
  {
   "cell_type": "markdown",
   "metadata": {},
   "source": [
    "#### <center>6. Types of arguments</center>"
   ]
  },
  {
   "cell_type": "markdown",
   "metadata": {},
   "source": [
    "#### def f1(a,b):\n",
    "#### f1(10,20)\n",
    "#### a,b are formal arguments where as 10,20 are actual arguments\n",
    "#### <center>There are 4 types are actual arguments are allowed in Python</center>\n",
    "#### 1. positional arguments\n",
    "#### 2. keyword arguments\n",
    "#### 3. default arguments\n",
    "#### 4. Variable length arguments"
   ]
  },
  {
   "cell_type": "markdown",
   "metadata": {},
   "source": [
    "#### <center>1. positional arguments</center>\n",
    "#### These are the arguments passed to function in correct positional order.\n",
    "#### def sub(a,b): print(a-b)\n",
    "#### sub(100,200)\n",
    "#### sub(200,100)\n",
    "#### The number of arguments and position of arguments must be matched. \n",
    "#### If we change the order then result may be changed.\n",
    "#### If we change the number of arguments then we will get error"
   ]
  },
  {
   "cell_type": "markdown",
   "metadata": {},
   "source": [
    "#### <center>2. keyword arguments</center>\n",
    "#### We can pass argument values by keyword i.e by parameter name.\n"
   ]
  },
  {
   "cell_type": "code",
   "execution_count": 11,
   "metadata": {},
   "outputs": [
    {
     "name": "stdout",
     "output_type": "stream",
     "text": [
      "Hello Durga Good Morning\n",
      "Hello Durga Good Morning\n"
     ]
    }
   ],
   "source": [
    "def wish(name,msg):\n",
    "    print(\"Hello\",name,msg)\n",
    "wish(name=\"Durga\",msg=\"Good Morning\")\n",
    "wish(msg=\"Good Morning\",name=\"Durga\") "
   ]
  },
  {
   "cell_type": "markdown",
   "metadata": {},
   "source": [
    "#### Here the order of arguments is not important but number of arguments must be matched."
   ]
  },
  {
   "cell_type": "markdown",
   "metadata": {},
   "source": [
    "#### Note:\n",
    "#### We can use both positional and keyword arguments simultaneously. \n",
    "#### But first we have to take positional arguments and then keyword arguments,otherwise we will get syntaxerror."
   ]
  },
  {
   "cell_type": "markdown",
   "metadata": {},
   "source": [
    "#### <center>3. Default Arguments</center>\n",
    "#### Sometimes we can provide default values for our positional arguments.\n"
   ]
  },
  {
   "cell_type": "code",
   "execution_count": 12,
   "metadata": {},
   "outputs": [
    {
     "name": "stdout",
     "output_type": "stream",
     "text": [
      "Hello Durga Good Morning\n",
      "Hello Guest Good Morning\n"
     ]
    }
   ],
   "source": [
    "def wish(name=\"Guest\"):\n",
    "    print(\"Hello\",name,\"Good Morning\")\n",
    "\n",
    "wish(\"Durga\")\n",
    "wish() "
   ]
  },
  {
   "cell_type": "markdown",
   "metadata": {},
   "source": [
    "#### If we are not passing any name then only default value will be considered.\n",
    "#### ***Note:\n",
    "#### After default arguments we should not take non default arguments\n",
    "#### def wish(name=\"Guest\",msg=\"Good Morning\"): ===>Valid\n",
    "#### def wish(name,msg=\"Good Morning\"): ===>Valid\n",
    "#### def wish(name=\"Guest\",msg): ==>Invalid\n",
    "#### SyntaxError: non-default argument follows default argument\n"
   ]
  },
  {
   "cell_type": "markdown",
   "metadata": {},
   "source": [
    "#### <center>4. Variable length arguments</center>\n",
    "#### Sometimes we can pass variable number of arguments to our function,such type of arguments are called variable length arguments.\n",
    "#### We can declare a variable length argument with * symbol as follows\n",
    "#### def f1(*n):\n",
    "#### We can call this function by passing any number of arguments including zero number.\n",
    "#### Internally all these values represented in the form of tuple.\n"
   ]
  },
  {
   "cell_type": "code",
   "execution_count": null,
   "metadata": {},
   "outputs": [],
   "source": [
    "def sum(*n):\n",
    "    total=0\n",
    "    for n1 in n:\n",
    "        total=total+n1\n",
    "print(\"The Sum=\",total)\n",
    "\n",
    "sum()\n",
    "sum(10)\n",
    "sum(10,20)\n",
    "sum(10,20,30,40)\n",
    " "
   ]
  },
  {
   "cell_type": "markdown",
   "metadata": {},
   "source": [
    "#### Note: We can mix variable length arguments with positional arguments."
   ]
  },
  {
   "cell_type": "code",
   "execution_count": 14,
   "metadata": {},
   "outputs": [
    {
     "name": "stdout",
     "output_type": "stream",
     "text": [
      "10\n",
      "10\n",
      "20\n",
      "30\n",
      "40\n",
      "10\n",
      "A\n",
      "30\n",
      "B\n"
     ]
    }
   ],
   "source": [
    "def f1(n1,*s):\n",
    "        print(n1)\n",
    "        for s1 in s:\n",
    "            print(s1)\n",
    "\n",
    "f1(10)\n",
    "f1(10,20,30,40)\n",
    "f1(10,\"A\",30,\"B\") "
   ]
  },
  {
   "cell_type": "markdown",
   "metadata": {},
   "source": [
    "#### Note: After variable length argument,if we are taking any other arguments then we should provide values as keyword arguments."
   ]
  },
  {
   "cell_type": "code",
   "execution_count": 16,
   "metadata": {},
   "outputs": [
    {
     "name": "stdout",
     "output_type": "stream",
     "text": [
      "A\n",
      "B\n",
      "10\n"
     ]
    }
   ],
   "source": [
    "def f1(*s,n1):\n",
    "    for s1 in s:\n",
    "        print(s1)\n",
    "    print(n1)\n",
    "\n",
    "    \n",
    "f1(\"A\",\"B\",n1=10) "
   ]
  },
  {
   "cell_type": "markdown",
   "metadata": {},
   "source": [
    "#### f1(\"A\",\"B\",10) ==>Invalid\n",
    "#### TypeError: f1() missing 1 required keyword-only argument: 'n1'\n",
    "#### Note: We can declare key word variable length arguments also.\n",
    "#### For this we have to use **. def f1(**n):\n",
    "#### We can call this function by passing any number of keyword arguments. Internally these keyword arguments will be stored inside a dictionary."
   ]
  },
  {
   "cell_type": "code",
   "execution_count": 17,
   "metadata": {},
   "outputs": [
    {
     "name": "stdout",
     "output_type": "stream",
     "text": [
      "n1 = 10\n",
      "n2 = 20\n",
      "n3 = 30\n",
      "rno = 100\n",
      "name = Durga\n",
      "marks = 70\n",
      "subject = Java\n"
     ]
    }
   ],
   "source": [
    "def display(**kwargs):\n",
    "    for k,v in kwargs.items():\n",
    "        print(k,\"=\",v)\n",
    "\n",
    "display(n1=10,n2=20,n3=30)\n",
    "display(rno=100,name=\"Durga\",marks=70,subject=\"Java\")\n",
    " "
   ]
  },
  {
   "cell_type": "markdown",
   "metadata": {},
   "source": [
    "#### <center>7. Case Study</center>\n",
    "#### def f(arg1,arg2,arg3=4,arg4=8): print(arg1,arg2,arg3,arg4)\n",
    "#### 1. f(3,2) ==> 3 2 4 8\n",
    "#### 2. f(10,20,30,40) ===>10 20 30 40\n",
    "#### 3. f(25,50,arg4=100) ==>25 50 4 100\n",
    "#### 4. f(arg4=2,arg1=3,arg2=4)===>3 4 4 2\n",
    "#### 5. f()===>Invalid\n",
    "#### TypeError: f() missing 2 required positional arguments: 'arg1' and 'arg2'\n",
    "#### 6. f(arg3=10,arg4=20,30,40) ==>Invalid\n",
    "#### SyntaxError: positional argument follows keyword argument\n",
    "#### [After keyword arguments we should not take positional arguments]\n",
    "#### 7. f(4,5,arg2=6)==>Invalid\n",
    "#### TypeError: f() got multiple values for argument 'arg2'\n",
    "#### 8. f(4,5,arg3=5,arg5=6)==>Invalid\n",
    "#### TypeError: f() got an unexpected keyword argument 'arg5'"
   ]
  },
  {
   "cell_type": "markdown",
   "metadata": {},
   "source": [
    "#### <center> Note: Function vs Module vs Library</center>\n",
    "#### 1. A group of lines with some name is called a function\n",
    "#### 2. A group of functions saved to a file , is called Module\n",
    "#### 3. A group of Modules is nothing but Library"
   ]
  },
  {
   "cell_type": "markdown",
   "metadata": {},
   "source": [
    "#### <center>8. Types of Variables</center>\n",
    "#### Python supports 2 types of variables.\n",
    "#### 1. Global Variables\n",
    "#### 2. Local Variables\n",
    "#### <center>1. Global Variables</center>\n",
    "#### The variables which are declared outside of function are called global variables.\n",
    "#### These variables can be accessed in all functions of that module."
   ]
  },
  {
   "cell_type": "code",
   "execution_count": 18,
   "metadata": {},
   "outputs": [
    {
     "name": "stdout",
     "output_type": "stream",
     "text": [
      "10\n",
      "10\n"
     ]
    }
   ],
   "source": [
    "a=10 # global variable\n",
    "\n",
    "def f1():\n",
    "    print(a)\n",
    "\n",
    "def f2():\n",
    "    print(a)\n",
    "\n",
    "f1()\n",
    "f2() "
   ]
  },
  {
   "cell_type": "markdown",
   "metadata": {},
   "source": [
    "#### <center>2. Local Variables</center>\n",
    "#### The variables which are declared inside a function are called local variables.\n",
    "#### Local variables are available only for the function in which we declared it.i.e from outside of function we cannot access."
   ]
  },
  {
   "cell_type": "code",
   "execution_count": 20,
   "metadata": {},
   "outputs": [
    {
     "name": "stdout",
     "output_type": "stream",
     "text": [
      "10\n",
      "10\n"
     ]
    }
   ],
   "source": [
    "def f1():\n",
    "    a=10\n",
    "    print(a) # valid\n",
    "\n",
    "def f2():\n",
    "    print(a) #invalid\n",
    "\n",
    "f1()\n",
    "f2() "
   ]
  },
  {
   "cell_type": "markdown",
   "metadata": {},
   "source": [
    "#### <center>global keyword</center>\n",
    "#### We can use global keyword for the following 2 purposes:\n",
    "#### 1. To declare global variable inside function\n",
    "#### 2. To make global variable available to the function so that we can perform required modifications"
   ]
  },
  {
   "cell_type": "code",
   "execution_count": 21,
   "metadata": {},
   "outputs": [
    {
     "name": "stdout",
     "output_type": "stream",
     "text": [
      "777\n",
      "10\n"
     ]
    }
   ],
   "source": [
    "a=10\n",
    "\n",
    "def f1():\n",
    "    a=777\n",
    "    print(a)\n",
    "\n",
    "def f2():\n",
    "    print(a)\n",
    "\n",
    "f1()\n",
    "f2() "
   ]
  },
  {
   "cell_type": "code",
   "execution_count": 22,
   "metadata": {},
   "outputs": [
    {
     "name": "stdout",
     "output_type": "stream",
     "text": [
      "777\n",
      "777\n"
     ]
    }
   ],
   "source": [
    "a=10\n",
    "\n",
    "def f1():\n",
    "    global a\n",
    "    a=777\n",
    "    print(a)\n",
    "\n",
    "def f2():\n",
    "    print(a)\n",
    "\n",
    "\n",
    "f1()\n",
    "f2() "
   ]
  },
  {
   "cell_type": "code",
   "execution_count": 23,
   "metadata": {},
   "outputs": [
    {
     "name": "stdout",
     "output_type": "stream",
     "text": [
      "10\n",
      "777\n"
     ]
    }
   ],
   "source": [
    "def f1():\n",
    "    a=10\n",
    "    print(a)\n",
    "\n",
    "def f2():\n",
    "    print(a)\n",
    "\n",
    "f1()\n",
    "f2() "
   ]
  },
  {
   "cell_type": "code",
   "execution_count": 24,
   "metadata": {},
   "outputs": [
    {
     "name": "stdout",
     "output_type": "stream",
     "text": [
      "10\n",
      "10\n"
     ]
    }
   ],
   "source": [
    "def f1():\n",
    "    global a\n",
    "    a=10\n",
    "    print(a)\n",
    "    \n",
    "def f2():\n",
    "    print(a)\n",
    "\n",
    "f1()\n",
    "f2() "
   ]
  },
  {
   "cell_type": "markdown",
   "metadata": {},
   "source": [
    "#### Note: If global variable and local variable having the same name then we can access global variable inside a function as follows"
   ]
  },
  {
   "cell_type": "code",
   "execution_count": 25,
   "metadata": {},
   "outputs": [
    {
     "name": "stdout",
     "output_type": "stream",
     "text": [
      "777\n",
      "10\n"
     ]
    }
   ],
   "source": [
    "a=10 #global variable\n",
    "def f1():\n",
    "    a=777 #local variable\n",
    "    print(a)\n",
    "    print(globals()['a'])\n",
    "f1() "
   ]
  },
  {
   "cell_type": "markdown",
   "metadata": {},
   "source": [
    "#### <center>9. Recursive Functions</center>\n",
    "#### A function that calls itself is known as Recursive Function."
   ]
  },
  {
   "cell_type": "markdown",
   "metadata": {},
   "source": [
    "#### Eg:\n",
    "#### factorial(3)=3*factorial(2)\n",
    "#### =3*2*factorial(1)\n",
    "#### =3*2*1*factorial(0)\n",
    "#### =3*2*1*1\n",
    "#### =6\n",
    "#### factorial(n)= n*factorial(n-1)\n",
    "#### The main advantages of recursive functions are:\n",
    "#### 1. We can reduce length of the code and improves readability\n",
    "#### 2. We can solve complex problems very easily.\n"
   ]
  },
  {
   "cell_type": "markdown",
   "metadata": {},
   "source": [
    "#### <center>Q. Write a Python Function to find factorial of given number with recursion.</center>"
   ]
  },
  {
   "cell_type": "code",
   "execution_count": 26,
   "metadata": {},
   "outputs": [
    {
     "name": "stdout",
     "output_type": "stream",
     "text": [
      "Factorial of 4 is : 24\n",
      "Factorial of 5 is : 120\n"
     ]
    }
   ],
   "source": [
    "def factorial(n):\n",
    "    if n==0:\n",
    "        result=1\n",
    "    else:\n",
    "        result=n*factorial(n-1)\n",
    "    return result\n",
    "\n",
    "print(\"Factorial of 4 is :\",factorial(4))\n",
    "print(\"Factorial of 5 is :\",factorial(5)) "
   ]
  },
  {
   "cell_type": "markdown",
   "metadata": {},
   "source": [
    "#### <center>10. Anonymous Functions</center>\n",
    "#### Sometimes we can declare a function without any name,such type of nameless functions are called anonymous functions or lambda functions.\n",
    "#### The main purpose of anonymous function is just for instant use(i.e for one time usage)\n",
    "\n",
    "#### <center>1. Normal Function</center>\n",
    "#### We can define by using def keyword.\n",
    "#### def squareIt(n):return n*n\n",
    "\n",
    "#### <center>2. lambda Function</center>\n",
    "#### We can define by using lambda keyword\n",
    "#### lambda n:n*n\n",
    "#### Syntax of lambda Function:\n",
    "#### lambda argument_list : expression\n",
    "#### Note: By using Lambda Functions we can write very concise code so that readability of the program will be improved.\n"
   ]
  },
  {
   "cell_type": "markdown",
   "metadata": {},
   "source": [
    "#### <center>Q. Write a program to create a lambda function to find square of given number?</center>"
   ]
  },
  {
   "cell_type": "code",
   "execution_count": 27,
   "metadata": {},
   "outputs": [
    {
     "name": "stdout",
     "output_type": "stream",
     "text": [
      "The Square of 4 is : 16\n",
      "The Square of 5 is : 25\n"
     ]
    }
   ],
   "source": [
    "s=lambda n:n*n\n",
    "print(\"The Square of 4 is :\",s(4))\n",
    "print(\"The Square of 5 is :\",s(5))\n"
   ]
  },
  {
   "cell_type": "markdown",
   "metadata": {},
   "source": [
    "#### <center>Q. Lambda function to find sum of 2 given numbers</center>"
   ]
  },
  {
   "cell_type": "code",
   "execution_count": 28,
   "metadata": {},
   "outputs": [
    {
     "name": "stdout",
     "output_type": "stream",
     "text": [
      "The Sum of 10,20 is: 30\n",
      "The Sum of 100,200 is: 300\n"
     ]
    }
   ],
   "source": [
    "s=lambda a,b:a+b\n",
    "print(\"The Sum of 10,20 is:\",s(10,20)) \n",
    "print(\"The Sum of 100,200 is:\",s(100,200)) "
   ]
  },
  {
   "cell_type": "markdown",
   "metadata": {},
   "source": [
    "#### <center>Q. Lambda Function to find biggest of given values</center>"
   ]
  },
  {
   "cell_type": "code",
   "execution_count": 29,
   "metadata": {},
   "outputs": [
    {
     "name": "stdout",
     "output_type": "stream",
     "text": [
      "The Biggest of 10,20 is: 20\n",
      "The Biggest of 100,200 is: 200\n"
     ]
    }
   ],
   "source": [
    "s=lambda a,b:a if a>b else b\n",
    "print(\"The Biggest of 10,20 is:\",s(10,20))\n",
    "print(\"The Biggest of 100,200 is:\",s(100,200))\n"
   ]
  },
  {
   "cell_type": "markdown",
   "metadata": {},
   "source": [
    "#### Note:\n",
    "#### Lambda Function internally returns expression value and we are not required to write return statement explicitly.\n",
    "#### Note: Sometimes we can pass function as argument to another function. In such cases lambda functions are best choice.\n",
    "#### We can use lambda functions very commonly with filter(),map() and reduce() functions,b'z these functions expect function as argument."
   ]
  },
  {
   "cell_type": "markdown",
   "metadata": {},
   "source": [
    "#### <center>3. filter() function</center>\n",
    "#### We can use filter() function to filter values from the given sequence based on some condition.\n",
    "#### filter(function,sequence)\n",
    "#### where function argument is responsible to perform conditional check sequence can be list or tuple or string.\n"
   ]
  },
  {
   "cell_type": "markdown",
   "metadata": {},
   "source": [
    "#### <center>Q. Program to filter only even numbers from the list by using filter() function?</center>"
   ]
  },
  {
   "cell_type": "markdown",
   "metadata": {},
   "source": [
    "#### without lambda Function"
   ]
  },
  {
   "cell_type": "code",
   "execution_count": 30,
   "metadata": {},
   "outputs": [
    {
     "name": "stdout",
     "output_type": "stream",
     "text": [
      "[0, 10, 20, 30]\n"
     ]
    }
   ],
   "source": [
    "def isEven(x):\n",
    "    if x%2==0:\n",
    "        return True\n",
    "    else:\n",
    "        return False\n",
    "\n",
    "l=[0,5,10,15,20,25,30]\n",
    "l1=list(filter(isEven,l))\n",
    "print(l1) #[0,10,20,30] "
   ]
  },
  {
   "cell_type": "markdown",
   "metadata": {},
   "source": [
    "#### with lambda Function"
   ]
  },
  {
   "cell_type": "code",
   "execution_count": 31,
   "metadata": {},
   "outputs": [
    {
     "name": "stdout",
     "output_type": "stream",
     "text": [
      "[0, 10, 20, 30]\n",
      "[5, 15, 25]\n"
     ]
    }
   ],
   "source": [
    "l=[0,5,10,15,20,25,30]\n",
    "l1=list(filter(lambda x:x%2==0,l))\n",
    "\n",
    "print(l1) #[0,10,20,30]\n",
    "l2=list(filter(lambda x:x%2!=0,l))\n",
    "print(l2) #[5,15,25]"
   ]
  },
  {
   "cell_type": "markdown",
   "metadata": {},
   "source": [
    "#### <center>4. map() function</center>\n",
    "#### For every element present in the given sequence,apply some functionality and generate new element with the required modification. \n",
    "#### For this requirement we should go for map() function.\n",
    "#### Eg: For every element present in the list perform double and generate new list of doubles.\n",
    "#### Syntax: map(function,sequence)\n",
    "#### The function can be applied on each element of sequence and generates new sequence.\n"
   ]
  },
  {
   "cell_type": "markdown",
   "metadata": {},
   "source": [
    "#### Without lambda"
   ]
  },
  {
   "cell_type": "code",
   "execution_count": 32,
   "metadata": {},
   "outputs": [
    {
     "name": "stdout",
     "output_type": "stream",
     "text": [
      "[2, 4, 6, 8, 10]\n"
     ]
    }
   ],
   "source": [
    "l=[1,2,3,4,5]\n",
    "\n",
    "def doubleIt(x):\n",
    "    return 2*x\n",
    "\n",
    "l1=list(map(doubleIt,l))\n",
    "print(l1) #[2, 4, 6, 8, 10] "
   ]
  },
  {
   "cell_type": "markdown",
   "metadata": {},
   "source": [
    "#### with lambda"
   ]
  },
  {
   "cell_type": "code",
   "execution_count": 33,
   "metadata": {},
   "outputs": [
    {
     "name": "stdout",
     "output_type": "stream",
     "text": [
      "[2, 4, 6, 8, 10]\n"
     ]
    }
   ],
   "source": [
    "l=[1,2,3,4,5]\n",
    "l1=list(map(lambda x:2*x,l))\n",
    "print(l1) #[2, 4, 6, 8, 10] "
   ]
  },
  {
   "cell_type": "code",
   "execution_count": 34,
   "metadata": {},
   "outputs": [
    {
     "name": "stdout",
     "output_type": "stream",
     "text": [
      "[1, 4, 9, 16, 25]\n"
     ]
    }
   ],
   "source": [
    "l=[1,2,3,4,5]\n",
    "l1=list(map(lambda x:x*x,l))\n",
    "print(l1) #[1, 4, 9, 16, 25] "
   ]
  },
  {
   "cell_type": "markdown",
   "metadata": {},
   "source": [
    "#### We can apply map() function on multiple lists also.But make sure all list should have same length.\n",
    "#### Syntax: map(lambda x,y:x*y,l1,l2))\n",
    "#### x is from l1 and y is from l2"
   ]
  },
  {
   "cell_type": "code",
   "execution_count": 35,
   "metadata": {},
   "outputs": [
    {
     "name": "stdout",
     "output_type": "stream",
     "text": [
      "[2, 6, 12, 20]\n"
     ]
    }
   ],
   "source": [
    "l1=[1,2,3,4]\n",
    "l2=[2,3,4,5]\n",
    "l3=list(map(lambda x,y:x*y,l1,l2))\n",
    "print(l3) #[2, 6, 12, 20] "
   ]
  },
  {
   "cell_type": "markdown",
   "metadata": {},
   "source": [
    "#### <center>5. reduce() function</center>\n",
    "#### reduce() function reduces sequence of elements into a single element by applying the specified function.\n",
    "#### reduce(function,sequence)\n",
    "#### reduce() function present in functools module and hence we should write import statement."
   ]
  },
  {
   "cell_type": "code",
   "execution_count": 36,
   "metadata": {},
   "outputs": [
    {
     "name": "stdout",
     "output_type": "stream",
     "text": [
      "150\n"
     ]
    }
   ],
   "source": [
    "from functools import *\n",
    "\n",
    "l=[10,20,30,40,50]\n",
    "result=reduce(lambda x,y:x+y,l)\n",
    "print(result) # 150 "
   ]
  },
  {
   "cell_type": "code",
   "execution_count": 37,
   "metadata": {},
   "outputs": [
    {
     "name": "stdout",
     "output_type": "stream",
     "text": [
      "12000000\n"
     ]
    }
   ],
   "source": [
    "result=reduce(lambda x,y:x*y,l)\n",
    "print(result) #12000000 "
   ]
  },
  {
   "cell_type": "code",
   "execution_count": 38,
   "metadata": {},
   "outputs": [
    {
     "name": "stdout",
     "output_type": "stream",
     "text": [
      "5050\n"
     ]
    }
   ],
   "source": [
    "from functools import *\n",
    "\n",
    "result=reduce(lambda x,y:x+y,range(1,101))\n",
    "print(result) #5050 "
   ]
  },
  {
   "cell_type": "markdown",
   "metadata": {},
   "source": [
    "#### Note:\n",
    "#### 1. In Python every thing is treated as object.\n",
    "#### 2. Even functions also internally treated as objects only.\n"
   ]
  },
  {
   "cell_type": "code",
   "execution_count": 39,
   "metadata": {},
   "outputs": [
    {
     "name": "stdout",
     "output_type": "stream",
     "text": [
      "<function f1 at 0x000001EB14C19160>\n",
      "2109177172320\n"
     ]
    }
   ],
   "source": [
    "def f1():\n",
    "    print(\"Hello\")\n",
    "print(f1)\n",
    "print(id(f1)) "
   ]
  },
  {
   "cell_type": "markdown",
   "metadata": {},
   "source": [
    "#### <center>11. Function Aliasing</center>\n",
    "#### For the existing function we can give another name, which is nothing but function aliasing. "
   ]
  },
  {
   "cell_type": "code",
   "execution_count": 40,
   "metadata": {},
   "outputs": [
    {
     "name": "stdout",
     "output_type": "stream",
     "text": [
      "2109177173040\n",
      "2109177173040\n",
      "Good Morning: Durga\n",
      "Good Morning: Durga\n"
     ]
    }
   ],
   "source": [
    "def wish(name):\n",
    "    print(\"Good Morning:\",name)\n",
    "greeting=wish\n",
    "print(id(wish))\n",
    "print(id(greeting))\n",
    "greeting('Durga')\n",
    "wish('Durga') "
   ]
  },
  {
   "cell_type": "markdown",
   "metadata": {},
   "source": [
    "#### Note: In the above example only one function is available but we can call that function by using either wish name or greeting name.\n",
    "#### If we delete one name still we can access that function by using alias name"
   ]
  },
  {
   "cell_type": "code",
   "execution_count": 41,
   "metadata": {},
   "outputs": [
    {
     "name": "stdout",
     "output_type": "stream",
     "text": [
      "Good Morning: Durga\n",
      "Good Morning: Durga\n",
      "Good Morning: Pavan\n"
     ]
    }
   ],
   "source": [
    "def wish(name):\n",
    "    print(\"Good Morning:\",name) \n",
    "greeting=wish\n",
    "greeting('Durga')\n",
    "wish('Durga')\n",
    "del wish\n",
    "\n",
    "greeting('Pavan') "
   ]
  },
  {
   "cell_type": "markdown",
   "metadata": {},
   "source": [
    "#### <center>12. Nested Functions</center>\n",
    "#### We can declare a function inside another function, such type of functions are called Nested functions."
   ]
  },
  {
   "cell_type": "code",
   "execution_count": 42,
   "metadata": {},
   "outputs": [
    {
     "name": "stdout",
     "output_type": "stream",
     "text": [
      "inner function execution\n",
      "outer function calling inner function\n",
      "outer function started\n"
     ]
    }
   ],
   "source": [
    "def outer():\n",
    "    print(\"outer function started\")\n",
    "\n",
    "def inner():\n",
    "    print(\"inner function execution\")\n",
    "    print(\"outer function calling inner function\")\n",
    "\n",
    "inner()\n",
    "outer()\n"
   ]
  },
  {
   "cell_type": "markdown",
   "metadata": {},
   "source": [
    "#### In the above example inner() function is local to outer() function and hence it is not possible to call directly from outside of outer() function.\n",
    "#### Note: A function can return another function."
   ]
  },
  {
   "cell_type": "code",
   "execution_count": 45,
   "metadata": {},
   "outputs": [
    {
     "name": "stdout",
     "output_type": "stream",
     "text": [
      "outer function started\n",
      "outer function returning inner function\n",
      "inner function execution\n",
      "inner function execution\n",
      "inner function execution\n"
     ]
    }
   ],
   "source": [
    "def outer():\n",
    "    print(\"outer function started\")\n",
    "    def inner():\n",
    "        print(\"inner function execution\") \n",
    "    print(\"outer function returning inner function\")\n",
    "    return inner\n",
    "\n",
    "f1=outer()\n",
    "f1()\n",
    "f1()\n",
    "f1() "
   ]
  },
  {
   "cell_type": "markdown",
   "metadata": {},
   "source": [
    "#### <center>Q. What is the differenece between the following lines?</center>\n",
    "#### f1 = outer\n",
    "#### f1 = outer()\n",
    "#### In the first case for the outer() function we are providing another name f1(function aliasing).\n",
    "#### But in the second case we calling outer() function,which returns inner function.For that inner function() we are providing another name f1\n",
    "#### Note: We can pass function as argument to another function\n",
    "#### Eg: filter(function,sequence)\n",
    "#### map(function,sequence)\n",
    "#### reduce(function,sequence)"
   ]
  }
 ],
 "metadata": {
  "kernelspec": {
   "display_name": "Python 3",
   "language": "python",
   "name": "python3"
  },
  "language_info": {
   "codemirror_mode": {
    "name": "ipython",
    "version": 3
   },
   "file_extension": ".py",
   "mimetype": "text/x-python",
   "name": "python",
   "nbconvert_exporter": "python",
   "pygments_lexer": "ipython3",
   "version": "3.8.5"
  }
 },
 "nbformat": 4,
 "nbformat_minor": 4
}
