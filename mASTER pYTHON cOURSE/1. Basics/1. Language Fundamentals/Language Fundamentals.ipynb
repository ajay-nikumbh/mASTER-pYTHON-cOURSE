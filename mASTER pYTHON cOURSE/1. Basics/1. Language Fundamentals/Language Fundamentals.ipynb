{
 "cells": [
  {
   "cell_type": "markdown",
   "metadata": {},
   "source": [
    "### <center>Language Fundamentals</center>"
   ]
  },
  {
   "cell_type": "markdown",
   "metadata": {},
   "source": [
    "#### <center>1. Introduction</center>\n",
    "#### 1. Python is a general purpose high level programming language.\n",
    "#### 2. Python was developed by Guido Van Rossam in 1989 while working at National Research Institute at Netherlands.\n",
    "#### 3. But officially Python was made available to public in 1991. The official Date of Birth for Python is : Feb 20th 1991.\n",
    "#### 4. Python is recommended as first programming language for beginners."
   ]
  },
  {
   "cell_type": "markdown",
   "metadata": {},
   "source": [
    "#### The name Python was selected from the TV Show \"The Complete Monty Python's\n",
    "#### Circus\", which was broadcasted in BBC from 1969 to 1974.\n",
    "#### Guido developed Python language by taking almost all programming features from different languages\n",
    "#### 1. Functional Programming Features from C\n",
    "#### 2. Object Oriented Programming Features from C++\n",
    "#### 3. Scripting Language Features from Perl and Shell Script"
   ]
  },
  {
   "cell_type": "code",
   "execution_count": 1,
   "metadata": {},
   "outputs": [
    {
     "name": "stdout",
     "output_type": "stream",
     "text": [
      "The Sum: 30\n"
     ]
    }
   ],
   "source": [
    "a=10\n",
    "b=20\n",
    "print(\"The Sum:\",(a+b)) "
   ]
  },
  {
   "cell_type": "markdown",
   "metadata": {},
   "source": [
    "#### <center>2. Features of Python</center>\n"
   ]
  },
  {
   "cell_type": "markdown",
   "metadata": {},
   "source": [
    "#### <center>1. Simple and easy to learn</center>\n",
    "#### 1. Python is a simple programming language. When we read Python program,we can feel like reading english statements.\n",
    "#### 2. The syntaxes are very simple and only 30+ kerywords are available.\n",
    "#### 3. When compared with other languages, we can write programs with very less number of lines.                 Hence more readability and simplicity.\n",
    "#### 4. We can reduce development and cost of the project."
   ]
  },
  {
   "cell_type": "markdown",
   "metadata": {},
   "source": [
    "#### <center>2. Freeware and Open Source</center>\n",
    "#### 1. We can use Python software without any licence and it is freeware.\n",
    "#### 2. Its source code is open,so that we can we can customize based on our requirement.\n",
    "#### 3. Eg: Jython is customized version of Python to work with Java Applications."
   ]
  },
  {
   "cell_type": "markdown",
   "metadata": {},
   "source": [
    "#### <center>3. High Level Programming language</center>\n",
    "#### 1. Python is high level programming language and hence it is programmer friendly language.\n",
    "#### 2. Being a programmer we are not required to concentrate low level activities like memory management and security etc.."
   ]
  },
  {
   "cell_type": "markdown",
   "metadata": {},
   "source": [
    "#### <center>4. Platform Independent</center>\n",
    "#### 1. Once we write a Python program,it can run on any platform without rewriting once again.\n",
    "#### 2. Internally PVM is responsible to convert into machine understandable form.\n",
    "\n",
    "#### <center>5. Portability</cente>\n",
    "#### 1. Python programs are portable. ie we can migrate from one platform to another platform very easily.\n",
    "#### 2. Python programs will provide same results on any paltform.\n",
    "\n",
    "#### <center>6. Dynamically Typed</center>\n",
    "#### 1. In Python we are not required to declare type for variables. \n",
    "#### 2. Whenever we are assigning the value, based on value, type will be allocated automatically.Hence Python is considered as dynamically typed language.\n",
    "#### 3. But Java, C etc are Statically Typed Languages b'z we have to provide type at the beginning only.\n",
    "#### 4. This dynamic typing nature will provide more flexibility to the programmer.\n",
    "\n",
    "\n",
    "#### <center>7. Both Procedure Oriented and Object Oriented</center>\n",
    "#### 1. Python language supports both Procedure oriented (like C, pascal etc) and object oriented (like C++,Java) features. \n",
    "#### 2. Hence we can get benefits of both like security and reusability etc\n",
    "\n",
    "\n",
    "#### <center>8. Interpreted</center>\n",
    "#### 1. We are not required to compile Python programs explcitly. Internally Python interpreter will take care that compilation.\n",
    "#### 2. If compilation fails interpreter raised syntax errors. Once compilation success then PVM (Python Virtual Machine) is responsible to execute.\n",
    "\n",
    "\n",
    "#### <center>9. Extensible</center>\n",
    "#### 1. We can use other language programs in Python.\n",
    "#### The main advantages of this approach are:\n",
    "#### 1. We can use already existing legacy non-Python code\n",
    "#### 2. We can improve performance of the application\n",
    "\n",
    "#### <center>10. Embedded</center>\n",
    "#### 1. We can use Python programs in any other language programs. i.e we can embedd Python programs anywhere.\n",
    "\n",
    "#### <center>11. Extensive Library</center>\n",
    "#### 1. Python has a rich inbuilt library.\n",
    "#### 2. Being a programmer we can use this library directly and we are not responsible to implement the functionality. etc..."
   ]
  },
  {
   "cell_type": "markdown",
   "metadata": {},
   "source": [
    "#### <center>3. Identifiers</center>\n",
    "#### A name in Python program is called identifier.\n",
    "#### It can be class name or function name or module name or variable name.\n",
    "#### a = 10"
   ]
  },
  {
   "cell_type": "markdown",
   "metadata": {},
   "source": [
    "#### <center>Rules to define identifiers in Python</center>\n",
    "#### 1. The only allowed characters in Python are\n",
    "#### alphabet symbols(either lower case or upper case)\n",
    "#### digits(0 to 9)\n",
    "#### underscore symbol(_)\n",
    " \n",
    "#### By mistake if we are using any other symbol like then we will get syntax error.\n",
    "#### cash = 10 √\n",
    "#### cash =20 \n",
    " \n",
    "#### 2. Identifier should not starts with digit\n",
    "#### 123total \n",
    "#### total123 √\n",
    "\n",
    "#### 3. Identifiers are case sensitive. Of course Python language is case sensitive language.\n",
    "\n",
    "#### total=10\n",
    "#### TOTAL=999\n",
    "#### print(total) #10\n",
    "#### print(TOTAL) #999"
   ]
  },
  {
   "cell_type": "markdown",
   "metadata": {},
   "source": [
    "#### <center>Identifier</center>\n",
    "#### 1. Alphabet Symbols (Either Upper case OR Lower case)\n",
    "#### 2. If Identifier is start with Underscore (_) then it indicates it is private.\n",
    "#### 3. Identifier should not start with Digits.\n",
    "#### 4. Identifiers are case sensitive.\n",
    "#### 5. We cannot use reserved words as identifiers Eg: def=10 \n",
    "#### 6. There is no length limit for Python identifiers. But not recommended to use too lengthy identifiers.\n",
    "#### 7. Dollor ($) Symbol is not allowed in Python."
   ]
  },
  {
   "cell_type": "markdown",
   "metadata": {},
   "source": [
    "#### Note:\n",
    "#### 1. If identifier starts with _ symbol then it indicates that it is private\n",
    "#### 2. If identifier starts with __(two under score symbols) indicating that strongly private identifier.\n",
    "#### 3.If the identifier starts and ends with two underscore symbols then the identifier is language defined special name,which is also known as magic methods.\n",
    "#### Eg: __add__"
   ]
  },
  {
   "cell_type": "markdown",
   "metadata": {},
   "source": [
    "#### <center>4. Reserved Words</center>"
   ]
  },
  {
   "cell_type": "markdown",
   "metadata": {},
   "source": [
    "#### In Python some words are reserved to represent some meaning or functionality. \n",
    "#### Such type of words are called Reserved words.\n",
    "#### There are 33 reserved words available in Python.\n",
    "#### 1. True,False,None\n",
    "#### 2. and, or ,not,is\n",
    "#### 3. if,elif,else\n",
    "#### 4. while,for,break,continue,return,in,yield\n",
    "#### 5. try,except,finally,raise,assert\n",
    "#### 6. import,from,as,class,def,pass,global,nonlocal,lambda,del,with"
   ]
  },
  {
   "cell_type": "markdown",
   "metadata": {},
   "source": [
    "#### Note:\n",
    "#### 1. All Reserved words in Python contain only alphabet symbols.\n",
    "#### 2. Except the following 3 reserved words, all contain only lower case alphabet symbols."
   ]
  },
  {
   "cell_type": "code",
   "execution_count": 2,
   "metadata": {},
   "outputs": [
    {
     "data": {
      "text/plain": [
       "['False',\n",
       " 'None',\n",
       " 'True',\n",
       " 'and',\n",
       " 'as',\n",
       " 'assert',\n",
       " 'async',\n",
       " 'await',\n",
       " 'break',\n",
       " 'class',\n",
       " 'continue',\n",
       " 'def',\n",
       " 'del',\n",
       " 'elif',\n",
       " 'else',\n",
       " 'except',\n",
       " 'finally',\n",
       " 'for',\n",
       " 'from',\n",
       " 'global',\n",
       " 'if',\n",
       " 'import',\n",
       " 'in',\n",
       " 'is',\n",
       " 'lambda',\n",
       " 'nonlocal',\n",
       " 'not',\n",
       " 'or',\n",
       " 'pass',\n",
       " 'raise',\n",
       " 'return',\n",
       " 'try',\n",
       " 'while',\n",
       " 'with',\n",
       " 'yield']"
      ]
     },
     "execution_count": 2,
     "metadata": {},
     "output_type": "execute_result"
    }
   ],
   "source": [
    "import keyword\n",
    "keyword.kwlist"
   ]
  },
  {
   "cell_type": "markdown",
   "metadata": {},
   "source": [
    "#### <center>5. Data Types</center>"
   ]
  },
  {
   "cell_type": "markdown",
   "metadata": {},
   "source": [
    "#### Data Type represent the type of data present inside a variable.\n",
    "#### In Python we are not required to specify the type explicitly.\n",
    "#### Based on value provided,the type will be assigned automatically.Hence Python is Dynamically Typed Language.\n",
    "#### Python contains the following inbuilt data types\n",
    "#### int,float,complex,bool,str,bytes,bytearray,range,list,tuple,set,frozenset,dict,None"
   ]
  },
  {
   "cell_type": "markdown",
   "metadata": {},
   "source": [
    "#### Note: Python contains several inbuilt functions\n",
    "#### 1.type(): to check the type of variable\n",
    "#### 2. id(): to get address of object\n",
    "#### 3. print(): to print the value\n"
   ]
  },
  {
   "cell_type": "markdown",
   "metadata": {},
   "source": [
    "#### <center>1. int data type</center>\n",
    "#### We can use int data type to represent whole numbers (integral values) Eg: a=10 ,type(a) #int\n",
    "#### Note:\n",
    "#### In Python2 we have long data type to represent very large integral values.\n",
    "#### But in Python3 there is no long type explicitly and we can represent long values also by using int type only.\n",
    "#### We can represent int values in the following ways\n",
    "#### 1. Decimal form\n",
    "#### 2. Binary form\n",
    "#### 3. Octal form\n",
    "#### 4. Hexa decimal form"
   ]
  },
  {
   "cell_type": "markdown",
   "metadata": {},
   "source": [
    "#### <center>1. Decimal form(base-10)</center>\n",
    "#### It is the default number system in Python\n",
    "#### The allowed digits are: 0 to 9 Eg: a =10\n",
    "\n",
    "#### <center>2. Binary form(Base-2)</center>\n",
    "#### The allowed digits are : 0 & 1\n",
    "#### Literal value should be prefixed with 0b or 0B\n",
    "#### Eg: a = 0B1111, a =0B123, a=b111\n",
    "\n",
    "#### <center>3. Octal Form(Base-8)</center>\n",
    "#### The allowed digits are : 0 to 7\n",
    "#### Literal value should be prefixed with 0o or 0O. Eg: a=0o123, a=0o786\n",
    "\n",
    "#### <center>4. Hexa Decimal Form(Base-16)</center>\n",
    "#### The allowed digits are : 0 to 9, a-f (both lower and upper cases are allowed)\n",
    "#### Literal value should be prefixed with 0x or 0X Eg: a =0XFACE, a=0XBeef ,a =0XBeer\n",
    "#### Note: Being a programmer we can specify literal values in decimal, binary, octal and hexa decimal forms. But PVM will always provide values only in decimal form.\n",
    "\n"
   ]
  },
  {
   "cell_type": "code",
   "execution_count": 5,
   "metadata": {},
   "outputs": [
    {
     "name": "stdout",
     "output_type": "stream",
     "text": [
      "10\n",
      "8\n",
      "16\n",
      "2\n"
     ]
    }
   ],
   "source": [
    "a=10 \n",
    "b=0o10 \n",
    "c=0X10\n",
    "d=0B10\n",
    "print(a)\n",
    "print(b)\n",
    "print(c)\n",
    "print(d)\n"
   ]
  },
  {
   "cell_type": "markdown",
   "metadata": {},
   "source": [
    "#### <center>Base Conversions</center>\n",
    "#### Python provide the following in-built functions for base conversions\n",
    "#### 1.bin(): We can use bin() to convert from any base to binary"
   ]
  },
  {
   "cell_type": "code",
   "execution_count": 6,
   "metadata": {},
   "outputs": [
    {
     "data": {
      "text/plain": [
       "'0b1111'"
      ]
     },
     "execution_count": 6,
     "metadata": {},
     "output_type": "execute_result"
    }
   ],
   "source": [
    "bin(15)"
   ]
  },
  {
   "cell_type": "code",
   "execution_count": 7,
   "metadata": {},
   "outputs": [
    {
     "data": {
      "text/plain": [
       "'0b1001'"
      ]
     },
     "execution_count": 7,
     "metadata": {},
     "output_type": "execute_result"
    }
   ],
   "source": [
    "bin(0o11) "
   ]
  },
  {
   "cell_type": "code",
   "execution_count": 8,
   "metadata": {},
   "outputs": [
    {
     "data": {
      "text/plain": [
       "'0b10000'"
      ]
     },
     "execution_count": 8,
     "metadata": {},
     "output_type": "execute_result"
    }
   ],
   "source": [
    "bin(0X10) "
   ]
  },
  {
   "cell_type": "markdown",
   "metadata": {},
   "source": [
    "#### 2. oct(): We can use oct() to convert from any base to octal"
   ]
  },
  {
   "cell_type": "code",
   "execution_count": 10,
   "metadata": {},
   "outputs": [
    {
     "data": {
      "text/plain": [
       "'0o12'"
      ]
     },
     "execution_count": 10,
     "metadata": {},
     "output_type": "execute_result"
    }
   ],
   "source": [
    "oct(10) "
   ]
  },
  {
   "cell_type": "code",
   "execution_count": 9,
   "metadata": {},
   "outputs": [
    {
     "data": {
      "text/plain": [
       "'0o17'"
      ]
     },
     "execution_count": 9,
     "metadata": {},
     "output_type": "execute_result"
    }
   ],
   "source": [
    "oct(0B1111)"
   ]
  },
  {
   "cell_type": "code",
   "execution_count": 11,
   "metadata": {},
   "outputs": [
    {
     "data": {
      "text/plain": [
       "'0o443'"
      ]
     },
     "execution_count": 11,
     "metadata": {},
     "output_type": "execute_result"
    }
   ],
   "source": [
    "oct(0X123) "
   ]
  },
  {
   "cell_type": "markdown",
   "metadata": {},
   "source": [
    "#### 3. hex(): We can use hex() to convert from any base to hexa decimal"
   ]
  },
  {
   "cell_type": "code",
   "execution_count": 12,
   "metadata": {},
   "outputs": [
    {
     "data": {
      "text/plain": [
       "'0x64'"
      ]
     },
     "execution_count": 12,
     "metadata": {},
     "output_type": "execute_result"
    }
   ],
   "source": [
    "hex(100) "
   ]
  },
  {
   "cell_type": "code",
   "execution_count": 13,
   "metadata": {},
   "outputs": [
    {
     "data": {
      "text/plain": [
       "'0x3f'"
      ]
     },
     "execution_count": 13,
     "metadata": {},
     "output_type": "execute_result"
    }
   ],
   "source": [
    "hex(0B111111) "
   ]
  },
  {
   "cell_type": "code",
   "execution_count": 14,
   "metadata": {},
   "outputs": [
    {
     "data": {
      "text/plain": [
       "'0x14e5'"
      ]
     },
     "execution_count": 14,
     "metadata": {},
     "output_type": "execute_result"
    }
   ],
   "source": [
    "hex(0o12345) "
   ]
  },
  {
   "cell_type": "markdown",
   "metadata": {},
   "source": [
    "#### <center>2. float data type</center>\n",
    "#### We can use float data type to represent floating point values (decimal values) Eg: f=1.234 ,type(f) float\n",
    "#### We can also represent floating point values by using exponential form (scientific notation) Eg: f=1.2e3 ,print(f) 1200.0\n",
    "#### instead of 'e' we can use 'E'\n",
    "#### The main advantage of exponential form is we can represent big values in less memory.\n",
    "#### Note : We can represent int values in decimal, binary, octal and hexa decimal forms. But we can represent float values only by using decimal form."
   ]
  },
  {
   "cell_type": "code",
   "execution_count": 15,
   "metadata": {},
   "outputs": [
    {
     "ename": "SyntaxError",
     "evalue": "invalid syntax (<ipython-input-15-912344fb3541>, line 1)",
     "output_type": "error",
     "traceback": [
      "\u001b[1;36m  File \u001b[1;32m\"<ipython-input-15-912344fb3541>\"\u001b[1;36m, line \u001b[1;32m1\u001b[0m\n\u001b[1;33m    f=0B11.01\u001b[0m\n\u001b[1;37m          ^\u001b[0m\n\u001b[1;31mSyntaxError\u001b[0m\u001b[1;31m:\u001b[0m invalid syntax\n"
     ]
    }
   ],
   "source": [
    "f=0B11.01"
   ]
  },
  {
   "cell_type": "markdown",
   "metadata": {},
   "source": [
    "#### <center>3. Complex Data Type</center>\n",
    "#### A complex number is of the form\n",
    "#### a and b contain intergers or floating point values\n",
    "#### 3+5j, 10+5.5j, 0.5+0.1j\n",
    "#### In the real part if we use int value then we can specify that either by decimal,octal,binary or hexa decimal form.\n",
    "#### But imaginary part should be specified only by using decimal form."
   ]
  },
  {
   "cell_type": "code",
   "execution_count": 17,
   "metadata": {},
   "outputs": [
    {
     "data": {
      "text/plain": [
       "(3+5j)"
      ]
     },
     "execution_count": 17,
     "metadata": {},
     "output_type": "execute_result"
    }
   ],
   "source": [
    "a=0B11+5j \n",
    "a"
   ]
  },
  {
   "cell_type": "code",
   "execution_count": 18,
   "metadata": {},
   "outputs": [
    {
     "ename": "SyntaxError",
     "evalue": "invalid syntax (<ipython-input-18-c091fefade0d>, line 1)",
     "output_type": "error",
     "traceback": [
      "\u001b[1;36m  File \u001b[1;32m\"<ipython-input-18-c091fefade0d>\"\u001b[1;36m, line \u001b[1;32m1\u001b[0m\n\u001b[1;33m    a=3+0B11j\u001b[0m\n\u001b[1;37m            ^\u001b[0m\n\u001b[1;31mSyntaxError\u001b[0m\u001b[1;31m:\u001b[0m invalid syntax\n"
     ]
    }
   ],
   "source": [
    "a=3+0B11j "
   ]
  },
  {
   "cell_type": "code",
   "execution_count": 19,
   "metadata": {},
   "outputs": [
    {
     "name": "stdout",
     "output_type": "stream",
     "text": [
      "(30+4j)\n"
     ]
    },
    {
     "data": {
      "text/plain": [
       "complex"
      ]
     },
     "execution_count": 19,
     "metadata": {},
     "output_type": "execute_result"
    }
   ],
   "source": [
    "a=10+1.5j \n",
    "b=20+2.5j \n",
    "c=a+b \n",
    "print(c) \n",
    "type(c) "
   ]
  },
  {
   "cell_type": "markdown",
   "metadata": {},
   "source": [
    "#### Note: Complex data type has some inbuilt attributes to retrieve the real part and imaginary part\n",
    "#### c=10.5+3.6j\n",
    "#### c.real==>10.5\n",
    "#### c.imag==>3.6\n",
    "#### We can use complex type generally in scientific Applications and electrical engineering Applications."
   ]
  },
  {
   "cell_type": "markdown",
   "metadata": {},
   "source": [
    "#### <center>4.bool data type</center>\n",
    "#### We can use this data type to represent boolean values.\n",
    "#### The only allowed values for this data type are: True and False\n",
    "#### Internally Python represents True as 1 and False as 0 b=True ,type(b) =>bool"
   ]
  },
  {
   "cell_type": "code",
   "execution_count": 20,
   "metadata": {},
   "outputs": [
    {
     "name": "stdout",
     "output_type": "stream",
     "text": [
      "True\n"
     ]
    }
   ],
   "source": [
    "a=10\n",
    "b=20\n",
    "c=a<b\n",
    "print(c)#==>True"
   ]
  },
  {
   "cell_type": "code",
   "execution_count": 21,
   "metadata": {},
   "outputs": [
    {
     "data": {
      "text/plain": [
       "1"
      ]
     },
     "execution_count": 21,
     "metadata": {},
     "output_type": "execute_result"
    }
   ],
   "source": [
    "True+True#==>2\n",
    "True-False#==>1"
   ]
  },
  {
   "cell_type": "markdown",
   "metadata": {},
   "source": [
    "#### <center>5. str type</center>\n",
    "#### str represents String data type.\n",
    "#### A String is a sequence of characters enclosed within single quotes or double quotes.\n",
    "#### s1='durga',s1=\"durga\"\n",
    "#### By using single quotes or double quotes we cannot represent multi line string literals. s1=\"durga"
   ]
  },
  {
   "cell_type": "markdown",
   "metadata": {},
   "source": [
    "#### For this requirement we should go for triple single quotes(''') or triple double quotes(\"\"\")\n",
    "#### s1='''durga soft'''\n",
    "#### s1=\"\"\"durga soft\"\"\"\n",
    "#### We can also use triple quotes to use single quote or double quote in our String.\n",
    "#### ''' This is \" character''', ' This i \" Character '\n",
    "#### We can embed one string in another string '''This \"Python class very helpful\" for java students'''"
   ]
  },
  {
   "cell_type": "markdown",
   "metadata": {},
   "source": [
    "#### <center>Slicing of Strings</center>\n",
    "#### slice means a piece\n",
    "#### [ ] operator is called slice operator,which can be used to retrieve parts of String.\n",
    "#### In Python Strings follows zero based index.\n",
    "#### The index can be either +ve or -ve.\n",
    "#### +ve index means forward direction from Left to Right\n",
    "#### -ve index means backward direction from Right to Left"
   ]
  },
  {
   "cell_type": "code",
   "execution_count": 2,
   "metadata": {},
   "outputs": [],
   "source": [
    "s=\"durga\" "
   ]
  },
  {
   "cell_type": "code",
   "execution_count": 23,
   "metadata": {},
   "outputs": [
    {
     "data": {
      "text/plain": [
       "'d'"
      ]
     },
     "execution_count": 23,
     "metadata": {},
     "output_type": "execute_result"
    }
   ],
   "source": [
    "s[0] "
   ]
  },
  {
   "cell_type": "code",
   "execution_count": 24,
   "metadata": {},
   "outputs": [
    {
     "data": {
      "text/plain": [
       "'u'"
      ]
     },
     "execution_count": 24,
     "metadata": {},
     "output_type": "execute_result"
    }
   ],
   "source": [
    "s[1] "
   ]
  },
  {
   "cell_type": "code",
   "execution_count": 25,
   "metadata": {},
   "outputs": [
    {
     "data": {
      "text/plain": [
       "'a'"
      ]
     },
     "execution_count": 25,
     "metadata": {},
     "output_type": "execute_result"
    }
   ],
   "source": [
    "s[-1] "
   ]
  },
  {
   "cell_type": "code",
   "execution_count": 3,
   "metadata": {},
   "outputs": [
    {
     "data": {
      "text/plain": [
       "'urga'"
      ]
     },
     "execution_count": 3,
     "metadata": {},
     "output_type": "execute_result"
    }
   ],
   "source": [
    "s[1:4111] "
   ]
  },
  {
   "cell_type": "code",
   "execution_count": 27,
   "metadata": {},
   "outputs": [
    {
     "data": {
      "text/plain": [
       "'urga'"
      ]
     },
     "execution_count": 27,
     "metadata": {},
     "output_type": "execute_result"
    }
   ],
   "source": [
    "s[1:] "
   ]
  },
  {
   "cell_type": "code",
   "execution_count": 28,
   "metadata": {},
   "outputs": [
    {
     "data": {
      "text/plain": [
       "'durg'"
      ]
     },
     "execution_count": 28,
     "metadata": {},
     "output_type": "execute_result"
    }
   ],
   "source": [
    "s[:4] "
   ]
  },
  {
   "cell_type": "code",
   "execution_count": 29,
   "metadata": {},
   "outputs": [
    {
     "data": {
      "text/plain": [
       "'durga'"
      ]
     },
     "execution_count": 29,
     "metadata": {},
     "output_type": "execute_result"
    }
   ],
   "source": [
    "s[:] "
   ]
  },
  {
   "cell_type": "code",
   "execution_count": 30,
   "metadata": {},
   "outputs": [
    {
     "data": {
      "text/plain": [
       "'durgadurgadurga'"
      ]
     },
     "execution_count": 30,
     "metadata": {},
     "output_type": "execute_result"
    }
   ],
   "source": [
    "s*3"
   ]
  },
  {
   "cell_type": "code",
   "execution_count": 31,
   "metadata": {},
   "outputs": [
    {
     "data": {
      "text/plain": [
       "5"
      ]
     },
     "execution_count": 31,
     "metadata": {},
     "output_type": "execute_result"
    }
   ],
   "source": [
    "len(s) "
   ]
  },
  {
   "cell_type": "markdown",
   "metadata": {},
   "source": [
    "#### Note:\n",
    "#### 1. In Python the following data types are considered as Fundamental Data types\n",
    "#### int, float, complex, bool, str\n",
    "#### 2. In Python,we can represent char values also by using str type and explicitly char type is not available.\n",
    "#### 3. long Data Type is available in Python2 but not in Python3. In Python3 long values also we can represent by using int type only.\n",
    "#### 4. In Python we can present char Value also by using str Type and explicitly char Type is not available. "
   ]
  },
  {
   "cell_type": "code",
   "execution_count": 32,
   "metadata": {},
   "outputs": [
    {
     "data": {
      "text/plain": [
       "str"
      ]
     },
     "execution_count": 32,
     "metadata": {},
     "output_type": "execute_result"
    }
   ],
   "source": [
    "c='a'\n",
    "type(c)\n"
   ]
  },
  {
   "cell_type": "markdown",
   "metadata": {},
   "source": [
    "#### <center>6. Type Casting</center>\n",
    "#### We can convert one type value to another type. This conversion is called Typecasting or Type coersion.\n",
    "#### The following are various inbuilt functions for type casting.\n",
    "##### 1. int()\n",
    "#### 2. float()\n",
    "#### 3. complex()\n",
    "#### 4. bool()\n",
    "#### 5. str()\n"
   ]
  },
  {
   "cell_type": "markdown",
   "metadata": {},
   "source": [
    "#### <center>1. int()</center>\n",
    "#### We can use this function to convert values from other types to int"
   ]
  },
  {
   "cell_type": "code",
   "execution_count": 33,
   "metadata": {},
   "outputs": [
    {
     "ename": "TypeError",
     "evalue": "can't convert complex to int",
     "output_type": "error",
     "traceback": [
      "\u001b[1;31m---------------------------------------------------------------------------\u001b[0m",
      "\u001b[1;31mTypeError\u001b[0m                                 Traceback (most recent call last)",
      "\u001b[1;32m<ipython-input-33-3e588505855d>\u001b[0m in \u001b[0;36m<module>\u001b[1;34m\u001b[0m\n\u001b[0;32m      1\u001b[0m \u001b[0mint\u001b[0m\u001b[1;33m(\u001b[0m\u001b[1;36m123.987\u001b[0m\u001b[1;33m)\u001b[0m\u001b[1;33m\u001b[0m\u001b[1;33m\u001b[0m\u001b[0m\n\u001b[1;32m----> 2\u001b[1;33m \u001b[0mint\u001b[0m\u001b[1;33m(\u001b[0m\u001b[1;36m10\u001b[0m\u001b[1;33m+\u001b[0m\u001b[1;36m5j\u001b[0m\u001b[1;33m)\u001b[0m\u001b[1;33m\u001b[0m\u001b[1;33m\u001b[0m\u001b[0m\n\u001b[0m\u001b[0;32m      3\u001b[0m \u001b[0mint\u001b[0m\u001b[1;33m(\u001b[0m\u001b[1;32mTrue\u001b[0m\u001b[1;33m)\u001b[0m\u001b[1;33m\u001b[0m\u001b[1;33m\u001b[0m\u001b[0m\n\u001b[0;32m      4\u001b[0m \u001b[0mint\u001b[0m\u001b[1;33m(\u001b[0m\u001b[1;32mFalse\u001b[0m\u001b[1;33m)\u001b[0m\u001b[1;33m\u001b[0m\u001b[1;33m\u001b[0m\u001b[0m\n\u001b[0;32m      5\u001b[0m \u001b[0mint\u001b[0m\u001b[1;33m(\u001b[0m\u001b[1;34m\"10\"\u001b[0m\u001b[1;33m)\u001b[0m\u001b[1;33m\u001b[0m\u001b[1;33m\u001b[0m\u001b[0m\n",
      "\u001b[1;31mTypeError\u001b[0m: can't convert complex to int"
     ]
    }
   ],
   "source": [
    "int(123.987)\n",
    "int(10+5j)\n",
    "int(True)\n",
    "int(False)\n",
    "int(\"10\")\n",
    "int(\"10.5\")\n",
    "int(\"ten\")\n",
    "int(\"0B1111\")\n"
   ]
  },
  {
   "cell_type": "markdown",
   "metadata": {},
   "source": [
    "#### Note:\n",
    "#### 1. We can convert from any type to int except complex type.\n",
    "#### 2. If we want to convert str type to int type, compulsary str should contain only integral value and should be specified in base-10"
   ]
  },
  {
   "cell_type": "markdown",
   "metadata": {},
   "source": [
    "#### <center>2. float()</center>\n",
    "#### We can use float() function to convert other type values to float type."
   ]
  },
  {
   "cell_type": "code",
   "execution_count": 34,
   "metadata": {},
   "outputs": [
    {
     "data": {
      "text/plain": [
       "10.0"
      ]
     },
     "execution_count": 34,
     "metadata": {},
     "output_type": "execute_result"
    }
   ],
   "source": [
    "float(10)"
   ]
  },
  {
   "cell_type": "code",
   "execution_count": 35,
   "metadata": {},
   "outputs": [
    {
     "ename": "TypeError",
     "evalue": "can't convert complex to float",
     "output_type": "error",
     "traceback": [
      "\u001b[1;31m---------------------------------------------------------------------------\u001b[0m",
      "\u001b[1;31mTypeError\u001b[0m                                 Traceback (most recent call last)",
      "\u001b[1;32m<ipython-input-35-d2f956539d9b>\u001b[0m in \u001b[0;36m<module>\u001b[1;34m\u001b[0m\n\u001b[1;32m----> 1\u001b[1;33m \u001b[0mfloat\u001b[0m\u001b[1;33m(\u001b[0m\u001b[1;36m10\u001b[0m\u001b[1;33m+\u001b[0m\u001b[1;36m5j\u001b[0m\u001b[1;33m)\u001b[0m\u001b[1;33m\u001b[0m\u001b[1;33m\u001b[0m\u001b[0m\n\u001b[0m",
      "\u001b[1;31mTypeError\u001b[0m: can't convert complex to float"
     ]
    }
   ],
   "source": [
    "float(10+5j)"
   ]
  },
  {
   "cell_type": "code",
   "execution_count": 36,
   "metadata": {},
   "outputs": [
    {
     "data": {
      "text/plain": [
       "1.0"
      ]
     },
     "execution_count": 36,
     "metadata": {},
     "output_type": "execute_result"
    }
   ],
   "source": [
    "float(True) "
   ]
  },
  {
   "cell_type": "code",
   "execution_count": 37,
   "metadata": {},
   "outputs": [
    {
     "data": {
      "text/plain": [
       "0.0"
      ]
     },
     "execution_count": 37,
     "metadata": {},
     "output_type": "execute_result"
    }
   ],
   "source": [
    "float(False)"
   ]
  },
  {
   "cell_type": "code",
   "execution_count": 38,
   "metadata": {},
   "outputs": [
    {
     "data": {
      "text/plain": [
       "10.0"
      ]
     },
     "execution_count": 38,
     "metadata": {},
     "output_type": "execute_result"
    }
   ],
   "source": [
    "float(\"10\")"
   ]
  },
  {
   "cell_type": "code",
   "execution_count": 39,
   "metadata": {},
   "outputs": [
    {
     "data": {
      "text/plain": [
       "10.5"
      ]
     },
     "execution_count": 39,
     "metadata": {},
     "output_type": "execute_result"
    }
   ],
   "source": [
    "float(\"10.5\") "
   ]
  },
  {
   "cell_type": "code",
   "execution_count": 40,
   "metadata": {},
   "outputs": [
    {
     "ename": "ValueError",
     "evalue": "could not convert string to float: 'ten'",
     "output_type": "error",
     "traceback": [
      "\u001b[1;31m---------------------------------------------------------------------------\u001b[0m",
      "\u001b[1;31mValueError\u001b[0m                                Traceback (most recent call last)",
      "\u001b[1;32m<ipython-input-40-6277cc9af495>\u001b[0m in \u001b[0;36m<module>\u001b[1;34m\u001b[0m\n\u001b[1;32m----> 1\u001b[1;33m \u001b[0mfloat\u001b[0m\u001b[1;33m(\u001b[0m\u001b[1;34m\"ten\"\u001b[0m\u001b[1;33m)\u001b[0m\u001b[1;33m\u001b[0m\u001b[1;33m\u001b[0m\u001b[0m\n\u001b[0m",
      "\u001b[1;31mValueError\u001b[0m: could not convert string to float: 'ten'"
     ]
    }
   ],
   "source": [
    "float(\"ten\") "
   ]
  },
  {
   "cell_type": "markdown",
   "metadata": {},
   "source": [
    "#### Note:\n",
    "#### 1. We can convert any type value to float type except complex type.\n",
    "#### 2. Whenever we are trying to convert str type to float type compulsary str should be either integral or floating point literal and should be specified only in base-10. "
   ]
  },
  {
   "cell_type": "markdown",
   "metadata": {},
   "source": [
    "#### <center>3.complex()</center>\n",
    "#### We can use complex() function to convert other types to complex type.\n",
    "#### Form-1: complex(x)\n",
    "#### We can use this function to convert x into complex number with real part x and imaginary part 0."
   ]
  },
  {
   "cell_type": "code",
   "execution_count": 7,
   "metadata": {},
   "outputs": [
    {
     "data": {
      "text/plain": [
       "(10+0j)"
      ]
     },
     "execution_count": 7,
     "metadata": {},
     "output_type": "execute_result"
    }
   ],
   "source": [
    "complex(10) #==>10+0j"
   ]
  },
  {
   "cell_type": "code",
   "execution_count": 6,
   "metadata": {},
   "outputs": [
    {
     "data": {
      "text/plain": [
       "(10.5+0j)"
      ]
     },
     "execution_count": 6,
     "metadata": {},
     "output_type": "execute_result"
    }
   ],
   "source": [
    "complex(10.5) #===>10.5+0j"
   ]
  },
  {
   "cell_type": "code",
   "execution_count": 42,
   "metadata": {},
   "outputs": [
    {
     "ename": "SyntaxError",
     "evalue": "invalid syntax (<ipython-input-42-4ce15fa49104>, line 1)",
     "output_type": "error",
     "traceback": [
      "\u001b[1;36m  File \u001b[1;32m\"<ipython-input-42-4ce15fa49104>\"\u001b[1;36m, line \u001b[1;32m1\u001b[0m\n\u001b[1;33m    complex(10)==>10+0j\u001b[0m\n\u001b[1;37m                 ^\u001b[0m\n\u001b[1;31mSyntaxError\u001b[0m\u001b[1;31m:\u001b[0m invalid syntax\n"
     ]
    }
   ],
   "source": [
    "\n",
    "\n",
    "complex(True)==>1+0j\n",
    "complex(False)==>0j\n",
    "complex(\"10\")==>10+0j\n",
    "complex(\"10.5\")==>10.5+0j\n",
    " "
   ]
  },
  {
   "cell_type": "code",
   "execution_count": 8,
   "metadata": {},
   "outputs": [
    {
     "ename": "ValueError",
     "evalue": "complex() arg is a malformed string",
     "output_type": "error",
     "traceback": [
      "\u001b[1;31m---------------------------------------------------------------------------\u001b[0m",
      "\u001b[1;31mValueError\u001b[0m                                Traceback (most recent call last)",
      "\u001b[1;32m<ipython-input-8-b7bf9859d3d9>\u001b[0m in \u001b[0;36m<module>\u001b[1;34m\u001b[0m\n\u001b[1;32m----> 1\u001b[1;33m \u001b[0mcomplex\u001b[0m\u001b[1;33m(\u001b[0m\u001b[1;34m\"ten\"\u001b[0m\u001b[1;33m)\u001b[0m\u001b[1;33m\u001b[0m\u001b[1;33m\u001b[0m\u001b[0m\n\u001b[0m",
      "\u001b[1;31mValueError\u001b[0m: complex() arg is a malformed string"
     ]
    }
   ],
   "source": [
    "complex(\"ten\")"
   ]
  },
  {
   "cell_type": "markdown",
   "metadata": {},
   "source": [
    "#### Form-2: complex(x,y)\n",
    "#### We can use this method to convert x and y into complex number such that x will be real part and y will be imaginary part.\n"
   ]
  },
  {
   "cell_type": "code",
   "execution_count": 9,
   "metadata": {},
   "outputs": [
    {
     "data": {
      "text/plain": [
       "(1+0j)"
      ]
     },
     "execution_count": 9,
     "metadata": {},
     "output_type": "execute_result"
    }
   ],
   "source": [
    "complex(10,-2)#==>10-2j\n",
    "complex(True,False)#==>1+0j\n"
   ]
  },
  {
   "cell_type": "markdown",
   "metadata": {},
   "source": [
    "#### <center>4. bool()</center>\n",
    "#### We can use this function to convert other type values to bool type.\n"
   ]
  },
  {
   "cell_type": "code",
   "execution_count": 44,
   "metadata": {},
   "outputs": [
    {
     "data": {
      "text/plain": [
       "False"
      ]
     },
     "execution_count": 44,
     "metadata": {},
     "output_type": "execute_result"
    }
   ],
   "source": [
    "bool(0)#==>False\n",
    "bool(1)#==>True\n",
    "bool(10)#===>True\n",
    "bool(10.5)#===>True\n",
    "bool(0.178)#==>True\n",
    "bool(0.0)#==>False\n",
    "bool(10-2j)#==>True\n",
    "bool(0+1.5j)#==>True\n",
    "bool(0+0j)#==>False\n",
    "bool(\"True\")#==>True\n",
    "bool(\"False\")#==>True\n",
    "bool(\"\")#==>False "
   ]
  },
  {
   "cell_type": "code",
   "execution_count": 12,
   "metadata": {},
   "outputs": [
    {
     "data": {
      "text/plain": [
       "False"
      ]
     },
     "execution_count": 12,
     "metadata": {},
     "output_type": "execute_result"
    }
   ],
   "source": [
    "bool('')"
   ]
  }
 ],
 "metadata": {
  "kernelspec": {
   "display_name": "Python 3",
   "language": "python",
   "name": "python3"
  },
  "language_info": {
   "codemirror_mode": {
    "name": "ipython",
    "version": 3
   },
   "file_extension": ".py",
   "mimetype": "text/x-python",
   "name": "python",
   "nbconvert_exporter": "python",
   "pygments_lexer": "ipython3",
   "version": "3.8.5"
  }
 },
 "nbformat": 4,
 "nbformat_minor": 4
}
