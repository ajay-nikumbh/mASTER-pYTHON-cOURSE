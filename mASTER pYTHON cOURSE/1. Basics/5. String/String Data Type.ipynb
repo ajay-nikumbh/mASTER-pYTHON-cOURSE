{
 "cells": [
  {
   "cell_type": "markdown",
   "metadata": {},
   "source": [
    "### <center>String Data Type</center>"
   ]
  },
  {
   "cell_type": "markdown",
   "metadata": {},
   "source": [
    "#### The most commonly used object in any project and in any programming language is String only.\n",
    "#### Hence we should aware complete information about String data type.\n",
    "#### <center>1. What is String?</center>\n",
    "#### Any sequence of characters within either single quotes or double quotes is considered as a String.\n",
    "#### Syntax: s='durga' ,s=\"durga\"\n",
    "#### Note: In most of other languges like C, C++,Java, a single character with in single quotes is treated as char data type value. \n",
    "#### But in Python we are not having char data type. Hence it is treated as String only.\n"
   ]
  },
  {
   "cell_type": "code",
   "execution_count": 1,
   "metadata": {},
   "outputs": [
    {
     "data": {
      "text/plain": [
       "str"
      ]
     },
     "execution_count": 1,
     "metadata": {},
     "output_type": "execute_result"
    }
   ],
   "source": [
    "\n",
    "ch='a'\n",
    "type(ch)\n"
   ]
  },
  {
   "cell_type": "markdown",
   "metadata": {},
   "source": [
    "#### <center>2. How to define multi-line String literals</center>\n",
    "#### We can define multi-line String literals by using triple single or double quotes."
   ]
  },
  {
   "cell_type": "code",
   "execution_count": 3,
   "metadata": {},
   "outputs": [
    {
     "data": {
      "text/plain": [
       "'durga\\nsoftware\\nsolutions'"
      ]
     },
     "execution_count": 3,
     "metadata": {},
     "output_type": "execute_result"
    }
   ],
   "source": [
    "s='''durga\n",
    "software\n",
    "solutions'''\n",
    "s"
   ]
  },
  {
   "cell_type": "markdown",
   "metadata": {},
   "source": [
    "#### We can also use triple quotes to use single quotes or double quotes as symbol inside String literal."
   ]
  },
  {
   "cell_type": "markdown",
   "metadata": {},
   "source": [
    "#### Eg:\n",
    "#### s='This is ' single quote symbol' ==>invalid\n",
    "#### s='This is \\' single quote symbol' ==>valid\n",
    "#### s=\"This is ' single quote symbol\"====>valid\n",
    "#### s='This is \" double quotes symbol' ==>valid\n",
    "#### s='The \"Python Notes\" by 'durga' is very helpful' ==>invalid\n",
    "#### s=\"The \"Python Notes\" by 'durga' is very helpful\"==>invalid\n",
    "#### s='The \\\"Python Notes\\\" by \\'durga\\' is very helpful' ==>valid\n",
    "#### s='''The \"Python Notes\" by 'durga' is very helpful''' ==>valid"
   ]
  },
  {
   "cell_type": "markdown",
   "metadata": {},
   "source": [
    "#### <center>3. How to access characters of a String</center>\n",
    "#### We can access characters of a string by using the following ways.\n",
    "#### 1. By using index\n",
    "#### 2. By using slice operator"
   ]
  },
  {
   "cell_type": "markdown",
   "metadata": {},
   "source": [
    "#### <center>1. By using index</center>\n",
    "#### Python supports both +ve and -ve index.\n",
    "#### 1. +ve index means left to right(Forward direction)\n",
    "#### 2. -ve index means right to left(Backward direction)\n"
   ]
  },
  {
   "cell_type": "code",
   "execution_count": 4,
   "metadata": {},
   "outputs": [
    {
     "data": {
      "text/plain": [
       "'durga'"
      ]
     },
     "execution_count": 4,
     "metadata": {},
     "output_type": "execute_result"
    }
   ],
   "source": [
    "s='durga'\n",
    "s"
   ]
  },
  {
   "cell_type": "code",
   "execution_count": 5,
   "metadata": {},
   "outputs": [
    {
     "data": {
      "text/plain": [
       "'d'"
      ]
     },
     "execution_count": 5,
     "metadata": {},
     "output_type": "execute_result"
    }
   ],
   "source": [
    "s[0]"
   ]
  },
  {
   "cell_type": "code",
   "execution_count": 6,
   "metadata": {},
   "outputs": [
    {
     "data": {
      "text/plain": [
       "'a'"
      ]
     },
     "execution_count": 6,
     "metadata": {},
     "output_type": "execute_result"
    }
   ],
   "source": [
    "s[4]"
   ]
  },
  {
   "cell_type": "code",
   "execution_count": 7,
   "metadata": {},
   "outputs": [
    {
     "data": {
      "text/plain": [
       "'a'"
      ]
     },
     "execution_count": 7,
     "metadata": {},
     "output_type": "execute_result"
    }
   ],
   "source": [
    "s[-1]"
   ]
  },
  {
   "cell_type": "code",
   "execution_count": 8,
   "metadata": {},
   "outputs": [
    {
     "ename": "IndexError",
     "evalue": "string index out of range",
     "output_type": "error",
     "traceback": [
      "\u001b[1;31m---------------------------------------------------------------------------\u001b[0m",
      "\u001b[1;31mIndexError\u001b[0m                                Traceback (most recent call last)",
      "\u001b[1;32m<ipython-input-8-34c622ab6870>\u001b[0m in \u001b[0;36m<module>\u001b[1;34m\u001b[0m\n\u001b[1;32m----> 1\u001b[1;33m \u001b[0ms\u001b[0m\u001b[1;33m[\u001b[0m\u001b[1;36m10\u001b[0m\u001b[1;33m]\u001b[0m\u001b[1;33m\u001b[0m\u001b[1;33m\u001b[0m\u001b[0m\n\u001b[0m",
      "\u001b[1;31mIndexError\u001b[0m: string index out of range"
     ]
    }
   ],
   "source": [
    "s[10]"
   ]
  },
  {
   "cell_type": "markdown",
   "metadata": {},
   "source": [
    "#### Note: If we are trying to access characters of a string with out of range index then we will get error saying : IndexError"
   ]
  },
  {
   "cell_type": "markdown",
   "metadata": {},
   "source": [
    "#### <center>Q. Write a program to accept some string from the keyboard and display its characters by index wise(both positive and nEgative index)</center>"
   ]
  },
  {
   "cell_type": "code",
   "execution_count": 9,
   "metadata": {},
   "outputs": [
    {
     "name": "stdout",
     "output_type": "stream",
     "text": [
      "Enter Some String:ajay\n",
      "The character present at positive index 0 and at nEgative index -4 is a\n",
      "The character present at positive index 1 and at nEgative index -3 is j\n",
      "The character present at positive index 2 and at nEgative index -2 is a\n",
      "The character present at positive index 3 and at nEgative index -1 is y\n"
     ]
    }
   ],
   "source": [
    "s=input(\"Enter Some String:\")\n",
    "i=0\n",
    "for x in s:\n",
    "    print(\"The character present at positive index {} and at nEgative index {} is {}\".format(i,i\n",
    "                                                                                        -len(s),x))\n",
    "    i=i+1 "
   ]
  },
  {
   "cell_type": "markdown",
   "metadata": {},
   "source": [
    "#### <center>2. Accessing characters by using slice operator</center>\n",
    "#### Syntax: s[bEginindex:endindex:step]\n",
    "#### bEginindex:From where we have to consider slice(substring)\n",
    "#### endindex: We have to terminate the slice(substring) at endindex-1\n",
    "#### step: incremented value\n",
    "#### Note: If we are not specifying bEgin index then it will consider from bEginning of the string.\n",
    "#### If we are not specifying end index then it will consider up to end of the string\n",
    "#### The default value for step is 1"
   ]
  },
  {
   "cell_type": "code",
   "execution_count": 11,
   "metadata": {},
   "outputs": [
    {
     "data": {
      "text/plain": [
       "'Learning Python is very very easy!!!'"
      ]
     },
     "execution_count": 11,
     "metadata": {},
     "output_type": "execute_result"
    }
   ],
   "source": [
    "s=\"Learning Python is very very easy!!!\" \n",
    "s"
   ]
  },
  {
   "cell_type": "code",
   "execution_count": 12,
   "metadata": {},
   "outputs": [
    {
     "data": {
      "text/plain": [
       "'earnin'"
      ]
     },
     "execution_count": 12,
     "metadata": {},
     "output_type": "execute_result"
    }
   ],
   "source": [
    "s[1:7:1] "
   ]
  },
  {
   "cell_type": "code",
   "execution_count": 13,
   "metadata": {},
   "outputs": [
    {
     "data": {
      "text/plain": [
       "'earnin'"
      ]
     },
     "execution_count": 13,
     "metadata": {},
     "output_type": "execute_result"
    }
   ],
   "source": [
    "s[1:7] "
   ]
  },
  {
   "cell_type": "code",
   "execution_count": 14,
   "metadata": {},
   "outputs": [
    {
     "data": {
      "text/plain": [
       "'eri'"
      ]
     },
     "execution_count": 14,
     "metadata": {},
     "output_type": "execute_result"
    }
   ],
   "source": [
    "s[1:7:2] "
   ]
  },
  {
   "cell_type": "code",
   "execution_count": 15,
   "metadata": {},
   "outputs": [
    {
     "data": {
      "text/plain": [
       "'Learnin'"
      ]
     },
     "execution_count": 15,
     "metadata": {},
     "output_type": "execute_result"
    }
   ],
   "source": [
    "s[:7] "
   ]
  },
  {
   "cell_type": "code",
   "execution_count": 16,
   "metadata": {},
   "outputs": [
    {
     "data": {
      "text/plain": [
       "'g Python is very very easy!!!'"
      ]
     },
     "execution_count": 16,
     "metadata": {},
     "output_type": "execute_result"
    }
   ],
   "source": [
    "s[7:]"
   ]
  },
  {
   "cell_type": "code",
   "execution_count": 18,
   "metadata": {},
   "outputs": [
    {
     "data": {
      "text/plain": [
       "'Learning Python is very very easy!!!'"
      ]
     },
     "execution_count": 18,
     "metadata": {},
     "output_type": "execute_result"
    }
   ],
   "source": [
    "s[::] "
   ]
  },
  {
   "cell_type": "code",
   "execution_count": 19,
   "metadata": {},
   "outputs": [
    {
     "data": {
      "text/plain": [
       "'Learning Python is very very easy!!!'"
      ]
     },
     "execution_count": 19,
     "metadata": {},
     "output_type": "execute_result"
    }
   ],
   "source": [
    "s[:] "
   ]
  },
  {
   "cell_type": "code",
   "execution_count": 20,
   "metadata": {},
   "outputs": [
    {
     "data": {
      "text/plain": [
       "'!!!ysae yrev yrev si nohtyP gninraeL'"
      ]
     },
     "execution_count": 20,
     "metadata": {},
     "output_type": "execute_result"
    }
   ],
   "source": [
    " s[::-1]"
   ]
  },
  {
   "cell_type": "markdown",
   "metadata": {},
   "source": [
    "#### <center>Behaviour of slice operator>?</center>\n",
    "#### s[bEgin:end:step]\n",
    "#### step value can be either +ve or –ve\n",
    "#### if +ve then it should be forward direction(left to right) and we have to consider bEgin to end-1\n",
    "#### if -ve then it should be backward direction(right to left) and we have to consider bEgin to end+1"
   ]
  },
  {
   "cell_type": "markdown",
   "metadata": {},
   "source": [
    "#### ***Note:\n",
    "#### In the backward direction if end value is -1 then result is always empty.\n",
    "#### In the forward direction if end value is 0 then result is always empty.\n",
    "#### <center>In forward direction</center>\n",
    "#### default value for bEgin: 0\n",
    "#### default value for end: length of string\n",
    "#### default value for step: +1\n",
    "#### <center>In backward direction</center>\n",
    "#### default value for bEgin: -1\n",
    "#### default value for end: -(length of string+1)\n",
    "#### Note: Either forward or backward direction, we can take both +ve and -ve values for bEgin and end index."
   ]
  },
  {
   "cell_type": "markdown",
   "metadata": {},
   "source": [
    "#### <center>4. Mathematical Operators for String</center>\n",
    "#### We can apply the following mathematical operators for Strings.\n",
    "#### 1. + operator for concatenation\n",
    "#### 2. * operator for repetition\n",
    "#### Note:\n",
    "#### 1. To use + operator for Strings, compulsory both arguments should be str type\n",
    "#### 2. To use * operator for Strings, compulsory one argument should be str and other argument should be int"
   ]
  },
  {
   "cell_type": "code",
   "execution_count": 21,
   "metadata": {},
   "outputs": [
    {
     "name": "stdout",
     "output_type": "stream",
     "text": [
      "durgasoft\n",
      "durgadurga\n"
     ]
    }
   ],
   "source": [
    "print(\"durga\"+\"soft\") #durgasoft\n",
    "print(\"durga\"*2) #durgadurga\n"
   ]
  },
  {
   "cell_type": "code",
   "execution_count": null,
   "metadata": {},
   "outputs": [],
   "source": [
    "#### <center>5. len() in-built function</center>\n",
    "#### We can use len() function to find the number of characters present in the string.\n"
   ]
  },
  {
   "cell_type": "code",
   "execution_count": 22,
   "metadata": {},
   "outputs": [
    {
     "name": "stdout",
     "output_type": "stream",
     "text": [
      "5\n"
     ]
    }
   ],
   "source": [
    "s='durga'\n",
    "print(len(s)) #5"
   ]
  },
  {
   "cell_type": "markdown",
   "metadata": {},
   "source": [
    "#### <center>Q. Write a program to access each character of string in forward and backward direction by using while loop?</center>"
   ]
  },
  {
   "cell_type": "code",
   "execution_count": 29,
   "metadata": {},
   "outputs": [
    {
     "name": "stdout",
     "output_type": "stream",
     "text": [
      "Forward direction=\n",
      "\n",
      "L e a r n i n g   P y t h o n   i s   v e r y   e a s y   ! ! ! \n",
      "\n",
      "Backward direction\n",
      "\n",
      "! ! !   y s a e   y r e v   s i   n o h t y P   g n i n r a e L "
     ]
    }
   ],
   "source": [
    "s=\"Learning Python is very easy !!!\"\n",
    "\n",
    "n=len(s)\n",
    "i=0\n",
    "print(\"Forward direction\")\n",
    "print()\n",
    "while i<n:\n",
    "    print(s[i],end=' ')\n",
    "    i +=1\n",
    "print()\n",
    "print()\n",
    "print(\"Backward direction\")\n",
    "\n",
    "print()\n",
    "i=-1\n",
    "\n",
    "while i>=-n:\n",
    "    print(s[i],end=' ')\n",
    "    i=i-1"
   ]
  },
  {
   "cell_type": "code",
   "execution_count": 30,
   "metadata": {},
   "outputs": [
    {
     "name": "stdout",
     "output_type": "stream",
     "text": [
      "Forward direction\n",
      "L e a r n i n g   P y t h o n   i s   v e r y   e a s y   ! ! ! Forward direction\n",
      "L e a r n i n g   P y t h o n   i s   v e r y   e a s y   ! ! ! Backward direction\n",
      "! ! !   y s a e   y r e v   s i   n o h t y P   g n i n r a e L "
     ]
    }
   ],
   "source": [
    "s=\"Learning Python is very easy !!!\"\n",
    "print(\"Forward direction\")\n",
    "\n",
    "for i in s:\n",
    "    print(i,end=' ')\n",
    "\n",
    "print(\"Forward direction\")\n",
    "\n",
    "for i in s[::]:\n",
    "    print(i,end=' ')\n",
    "\n",
    "print(\"Backward direction\")\n",
    "\n",
    "for i in s[::-1]:\n",
    "    print(i,end=' ') "
   ]
  },
  {
   "cell_type": "markdown",
   "metadata": {},
   "source": [
    "#### <center>5. Checking Membership</center>\n",
    "#### We can check whether the character or string is the member of another string or not by using in and not in operators\n"
   ]
  },
  {
   "cell_type": "code",
   "execution_count": 31,
   "metadata": {},
   "outputs": [
    {
     "name": "stdout",
     "output_type": "stream",
     "text": [
      "True\n",
      "False\n"
     ]
    }
   ],
   "source": [
    "s='durga'\n",
    "print('d' in s) #True\n",
    "print('z' in s) #False"
   ]
  },
  {
   "cell_type": "code",
   "execution_count": 32,
   "metadata": {},
   "outputs": [
    {
     "name": "stdout",
     "output_type": "stream",
     "text": [
      "Enter main string:ajay\n",
      "Enter sub string:ja\n",
      "ja is found in main string\n"
     ]
    }
   ],
   "source": [
    "s=input(\"Enter main string:\")\n",
    "subs=input(\"Enter sub string:\")\n",
    "\n",
    "if subs in s:\n",
    "    print(subs,\"is found in main string\")\n",
    "\n",
    "else: \n",
    "    print(subs,\"is not found in main string\") "
   ]
  },
  {
   "cell_type": "markdown",
   "metadata": {},
   "source": [
    "#### <center>6. Comparison of Strings</center>\n",
    "#### We can use comparison operators (<,<=,>,>=) and equality operators(==,!=) for strings.\n",
    "#### Comparison will be performed based on alphabetical order."
   ]
  },
  {
   "cell_type": "code",
   "execution_count": 33,
   "metadata": {},
   "outputs": [
    {
     "name": "stdout",
     "output_type": "stream",
     "text": [
      "Enter first string:ajay\n",
      "Enter Second string:ajay\n",
      "Both strings are equal\n"
     ]
    }
   ],
   "source": [
    "s1=input(\"Enter first string:\")\n",
    "s2=input(\"Enter Second string:\")\n",
    "\n",
    "if s1==s2:\n",
    "    print(\"Both strings are equal\")\n",
    "\n",
    "elif s1<s2:\n",
    "    print(\"First String is less than Second String\")\n",
    "    \n",
    "else:\n",
    "    print(\"First String is greater than Second String\") "
   ]
  },
  {
   "cell_type": "markdown",
   "metadata": {},
   "source": [
    "#### <center>7. Removing spaces from the string</center>\n",
    "#### We can use the following 3 methods\n",
    "#### 1. rstrip()===>To remove spaces at right hand side\n",
    "#### 2. lstrip()===>To remove spaces at left hand side\n",
    "#### 3. strip() ==>To remove spaces both sides"
   ]
  },
  {
   "cell_type": "code",
   "execution_count": 34,
   "metadata": {},
   "outputs": [
    {
     "name": "stdout",
     "output_type": "stream",
     "text": [
      "Enter your city Name:mumbai\n",
      "your entered city is invalid\n"
     ]
    }
   ],
   "source": [
    "city=input(\"Enter your city Name:\")\n",
    "scity=city.strip()\n",
    "\n",
    "if scity=='Hyderabad':\n",
    "    print(\"Hello Hyderbadi..Adab\")\n",
    "\n",
    "elif scity=='Chennai':\n",
    "    print(\"Hello Madrasi...Vanakkam\")\n",
    "\n",
    "elif scity==\"Bangalore\":\n",
    "    print(\"Hello Kannadiga...Shubhodaya\")\n",
    "\n",
    "else:\n",
    "    print(\"your entered city is invalid\") "
   ]
  },
  {
   "cell_type": "markdown",
   "metadata": {},
   "source": [
    "#### <center>8. Finding Substrings</center>\n",
    "#### We can use the following 4 methods\n",
    "#### For forward direction: find(), index()\n",
    "#### For backward direction: rfind(),rindex()"
   ]
  },
  {
   "cell_type": "markdown",
   "metadata": {},
   "source": [
    "#### <center>1. find()</center>\n",
    "#### s.find(substring): Returns index of first occurrence of the given substring. If it is not available then we will get -1\n"
   ]
  },
  {
   "cell_type": "code",
   "execution_count": 35,
   "metadata": {},
   "outputs": [
    {
     "name": "stdout",
     "output_type": "stream",
     "text": [
      "9\n",
      "-1\n",
      "3\n",
      "21\n"
     ]
    }
   ],
   "source": [
    "s=\"Learning Python is very easy\"\n",
    "\n",
    "print(s.find(\"Python\")) #9\n",
    "print(s.find(\"Java\")) # -1\n",
    "print(s.find(\"r\"))#3\n",
    "print(s.rfind(\"r\"))#21 "
   ]
  },
  {
   "cell_type": "markdown",
   "metadata": {},
   "source": [
    "#### Note: By default find() method can search total string. We can also specify the boundaries to search.\n",
    "#### s.find(substring,bEgin,end)\n",
    "#### It will always search from bEgin index to end-1 index"
   ]
  },
  {
   "cell_type": "code",
   "execution_count": 36,
   "metadata": {},
   "outputs": [
    {
     "name": "stdout",
     "output_type": "stream",
     "text": [
      "4\n",
      "10\n",
      "-1\n"
     ]
    }
   ],
   "source": [
    "s=\"durgaravipavanshiva\"\n",
    "\n",
    "print(s.find('a'))#4\n",
    "print(s.find('a',7,15))#10\n",
    "print(s.find('z',7,15))#-1 "
   ]
  },
  {
   "cell_type": "markdown",
   "metadata": {},
   "source": [
    "#### <center>2. index() method</center>\n",
    "#### index() method is exactly same as find() method except that if the specified substring is not available then we will get ValueError."
   ]
  },
  {
   "cell_type": "code",
   "execution_count": 37,
   "metadata": {},
   "outputs": [
    {
     "name": "stdout",
     "output_type": "stream",
     "text": [
      "Enter main string:ajay\n",
      "Enter sub string:ja\n",
      "substring found\n"
     ]
    }
   ],
   "source": [
    "s=input(\"Enter main string:\")\n",
    "subs=input(\"Enter sub string:\")\n",
    "\n",
    "try:\n",
    "    n=s.index(subs)\n",
    "\n",
    "except ValueError:\n",
    "    print(\"substring not found\")\n",
    "\n",
    "else:\n",
    "    print(\"substring found\") "
   ]
  },
  {
   "cell_type": "markdown",
   "metadata": {},
   "source": [
    "#### <center>Q. Program to display all positions of substring in a given main string</center>"
   ]
  },
  {
   "cell_type": "code",
   "execution_count": 38,
   "metadata": {},
   "outputs": [
    {
     "name": "stdout",
     "output_type": "stream",
     "text": [
      "Enter main string:ajay\n",
      "Enter sub string:vijay\n",
      "Not Found\n"
     ]
    }
   ],
   "source": [
    "s=input(\"Enter main string:\")\n",
    "subs=input(\"Enter sub string:\")\n",
    "flag=False\n",
    "pos=-1\n",
    "n=len(s)\n",
    "\n",
    "while True:\n",
    "    pos=s.find(subs,pos+1,n)\n",
    "    if pos==-1:\n",
    "        break\n",
    "    print(\"Found at position\",pos)\n",
    "    flag=True\n",
    "\n",
    "if flag==False:\n",
    "    print(\"Not Found\") "
   ]
  },
  {
   "cell_type": "markdown",
   "metadata": {},
   "source": [
    "#### <center>9. Counting substring in the given String</center>\n",
    "#### We can find the number of occurrences of substring present in the given string by using count() method.\n",
    "#### 1. s.count(substring) ==> It will search through out the string\n",
    "#### 2. s.count(substring, bEgin, end) ===> It will search from bEgin index to end-1 index"
   ]
  },
  {
   "cell_type": "code",
   "execution_count": 39,
   "metadata": {},
   "outputs": [
    {
     "name": "stdout",
     "output_type": "stream",
     "text": [
      "6\n",
      "4\n",
      "2\n"
     ]
    }
   ],
   "source": [
    "s=\"abcabcabcabcadda\"\n",
    "\n",
    "print(s.count('a'))\n",
    "print(s.count('ab'))\n",
    "print(s.count('a',3,7))"
   ]
  },
  {
   "cell_type": "markdown",
   "metadata": {},
   "source": [
    "#### <center>10. Replacing a string with another string</center>\n",
    "#### s.replace(oldstring,newstring): inside s, every occurrence of oldstring will be replaced with newstring."
   ]
  },
  {
   "cell_type": "code",
   "execution_count": 40,
   "metadata": {},
   "outputs": [
    {
     "name": "stdout",
     "output_type": "stream",
     "text": [
      "Learning Python is very easy\n"
     ]
    }
   ],
   "source": [
    "s=\"Learning Python is very difficult\"\n",
    "s1=s.replace(\"difficult\",\"easy\")\n",
    "print(s1)"
   ]
  },
  {
   "cell_type": "code",
   "execution_count": 41,
   "metadata": {},
   "outputs": [
    {
     "name": "stdout",
     "output_type": "stream",
     "text": [
      "bbbbbbbbbbbbbb\n"
     ]
    }
   ],
   "source": [
    "s=\"ababababababab\"\n",
    "s1=s.replace(\"a\",\"b\")\n",
    "print(s1)"
   ]
  },
  {
   "cell_type": "markdown",
   "metadata": {},
   "source": [
    "#### <center>Q. String objects are immutable then how we can change the content by using replace() method.</center>\n",
    "#### Once we creates string object, we cannot change the content.This non changeable behaviour is nothing but immutability. \n",
    "#### If we are trying to change the content by using any method, then with those changes a new object will be created and changes won't be happend in existing object.\n",
    "#### Hence with replace() method also a new object got created but existing object won't be changed."
   ]
  },
  {
   "cell_type": "code",
   "execution_count": 42,
   "metadata": {},
   "outputs": [
    {
     "name": "stdout",
     "output_type": "stream",
     "text": [
      "abab is available at : 2384713848304\n",
      "bbbb is available at : 2384713846832\n"
     ]
    }
   ],
   "source": [
    "s=\"abab\"\n",
    "s1=s.replace(\"a\",\"b\")\n",
    "print(s,\"is available at :\",id(s))\n",
    "print(s1,\"is available at :\",id(s1))"
   ]
  },
  {
   "cell_type": "markdown",
   "metadata": {},
   "source": [
    "#### In the above example, original object is available and we can see new object which was created because of replace() method.\n"
   ]
  },
  {
   "cell_type": "markdown",
   "metadata": {},
   "source": [
    "#### <center>11. Splitting of Strings</center>\n",
    "#### We can split the given string according to specified seperator by using split() method.\n",
    "#### l=s.split(seperator)\n",
    "#### The default seperator is space. The return type of split() method is List"
   ]
  },
  {
   "cell_type": "code",
   "execution_count": 43,
   "metadata": {},
   "outputs": [
    {
     "name": "stdout",
     "output_type": "stream",
     "text": [
      "durga\n",
      "software\n",
      "solutions\n"
     ]
    }
   ],
   "source": [
    "s=\"durga software solutions\"\n",
    "l=s.split()\n",
    "for x in l:\n",
    "    print(x) "
   ]
  },
  {
   "cell_type": "code",
   "execution_count": 44,
   "metadata": {},
   "outputs": [
    {
     "name": "stdout",
     "output_type": "stream",
     "text": [
      "22\n",
      "02\n",
      "2018\n"
     ]
    }
   ],
   "source": [
    "s=\"22-02-2018\"\n",
    "\n",
    "l=s.split('-')\n",
    "for x in l:\n",
    "    print(x) "
   ]
  },
  {
   "cell_type": "markdown",
   "metadata": {},
   "source": [
    "#### <center>12. Joining of Strings</center>\n",
    "#### We can join a group of strings(list or tuple) wrt the given seperator.\n",
    "#### s=seperator.join(group of strings)"
   ]
  },
  {
   "cell_type": "code",
   "execution_count": 45,
   "metadata": {},
   "outputs": [
    {
     "name": "stdout",
     "output_type": "stream",
     "text": [
      "sunny-bunny-chinny\n"
     ]
    }
   ],
   "source": [
    "t=('sunny','bunny','chinny')\n",
    "s='-'.join(t)\n",
    "print(s)"
   ]
  },
  {
   "cell_type": "code",
   "execution_count": 46,
   "metadata": {},
   "outputs": [
    {
     "name": "stdout",
     "output_type": "stream",
     "text": [
      "hyderabad:singapore:london:dubai\n"
     ]
    }
   ],
   "source": [
    "l=['hyderabad','singapore','london','dubai']\n",
    "s=':'.join(l)\n",
    "print(s)"
   ]
  },
  {
   "cell_type": "markdown",
   "metadata": {},
   "source": [
    "#### <center>13. Changing case of a String</center>\n",
    "#### We can change case of a string by using the following 4 methods.\n",
    "#### 1. upper()===>To convert all characters to upper case\n",
    "#### 2. lower() ===>To convert all characters to lower case\n",
    "#### 3. swapcase()===>converts all lower case characters to upper case and all upper case characters to lower case\n",
    "#### 4. title() ===>To convert all character to title case. i.e first character in every word should be upper case and all remaining characters should be in lower case.\n",
    "#### 5. capitalize() ==>Only first character will be converted to upper case and all remaining characters can be converted to lower case "
   ]
  },
  {
   "cell_type": "code",
   "execution_count": 47,
   "metadata": {},
   "outputs": [
    {
     "name": "stdout",
     "output_type": "stream",
     "text": [
      "LEARNING PYTHON IS VERY EASY\n",
      "learning python is very easy\n",
      "LEARNING pYTHON IS VERY eASY\n",
      "Learning Python Is Very Easy\n",
      "Learning python is very easy\n"
     ]
    }
   ],
   "source": [
    "s='learning Python is very Easy'\n",
    "print(s.upper())\n",
    "print(s.lower())\n",
    "print(s.swapcase())\n",
    "print(s.title())\n",
    "print(s.capitalize())"
   ]
  },
  {
   "cell_type": "markdown",
   "metadata": {},
   "source": [
    "#### <center>14. Checking starting and ending part of the string</center>\n",
    "#### Python contains the following methods for this purpose\n",
    "#### 1. s.startswith(substring)\n",
    "#### 2. s.endswith(substring)"
   ]
  },
  {
   "cell_type": "code",
   "execution_count": 48,
   "metadata": {},
   "outputs": [
    {
     "name": "stdout",
     "output_type": "stream",
     "text": [
      "True\n",
      "False\n",
      "True\n"
     ]
    }
   ],
   "source": [
    "s='learning Python is very easy'\n",
    "print(s.startswith('learning'))\n",
    "print(s.endswith('learning'))\n",
    "print(s.endswith('easy'))"
   ]
  },
  {
   "cell_type": "markdown",
   "metadata": {},
   "source": [
    "#### <center>15. To check type of characters present in a string</center>\n",
    "#### Python contains the following methods for this purpose.\n",
    "#### 1) isalnum(): Returns True if all characters are alphanumeric( a to z , A to Z ,0 to9 )\n",
    "#### 2) isalpha(): Returns True if all characters are only alphabet symbols(a to z,A to Z)\n",
    "#### 3) isdigit(): Returns True if all characters are digits only( 0 to 9)\n",
    "#### 4) islower(): Returns True if all characters are lower case alphabet symbols\n",
    "#### 5) isupper(): Returns True if all characters are upper case aplhabet symbols\n",
    "#### 6) istitle(): Returns True if string is in title case\n",
    "#### 7) isspace(): Returns True if string contains only spaces"
   ]
  },
  {
   "cell_type": "code",
   "execution_count": 49,
   "metadata": {},
   "outputs": [
    {
     "name": "stdout",
     "output_type": "stream",
     "text": [
      "True\n",
      "False\n",
      "True\n",
      "False\n",
      "True\n",
      "True\n",
      "False\n",
      "True\n",
      "True\n",
      "False\n",
      "True\n",
      "True\n"
     ]
    }
   ],
   "source": [
    "print('Durga786'.isalnum()) #True\n",
    "print('durga786'.isalpha()) #False\n",
    "print('durga'.isalpha()) #True\n",
    "print('durga'.isdigit()) #False\n",
    "print('786786'.isdigit()) #True\n",
    "print('abc'.islower()) #True\n",
    "print('Abc'.islower()) #False\n",
    "print('abc123'.islower()) #True\n",
    "print('ABC'.isupper()) #True\n",
    "print('Learning python is Easy'.istitle()) #False\n",
    "print('Learning Python Is Easy'.istitle()) #True\n",
    "print(' '.isspace()) #True"
   ]
  },
  {
   "cell_type": "code",
   "execution_count": 50,
   "metadata": {},
   "outputs": [
    {
     "ename": "SyntaxError",
     "evalue": "invalid syntax (<ipython-input-50-95e6d2f7c5bf>, line 16)",
     "output_type": "error",
     "traceback": [
      "\u001b[1;36m  File \u001b[1;32m\"<ipython-input-50-95e6d2f7c5bf>\"\u001b[1;36m, line \u001b[1;32m16\u001b[0m\n\u001b[1;33m    else:\u001b[0m\n\u001b[1;37m    ^\u001b[0m\n\u001b[1;31mSyntaxError\u001b[0m\u001b[1;31m:\u001b[0m invalid syntax\n"
     ]
    }
   ],
   "source": [
    "s=input(\"Enter any character:\")\n",
    "\n",
    "\n",
    "if s.isalnum():\n",
    "    print(\"Alpha Numeric Character\")\n",
    "\n",
    "if s.isalpha():\n",
    "        print(\"Alphabet character\")\n",
    "\n",
    "if s.islower():\n",
    "    print(\"Lower case alphabet character\")\n",
    "\n",
    "else:\n",
    "    print(\"Upper case alphabet character\")\n",
    "else:\n",
    "    print(\"it is a digit\")\n",
    "\n",
    "elif s.isspace():\n",
    "        print(\"It is space character\")\n",
    "\n",
    "else:\n",
    "    print(\"Non Space Special Character\")"
   ]
  },
  {
   "cell_type": "markdown",
   "metadata": {},
   "source": [
    "#### <center>16. Formatting the Strings</center>\n",
    "#### We can format the strings with variable values by using replacement operator {} and format() method.\n"
   ]
  },
  {
   "cell_type": "code",
   "execution_count": 51,
   "metadata": {},
   "outputs": [
    {
     "name": "stdout",
     "output_type": "stream",
     "text": [
      "durga 's salary is 10000 and his age is 48\n",
      "durga 's salary is 10000 and his age is 48\n",
      "durga 's salary is 10000 and his age is 48\n"
     ]
    }
   ],
   "source": [
    "name='durga'\n",
    "salary=10000\n",
    "age=48\n",
    "print(\"{} 's salary is {} and his age is {}\".format(name,salary,age))\n",
    "print(\"{0} 's salary is {1} and his age is {2}\".format(name,salary,age))\n",
    "print(\"{x} 's salary is {y} and his age is {z}\".format(z=age,y=salary,x=name))"
   ]
  },
  {
   "cell_type": "markdown",
   "metadata": {},
   "source": [
    "#### <center>17. Important Programs REgarding String Concept</center>"
   ]
  },
  {
   "cell_type": "markdown",
   "metadata": {},
   "source": [
    "#### Q1. Write a program to reverse the given String"
   ]
  },
  {
   "cell_type": "code",
   "execution_count": 52,
   "metadata": {},
   "outputs": [
    {
     "name": "stdout",
     "output_type": "stream",
     "text": [
      "Enter Some String:ajay\n",
      "yaja\n"
     ]
    }
   ],
   "source": [
    "s=input(\"Enter Some String:\")\n",
    "print(s[::-1])"
   ]
  },
  {
   "cell_type": "code",
   "execution_count": 53,
   "metadata": {},
   "outputs": [
    {
     "name": "stdout",
     "output_type": "stream",
     "text": [
      "Enter Some String:ajay\n",
      "yaja\n"
     ]
    }
   ],
   "source": [
    "s=input(\"Enter Some String:\")\n",
    "print(''.join(reversed(s)))"
   ]
  },
  {
   "cell_type": "code",
   "execution_count": 54,
   "metadata": {},
   "outputs": [
    {
     "name": "stdout",
     "output_type": "stream",
     "text": [
      "Enter Some String:ajay\n",
      "yaja\n"
     ]
    }
   ],
   "source": [
    "s=input(\"Enter Some String:\")\n",
    "i=len(s)-1\n",
    "target=''\n",
    "\n",
    "while i>=0:\n",
    "    target=target+s[i]\n",
    "    i=i-1\n",
    "print(target)"
   ]
  },
  {
   "cell_type": "markdown",
   "metadata": {},
   "source": [
    "#### Q2. Program to reverse order of words.\n"
   ]
  },
  {
   "cell_type": "code",
   "execution_count": 56,
   "metadata": {},
   "outputs": [
    {
     "name": "stdout",
     "output_type": "stream",
     "text": [
      "Enter Some String:Learning Python is very Easy\n",
      "Easy very is Python Learning\n"
     ]
    }
   ],
   "source": [
    "s=input(\"Enter Some String:\")\n",
    "l=s.split()\n",
    "l1=[]\n",
    "i=len(l)-1\n",
    "while i>=0:\n",
    "    l1.append(l[i])\n",
    "    i=i-1\n",
    "output=' '.join(l1)\n",
    "print(output) "
   ]
  },
  {
   "cell_type": "markdown",
   "metadata": {},
   "source": [
    "#### Q3. Program to reverse internal content of each word."
   ]
  },
  {
   "cell_type": "code",
   "execution_count": 57,
   "metadata": {},
   "outputs": [
    {
     "name": "stdout",
     "output_type": "stream",
     "text": [
      "Enter Some String:Durga Software Solutions\n",
      "agruD erawtfoS snoituloS\n"
     ]
    }
   ],
   "source": [
    "s=input(\"Enter Some String:\")\n",
    "l=s.split()\n",
    "l1=[]\n",
    "i=0\n",
    "while i<len(l):\n",
    "    l1.append(l[i][::-1])\n",
    "    i=i+1\n",
    "output=' '.join(l1)\n",
    "print(output) "
   ]
  },
  {
   "cell_type": "markdown",
   "metadata": {},
   "source": [
    "#### Q4. Write a program to print characters at odd position and even position for the given String?"
   ]
  },
  {
   "cell_type": "code",
   "execution_count": 58,
   "metadata": {},
   "outputs": [
    {
     "name": "stdout",
     "output_type": "stream",
     "text": [
      "Enter Some String:ajay sanjay\n",
      "Characters at Even Position: aa ajy\n",
      "Characters at Odd Position: jysna\n"
     ]
    }
   ],
   "source": [
    "s=input(\"Enter Some String:\")\n",
    "print(\"Characters at Even Position:\",s[0::2])\n",
    "print(\"Characters at Odd Position:\",s[1::2])"
   ]
  },
  {
   "cell_type": "code",
   "execution_count": 59,
   "metadata": {},
   "outputs": [
    {
     "name": "stdout",
     "output_type": "stream",
     "text": [
      "Enter Some String:ajay sanjay\n",
      "Characters at Even Position:\n",
      "a,a, ,a,j,y,\n",
      "Characters at Odd Position:\n",
      "j,y,s,n,a,"
     ]
    }
   ],
   "source": [
    "s=input(\"Enter Some String:\")\n",
    "i=0\n",
    "print(\"Characters at Even Position:\")\n",
    "while i< len(s):\n",
    "    print(s[i],end=',')\n",
    "    i=i+2\n",
    "print()\n",
    "print(\"Characters at Odd Position:\")\n",
    "i=1\n",
    "\n",
    "while i< len(s):\n",
    "    print(s[i],end=',')\n",
    "    i=i+2 "
   ]
  },
  {
   "cell_type": "markdown",
   "metadata": {},
   "source": [
    "#### Q5. Program to merge characters of 2 strings into a single string by taking characters alternatively."
   ]
  },
  {
   "cell_type": "code",
   "execution_count": 60,
   "metadata": {},
   "outputs": [
    {
     "name": "stdout",
     "output_type": "stream",
     "text": [
      "Enter First String:ajay\n",
      "Enter Second String:sanjay\n",
      "asjaanyjay\n"
     ]
    }
   ],
   "source": [
    "s1=input(\"Enter First String:\")\n",
    "s2=input(\"Enter Second String:\")\n",
    "output=''\n",
    "i,j=0,0\n",
    "while i<len(s1) or j<len(s2):\n",
    "    if i<len(s1):\n",
    "        output=output+s1[i]\n",
    "    i+=1\n",
    "    \n",
    "    if j<len(s2):\n",
    "        output=output+s2[j]\n",
    "    j+=1\n",
    "print(output)"
   ]
  },
  {
   "cell_type": "markdown",
   "metadata": {},
   "source": [
    "#### Q6. Write a program to sort the characters of the string and first alphabet symbols followed by numeric values\n"
   ]
  },
  {
   "cell_type": "code",
   "execution_count": 61,
   "metadata": {},
   "outputs": [
    {
     "name": "stdout",
     "output_type": "stream",
     "text": [
      "Enter Some String:ajay\n",
      "aajy\n"
     ]
    }
   ],
   "source": [
    "s=input(\"Enter Some String:\")\n",
    "s1=s2=output=''\n",
    "\n",
    "for x in s:\n",
    "    if x.isalpha():\n",
    "        s1=s1+x\n",
    "    else:\n",
    "        s2=s2+x\n",
    "for x in sorted(s1):\n",
    "    output=output+x\n",
    "\n",
    "for x in sorted(s2):\n",
    "    output=output+x\n",
    "print(output) "
   ]
  },
  {
   "cell_type": "markdown",
   "metadata": {},
   "source": [
    "#### Q7. Write a program for the following requirement "
   ]
  },
  {
   "cell_type": "code",
   "execution_count": 63,
   "metadata": {},
   "outputs": [
    {
     "name": "stdout",
     "output_type": "stream",
     "text": [
      "Enter Some String:a4b3c2\n",
      "aaaabbbcc\n"
     ]
    }
   ],
   "source": [
    "s=input(\"Enter Some String:\")\n",
    "output=''\n",
    "for x in s:\n",
    "    if x.isalpha():\n",
    "        output=output+x\n",
    "        previous=x \n",
    "    else:\n",
    "        output=output+previous*(int(x)-1)\n",
    "print(output)"
   ]
  },
  {
   "cell_type": "markdown",
   "metadata": {},
   "source": [
    "#### Note:\n",
    "#### chr(unicode)===>The corresponding character\n",
    "#### ord(character)===>The corresponding unicode value"
   ]
  },
  {
   "cell_type": "markdown",
   "metadata": {},
   "source": [
    "#### Q8. Write a program to perform the following activity"
   ]
  },
  {
   "cell_type": "code",
   "execution_count": 64,
   "metadata": {},
   "outputs": [
    {
     "name": "stdout",
     "output_type": "stream",
     "text": [
      "Enter Some String:a4k3b2\n",
      "aeknbd\n"
     ]
    }
   ],
   "source": [
    "s=input(\"Enter Some String:\")\n",
    "output=''\n",
    "for x in s:\n",
    "    if x.isalpha():\n",
    "        output=output+x\n",
    "        previous=x\n",
    "    else:\n",
    "        output=output+chr(ord(previous)+int(x))\n",
    "\n",
    "print(output)"
   ]
  },
  {
   "cell_type": "markdown",
   "metadata": {},
   "source": [
    "#### Q9. Write a program to remove duplicate characters from the given input string?"
   ]
  },
  {
   "cell_type": "code",
   "execution_count": 65,
   "metadata": {},
   "outputs": [
    {
     "name": "stdout",
     "output_type": "stream",
     "text": [
      "Enter Some String:ABCDABBCDABBBCCCDDEEEF\n",
      "ABCDEF\n"
     ]
    }
   ],
   "source": [
    "s=input(\"Enter Some String:\")\n",
    "l=[]\n",
    "for x in s:\n",
    "    if x not in l:\n",
    "        l.append(x)\n",
    "        output=''.join(l)\n",
    "\n",
    "print(output) "
   ]
  },
  {
   "cell_type": "markdown",
   "metadata": {},
   "source": [
    "#### Q10. Write a program to find the number of occurrences of each character present in the given String?"
   ]
  },
  {
   "cell_type": "code",
   "execution_count": 67,
   "metadata": {},
   "outputs": [
    {
     "name": "stdout",
     "output_type": "stream",
     "text": [
      "Enter the Some String:ABCABCABBCDE\n",
      "A = 3 Times\n",
      "B = 4 Times\n",
      "C = 3 Times\n",
      "D = 1 Times\n",
      "E = 1 Times\n"
     ]
    }
   ],
   "source": [
    "s=input(\"Enter the Some String:\")\n",
    "d={}\n",
    "for x in s:\n",
    "    if x in d.keys():\n",
    "        d[x]=d[x]+1\n",
    "    else:\n",
    "        d[x]=1 \n",
    "for k,v in d.items():\n",
    "    print(\"{} = {} Times\".format(k,v))"
   ]
  },
  {
   "cell_type": "markdown",
   "metadata": {},
   "source": [
    "#### <center>18. Formatting the Strings</center>\n",
    "#### We can format the strings with variable values by using replacement operator {} and format() method.\n",
    "#### The main objective of format() method to format string into meaningful output form.\n",
    "#### <center>Case- 1: Basic Formatting for default, positional and keyword arguments</center>"
   ]
  },
  {
   "cell_type": "code",
   "execution_count": 68,
   "metadata": {},
   "outputs": [
    {
     "name": "stdout",
     "output_type": "stream",
     "text": [
      "durga 's salary is 10000 and his age is 48\n",
      "durga 's salary is 10000 and his age is 48\n",
      "durga 's salary is 10000 and his age is 48\n"
     ]
    }
   ],
   "source": [
    "name='durga'\n",
    "salary=10000\n",
    "age=48\n",
    "print(\"{} 's salary is {} and his age is {}\".format(name,salary,age))\n",
    "print(\"{0} 's salary is {1} and his age is {2}\".format(name,salary,age))\n",
    "print(\"{x} 's salary is {y} and his age is {z}\".format(z=age,y=salary,x=name))\n"
   ]
  },
  {
   "cell_type": "markdown",
   "metadata": {},
   "source": [
    "#### <center>Case-2: Formatting Numbers</center>\n",
    "#### d--->Decimal IntEger\n",
    "#### f----->Fixed point number(float).The default precision is 6\n",
    "#### b-->Binary format\n",
    "#### o--->Octal Format\n",
    "#### x-->Hexa Decimal Format(Lower case)\n",
    "#### X-->Hexa Decimal Format(Upper case)"
   ]
  },
  {
   "cell_type": "code",
   "execution_count": 69,
   "metadata": {},
   "outputs": [
    {
     "name": "stdout",
     "output_type": "stream",
     "text": [
      "The intEger number is: 123\n",
      "The intEger number is: 123\n",
      "The intEger number is:   123\n",
      "The intEger number is: 00123\n"
     ]
    }
   ],
   "source": [
    "print(\"The intEger number is: {}\".format(123))\n",
    "print(\"The intEger number is: {:d}\".format(123))\n",
    "print(\"The intEger number is: {:5d}\".format(123))\n",
    "print(\"The intEger number is: {:05d}\".format(123))"
   ]
  },
  {
   "cell_type": "code",
   "execution_count": 70,
   "metadata": {},
   "outputs": [
    {
     "name": "stdout",
     "output_type": "stream",
     "text": [
      "The float number is: 123.4567\n",
      "The float number is: 123.456700\n",
      "The float number is:  123.457\n",
      "The float number is: 0123.457\n",
      "The float number is: 0123.450\n",
      "The float number is: 786786123.450\n"
     ]
    }
   ],
   "source": [
    "print(\"The float number is: {}\".format(123.4567))\n",
    "print(\"The float number is: {:f}\".format(123.4567))\n",
    "print(\"The float number is: {:8.3f}\".format(123.4567))\n",
    "print(\"The float number is: {:08.3f}\".format(123.4567))\n",
    "print(\"The float number is: {:08.3f}\".format(123.45))\n",
    "print(\"The float number is: {:08.3f}\".format(786786123.45))"
   ]
  },
  {
   "cell_type": "markdown",
   "metadata": {},
   "source": [
    "#### Note: {:08.3f}\n",
    "#### Total positions should be minimum 8.\n",
    "#### After decimal point exactly 3 digits are allowed.If it is less then 0s will be placed in the last positions\n",
    "#### If total number is < 8 positions then 0 will be placed in MSBs\n",
    "#### If total number is >8 positions then all intEgral digits will be considered.\n",
    "#### The extra digits we can take only 0\n",
    "#### Note: For numbers default alignment is Right Alignment(>)"
   ]
  },
  {
   "cell_type": "code",
   "execution_count": 71,
   "metadata": {},
   "outputs": [
    {
     "name": "stdout",
     "output_type": "stream",
     "text": [
      "Binary Form:10011001\n",
      "Octal Form:231\n",
      "Hexa decimal Form:9a\n",
      "Hexa decimal Form:9A\n"
     ]
    }
   ],
   "source": [
    "print(\"Binary Form:{0:b}\".format(153))\n",
    "print(\"Octal Form:{0:o}\".format(153))\n",
    "print(\"Hexa decimal Form:{0:x}\".format(154))\n",
    "print(\"Hexa decimal Form:{0:X}\".format(154))"
   ]
  },
  {
   "cell_type": "markdown",
   "metadata": {},
   "source": [
    "#### Note: We can represent only int values in binary, octal and hexadecimal and it is not possible for float values.\n",
    "#### Note: {:5d} It takes an intEger argument and assigns a minimum width of 5.\n",
    "#### {:8.3f} It takes a float argument and assigns a minimum width of 8 including \".\" and after decimal point excatly 3 digits are allowed with round operation if required\n",
    "#### {:05d} The blank places can be filled with 0. In this place only 0 allowed."
   ]
  },
  {
   "cell_type": "markdown",
   "metadata": {},
   "source": [
    "#### <center>Case-3: Number formatting for signed numbers</center>\n",
    "#### While displaying positive numbers,if we want to include + then we have to write {:+d} and {:+f}\n",
    "#### Using plus for -ve numbers there is no use and for -ve numbers - sign will come automatically.\n"
   ]
  },
  {
   "cell_type": "code",
   "execution_count": 72,
   "metadata": {},
   "outputs": [
    {
     "name": "stdout",
     "output_type": "stream",
     "text": [
      "int value with sign:+123\n",
      "int value with sign:-123\n",
      "float value with sign:+123.456000\n",
      "float value with sign:-123.456000\n"
     ]
    }
   ],
   "source": [
    "print(\"int value with sign:{:+d}\".format(123))\n",
    "print(\"int value with sign:{:+d}\".format(-123))\n",
    "print(\"float value with sign:{:+f}\".format(123.456))\n",
    "print(\"float value with sign:{:+f}\".format(-123.456))\n"
   ]
  },
  {
   "cell_type": "markdown",
   "metadata": {},
   "source": [
    "#### <center>Case-4: Number formatting with alignment</center>\n",
    "#### <,>,^ and = are used for alignment\n",
    "#### <==>Left Alignment to the remaining space\n",
    "#### ^===>Center alignment to the remaining space\n",
    "#### >===> Right alignment to the remaining space\n",
    "#### = ===>Forces the signed(+) (-) to the left most position\n",
    "#### Note: Default Alignment for numbers is Right Alignment."
   ]
  },
  {
   "cell_type": "code",
   "execution_count": 73,
   "metadata": {},
   "outputs": [
    {
     "name": "stdout",
     "output_type": "stream",
     "text": [
      "   12\n",
      "12   \n",
      "12000\n",
      "   12\n",
      "00012\n",
      " 12  \n",
      "-  12\n",
      "  12.235  \n",
      "- 12.235\n"
     ]
    }
   ],
   "source": [
    "print(\"{:5d}\".format(12))\n",
    "print(\"{:<5d}\".format(12))\n",
    "print(\"{:<05d}\".format(12))\n",
    "print(\"{:>5d}\".format(12))\n",
    "print(\"{:>05d}\".format(12))\n",
    "print(\"{:^5d}\".format(12))\n",
    "print(\"{:=5d}\".format(-12))\n",
    "print(\"{:^10.3f}\".format(12.23456))\n",
    "print(\"{:=8.3f}\".format(-12.23456)) "
   ]
  },
  {
   "cell_type": "markdown",
   "metadata": {},
   "source": [
    "#### <center>Case-5: String formatting with format()</center>\n",
    "#### Similar to numbers, we can format String values also with format() method.\n",
    "#### s.format(string)"
   ]
  },
  {
   "cell_type": "code",
   "execution_count": 74,
   "metadata": {},
   "outputs": [
    {
     "name": "stdout",
     "output_type": "stream",
     "text": [
      "   12\n",
      "rat  \n",
      "  rat\n",
      "rat  \n",
      " rat \n",
      "*rat*\n"
     ]
    }
   ],
   "source": [
    "print(\"{:5d}\".format(12))\n",
    "print(\"{:5}\".format(\"rat\"))\n",
    "print(\"{:>5}\".format(\"rat\"))\n",
    "print(\"{:<5}\".format(\"rat\"))\n",
    "print(\"{:^5}\".format(\"rat\"))\n",
    "print(\"{:*^5}\".format(\"rat\")) #Instead of * we can use any character(like +,$,a etc) "
   ]
  },
  {
   "cell_type": "markdown",
   "metadata": {},
   "source": [
    "#### Note: For numbers default alignment is right where as for strings default alignment is left"
   ]
  },
  {
   "cell_type": "markdown",
   "metadata": {},
   "source": [
    "#### <center>Case-6: Truncating Strings with format() method</center>"
   ]
  },
  {
   "cell_type": "code",
   "execution_count": 75,
   "metadata": {
    "scrolled": true
   },
   "outputs": [
    {
     "name": "stdout",
     "output_type": "stream",
     "text": [
      "dur\n",
      "dur  \n",
      "  dur\n",
      " dur \n",
      "*dur*\n"
     ]
    }
   ],
   "source": [
    "print(\"{:.3}\".format(\"durgasoftware\"))\n",
    "print(\"{:5.3}\".format(\"durgasoftware\"))\n",
    "print(\"{:>5.3}\".format(\"durgasoftware\"))\n",
    "print(\"{:^5.3}\".format(\"durgasoftware\"))\n",
    "print(\"{:*^5.3}\".format(\"durgasoftware\")) "
   ]
  },
  {
   "cell_type": "markdown",
   "metadata": {},
   "source": [
    "#### <center>Case-7: Formatting dictionary members using format()</center>"
   ]
  },
  {
   "cell_type": "code",
   "execution_count": 76,
   "metadata": {},
   "outputs": [
    {
     "name": "stdout",
     "output_type": "stream",
     "text": [
      "durga's age is: 48\n"
     ]
    }
   ],
   "source": [
    "person={'age':48,'name':'durga'}\n",
    "print(\"{p[name]}'s age is: {p[age]}\".format(p=person)) "
   ]
  },
  {
   "cell_type": "markdown",
   "metadata": {},
   "source": [
    "#### More convinient way is to use **person"
   ]
  },
  {
   "cell_type": "code",
   "execution_count": 77,
   "metadata": {},
   "outputs": [
    {
     "name": "stdout",
     "output_type": "stream",
     "text": [
      "durga's age is: 48\n"
     ]
    }
   ],
   "source": [
    "person={'age':48,'name':'durga'}\n",
    "print(\"{name}'s age is: {age}\".format(**person)) "
   ]
  },
  {
   "cell_type": "markdown",
   "metadata": {},
   "source": [
    "#### <center>Case-8: Formatting class members using format()</center>"
   ]
  },
  {
   "cell_type": "code",
   "execution_count": 78,
   "metadata": {},
   "outputs": [
    {
     "name": "stdout",
     "output_type": "stream",
     "text": [
      "durga's age is :48\n"
     ]
    }
   ],
   "source": [
    "class Person:\n",
    "    age=48\n",
    "    name=\"durga\"\n",
    "print(\"{p.name}'s age is :{p.age}\".format(p=Person()))"
   ]
  },
  {
   "cell_type": "code",
   "execution_count": 79,
   "metadata": {},
   "outputs": [
    {
     "name": "stdout",
     "output_type": "stream",
     "text": [
      "durga's age is :48\n"
     ]
    }
   ],
   "source": [
    "class Person:\n",
    "    def __init__(self,name,age):\n",
    "        self.name=name\n",
    "        self.age=age\n",
    "print(\"{p.name}'s age is :{p.age}\".format(p=Person('durga',48)))"
   ]
  },
  {
   "cell_type": "markdown",
   "metadata": {},
   "source": [
    "#### Note: Here Person object is passed as keyword argument. We can access by using its reference variable in the template string"
   ]
  },
  {
   "cell_type": "markdown",
   "metadata": {},
   "source": [
    "#### <center>Case-9: Dynamic Formatting using format()</center>"
   ]
  },
  {
   "cell_type": "code",
   "execution_count": 80,
   "metadata": {},
   "outputs": [
    {
     "name": "stdout",
     "output_type": "stream",
     "text": [
      "*cat*\n",
      "*cat**\n",
      "cat***\n",
      "***cat\n"
     ]
    }
   ],
   "source": [
    "string=\"{:{fill}{align}{width}}\"\n",
    "print(string.format('cat',fill='*',align='^',width=5))\n",
    "print(string.format('cat',fill='*',align='^',width=6))\n",
    "print(string.format('cat',fill='*',align='<',width=6))\n",
    "print(string.format('cat',fill='*',align='>',width=6)) "
   ]
  },
  {
   "cell_type": "markdown",
   "metadata": {},
   "source": [
    "#### <center>Case-10: Dynamic Float format template</center>"
   ]
  },
  {
   "cell_type": "code",
   "execution_count": 81,
   "metadata": {},
   "outputs": [
    {
     "name": "stdout",
     "output_type": "stream",
     "text": [
      "123.24  \n",
      "  123.24\n"
     ]
    }
   ],
   "source": [
    "num=\"{:{align}{width}.{precision}f}\"\n",
    "print(num.format(123.236,align='<',width=8,precision=2))\n",
    "print(num.format(123.236,align='>',width=8,precision=2)) "
   ]
  },
  {
   "cell_type": "markdown",
   "metadata": {},
   "source": [
    "#### <center>Case-11: Formatting Date values</center>"
   ]
  },
  {
   "cell_type": "code",
   "execution_count": 82,
   "metadata": {},
   "outputs": [
    {
     "name": "stdout",
     "output_type": "stream",
     "text": [
      "It's now:19/06/2021 18:32:18\n"
     ]
    }
   ],
   "source": [
    "import datetime\n",
    "#datetime formatting\n",
    "date=datetime.datetime.now()\n",
    "print(\"It's now:{:%d/%m/%Y %H:%M:%S}\".format(date)) "
   ]
  },
  {
   "cell_type": "markdown",
   "metadata": {},
   "source": [
    "#### <center>Case-12: Formatting complex numbers</center>"
   ]
  },
  {
   "cell_type": "code",
   "execution_count": 83,
   "metadata": {},
   "outputs": [
    {
     "name": "stdout",
     "output_type": "stream",
     "text": [
      "Real Part:1.0 and Imaginary Part:2.0\n"
     ]
    }
   ],
   "source": [
    "complexNumber=1+2j\n",
    "print(\"Real Part:{0.real} and Imaginary Part:{0.imag}\".format(complexNumber)) "
   ]
  }
 ],
 "metadata": {
  "kernelspec": {
   "display_name": "Python 3",
   "language": "python",
   "name": "python3"
  },
  "language_info": {
   "codemirror_mode": {
    "name": "ipython",
    "version": 3
   },
   "file_extension": ".py",
   "mimetype": "text/x-python",
   "name": "python",
   "nbconvert_exporter": "python",
   "pygments_lexer": "ipython3",
   "version": "3.8.5"
  }
 },
 "nbformat": 4,
 "nbformat_minor": 4
}
