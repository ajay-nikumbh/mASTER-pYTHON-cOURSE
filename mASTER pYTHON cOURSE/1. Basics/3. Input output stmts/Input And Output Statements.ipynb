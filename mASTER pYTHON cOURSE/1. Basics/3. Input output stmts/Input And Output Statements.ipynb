{
 "cells": [
  {
   "cell_type": "markdown",
   "metadata": {},
   "source": [
    "####  <center>Reading input from keyboard</center>\n"
   ]
  },
  {
   "cell_type": "markdown",
   "metadata": {},
   "source": [
    "#### Reading dynamic input from the keyboard:\n",
    "#### In Python 2 the following 2 functions are available to read dynamic input from the keyboard.\n",
    "#### 1. raw_input()\n",
    "#### 2. input()"
   ]
  },
  {
   "cell_type": "markdown",
   "metadata": {},
   "source": [
    "####  <center>1. raw_input()</center>\n",
    "#### This function always reads the data from the keyboard in the form of String Format. \n",
    "#### We have to convert that string type to our required type by using the corresponding type casting methods."
   ]
  },
  {
   "cell_type": "code",
   "execution_count": 13,
   "metadata": {},
   "outputs": [
    {
     "ename": "NameError",
     "evalue": "name 'raw_input' is not defined",
     "output_type": "error",
     "traceback": [
      "\u001b[1;31m---------------------------------------------------------------------------\u001b[0m",
      "\u001b[1;31mNameError\u001b[0m                                 Traceback (most recent call last)",
      "\u001b[1;32m<ipython-input-13-9ce0bf49af57>\u001b[0m in \u001b[0;36m<module>\u001b[1;34m\u001b[0m\n\u001b[1;32m----> 1\u001b[1;33m \u001b[0mx\u001b[0m\u001b[1;33m=\u001b[0m \u001b[0mraw_input\u001b[0m\u001b[1;33m(\u001b[0m\u001b[1;34m\"enter the value\"\u001b[0m\u001b[1;33m)\u001b[0m\u001b[1;33m\u001b[0m\u001b[1;33m\u001b[0m\u001b[0m\n\u001b[0m\u001b[0;32m      2\u001b[0m \u001b[0mprint\u001b[0m\u001b[1;33m(\u001b[0m\u001b[0mtype\u001b[0m\u001b[1;33m(\u001b[0m\u001b[0mx\u001b[0m\u001b[1;33m)\u001b[0m\u001b[1;33m)\u001b[0m\u001b[1;33m\u001b[0m\u001b[1;33m\u001b[0m\u001b[0m\n",
      "\u001b[1;31mNameError\u001b[0m: name 'raw_input' is not defined"
     ]
    }
   ],
   "source": [
    "x= raw_input(\"enter the value\")\n",
    "print(type(x))"
   ]
  },
  {
   "cell_type": "markdown",
   "metadata": {},
   "source": [
    "#### <center>2. input()</center>\n",
    "#### input() function can be used to read data directly in our required format.\n",
    "#### We are not required to perform type casting.\n"
   ]
  },
  {
   "cell_type": "code",
   "execution_count": 2,
   "metadata": {},
   "outputs": [
    {
     "name": "stdout",
     "output_type": "stream",
     "text": [
      "enter the value10\n",
      "<class 'str'>\n"
     ]
    }
   ],
   "source": [
    "x= input(\"enter the value\")\n",
    "print(type(x))"
   ]
  },
  {
   "cell_type": "markdown",
   "metadata": {},
   "source": [
    "#### ***Note: But in Python 3 we have only input() method and raw_input() method is not available.\n",
    "#### Python3 input() function behaviour exactly same as raw_input() method of Python2. i.e every input value is treated as str type only.\n",
    "#### raw_input() function of Python 2 is renamed as input() function in Python3"
   ]
  },
  {
   "cell_type": "markdown",
   "metadata": {},
   "source": [
    "#### <center>Q1. Write a program to read 2 numbers from the keyboard and print sum.</center>"
   ]
  },
  {
   "cell_type": "code",
   "execution_count": 14,
   "metadata": {},
   "outputs": [
    {
     "name": "stdout",
     "output_type": "stream",
     "text": [
      "Enter the first number22\n",
      "Enter the 2nd number333333\n",
      "Sum is : 333355\n"
     ]
    }
   ],
   "source": [
    "x= input(\"Enter the first number\")\n",
    "y= input(\"Enter the 2nd number\")\n",
    "\n",
    "i=int(x)\n",
    "j=int(y)\n",
    "\n",
    "print(\"Sum is :\" ,i+j)\n"
   ]
  },
  {
   "cell_type": "markdown",
   "metadata": {},
   "source": [
    "#### Smallest code : same line type casting is done"
   ]
  },
  {
   "cell_type": "code",
   "execution_count": 4,
   "metadata": {},
   "outputs": [
    {
     "name": "stdout",
     "output_type": "stream",
     "text": [
      "Enter the first number10\n",
      "Enter the 2nd number20\n",
      "Sum is : 30\n"
     ]
    }
   ],
   "source": [
    "\n",
    "\n",
    "x= int(input(\"Enter the first number\"))\n",
    "y= int(input(\"Enter the 2nd number\"))\n",
    "print(\"Sum is :\" ,i+j)"
   ]
  },
  {
   "cell_type": "markdown",
   "metadata": {},
   "source": [
    "#### More simplest code : but not recommended approach"
   ]
  },
  {
   "cell_type": "code",
   "execution_count": 2,
   "metadata": {},
   "outputs": [
    {
     "name": "stdout",
     "output_type": "stream",
     "text": [
      "Enter the first val:10\n",
      "Enter the second val:20\n",
      "The sum : 30\n"
     ]
    }
   ],
   "source": [
    "print(\"The sum :\" ,int(input(\"Enter the first val:\"))+ int(input(\"Enter the second val:\")))"
   ]
  },
  {
   "cell_type": "markdown",
   "metadata": {},
   "source": [
    "#### <center>Q2. Write a program to read Employee data from the keyboard and print that data.</center>"
   ]
  },
  {
   "cell_type": "code",
   "execution_count": 3,
   "metadata": {},
   "outputs": [
    {
     "name": "stdout",
     "output_type": "stream",
     "text": [
      "Enter Employee No:1\n",
      "Enter Employee Name:Durga\n",
      "Enter Employee Salary:45000\n",
      "Enter Employee Address:Hydb\n",
      "Employee Married ?[True|False]:True\n",
      "Please Confirm Information\n",
      "Employee No : 1\n",
      "Employee Name : Durga\n",
      "Employee Salary : 45000.0\n",
      "Employee Address : Hydb\n",
      "Employee Married ? : True\n"
     ]
    }
   ],
   "source": [
    "eno=int(input(\"Enter Employee No:\"))\n",
    "ename=input(\"Enter Employee Name:\")\n",
    "esal=float(input(\"Enter Employee Salary:\"))\n",
    "eaddr=input(\"Enter Employee Address:\")\n",
    "married=bool(input(\"Employee Married ?[True|False]:\"))\n",
    "print()\n",
    "print(\"Please Confirm Information\")\n",
    "print(\"Employee No :\",eno)\n",
    "print(\"Employee Name :\",ename)\n",
    "print(\"Employee Salary :\",esal)\n",
    "print(\"Employee Address :\",eaddr)\n",
    "print(\"Employee Married ? :\",married) "
   ]
  },
  {
   "cell_type": "markdown",
   "metadata": {},
   "source": [
    "#### <center>3. How to read multiple values from the keyboard in a single line</center>"
   ]
  },
  {
   "cell_type": "code",
   "execution_count": 5,
   "metadata": {},
   "outputs": [
    {
     "name": "stdout",
     "output_type": "stream",
     "text": [
      "Enter 2 numbers :2 4\n",
      "Product is : 8\n"
     ]
    }
   ],
   "source": [
    "a,b= [int(x) for x in input(\"Enter 2 numbers :\").split()]\n",
    "print(\"Product is :\", a*b) "
   ]
  },
  {
   "cell_type": "markdown",
   "metadata": {},
   "source": [
    "#### Note: split() function can take space as seperator by default .But we can pass anything as seperator."
   ]
  },
  {
   "cell_type": "markdown",
   "metadata": {},
   "source": [
    "#### <center>Q1. Write a program to read 3 float numbers from the keyboard with , seperator and print their sum.</center>"
   ]
  },
  {
   "cell_type": "code",
   "execution_count": 8,
   "metadata": {},
   "outputs": [
    {
     "name": "stdout",
     "output_type": "stream",
     "text": [
      "Enter 3 float numbers :2.0,3.0,4.0\n",
      "The Sum is : 9.0\n"
     ]
    }
   ],
   "source": [
    "a,b,c= [float(x) for x in input(\"Enter 3 float numbers :\").split(',')]\n",
    "print(\"The Sum is :\", a+b+c) "
   ]
  },
  {
   "cell_type": "markdown",
   "metadata": {},
   "source": [
    "#### <center>4.Use of eval() function</center>"
   ]
  },
  {
   "cell_type": "markdown",
   "metadata": {},
   "source": [
    "#### eval Function take a String and evaluate the Result.\n"
   ]
  },
  {
   "cell_type": "code",
   "execution_count": 10,
   "metadata": {},
   "outputs": [
    {
     "name": "stdout",
     "output_type": "stream",
     "text": [
      "60\n"
     ]
    }
   ],
   "source": [
    "x = eval(\"10+20+30\")\n",
    "print(x)"
   ]
  },
  {
   "cell_type": "code",
   "execution_count": 14,
   "metadata": {},
   "outputs": [
    {
     "name": "stdout",
     "output_type": "stream",
     "text": [
      "Enter Expression19+3*7-17\n",
      "23\n"
     ]
    }
   ],
   "source": [
    "x = eval(input(\"Enter Expression\"))\n",
    "print(x)"
   ]
  },
  {
   "cell_type": "markdown",
   "metadata": {},
   "source": [
    "#### Note: eval() can evaluate the Input to list, tuple, set, etc based the provided Input."
   ]
  },
  {
   "cell_type": "code",
   "execution_count": 16,
   "metadata": {},
   "outputs": [
    {
     "name": "stdout",
     "output_type": "stream",
     "text": [
      "Enter List12\n",
      "<class 'int'>\n",
      "12\n"
     ]
    }
   ],
   "source": [
    "l = eval(input(\"Enter List\"))\n",
    "\n",
    "print (type(l))\n",
    "print(l)"
   ]
  },
  {
   "cell_type": "markdown",
   "metadata": {},
   "source": [
    "#### <center>5. Reading Multiple values from keyboard in a single line</center>"
   ]
  },
  {
   "cell_type": "markdown",
   "metadata": {},
   "source": [
    "#### Using list comphrension split() function can take space as a seperator by default but we can use anything as a seperator"
   ]
  },
  {
   "cell_type": "code",
   "execution_count": 7,
   "metadata": {},
   "outputs": [
    {
     "name": "stdout",
     "output_type": "stream",
     "text": [
      "Enter the 2 numbers:10 20\n",
      "200\n"
     ]
    }
   ],
   "source": [
    "a,b =[int (x) for x in input(\"Enter the 2 numbers:\"). split()]\n",
    "print(a*b)"
   ]
  },
  {
   "cell_type": "code",
   "execution_count": 12,
   "metadata": {},
   "outputs": [
    {
     "name": "stdout",
     "output_type": "stream",
     "text": [
      "Enter the string:10 20\n",
      "10 20\n",
      "['10', '20']\n"
     ]
    }
   ],
   "source": [
    "s= input(\"Enter the string:\")\n",
    "print(s)\n",
    "l=s.split()\n",
    "print(l)"
   ]
  },
  {
   "cell_type": "code",
   "execution_count": 9,
   "metadata": {},
   "outputs": [
    {
     "name": "stdout",
     "output_type": "stream",
     "text": [
      "Enter the 2 numbers:10,20\n",
      "200\n"
     ]
    }
   ],
   "source": [
    "a,b =[int (x) for x in input(\"Enter the 2 numbers:\"). split(',')]\n",
    "print(a*b)"
   ]
  },
  {
   "cell_type": "code",
   "execution_count": 10,
   "metadata": {},
   "outputs": [
    {
     "name": "stdout",
     "output_type": "stream",
     "text": [
      "Enter the 2 numbers:10 !20\n",
      "200\n"
     ]
    }
   ],
   "source": [
    "a,b =[int (x) for x in input(\"Enter the 2 numbers:\"). split('!')]\n",
    "print(a*b)"
   ]
  },
  {
   "cell_type": "markdown",
   "metadata": {},
   "source": [
    "#### <center>6. Command Line Arguments</center>\n"
   ]
  },
  {
   "cell_type": "markdown",
   "metadata": {},
   "source": [
    "#### 1. argv is not Array it is a List. It is available sys Module.\n",
    "#### 2. The Argument which are passing at the time of execution are called Command Line Arguments."
   ]
  },
  {
   "cell_type": "markdown",
   "metadata": {},
   "source": [
    "#### Within the Python Program this Command Line Arguments are available in argv. Which is present in SYS Module."
   ]
  },
  {
   "cell_type": "markdown",
   "metadata": {},
   "source": [
    "#### Note: argv[0] represents Name of Program. But not first Command Line Argument. argv[1] represent First Command Line Argument."
   ]
  },
  {
   "cell_type": "code",
   "execution_count": null,
   "metadata": {},
   "outputs": [],
   "source": [
    "import argv\n",
    "print(type(argv))"
   ]
  },
  {
   "cell_type": "code",
   "execution_count": null,
   "metadata": {},
   "outputs": [],
   "source": [
    "from sys import argv\n",
    "\n",
    "print(“The Number of Command Line Arguments:”, len(argv))\n",
    "print(“The List of Command Line Arguments:”, argv)\n",
    "print(“Command Line Arguments one by one:”)\n",
    "\n",
    "for x in argv:\n",
    "    print(x) "
   ]
  },
  {
   "cell_type": "code",
   "execution_count": null,
   "metadata": {},
   "outputs": [],
   "source": [
    "from sys import argv\n",
    "\n",
    "sum=0\n",
    "args=argv[1:]\n",
    "\n",
    "for x in args :\n",
    "    n=int(x)\n",
    "    sum=sum+n\n",
    "    \n",
    "print(\"The Sum:\",sum) "
   ]
  },
  {
   "cell_type": "markdown",
   "metadata": {},
   "source": [
    "#### Note1: usually space is seperator between command line arguments. \n",
    "#### If our command line argument itself contains space then we should enclose within double quotes(but not single quotes)"
   ]
  },
  {
   "cell_type": "code",
   "execution_count": null,
   "metadata": {},
   "outputs": [],
   "source": [
    "from sys import argv\n",
    "\n",
    "print(argv[1])"
   ]
  },
  {
   "cell_type": "markdown",
   "metadata": {},
   "source": [
    "#### Note2: Within the Python program command line arguments are available in the String form. \n",
    "#### Based on our requirement,we can convert into corresponding type by using type casting methods."
   ]
  },
  {
   "cell_type": "code",
   "execution_count": null,
   "metadata": {},
   "outputs": [],
   "source": [
    "from sys import argv\n",
    "\n",
    "print(argv[1]+argv[2])\n",
    "print(int(argv[1])+int(argv[2])) "
   ]
  },
  {
   "cell_type": "markdown",
   "metadata": {},
   "source": [
    "#### Note3: If we are trying to access command line arguments with out of range index then we will get Error."
   ]
  },
  {
   "cell_type": "code",
   "execution_count": null,
   "metadata": {},
   "outputs": [],
   "source": [
    "from sys import argv\n",
    "\n",
    "print(argv[100])"
   ]
  },
  {
   "cell_type": "markdown",
   "metadata": {},
   "source": [
    "#### Note: In Python there is argparse module to parse command line arguments and display some help messages whenever end user enters wrong input.\n",
    "#### input()\n",
    "#### raw_input()\n",
    " "
   ]
  },
  {
   "cell_type": "markdown",
   "metadata": {},
   "source": [
    "#### <center>7. Output statements</center>\n",
    "#### We can use print() function to display output.\n"
   ]
  },
  {
   "cell_type": "markdown",
   "metadata": {},
   "source": [
    "#### <center>Form-1: print() without any argument</center>\n",
    "#### Just it prints new line character"
   ]
  },
  {
   "cell_type": "markdown",
   "metadata": {},
   "source": [
    "#### <center>Form-2</center>"
   ]
  },
  {
   "cell_type": "code",
   "execution_count": 21,
   "metadata": {},
   "outputs": [
    {
     "ename": "SyntaxError",
     "evalue": "invalid syntax (<ipython-input-21-85dad8035aee>, line 1)",
     "output_type": "error",
     "traceback": [
      "\u001b[1;36m  File \u001b[1;32m\"<ipython-input-21-85dad8035aee>\"\u001b[1;36m, line \u001b[1;32m1\u001b[0m\n\u001b[1;33m    print(String):\u001b[0m\n\u001b[1;37m                   ^\u001b[0m\n\u001b[1;31mSyntaxError\u001b[0m\u001b[1;31m:\u001b[0m invalid syntax\n"
     ]
    }
   ],
   "source": [
    "print(String): \n",
    "    print(\"Hello World\")\n",
    "\n",
    "#We can use escape characters also\n",
    "\n",
    "print(\"Hello \\n World\")\n",
    "print(\"Hello\\tWorld\")\n",
    "\n",
    "#We can use repetetion operator (*) in the string\n",
    " \n",
    "print(10*\"Hello\")\n",
    "print(\"Hello\"*10)\n",
    "#We can use + operator also\n",
    " \n",
    "print(\"Hello\"+\"World\") "
   ]
  },
  {
   "cell_type": "markdown",
   "metadata": {},
   "source": [
    "#### Note:\n",
    "#### 1. If both arguments are String type then + operator acts as concatenation operator.\n",
    "#### 2. If one argument is string type and second is any other type like int then we will get Error\n",
    "#### 3. If both arguments are number type then + operator acts as arithmetic addition operator.\n"
   ]
  },
  {
   "cell_type": "code",
   "execution_count": 19,
   "metadata": {},
   "outputs": [
    {
     "name": "stdout",
     "output_type": "stream",
     "text": [
      "HelloWorld\n",
      "Hello World\n"
     ]
    }
   ],
   "source": [
    "# Note:\n",
    "\n",
    "print(\"Hello\"+\"World\")\n",
    "print(\"Hello\",\"World\") "
   ]
  },
  {
   "cell_type": "markdown",
   "metadata": {},
   "source": [
    "#### <center>Form-3</center>\n",
    "#### print() with variable number of arguments:"
   ]
  },
  {
   "cell_type": "code",
   "execution_count": 22,
   "metadata": {},
   "outputs": [
    {
     "name": "stdout",
     "output_type": "stream",
     "text": [
      "The Values are : 10 20 30\n"
     ]
    }
   ],
   "source": [
    "a,b,c=10,20,30\n",
    "print(\"The Values are :\",a,b,c) "
   ]
  },
  {
   "cell_type": "markdown",
   "metadata": {},
   "source": [
    "#### By default output values are seperated by space.If we want we can specify seperator by using \"sep\" attribute\n"
   ]
  },
  {
   "cell_type": "code",
   "execution_count": 23,
   "metadata": {},
   "outputs": [
    {
     "name": "stdout",
     "output_type": "stream",
     "text": [
      "10,20,30\n",
      "10:20:30\n"
     ]
    }
   ],
   "source": [
    "a,b,c=10,20,30\n",
    "\n",
    "print(a,b,c,sep=',')\n",
    "print(a,b,c,sep=':') "
   ]
  },
  {
   "cell_type": "markdown",
   "metadata": {},
   "source": [
    "#### <center>Form-4</center>\n",
    "#### print() with end attribute:"
   ]
  },
  {
   "cell_type": "code",
   "execution_count": 24,
   "metadata": {},
   "outputs": [
    {
     "name": "stdout",
     "output_type": "stream",
     "text": [
      "Hello\n",
      "Durga\n",
      "Soft\n"
     ]
    }
   ],
   "source": [
    "print(\"Hello\")\n",
    "print(\"Durga\")\n",
    "print(\"Soft\") "
   ]
  },
  {
   "cell_type": "markdown",
   "metadata": {},
   "source": [
    "#### Note: If we want output in the same line with space"
   ]
  },
  {
   "cell_type": "code",
   "execution_count": 25,
   "metadata": {},
   "outputs": [
    {
     "name": "stdout",
     "output_type": "stream",
     "text": [
      "Hello Durga Soft\n"
     ]
    }
   ],
   "source": [
    "print(\"Hello\",end=' ')\n",
    "print(\"Durga\",end=' ')\n",
    "print(\"Soft\") "
   ]
  },
  {
   "cell_type": "markdown",
   "metadata": {},
   "source": [
    "#### Note: The default value for end attribute is \\n,which is nothing but new line character."
   ]
  },
  {
   "cell_type": "markdown",
   "metadata": {},
   "source": [
    "#### <center>Form-5</center>\n",
    "#### print(object) statement: We can pass any object (like list,tuple,set etc)as argument to the print() statement. "
   ]
  },
  {
   "cell_type": "code",
   "execution_count": 26,
   "metadata": {},
   "outputs": [
    {
     "name": "stdout",
     "output_type": "stream",
     "text": [
      "[10, 20, 30, 40]\n",
      "(10, 20, 30, 40)\n"
     ]
    }
   ],
   "source": [
    "l=[10,20,30,40]\n",
    "t=(10,20,30,40)\n",
    "print(l)\n",
    "print(t)"
   ]
  },
  {
   "cell_type": "markdown",
   "metadata": {},
   "source": [
    "#### <center>Form-6</center>\n",
    "#### print(String,variable list): We can use print() statement with String and any number of arguments."
   ]
  },
  {
   "cell_type": "code",
   "execution_count": 27,
   "metadata": {},
   "outputs": [
    {
     "name": "stdout",
     "output_type": "stream",
     "text": [
      "Hello Durga Your Age is 48\n",
      "You are teaching java and Python\n"
     ]
    }
   ],
   "source": [
    "s=\"Durga\"\n",
    "a=48\n",
    "s1=\"java\"\n",
    "s2=\"Python\"\n",
    "print(\"Hello\",s,\"Your Age is\",a)\n",
    "print(\"You are teaching\",s1,\"and\",s2)"
   ]
  },
  {
   "cell_type": "markdown",
   "metadata": {},
   "source": [
    "#### <center>Form-7</center>\n",
    "#### print(formatted string):\n",
    "#### %i====>int\n",
    "#### %d====>int\n",
    "#### %f=====>float\n",
    "#### %s======>String type"
   ]
  },
  {
   "cell_type": "code",
   "execution_count": null,
   "metadata": {},
   "outputs": [],
   "source": [
    "Syntax: print(\"formatted string\" %(variable list))"
   ]
  },
  {
   "cell_type": "code",
   "execution_count": 28,
   "metadata": {},
   "outputs": [
    {
     "name": "stdout",
     "output_type": "stream",
     "text": [
      "a value is 10\n",
      "b value is 20 and c value is 30\n"
     ]
    }
   ],
   "source": [
    "a=10\n",
    "b=20\n",
    "c=30\n",
    "\n",
    "print(\"a value is %i\" %a)\n",
    "print(\"b value is %d and c value is %d\" %(b,c))\n"
   ]
  },
  {
   "cell_type": "code",
   "execution_count": 29,
   "metadata": {},
   "outputs": [
    {
     "name": "stdout",
     "output_type": "stream",
     "text": [
      "Hello Durga ...The List of Items are [10, 20, 30, 40]\n"
     ]
    }
   ],
   "source": [
    "s=\"Durga\"\n",
    "list=[10,20,30,40]\n",
    "print(\"Hello %s ...The List of Items are %s\" %(s,list)) "
   ]
  },
  {
   "cell_type": "markdown",
   "metadata": {},
   "source": [
    "#### <center>Form-8</center>\n",
    "#### print() with replacement operator {}"
   ]
  },
  {
   "cell_type": "code",
   "execution_count": 30,
   "metadata": {},
   "outputs": [
    {
     "name": "stdout",
     "output_type": "stream",
     "text": [
      "Hello Durga your salary is 10000 and Your Friend Sunny is waiting\n",
      "Hello Durga your salary is 10000 and Your Friend Sunny is waiting\n"
     ]
    }
   ],
   "source": [
    "name=\"Durga\"\n",
    "salary=10000\n",
    "gf=\"Sunny\"\n",
    "\n",
    "print(\"Hello {0} your salary is {1} and Your Friend {2} is waiting\".format(name,salary,gf))\n",
    "print(\"Hello {x} your salary is {y} and Your Friend {z} is waiting\".format(x=name,y=salary,z= gf)) "
   ]
  }
 ],
 "metadata": {
  "kernelspec": {
   "display_name": "Python 3",
   "language": "python",
   "name": "python3"
  },
  "language_info": {
   "codemirror_mode": {
    "name": "ipython",
    "version": 3
   },
   "file_extension": ".py",
   "mimetype": "text/x-python",
   "name": "python",
   "nbconvert_exporter": "python",
   "pygments_lexer": "ipython3",
   "version": "3.8.5"
  }
 },
 "nbformat": 4,
 "nbformat_minor": 4
}
