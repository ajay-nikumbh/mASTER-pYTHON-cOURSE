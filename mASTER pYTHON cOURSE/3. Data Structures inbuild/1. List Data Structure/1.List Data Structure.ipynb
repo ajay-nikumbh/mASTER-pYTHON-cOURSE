{
 "cells": [
  {
   "cell_type": "markdown",
   "metadata": {},
   "source": [
    "### <center>List Data Structure</center>\n",
    "#### If we want to represent a group of individual objects as a single entity where insertion order preserved and duplicates are allowed, then we should go for List.\n",
    "#### 1. insertion order preserved.\n",
    "#### 2. duplicate objects are allowed\n",
    "#### 3. heterogeneous objects are allowed.\n",
    "#### 4. List is dynamic because based on our requirement we can increase the size and decrease the size.\n",
    "#### 5. In List the elements will be placed within square brackets and with comma seperator.\n",
    "#### We can differentiate duplicate elements by using index and we can preserve insertion order by using index. \n",
    "#### Hence index will play very important role.\n",
    "#### Python supports both positive and negative indexes. +ve index means from left to right where as negative index means right to left"
   ]
  },
  {
   "cell_type": "markdown",
   "metadata": {},
   "source": [
    "#### <center>1. Creation of list objects</center>\n"
   ]
  },
  {
   "cell_type": "markdown",
   "metadata": {},
   "source": [
    "####  1. We can create empty list object as follows..."
   ]
  },
  {
   "cell_type": "code",
   "execution_count": 2,
   "metadata": {},
   "outputs": [
    {
     "name": "stdout",
     "output_type": "stream",
     "text": [
      "<class 'list'>\n",
      "[]\n"
     ]
    }
   ],
   "source": [
    "list1=[]\n",
    "print(type(list1))\n",
    "print(list1)"
   ]
  },
  {
   "cell_type": "markdown",
   "metadata": {},
   "source": [
    "#### 2. if we already know the input "
   ]
  },
  {
   "cell_type": "code",
   "execution_count": 1,
   "metadata": {},
   "outputs": [
    {
     "name": "stdout",
     "output_type": "stream",
     "text": [
      "[10, 11, 12, 13, 14]\n"
     ]
    }
   ],
   "source": [
    "list2=[10,11,12,13,14]\n",
    "print(list2)/"
   ]
  },
  {
   "cell_type": "markdown",
   "metadata": {},
   "source": [
    "#### 3. With dynamic input"
   ]
  },
  {
   "cell_type": "code",
   "execution_count": 4,
   "metadata": {},
   "outputs": [
    {
     "name": "stdout",
     "output_type": "stream",
     "text": [
      "Enter the List:[1,2,3,4]\n",
      "[1, 2, 3, 4]\n",
      "<class 'list'>\n"
     ]
    }
   ],
   "source": [
    "list3= eval(input(\"Enter the List:\"))\n",
    "print(list3)\n",
    "print(type(list3))"
   ]
  },
  {
   "cell_type": "markdown",
   "metadata": {},
   "source": [
    "#### 4. with list function"
   ]
  },
  {
   "cell_type": "code",
   "execution_count": 7,
   "metadata": {},
   "outputs": [
    {
     "name": "stdout",
     "output_type": "stream",
     "text": [
      "[0, 2, 4, 6, 8]\n",
      "<class 'list'>\n"
     ]
    }
   ],
   "source": [
    "\n",
    "\n",
    "list4=list(range(0,10,2))\n",
    "print(list4)\n",
    "print(type(list4))\n"
   ]
  },
  {
   "cell_type": "code",
   "execution_count": 8,
   "metadata": {},
   "outputs": [
    {
     "name": "stdout",
     "output_type": "stream",
     "text": [
      "['a', 'j', 'a', 'y']\n"
     ]
    }
   ],
   "source": [
    "name='ajay'\n",
    "list5=list(name)\n",
    "print(list5)"
   ]
  },
  {
   "cell_type": "code",
   "execution_count": 9,
   "metadata": {},
   "outputs": [
    {
     "name": "stdout",
     "output_type": "stream",
     "text": [
      "['Python', 'is', 'very', 'easy', '!']\n",
      "<class 'list'>\n"
     ]
    }
   ],
   "source": [
    "sentence=\"Python is very easy !\"\n",
    "list6=sentence.split()\n",
    "print(list6)\n",
    "print(type(list6))"
   ]
  },
  {
   "cell_type": "markdown",
   "metadata": {},
   "source": [
    "#### 5. nested lists"
   ]
  },
  {
   "cell_type": "code",
   "execution_count": 8,
   "metadata": {},
   "outputs": [
    {
     "name": "stdout",
     "output_type": "stream",
     "text": [
      "20\n",
      "30\n"
     ]
    }
   ],
   "source": [
    "list7= [10,20,[30,40]]\n",
    "print(list7[1])\n",
    "print(list7[2][0])"
   ]
  },
  {
   "cell_type": "markdown",
   "metadata": {},
   "source": [
    "#### <center> 2. Accessing elements of List</center>\n",
    "#### We can access elements of the list either by using index or by using slice operator(:)\n"
   ]
  },
  {
   "cell_type": "markdown",
   "metadata": {},
   "source": [
    "#### 1. By using index"
   ]
  },
  {
   "cell_type": "code",
   "execution_count": 13,
   "metadata": {},
   "outputs": [
    {
     "name": "stdout",
     "output_type": "stream",
     "text": [
      "10\n",
      "40\n",
      "[40, 10]\n"
     ]
    }
   ],
   "source": [
    "list8= [10,20,30,40]\n",
    "print(list8[0])\n",
    "print(list8[-1])\n",
    "print(list8[::-3])"
   ]
  },
  {
   "cell_type": "code",
   "execution_count": 19,
   "metadata": {},
   "outputs": [
    {
     "ename": "IndexError",
     "evalue": "list index out of range",
     "output_type": "error",
     "traceback": [
      "\u001b[1;31m---------------------------------------------------------------------------\u001b[0m",
      "\u001b[1;31mIndexError\u001b[0m                                Traceback (most recent call last)",
      "\u001b[1;32m<ipython-input-19-ee9da9c9d49b>\u001b[0m in \u001b[0;36m<module>\u001b[1;34m\u001b[0m\n\u001b[1;32m----> 1\u001b[1;33m \u001b[0mprint\u001b[0m\u001b[1;33m(\u001b[0m\u001b[0mlist8\u001b[0m\u001b[1;33m[\u001b[0m\u001b[1;36m10\u001b[0m\u001b[1;33m]\u001b[0m\u001b[1;33m)\u001b[0m\u001b[1;33m\u001b[0m\u001b[1;33m\u001b[0m\u001b[0m\n\u001b[0m",
      "\u001b[1;31mIndexError\u001b[0m: list index out of range"
     ]
    }
   ],
   "source": [
    "print(list8[10])"
   ]
  },
  {
   "cell_type": "markdown",
   "metadata": {},
   "source": [
    "#### 2. By using slice operator\n",
    "#### Syntax:  list2= list1[start:stop:step]\n",
    "#### start ==>it indicates the index where slice has to start default value is 0\n",
    "#### stop ===>It indicates the index where slice has to end default value is max allowed index of list ie length of the list\n",
    "#### step ==>increment value default value is 1"
   ]
  },
  {
   "cell_type": "code",
   "execution_count": 15,
   "metadata": {},
   "outputs": [
    {
     "name": "stdout",
     "output_type": "stream",
     "text": [
      "[3, 4, 5, 6, 7]\n",
      "[3, 5, 7]\n",
      "[5, 6, 7, 8, 9, 10]\n",
      "[1, 2, 3, 4, 5, 6, 7, 8, 9, 10]\n",
      "[10, 8, 6, 4, 2]\n",
      "[1]\n",
      "[9, 7, 5]\n"
     ]
    }
   ],
   "source": [
    "list9= [1,2,3,4,5,6,7,8,9,10]\n",
    "print(list9[2:7])\n",
    "print(list9[2:7:2])\n",
    "print(list9[4:100])\n",
    "print(list9[:])\n",
    "print(list9[::-2])\n",
    "print(list9[0::-1])\n",
    "print(list9[8:2:-2])"
   ]
  },
  {
   "cell_type": "markdown",
   "metadata": {},
   "source": [
    "#### 3. List vs mutability: Once we creates a List object,we can modify its content. Hence List objects are mutable."
   ]
  },
  {
   "cell_type": "code",
   "execution_count": 30,
   "metadata": {},
   "outputs": [
    {
     "name": "stdout",
     "output_type": "stream",
     "text": [
      "[10, 777, 30, 40]\n"
     ]
    }
   ],
   "source": [
    "# Note: List objects are mutable\n",
    "list11 =[10,20,30,40]\n",
    "list11[1]=777\n",
    "print(list11)"
   ]
  },
  {
   "cell_type": "markdown",
   "metadata": {},
   "source": [
    "#### <center>3. Traversing the elements of List</center>\n",
    "#### The sequential access of each element in the list is called traversal."
   ]
  },
  {
   "cell_type": "markdown",
   "metadata": {},
   "source": [
    "#### 1. Using while loop"
   ]
  },
  {
   "cell_type": "code",
   "execution_count": 3,
   "metadata": {},
   "outputs": [
    {
     "name": "stdout",
     "output_type": "stream",
     "text": [
      "1\n",
      "2\n",
      "3\n",
      "4\n",
      "5\n",
      "6\n",
      "7\n",
      "8\n",
      "9\n",
      "10\n"
     ]
    }
   ],
   "source": [
    "list12= [1,2,3,4,5,6,7,8,9,10]\n",
    "i=0\n",
    "while i<len(list12):\n",
    "    print(list12[i])\n",
    "    i+=1\n",
    "    "
   ]
  },
  {
   "cell_type": "markdown",
   "metadata": {},
   "source": [
    "#### 2. By using for loop"
   ]
  },
  {
   "cell_type": "code",
   "execution_count": 17,
   "metadata": {},
   "outputs": [
    {
     "name": "stdout",
     "output_type": "stream",
     "text": [
      "1\n",
      "2\n",
      "3\n",
      "4\n",
      "5\n",
      "6\n",
      "7\n",
      "8\n",
      "9\n",
      "10\n"
     ]
    }
   ],
   "source": [
    "list12= [1,2,3,4,5,6,7,8,9,10]\n",
    "for i in list12:\n",
    "    print(i)"
   ]
  },
  {
   "cell_type": "markdown",
   "metadata": {},
   "source": [
    "#### 3. To display only even numbers"
   ]
  },
  {
   "cell_type": "code",
   "execution_count": 18,
   "metadata": {},
   "outputs": [
    {
     "name": "stdout",
     "output_type": "stream",
     "text": [
      "2\n",
      "4\n",
      "6\n",
      "8\n",
      "10\n"
     ]
    }
   ],
   "source": [
    "list12= [1,2,3,4,5,6,7,8,9,10]\n",
    "for i in list12:\n",
    "    if i%2==0:\n",
    "        print(i)"
   ]
  },
  {
   "cell_type": "markdown",
   "metadata": {},
   "source": [
    "#### 4. To display elements by index wise"
   ]
  },
  {
   "cell_type": "code",
   "execution_count": 20,
   "metadata": {},
   "outputs": [
    {
     "name": "stdout",
     "output_type": "stream",
     "text": [
      "A is available at +ve index:  0 and at -ve index:  -4\n",
      "J is available at +ve index:  1 and at -ve index:  -3\n",
      "A is available at +ve index:  2 and at -ve index:  -2\n",
      "Y is available at +ve index:  3 and at -ve index:  -1\n"
     ]
    }
   ],
   "source": [
    "list13=[\"A\",\"J\",\"A\",\"Y\"]\n",
    "x=len(list13)\n",
    "\n",
    "for i in range(x):\n",
    "    print(list13[i] ,\"is available at +ve index: \",i ,\"and at -ve index: \",i-x)"
   ]
  },
  {
   "cell_type": "markdown",
   "metadata": {},
   "source": [
    "#### <center>4. important functions of the list</center>"
   ]
  },
  {
   "cell_type": "markdown",
   "metadata": {},
   "source": [
    "#### 1. len()"
   ]
  },
  {
   "cell_type": "code",
   "execution_count": 21,
   "metadata": {},
   "outputs": [
    {
     "data": {
      "text/plain": [
       "4"
      ]
     },
     "execution_count": 21,
     "metadata": {},
     "output_type": "execute_result"
    }
   ],
   "source": [
    "len(list13)"
   ]
  },
  {
   "cell_type": "markdown",
   "metadata": {},
   "source": [
    "#### 2. count()"
   ]
  },
  {
   "cell_type": "code",
   "execution_count": 22,
   "metadata": {},
   "outputs": [
    {
     "name": "stdout",
     "output_type": "stream",
     "text": [
      "1\n",
      "4\n",
      "2\n",
      "0\n"
     ]
    }
   ],
   "source": [
    "list14=[1,2,2,2,2,3,3]\n",
    "print(list14.count(1))\n",
    "print(list14.count(2))\n",
    "print(list14.count(3))\n",
    "print(list14.count(59))"
   ]
  },
  {
   "cell_type": "markdown",
   "metadata": {},
   "source": [
    "#### 3. index() : Returns the index of 1st occurence of specified item"
   ]
  },
  {
   "cell_type": "code",
   "execution_count": 23,
   "metadata": {},
   "outputs": [
    {
     "name": "stdout",
     "output_type": "stream",
     "text": [
      "0\n",
      "1\n",
      "5\n",
      "False\n"
     ]
    },
    {
     "ename": "ValueError",
     "evalue": "45 is not in list",
     "output_type": "error",
     "traceback": [
      "\u001b[1;31m---------------------------------------------------------------------------\u001b[0m",
      "\u001b[1;31mValueError\u001b[0m                                Traceback (most recent call last)",
      "\u001b[1;32m<ipython-input-23-2b6f68d4adfd>\u001b[0m in \u001b[0;36m<module>\u001b[1;34m\u001b[0m\n\u001b[0;32m      5\u001b[0m \u001b[1;33m\u001b[0m\u001b[0m\n\u001b[0;32m      6\u001b[0m \u001b[0mprint\u001b[0m\u001b[1;33m(\u001b[0m\u001b[1;36m45\u001b[0m \u001b[1;32min\u001b[0m \u001b[0mlist14\u001b[0m\u001b[1;33m)\u001b[0m\u001b[1;33m\u001b[0m\u001b[1;33m\u001b[0m\u001b[0m\n\u001b[1;32m----> 7\u001b[1;33m \u001b[0mprint\u001b[0m\u001b[1;33m(\u001b[0m\u001b[0mlist14\u001b[0m\u001b[1;33m.\u001b[0m\u001b[0mindex\u001b[0m\u001b[1;33m(\u001b[0m\u001b[1;36m45\u001b[0m\u001b[1;33m)\u001b[0m\u001b[1;33m)\u001b[0m\u001b[1;33m\u001b[0m\u001b[1;33m\u001b[0m\u001b[0m\n\u001b[0m",
      "\u001b[1;31mValueError\u001b[0m: 45 is not in list"
     ]
    }
   ],
   "source": [
    "list14=[1,2,2,2,2,3,3]\n",
    "print(list14.index(1))\n",
    "print(list14.index(2))\n",
    "print(list14.index(3))\n",
    "\n",
    "print(45 in list14)\n",
    "print(list14.index(45))"
   ]
  },
  {
   "cell_type": "markdown",
   "metadata": {},
   "source": [
    "#### Note: If the specified element not present in the list then we will get ValueError.\n",
    "#### Hence before index() method we have to check whether item present in the list or not by using in operator.\n",
    "#### print( 4 in n)==>False"
   ]
  },
  {
   "cell_type": "markdown",
   "metadata": {},
   "source": [
    "#### <center>5. Manipulating elements of the list</center>\n"
   ]
  },
  {
   "cell_type": "markdown",
   "metadata": {},
   "source": [
    "#### 1. append()"
   ]
  },
  {
   "cell_type": "code",
   "execution_count": 24,
   "metadata": {},
   "outputs": [
    {
     "name": "stdout",
     "output_type": "stream",
     "text": [
      "[1, 2, 3, 4, 5]\n"
     ]
    }
   ],
   "source": [
    "list15= []\n",
    "list15.append(1)\n",
    "list15.append(2)\n",
    "list15.append(3)\n",
    "list15.append(4)\n",
    "list15.append(5)\n",
    "\n",
    "print(list15)"
   ]
  },
  {
   "cell_type": "markdown",
   "metadata": {},
   "source": [
    "#### 2. program to add all the ele to list which are divisible by 10"
   ]
  },
  {
   "cell_type": "code",
   "execution_count": 25,
   "metadata": {},
   "outputs": [
    {
     "name": "stdout",
     "output_type": "stream",
     "text": [
      "[0, 10, 20, 30, 40, 50, 60, 70, 80, 90, 100]\n"
     ]
    }
   ],
   "source": [
    "list16 =[]\n",
    "\n",
    "for i in range(101):\n",
    "    if i%10==0:\n",
    "        list16.append(i)\n",
    "        \n",
    "print(list16)"
   ]
  },
  {
   "cell_type": "markdown",
   "metadata": {},
   "source": [
    "#### 3. insert()"
   ]
  },
  {
   "cell_type": "code",
   "execution_count": 26,
   "metadata": {},
   "outputs": [
    {
     "name": "stdout",
     "output_type": "stream",
     "text": [
      "[1, 2, 3, 199, 4, 5]\n"
     ]
    }
   ],
   "source": [
    "list17= [1,2,3,4,5]\n",
    "list17.insert(3, 199)\n",
    "print(list17)"
   ]
  },
  {
   "cell_type": "markdown",
   "metadata": {},
   "source": [
    "#### Note:  If the specified index is greater than max index then element will be inserted at last position. \n",
    "#### If the specified index is smaller than min index then element will be inserted at first position."
   ]
  },
  {
   "cell_type": "code",
   "execution_count": 66,
   "metadata": {},
   "outputs": [
    {
     "name": "stdout",
     "output_type": "stream",
     "text": [
      "[]\n"
     ]
    }
   ],
   "source": [
    "list17.clear()\n",
    "print(list17)"
   ]
  },
  {
   "cell_type": "markdown",
   "metadata": {},
   "source": [
    "#### 4. extend function: To add all items of one list to another list l1.extend(l2) all items present in l2 will be added to l1"
   ]
  },
  {
   "cell_type": "code",
   "execution_count": 67,
   "metadata": {},
   "outputs": [
    {
     "name": "stdout",
     "output_type": "stream",
     "text": [
      "['chicken', 'mutto', 'fish', 'Rc']\n"
     ]
    }
   ],
   "source": [
    "\n",
    "\n",
    "order1= ['chicken', 'mutto' , 'fish']\n",
    "order2= ['Rc']\n",
    "order1.extend(order2)\n",
    "print(order1)"
   ]
  },
  {
   "cell_type": "code",
   "execution_count": 69,
   "metadata": {},
   "outputs": [
    {
     "name": "stdout",
     "output_type": "stream",
     "text": [
      "['chicken', 'mutto', 'fish', 'B', 'K']\n"
     ]
    }
   ],
   "source": [
    "\n",
    "order3= ['chicken', 'mutto' , 'fish']\n",
    "order4= ('BK')\n",
    "order3.extend(order4)\n",
    "print(order3)"
   ]
  },
  {
   "cell_type": "markdown",
   "metadata": {},
   "source": [
    "#### 5. remove (): We can use this function to remove specified item from the list.If the item present multiple times then only first occurrence will be removed.\n"
   ]
  },
  {
   "cell_type": "code",
   "execution_count": 70,
   "metadata": {},
   "outputs": [
    {
     "name": "stdout",
     "output_type": "stream",
     "text": [
      "[10, 20, 20, 30]\n"
     ]
    }
   ],
   "source": [
    "\n",
    "list18= [10,20,20,20,30]\n",
    "list18.remove(20)\n",
    "print(list18)"
   ]
  },
  {
   "cell_type": "markdown",
   "metadata": {},
   "source": [
    "#### Note: Hence before using remove() method first we have to check specified element present in the list or not by using in operator."
   ]
  },
  {
   "cell_type": "code",
   "execution_count": 71,
   "metadata": {},
   "outputs": [
    {
     "ename": "ValueError",
     "evalue": "list.remove(x): x not in list",
     "output_type": "error",
     "traceback": [
      "\u001b[1;31m---------------------------------------------------------------------------\u001b[0m",
      "\u001b[1;31mValueError\u001b[0m                                Traceback (most recent call last)",
      "\u001b[1;32m<ipython-input-71-ffaab01b1121>\u001b[0m in \u001b[0;36m<module>\u001b[1;34m\u001b[0m\n\u001b[1;32m----> 1\u001b[1;33m \u001b[0mlist18\u001b[0m\u001b[1;33m.\u001b[0m\u001b[0mremove\u001b[0m\u001b[1;33m(\u001b[0m\u001b[1;36m45\u001b[0m\u001b[1;33m)\u001b[0m\u001b[1;33m\u001b[0m\u001b[1;33m\u001b[0m\u001b[0m\n\u001b[0m",
      "\u001b[1;31mValueError\u001b[0m: list.remove(x): x not in list"
     ]
    }
   ],
   "source": [
    "list18.remove(45)"
   ]
  },
  {
   "cell_type": "markdown",
   "metadata": {},
   "source": [
    "#### 6. pop() function\n",
    "#### It removes and returns the last element of the list.\n",
    "#### This is only function which manipulates list and returns some element."
   ]
  },
  {
   "cell_type": "code",
   "execution_count": 72,
   "metadata": {},
   "outputs": [
    {
     "name": "stdout",
     "output_type": "stream",
     "text": [
      "30\n"
     ]
    }
   ],
   "source": [
    "print(list18.pop())"
   ]
  },
  {
   "cell_type": "code",
   "execution_count": 73,
   "metadata": {},
   "outputs": [
    {
     "name": "stdout",
     "output_type": "stream",
     "text": [
      "20\n"
     ]
    }
   ],
   "source": [
    "print(list18.pop())"
   ]
  },
  {
   "cell_type": "markdown",
   "metadata": {},
   "source": [
    "#### Note:\n",
    "#### 1. pop() is the only function which manipulates the list and returns some value\n",
    "#### 2. In general we can use append() and pop() functions to implement stack datastructure by using list,which follows LIFO(Last In First Out) order.\n",
    "#### In general we can use pop() function to remove last element of the list. But we can use to remove elements based on index.\n",
    "#### A. n.pop(index)===>To remove and return element present at specified index.\n",
    "#### B. n.pop()==>To remove and return last element of the list"
   ]
  },
  {
   "cell_type": "code",
   "execution_count": 74,
   "metadata": {},
   "outputs": [
    {
     "name": "stdout",
     "output_type": "stream",
     "text": [
      "[10, 20]\n"
     ]
    }
   ],
   "source": [
    "print(list18)"
   ]
  },
  {
   "cell_type": "code",
   "execution_count": 77,
   "metadata": {},
   "outputs": [],
   "source": [
    "list18.append(20)\n",
    "list18.append(20)\n",
    "list18.append(20)"
   ]
  },
  {
   "cell_type": "markdown",
   "metadata": {},
   "source": [
    "#### Note: If the list is empty then pop() function raises IndexError"
   ]
  },
  {
   "cell_type": "code",
   "execution_count": 1,
   "metadata": {},
   "outputs": [
    {
     "ename": "NameError",
     "evalue": "name 'list18' is not defined",
     "output_type": "error",
     "traceback": [
      "\u001b[1;31m---------------------------------------------------------------------------\u001b[0m",
      "\u001b[1;31mNameError\u001b[0m                                 Traceback (most recent call last)",
      "\u001b[1;32m<ipython-input-1-6738a60687bc>\u001b[0m in \u001b[0;36m<module>\u001b[1;34m\u001b[0m\n\u001b[1;32m----> 1\u001b[1;33m \u001b[0mprint\u001b[0m\u001b[1;33m(\u001b[0m\u001b[0mlist18\u001b[0m\u001b[1;33m)\u001b[0m\u001b[1;33m\u001b[0m\u001b[1;33m\u001b[0m\u001b[0m\n\u001b[0m\u001b[0;32m      2\u001b[0m \u001b[1;31m#include<stdio.h>\u001b[0m\u001b[1;33m\u001b[0m\u001b[1;33m\u001b[0m\u001b[1;33m\u001b[0m\u001b[0m\n",
      "\u001b[1;31mNameError\u001b[0m: name 'list18' is not defined"
     ]
    }
   ],
   "source": [
    "print(list18)\n",
    "\n"
   ]
  },
  {
   "cell_type": "code",
   "execution_count": 81,
   "metadata": {},
   "outputs": [
    {
     "name": "stdout",
     "output_type": "stream",
     "text": [
      "Enter the elem to remove: 20\n",
      "After the removal the list is:  [10]\n"
     ]
    }
   ],
   "source": [
    "# Program to remove all the occurence of ele in the list\n",
    "list18\n",
    "x= int(input(\"Enter the elem to remove: \"))\n",
    "\n",
    "while True:\n",
    "    if x in list18:\n",
    "        list18.remove(x)\n",
    "        \n",
    "    else:\n",
    "        break\n",
    "        \n",
    "print(\"After the removal the list is: \", list18)\n",
    "    "
   ]
  },
  {
   "cell_type": "code",
   "execution_count": 82,
   "metadata": {},
   "outputs": [
    {
     "ename": "IndexError",
     "evalue": "pop from empty list",
     "output_type": "error",
     "traceback": [
      "\u001b[1;31m---------------------------------------------------------------------------\u001b[0m",
      "\u001b[1;31mIndexError\u001b[0m                                Traceback (most recent call last)",
      "\u001b[1;32m<ipython-input-82-cae8d2e52493>\u001b[0m in \u001b[0;36m<module>\u001b[1;34m\u001b[0m\n\u001b[0;32m      1\u001b[0m \u001b[1;31m# Note : if list is empty then pop() function raises an error\u001b[0m\u001b[1;33m\u001b[0m\u001b[1;33m\u001b[0m\u001b[1;33m\u001b[0m\u001b[0m\n\u001b[0;32m      2\u001b[0m \u001b[0mn1\u001b[0m\u001b[1;33m=\u001b[0m \u001b[1;33m[\u001b[0m\u001b[1;33m]\u001b[0m\u001b[1;33m\u001b[0m\u001b[1;33m\u001b[0m\u001b[0m\n\u001b[1;32m----> 3\u001b[1;33m \u001b[0mn1\u001b[0m\u001b[1;33m.\u001b[0m\u001b[0mpop\u001b[0m\u001b[1;33m(\u001b[0m\u001b[1;33m)\u001b[0m\u001b[1;33m\u001b[0m\u001b[1;33m\u001b[0m\u001b[0m\n\u001b[0m",
      "\u001b[1;31mIndexError\u001b[0m: pop from empty list"
     ]
    }
   ],
   "source": [
    "# Note : if list is empty then pop() function raises an error\n",
    "n1= []\n",
    "n1.pop()"
   ]
  },
  {
   "cell_type": "code",
   "execution_count": 91,
   "metadata": {},
   "outputs": [
    {
     "name": "stdout",
     "output_type": "stream",
     "text": [
      "[10, 20, 30, 40, 50, 20, 30, 40, 50, 20, 30, 40, 50, 20, 30, 40, 50, 20, 30, 40, 20, 30, 40, 20, 30, 40, 50, 20, 30, 40, 50]\n"
     ]
    }
   ],
   "source": [
    "list18\n",
    "\n"
   ]
  },
  {
   "cell_type": "code",
   "execution_count": 93,
   "metadata": {},
   "outputs": [
    {
     "data": {
      "text/plain": [
       "[]"
      ]
     },
     "execution_count": 93,
     "metadata": {},
     "output_type": "execute_result"
    }
   ],
   "source": [
    "list18.clear()\n",
    "list18"
   ]
  },
  {
   "cell_type": "code",
   "execution_count": 95,
   "metadata": {},
   "outputs": [
    {
     "name": "stdout",
     "output_type": "stream",
     "text": [
      "[20, 30, 40, 50, 20, 30, 40, 50]\n"
     ]
    }
   ],
   "source": [
    "list18.append(20)\n",
    "list18.append(30)\n",
    "list18.append(40)\n",
    "list18.append(50)\n",
    "print(list18)"
   ]
  },
  {
   "cell_type": "markdown",
   "metadata": {},
   "source": [
    "#### Note: List objects are dynamic. i.e based on our requirement we can increase and decrease the size.\n",
    "#### 1. append(),insert() ,extend() ===>for increasing the size/growable nature\n",
    "#### 2. remove(), pop() ======>for decreasing the size /shrinking nature"
   ]
  },
  {
   "cell_type": "code",
   "execution_count": 97,
   "metadata": {},
   "outputs": [
    {
     "name": "stdout",
     "output_type": "stream",
     "text": [
      "50\n",
      "10\n"
     ]
    }
   ],
   "source": [
    "n3= [10,20,30,40,50]\n",
    "print(n3.pop())\n",
    "print(n3.pop(0))"
   ]
  },
  {
   "cell_type": "markdown",
   "metadata": {},
   "source": [
    "#### <center>6. Ordering elements of list</center>"
   ]
  },
  {
   "cell_type": "markdown",
   "metadata": {},
   "source": [
    "#### 1. reverse(): We can use to reverse() order of elements of list."
   ]
  },
  {
   "cell_type": "code",
   "execution_count": 1,
   "metadata": {},
   "outputs": [
    {
     "name": "stdout",
     "output_type": "stream",
     "text": [
      "[40, 30, 20, 10]\n"
     ]
    }
   ],
   "source": [
    "n4= [10,20,30,40]\n",
    "n4.reverse()\n",
    "print(n4)"
   ]
  },
  {
   "cell_type": "code",
   "execution_count": 111,
   "metadata": {},
   "outputs": [
    {
     "name": "stdout",
     "output_type": "stream",
     "text": [
      "[40, 30, 20, 10]\n"
     ]
    }
   ],
   "source": [
    "n5= [10,20,30,40]\n",
    "r=reversed(n5) # reversed is pythons inbuild function\n",
    "n6=list(r)\n",
    "print(n6)"
   ]
  },
  {
   "cell_type": "markdown",
   "metadata": {},
   "source": [
    "#### 2. sort function\n",
    "#### In list by default insertion order is preserved. If want to sort the elements of list according to default natural sorting order then we should go for sort() method.\n",
    "#### For numbers ==>default natural sorting order is Ascending Order\n",
    "#### For Strings ==> default natural sorting order is Alphabetical Order"
   ]
  },
  {
   "cell_type": "code",
   "execution_count": 113,
   "metadata": {},
   "outputs": [
    {
     "name": "stdout",
     "output_type": "stream",
     "text": [
      "[0, 5, 10, 15, 20]\n"
     ]
    }
   ],
   "source": [
    "\n",
    "\n",
    "n7= [20,5,15,10,0]\n",
    "n7.sort()\n",
    "print(n7)"
   ]
  },
  {
   "cell_type": "code",
   "execution_count": 114,
   "metadata": {},
   "outputs": [
    {
     "name": "stdout",
     "output_type": "stream",
     "text": [
      "['ajay', 'vjax', 'vjay']\n"
     ]
    }
   ],
   "source": [
    "n8= [\"vjay\",\"ajay\",\"vjax\"]\n",
    "n8.sort()\n",
    "print(n8)"
   ]
  },
  {
   "cell_type": "markdown",
   "metadata": {},
   "source": [
    "#### Note: To use sort() function, compulsory list should contain only homogeneous elements. otherwise we will get TypeError"
   ]
  },
  {
   "cell_type": "code",
   "execution_count": 115,
   "metadata": {},
   "outputs": [
    {
     "name": "stdout",
     "output_type": "stream",
     "text": [
      "[40, 20, 10, 0]\n"
     ]
    }
   ],
   "source": [
    "n9= [40,10,20,0]\n",
    "n9.sort(reverse=True)\n",
    "print(n9)"
   ]
  },
  {
   "cell_type": "code",
   "execution_count": 116,
   "metadata": {},
   "outputs": [
    {
     "name": "stdout",
     "output_type": "stream",
     "text": [
      "[0, 10, 20, 40]\n"
     ]
    }
   ],
   "source": [
    "n9.sort()\n",
    "print(n9)"
   ]
  },
  {
   "cell_type": "markdown",
   "metadata": {},
   "source": [
    "#### <center>7. Aliasing and Cloning of List objects</center>\n",
    "#### The process of giving another reference variable to the existing list is called aliasing."
   ]
  },
  {
   "cell_type": "code",
   "execution_count": 2,
   "metadata": {},
   "outputs": [
    {
     "name": "stdout",
     "output_type": "stream",
     "text": [
      "1902487522752\n",
      "1902487522752\n"
     ]
    }
   ],
   "source": [
    "\n",
    "x1= [10,20,40,40]\n",
    "y=x1\n",
    "print(id(x1))\n",
    "print(id(y))\n"
   ]
  },
  {
   "cell_type": "markdown",
   "metadata": {},
   "source": [
    "#### Note: The problem in this approach is by using one reference variable if we are changing content,then those changes will be reflected to the other reference variable.\n"
   ]
  },
  {
   "cell_type": "code",
   "execution_count": 124,
   "metadata": {},
   "outputs": [
    {
     "name": "stdout",
     "output_type": "stream",
     "text": [
      "[10, 455, 40, 40]\n"
     ]
    }
   ],
   "source": [
    "# problem with alising\n",
    "y[1]=455\n",
    "print(x1)"
   ]
  },
  {
   "cell_type": "code",
   "execution_count": 126,
   "metadata": {},
   "outputs": [
    {
     "name": "stdout",
     "output_type": "stream",
     "text": [
      "1821471298432\n",
      "1821470251520\n"
     ]
    }
   ],
   "source": [
    "# solution to the problem using slicing operator\n",
    "x3= [10,20,30,40,50]\n",
    "y3= x3[:]\n",
    "print(id(x3))\n",
    "print(id(y3))"
   ]
  },
  {
   "cell_type": "markdown",
   "metadata": {},
   "source": [
    "#### Note: To overcome this problem we should go for cloning.\n",
    "#### The process of creating exactly duplicate independent object is called cloning. We can implement cloning by using slice operator or by using copy() function"
   ]
  },
  {
   "cell_type": "code",
   "execution_count": 127,
   "metadata": {},
   "outputs": [
    {
     "name": "stdout",
     "output_type": "stream",
     "text": [
      "1821471353856\n",
      "1821470164160\n"
     ]
    }
   ],
   "source": [
    "# solution by using copy function()\n",
    "x4= [10,20,30,40,50]\n",
    "y4= x4.copy()\n",
    "print(id(x4))\n",
    "print(id(y4))"
   ]
  },
  {
   "cell_type": "markdown",
   "metadata": {},
   "source": [
    "#### = operator meant for aliasing\n",
    "#### copy() function meant for cloning"
   ]
  },
  {
   "cell_type": "markdown",
   "metadata": {},
   "source": [
    "#### <center>8. Using mathematical operator for the lists</center>"
   ]
  },
  {
   "cell_type": "markdown",
   "metadata": {},
   "source": [
    "#### 1. Concatenation operator(+): Note: To use + operator compulsory both arguments should be list objects,otherwise we will get TypeError."
   ]
  },
  {
   "cell_type": "code",
   "execution_count": 3,
   "metadata": {},
   "outputs": [
    {
     "name": "stdout",
     "output_type": "stream",
     "text": [
      "[10, 20, 30, 1, 2, 3]\n"
     ]
    }
   ],
   "source": [
    "list90 =[10,20,30]\n",
    "list91= [1,2,3]\n",
    "c=list90+list91\n",
    "print(c)"
   ]
  },
  {
   "cell_type": "markdown",
   "metadata": {},
   "source": [
    "#### 2. Repetition Operator(*): We can use repetition operator * to repeat elements of list specified number of times"
   ]
  },
  {
   "cell_type": "code",
   "execution_count": 4,
   "metadata": {},
   "outputs": [
    {
     "name": "stdout",
     "output_type": "stream",
     "text": [
      "[10, 20, 30, 40, 50, 10, 20, 30, 40, 50, 10, 20, 30, 40, 50]\n"
     ]
    }
   ],
   "source": [
    "\n",
    "list92= [10,20,30,40,50]\n",
    "z=list92*3\n",
    "print(z)"
   ]
  },
  {
   "cell_type": "markdown",
   "metadata": {},
   "source": [
    "#### <center>9. Comparing List objects</center>"
   ]
  },
  {
   "cell_type": "markdown",
   "metadata": {},
   "source": [
    "#### Note: Whenever we are using comparison operators(==,!=) for List objects then the following should be considered\n",
    "#### 1. The number of elements\n",
    "#### 2. The order of elements\n",
    "#### 3. The content of elements (case sensitive)\n",
    "#### Note: When ever we are using relatational operators(<,<=,>,>=) between List objects,only first element comparison will be performed."
   ]
  },
  {
   "cell_type": "code",
   "execution_count": 5,
   "metadata": {},
   "outputs": [
    {
     "name": "stdout",
     "output_type": "stream",
     "text": [
      "True\n",
      "False\n",
      "True\n"
     ]
    }
   ],
   "source": [
    "\n",
    "x=['Dog','Cat','Rat']\n",
    "y=['Dog','Cat','Rat']\n",
    "z=['DOG','CAt','Rat']\n",
    "\n",
    "print(x==y)\n",
    "print(x==z)\n",
    "print(x!=z)\n"
   ]
  },
  {
   "cell_type": "markdown",
   "metadata": {},
   "source": [
    "#### <center>10. Membership operators</center>"
   ]
  },
  {
   "cell_type": "code",
   "execution_count": 6,
   "metadata": {},
   "outputs": [
    {
     "name": "stdout",
     "output_type": "stream",
     "text": [
      "True\n",
      "False\n"
     ]
    }
   ],
   "source": [
    "\n",
    "list92= [10,20,30,40,50]\n",
    "print(10 in list92)\n",
    "print(11 in list92)"
   ]
  },
  {
   "cell_type": "markdown",
   "metadata": {},
   "source": [
    "#### <center>11. clear() function</center>"
   ]
  },
  {
   "cell_type": "code",
   "execution_count": 7,
   "metadata": {},
   "outputs": [
    {
     "name": "stdout",
     "output_type": "stream",
     "text": [
      "[]\n"
     ]
    }
   ],
   "source": [
    "\n",
    "list92.clear()\n",
    "print(list92)"
   ]
  },
  {
   "cell_type": "markdown",
   "metadata": {},
   "source": [
    "#### <center>12. Nested list</center>\n",
    "#### Sometimes we can take one list inside another list. Such type of lists are called nested lists."
   ]
  },
  {
   "cell_type": "code",
   "execution_count": 141,
   "metadata": {},
   "outputs": [
    {
     "name": "stdout",
     "output_type": "stream",
     "text": [
      "[10, 20, [30, 40]]\n",
      "10\n",
      "[30, 40]\n",
      "30\n",
      "40\n"
     ]
    },
    {
     "ename": "IndexError",
     "evalue": "list index out of range",
     "output_type": "error",
     "traceback": [
      "\u001b[1;31m---------------------------------------------------------------------------\u001b[0m",
      "\u001b[1;31mIndexError\u001b[0m                                Traceback (most recent call last)",
      "\u001b[1;32m<ipython-input-141-ed7b1ced55ed>\u001b[0m in \u001b[0;36m<module>\u001b[1;34m\u001b[0m\n\u001b[0;32m      7\u001b[0m \u001b[0mprint\u001b[0m\u001b[1;33m(\u001b[0m\u001b[0mlist93\u001b[0m\u001b[1;33m[\u001b[0m\u001b[1;36m2\u001b[0m\u001b[1;33m]\u001b[0m\u001b[1;33m[\u001b[0m\u001b[1;36m0\u001b[0m\u001b[1;33m]\u001b[0m\u001b[1;33m)\u001b[0m\u001b[1;33m\u001b[0m\u001b[1;33m\u001b[0m\u001b[0m\n\u001b[0;32m      8\u001b[0m \u001b[0mprint\u001b[0m\u001b[1;33m(\u001b[0m\u001b[0mlist93\u001b[0m\u001b[1;33m[\u001b[0m\u001b[1;36m2\u001b[0m\u001b[1;33m]\u001b[0m\u001b[1;33m[\u001b[0m\u001b[1;36m1\u001b[0m\u001b[1;33m]\u001b[0m\u001b[1;33m)\u001b[0m\u001b[1;33m\u001b[0m\u001b[1;33m\u001b[0m\u001b[0m\n\u001b[1;32m----> 9\u001b[1;33m \u001b[0mprint\u001b[0m\u001b[1;33m(\u001b[0m\u001b[0mlist93\u001b[0m\u001b[1;33m[\u001b[0m\u001b[1;36m2\u001b[0m\u001b[1;33m]\u001b[0m\u001b[1;33m[\u001b[0m\u001b[1;36m3\u001b[0m\u001b[1;33m]\u001b[0m\u001b[1;33m)\u001b[0m\u001b[1;33m\u001b[0m\u001b[1;33m\u001b[0m\u001b[0m\n\u001b[0m",
      "\u001b[1;31mIndexError\u001b[0m: list index out of range"
     ]
    }
   ],
   "source": [
    "\n",
    "\n",
    "list93= [10,20, [30,40]]\n",
    "print(list93)\n",
    "print(list93[0])\n",
    "print(list93[2])\n",
    "print(list93[2][0])\n",
    "print(list93[2][1])\n",
    "print(list93[2][3])"
   ]
  },
  {
   "cell_type": "markdown",
   "metadata": {},
   "source": [
    "#### Note: We can access nested list elements by using index just like accessing multi dimensional array elements."
   ]
  },
  {
   "cell_type": "code",
   "execution_count": 149,
   "metadata": {},
   "outputs": [
    {
     "name": "stdout",
     "output_type": "stream",
     "text": [
      "[[10, 20, 30], [40, 50, 60], [70, 80, 90]]\n",
      "Elements by row wise\n",
      "[10, 20, 30]\n",
      "[40, 50, 60]\n",
      "[70, 80, 90]\n",
      "Elements using Matrix style\n",
      "10  20  30  \n",
      "40  50  60  \n",
      "70  80  90  \n"
     ]
    }
   ],
   "source": [
    "# Nested list as a matrix\n",
    "\n",
    "n22= [[10,20,30], [40,50,60] ,[70,80,90]]\n",
    "print(n22)\n",
    "print(\"Elements by row wise\")\n",
    "for i in n22:\n",
    "    print(i)\n",
    "    \n",
    "print(\"Elements using Matrix style\")\n",
    "for i in range(len(n22)):\n",
    "    for j in range(len(n22[i])):\n",
    "        print(n22[i][j], end='  ')\n",
    "        \n",
    "    print( )\n",
    "        \n",
    "        "
   ]
  },
  {
   "cell_type": "markdown",
   "metadata": {},
   "source": [
    "#### <center>13. list comprehension</center>\n",
    "#### It is very easy and compact way of creating list objects from any iterable objects(like list,tuple,dictionary,range etc) based on some condition.\n",
    "#### Syntax: list=[expression for item in list if condition]\n"
   ]
  },
  {
   "cell_type": "code",
   "execution_count": 152,
   "metadata": {},
   "outputs": [
    {
     "name": "stdout",
     "output_type": "stream",
     "text": [
      "[0, 1, 4, 9, 16, 25, 36, 49, 64, 81]\n"
     ]
    }
   ],
   "source": [
    "s=[x*x for x in range(10)]\n",
    "print(s)"
   ]
  },
  {
   "cell_type": "code",
   "execution_count": 153,
   "metadata": {},
   "outputs": [
    {
     "name": "stdout",
     "output_type": "stream",
     "text": [
      "['A', 'V', 'R']\n"
     ]
    }
   ],
   "source": [
    "words= ['Ajay','Vijay','Ravi']\n",
    "ll= [w[0] for w in words]\n",
    "print(ll)"
   ]
  },
  {
   "cell_type": "code",
   "execution_count": 155,
   "metadata": {},
   "outputs": [
    {
     "name": "stdout",
     "output_type": "stream",
     "text": [
      "[10, 20]\n"
     ]
    }
   ],
   "source": [
    "# Unique elements present in num111\n",
    "num111 =[10,20,30,40]\n",
    "num222 =[30,40,50,60]\n",
    "\n",
    "num333= [i for i in num111 if i not in num222]\n",
    "print(num333)"
   ]
  },
  {
   "cell_type": "code",
   "execution_count": 156,
   "metadata": {},
   "outputs": [
    {
     "name": "stdout",
     "output_type": "stream",
     "text": [
      "[30, 40]\n"
     ]
    }
   ],
   "source": [
    "# Common elements present in both lists\n",
    "num111 =[10,20,30,40]\n",
    "num222 =[30,40,50,60]\n",
    "\n",
    "num333= [i for i in num111 if i in num222]\n",
    "print(num333)"
   ]
  },
  {
   "cell_type": "code",
   "execution_count": 162,
   "metadata": {},
   "outputs": [
    {
     "name": "stdout",
     "output_type": "stream",
     "text": [
      "['the', 'quick', 'brown', 'fox', 'jumps', 'over', 'the', 'lazy', 'dog']\n",
      "[['THE', 3], ['QUICK', 5], ['BROWN', 5], ['FOX', 3], ['JUMPS', 5], ['OVER', 4], ['THE', 3], ['LAZY', 4], ['DOG', 3]]\n"
     ]
    }
   ],
   "source": [
    "wrds =\"the quick brown fox jumps over the lazy dog\".split()\n",
    "print(wrds)\n",
    "\n",
    "lll= [[w.upper() ,len(w)] for w in wrds]\n",
    "print(lll)"
   ]
  },
  {
   "cell_type": "markdown",
   "metadata": {},
   "source": [
    "#### <center>14. Demo Programs</center>"
   ]
  },
  {
   "cell_type": "markdown",
   "metadata": {},
   "source": [
    "#### Q1.Program to display unique vowels present in given word"
   ]
  },
  {
   "cell_type": "code",
   "execution_count": 169,
   "metadata": {},
   "outputs": [
    {
     "name": "stdout",
     "output_type": "stream",
     "text": [
      "Enter the word to search for the vowels: ajaysanjaynikumbh\n",
      "['a', 'i', 'u']\n",
      "Number of different vowels present in ajaysanjaynikumbh is 3\n"
     ]
    }
   ],
   "source": [
    "\n",
    "\n",
    "vowels =['a','e','i','o','u']\n",
    "word =input(\"Enter the word to search for the vowels: \")\n",
    "found=[]\n",
    "\n",
    "for letters in word:\n",
    "    if letters in vowels:\n",
    "        if letters not in found:\n",
    "            found.append(letters)\n",
    "            \n",
    "print(found)\n",
    "print(\"Number of different vowels present in\", word , \"is\" ,len(found))"
   ]
  }
 ],
 "metadata": {
  "kernelspec": {
   "display_name": "Python 3",
   "language": "python",
   "name": "python3"
  },
  "language_info": {
   "codemirror_mode": {
    "name": "ipython",
    "version": 3
   },
   "file_extension": ".py",
   "mimetype": "text/x-python",
   "name": "python",
   "nbconvert_exporter": "python",
   "pygments_lexer": "ipython3",
   "version": "3.8.5"
  }
 },
 "nbformat": 4,
 "nbformat_minor": 4
}
